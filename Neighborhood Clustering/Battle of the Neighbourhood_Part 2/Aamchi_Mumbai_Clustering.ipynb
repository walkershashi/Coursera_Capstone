{
 "cells": [
  {
   "cell_type": "code",
   "execution_count": 79,
   "metadata": {},
   "outputs": [
    {
     "name": "stdout",
     "output_type": "stream",
     "text": [
      "Libraries Imported\n"
     ]
    }
   ],
   "source": [
    "import numpy as np\n",
    "import pandas as pd\n",
    "import json\n",
    "import requests\n",
    "import matplotlib.pyplot as plt\n",
    "import folium\n",
    "import geopy\n",
    "from pandas.io.json import json_normalize\n",
    "from geopy.geocoders import Nominatim\n",
    "\n",
    "print('Libraries Imported')"
   ]
  },
  {
   "cell_type": "markdown",
   "metadata": {},
   "source": [
    "### Clustering Venues in Mumbai based on Search Query"
   ]
  },
  {
   "cell_type": "code",
   "execution_count": 148,
   "metadata": {},
   "outputs": [
    {
     "name": "stdout",
     "output_type": "stream",
     "text": [
      "Your credentails:\n",
      "CLIENT_ID: \n",
      "CLIENT_SECRET:\n"
     ]
    }
   ],
   "source": [
    "# Define Foursquare Credentials\n",
    "\n",
    "CLIENT_ID = '' # your Foursquare ID\n",
    "CLIENT_SECRET = '' # your Foursquare Secret\n",
    "VERSION = '20180605' # Foursquare API version\n",
    "LIMIT = 150\n",
    "\n",
    "print('Your credentails:')\n",
    "print('CLIENT_ID: ' + CLIENT_ID)\n",
    "print('CLIENT_SECRET:' + CLIENT_SECRET)"
   ]
  },
  {
   "cell_type": "markdown",
   "metadata": {},
   "source": [
    "#### First get the Co-Ordinates of Mumbai"
   ]
  },
  {
   "cell_type": "code",
   "execution_count": 106,
   "metadata": {},
   "outputs": [
    {
     "name": "stdout",
     "output_type": "stream",
     "text": [
      "The geograpical coordinate of Mumbai are 18.9387711, 72.8353355.\n"
     ]
    }
   ],
   "source": [
    "address = 'Mumbai'\n",
    "geolocator = Nominatim(user_agent=\"ny_explorer\")\n",
    "location = geolocator.geocode(address)\n",
    "\n",
    "latitude = location.latitude\n",
    "longitude = location.longitude\n",
    "\n",
    "print('The geograpical coordinate of Mumbai are {}, {}.'.format(latitude, longitude))"
   ]
  },
  {
   "cell_type": "code",
   "execution_count": 81,
   "metadata": {},
   "outputs": [],
   "source": [
    "latitude, longitude = 18.9387711, 72.8353355"
   ]
  },
  {
   "cell_type": "markdown",
   "metadata": {},
   "source": [
    "#### Visualize Mumbai on a MAP"
   ]
  },
  {
   "cell_type": "code",
   "execution_count": 82,
   "metadata": {},
   "outputs": [
    {
     "data": {
      "text/html": [
       "<div style=\"width:100%;\"><div style=\"position:relative;width:100%;height:0;padding-bottom:60%;\"><span style=\"color:#565656\">Make this Notebook Trusted to load map: File -> Trust Notebook</span><iframe src=\"about:blank\" style=\"position:absolute;width:100%;height:100%;left:0;top:0;border:none !important;\" data-html=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 onload=\"this.contentDocument.open();this.contentDocument.write(atob(this.getAttribute('data-html')));this.contentDocument.close();\" allowfullscreen webkitallowfullscreen mozallowfullscreen></iframe></div></div>"
      ],
      "text/plain": [
       "<folium.folium.Map at 0x7f814f130c18>"
      ]
     },
     "execution_count": 82,
     "metadata": {},
     "output_type": "execute_result"
    }
   ],
   "source": [
    "folium.Map(location = [latitude, longitude], zoom_start = 11)"
   ]
  },
  {
   "cell_type": "markdown",
   "metadata": {},
   "source": [
    "#### Enter the Search Query to search for a particular venues"
   ]
  },
  {
   "cell_type": "code",
   "execution_count": 83,
   "metadata": {},
   "outputs": [
    {
     "name": "stdout",
     "output_type": "stream",
     "text": [
      "restaurant .... OK!\n"
     ]
    }
   ],
   "source": [
    "search_query = 'restaurant'\n",
    "radius = 1500\n",
    "print(search_query + ' .... OK!')"
   ]
  },
  {
   "cell_type": "code",
   "execution_count": 149,
   "metadata": {},
   "outputs": [
    {
     "data": {
      "text/plain": [
       "'https://api.foursquare.com/v2/venues/search?client_id=&client_secret=&ll=18.9387711,72.8353355&v=20180605&query=restaurant&radius=1500&limit=150'"
      ]
     },
     "execution_count": 149,
     "metadata": {},
     "output_type": "execute_result"
    }
   ],
   "source": [
    "# Define url with parameters\n",
    "url = 'https://api.foursquare.com/v2/venues/search?client_id={}&client_secret={}&ll={},{}&v={}&query={}&radius={}&limit={}'.format(CLIENT_ID, CLIENT_SECRET, latitude, longitude, VERSION, search_query, radius, LIMIT)\n",
    "url"
   ]
  },
  {
   "cell_type": "markdown",
   "metadata": {},
   "source": [
    "#### Get the response form the foursquare API"
   ]
  },
  {
   "cell_type": "code",
   "execution_count": 86,
   "metadata": {},
   "outputs": [],
   "source": [
    "results = requests.get(url).json()\n",
    "#results"
   ]
  },
  {
   "cell_type": "code",
   "execution_count": 87,
   "metadata": {},
   "outputs": [
    {
     "data": {
      "text/plain": [
       "dict_keys(['meta', 'response'])"
      ]
     },
     "execution_count": 87,
     "metadata": {},
     "output_type": "execute_result"
    }
   ],
   "source": [
    "results.keys()"
   ]
  },
  {
   "cell_type": "markdown",
   "metadata": {},
   "source": [
    "#### Convert the response returned into a data frame for model development"
   ]
  },
  {
   "cell_type": "code",
   "execution_count": 135,
   "metadata": {},
   "outputs": [
    {
     "name": "stderr",
     "output_type": "stream",
     "text": [
      "/home/jupyterlab/conda/envs/python/lib/python3.6/site-packages/ipykernel_launcher.py:1: FutureWarning: pandas.io.json.json_normalize is deprecated, use pandas.json_normalize instead\n",
      "  \"\"\"Entry point for launching an IPython kernel.\n"
     ]
    },
    {
     "data": {
      "text/html": [
       "<div>\n",
       "<style scoped>\n",
       "    .dataframe tbody tr th:only-of-type {\n",
       "        vertical-align: middle;\n",
       "    }\n",
       "\n",
       "    .dataframe tbody tr th {\n",
       "        vertical-align: top;\n",
       "    }\n",
       "\n",
       "    .dataframe thead th {\n",
       "        text-align: right;\n",
       "    }\n",
       "</style>\n",
       "<table border=\"1\" class=\"dataframe\">\n",
       "  <thead>\n",
       "    <tr style=\"text-align: right;\">\n",
       "      <th></th>\n",
       "      <th>id</th>\n",
       "      <th>name</th>\n",
       "      <th>categories</th>\n",
       "      <th>referralId</th>\n",
       "      <th>hasPerk</th>\n",
       "      <th>location.address</th>\n",
       "      <th>location.crossStreet</th>\n",
       "      <th>location.lat</th>\n",
       "      <th>location.lng</th>\n",
       "      <th>location.labeledLatLngs</th>\n",
       "      <th>location.distance</th>\n",
       "      <th>location.postalCode</th>\n",
       "      <th>location.cc</th>\n",
       "      <th>location.city</th>\n",
       "      <th>location.state</th>\n",
       "      <th>location.country</th>\n",
       "      <th>location.formattedAddress</th>\n",
       "      <th>location.neighborhood</th>\n",
       "    </tr>\n",
       "  </thead>\n",
       "  <tbody>\n",
       "    <tr>\n",
       "      <th>0</th>\n",
       "      <td>5263f0f5498edc1ad5f3270f</td>\n",
       "      <td>Nanumal Bhojraj Restaurant - Fort</td>\n",
       "      <td>[{'id': '4bf58dd8d48988d10f941735', 'name': 'I...</td>\n",
       "      <td>v-1604770188</td>\n",
       "      <td>False</td>\n",
       "      <td>Near GPO, Fort, VT</td>\n",
       "      <td>S. Bhagat Singh Road</td>\n",
       "      <td>18.937974</td>\n",
       "      <td>72.837663</td>\n",
       "      <td>[{'label': 'display', 'lat': 18.93797448587734...</td>\n",
       "      <td>260</td>\n",
       "      <td>400001</td>\n",
       "      <td>IN</td>\n",
       "      <td>Mumbai</td>\n",
       "      <td>Mahārāshtra</td>\n",
       "      <td>India</td>\n",
       "      <td>[Near GPO, Fort, VT (S. Bhagat Singh Road), Mu...</td>\n",
       "      <td>NaN</td>\n",
       "    </tr>\n",
       "    <tr>\n",
       "      <th>1</th>\n",
       "      <td>4e4c0a4122713bd908c641ff</td>\n",
       "      <td>Farhang Restaurant</td>\n",
       "      <td>[{'id': '4bf58dd8d48988d1cc941735', 'name': 'S...</td>\n",
       "      <td>v-1604770188</td>\n",
       "      <td>False</td>\n",
       "      <td>Opposite GPO</td>\n",
       "      <td>Ballard Estate</td>\n",
       "      <td>18.938165</td>\n",
       "      <td>72.837917</td>\n",
       "      <td>[{'label': 'display', 'lat': 18.93816453050136...</td>\n",
       "      <td>280</td>\n",
       "      <td>NaN</td>\n",
       "      <td>IN</td>\n",
       "      <td>Mumbai</td>\n",
       "      <td>Mahārāshtra</td>\n",
       "      <td>India</td>\n",
       "      <td>[Opposite GPO (Ballard Estate), Mumbai, Mahārā...</td>\n",
       "      <td>NaN</td>\n",
       "    </tr>\n",
       "    <tr>\n",
       "      <th>2</th>\n",
       "      <td>4fb5276be4b0b34b9ac27a1b</td>\n",
       "      <td>Iran Like Restaurant</td>\n",
       "      <td>[{'id': '4bf58dd8d48988d10f941735', 'name': 'I...</td>\n",
       "      <td>v-1604770188</td>\n",
       "      <td>False</td>\n",
       "      <td>Palton Road, Near Haj House</td>\n",
       "      <td>NaN</td>\n",
       "      <td>18.945343</td>\n",
       "      <td>72.836809</td>\n",
       "      <td>[{'label': 'display', 'lat': 18.94534293649397...</td>\n",
       "      <td>747</td>\n",
       "      <td>400001</td>\n",
       "      <td>IN</td>\n",
       "      <td>Mumbai</td>\n",
       "      <td>Mahārāshtra</td>\n",
       "      <td>India</td>\n",
       "      <td>[Palton Road, Near Haj House, Mumbai 400001, M...</td>\n",
       "      <td>NaN</td>\n",
       "    </tr>\n",
       "    <tr>\n",
       "      <th>3</th>\n",
       "      <td>4d9f2bfe9b91a1cda6c365c0</td>\n",
       "      <td>New Majestic Restaurant</td>\n",
       "      <td>[{'id': '4bf58dd8d48988d10f941735', 'name': 'I...</td>\n",
       "      <td>v-1604770188</td>\n",
       "      <td>False</td>\n",
       "      <td>Opp CST</td>\n",
       "      <td>NaN</td>\n",
       "      <td>18.938972</td>\n",
       "      <td>72.835517</td>\n",
       "      <td>[{'label': 'display', 'lat': 18.93897156089674...</td>\n",
       "      <td>29</td>\n",
       "      <td>NaN</td>\n",
       "      <td>IN</td>\n",
       "      <td>Mumbai</td>\n",
       "      <td>Mahārāshtra</td>\n",
       "      <td>India</td>\n",
       "      <td>[Opp CST, Mumbai, Mahārāshtra, India]</td>\n",
       "      <td>NaN</td>\n",
       "    </tr>\n",
       "    <tr>\n",
       "      <th>4</th>\n",
       "      <td>4f489f23e4b018635344413a</td>\n",
       "      <td>Panchratna restaurant &amp; bar</td>\n",
       "      <td>[{'id': '4bf58dd8d48988d10f941735', 'name': 'I...</td>\n",
       "      <td>v-1604770188</td>\n",
       "      <td>False</td>\n",
       "      <td>Opp. Metro Cinema</td>\n",
       "      <td>Marine Lines</td>\n",
       "      <td>18.942900</td>\n",
       "      <td>72.826820</td>\n",
       "      <td>[{'label': 'display', 'lat': 18.94289961203775...</td>\n",
       "      <td>1007</td>\n",
       "      <td>NaN</td>\n",
       "      <td>IN</td>\n",
       "      <td>Mumbai</td>\n",
       "      <td>Mahārāshtra</td>\n",
       "      <td>India</td>\n",
       "      <td>[Opp. Metro Cinema (Marine Lines), Mumbai, Mah...</td>\n",
       "      <td>NaN</td>\n",
       "    </tr>\n",
       "  </tbody>\n",
       "</table>\n",
       "</div>"
      ],
      "text/plain": [
       "                         id                               name  \\\n",
       "0  5263f0f5498edc1ad5f3270f  Nanumal Bhojraj Restaurant - Fort   \n",
       "1  4e4c0a4122713bd908c641ff                 Farhang Restaurant   \n",
       "2  4fb5276be4b0b34b9ac27a1b               Iran Like Restaurant   \n",
       "3  4d9f2bfe9b91a1cda6c365c0            New Majestic Restaurant   \n",
       "4  4f489f23e4b018635344413a        Panchratna restaurant & bar   \n",
       "\n",
       "                                          categories    referralId  hasPerk  \\\n",
       "0  [{'id': '4bf58dd8d48988d10f941735', 'name': 'I...  v-1604770188    False   \n",
       "1  [{'id': '4bf58dd8d48988d1cc941735', 'name': 'S...  v-1604770188    False   \n",
       "2  [{'id': '4bf58dd8d48988d10f941735', 'name': 'I...  v-1604770188    False   \n",
       "3  [{'id': '4bf58dd8d48988d10f941735', 'name': 'I...  v-1604770188    False   \n",
       "4  [{'id': '4bf58dd8d48988d10f941735', 'name': 'I...  v-1604770188    False   \n",
       "\n",
       "              location.address  location.crossStreet  location.lat  \\\n",
       "0           Near GPO, Fort, VT  S. Bhagat Singh Road     18.937974   \n",
       "1                 Opposite GPO        Ballard Estate     18.938165   \n",
       "2  Palton Road, Near Haj House                   NaN     18.945343   \n",
       "3                      Opp CST                   NaN     18.938972   \n",
       "4            Opp. Metro Cinema          Marine Lines     18.942900   \n",
       "\n",
       "   location.lng                            location.labeledLatLngs  \\\n",
       "0     72.837663  [{'label': 'display', 'lat': 18.93797448587734...   \n",
       "1     72.837917  [{'label': 'display', 'lat': 18.93816453050136...   \n",
       "2     72.836809  [{'label': 'display', 'lat': 18.94534293649397...   \n",
       "3     72.835517  [{'label': 'display', 'lat': 18.93897156089674...   \n",
       "4     72.826820  [{'label': 'display', 'lat': 18.94289961203775...   \n",
       "\n",
       "   location.distance location.postalCode location.cc location.city  \\\n",
       "0                260              400001          IN        Mumbai   \n",
       "1                280                 NaN          IN        Mumbai   \n",
       "2                747              400001          IN        Mumbai   \n",
       "3                 29                 NaN          IN        Mumbai   \n",
       "4               1007                 NaN          IN        Mumbai   \n",
       "\n",
       "  location.state location.country  \\\n",
       "0    Mahārāshtra            India   \n",
       "1    Mahārāshtra            India   \n",
       "2    Mahārāshtra            India   \n",
       "3    Mahārāshtra            India   \n",
       "4    Mahārāshtra            India   \n",
       "\n",
       "                           location.formattedAddress location.neighborhood  \n",
       "0  [Near GPO, Fort, VT (S. Bhagat Singh Road), Mu...                   NaN  \n",
       "1  [Opposite GPO (Ballard Estate), Mumbai, Mahārā...                   NaN  \n",
       "2  [Palton Road, Near Haj House, Mumbai 400001, M...                   NaN  \n",
       "3              [Opp CST, Mumbai, Mahārāshtra, India]                   NaN  \n",
       "4  [Opp. Metro Cinema (Marine Lines), Mumbai, Mah...                   NaN  "
      ]
     },
     "execution_count": 135,
     "metadata": {},
     "output_type": "execute_result"
    }
   ],
   "source": [
    "venues_df = json_normalize(results['response']['venues'])\n",
    "venues_df.head()"
   ]
  },
  {
   "cell_type": "code",
   "execution_count": 136,
   "metadata": {},
   "outputs": [
    {
     "data": {
      "text/plain": [
       "(50, 18)"
      ]
     },
     "execution_count": 136,
     "metadata": {},
     "output_type": "execute_result"
    }
   ],
   "source": [
    "# Let us look at the number of venues returned\n",
    "venues_df.shape"
   ]
  },
  {
   "cell_type": "code",
   "execution_count": 137,
   "metadata": {},
   "outputs": [
    {
     "data": {
      "text/plain": [
       "{'id': '5263f0f5498edc1ad5f3270f',\n",
       " 'name': 'Nanumal Bhojraj Restaurant - Fort',\n",
       " 'location': {'address': 'Near GPO, Fort, VT',\n",
       "  'crossStreet': 'S. Bhagat Singh Road',\n",
       "  'lat': 18.937974485877348,\n",
       "  'lng': 72.83766325414364,\n",
       "  'labeledLatLngs': [{'label': 'display',\n",
       "    'lat': 18.937974485877348,\n",
       "    'lng': 72.83766325414364}],\n",
       "  'distance': 260,\n",
       "  'postalCode': '400001',\n",
       "  'cc': 'IN',\n",
       "  'city': 'Mumbai',\n",
       "  'state': 'Mahārāshtra',\n",
       "  'country': 'India',\n",
       "  'formattedAddress': ['Near GPO, Fort, VT (S. Bhagat Singh Road)',\n",
       "   'Mumbai 400001',\n",
       "   'Mahārāshtra',\n",
       "   'India']},\n",
       " 'categories': [{'id': '4bf58dd8d48988d10f941735',\n",
       "   'name': 'Indian Restaurant',\n",
       "   'pluralName': 'Indian Restaurants',\n",
       "   'shortName': 'Indian',\n",
       "   'icon': {'prefix': 'https://ss3.4sqi.net/img/categories_v2/food/indian_',\n",
       "    'suffix': '.png'},\n",
       "   'primary': True}],\n",
       " 'referralId': 'v-1604770188',\n",
       " 'hasPerk': False}"
      ]
     },
     "execution_count": 137,
     "metadata": {},
     "output_type": "execute_result"
    }
   ],
   "source": [
    "results['response']['venues'][0]"
   ]
  },
  {
   "cell_type": "code",
   "execution_count": 138,
   "metadata": {},
   "outputs": [],
   "source": [
    "def get_category(row):\n",
    "    try:\n",
    "        return row[0]['name']\n",
    "    except:\n",
    "        return np.NaN"
   ]
  },
  {
   "cell_type": "markdown",
   "metadata": {},
   "source": [
    "#### Cleaning the dataframe and retrieving only the relevant information from it"
   ]
  },
  {
   "cell_type": "code",
   "execution_count": 139,
   "metadata": {},
   "outputs": [
    {
     "data": {
      "text/html": [
       "<div>\n",
       "<style scoped>\n",
       "    .dataframe tbody tr th:only-of-type {\n",
       "        vertical-align: middle;\n",
       "    }\n",
       "\n",
       "    .dataframe tbody tr th {\n",
       "        vertical-align: top;\n",
       "    }\n",
       "\n",
       "    .dataframe thead th {\n",
       "        text-align: right;\n",
       "    }\n",
       "</style>\n",
       "<table border=\"1\" class=\"dataframe\">\n",
       "  <thead>\n",
       "    <tr style=\"text-align: right;\">\n",
       "      <th></th>\n",
       "      <th>Name</th>\n",
       "      <th>Categories</th>\n",
       "      <th>Address</th>\n",
       "      <th>Latitude</th>\n",
       "      <th>Longitude</th>\n",
       "      <th>Distance</th>\n",
       "      <th>Id</th>\n",
       "    </tr>\n",
       "  </thead>\n",
       "  <tbody>\n",
       "    <tr>\n",
       "      <th>0</th>\n",
       "      <td>Nanumal Bhojraj Restaurant - Fort</td>\n",
       "      <td>Indian Restaurant</td>\n",
       "      <td>Near GPO, Fort, VT</td>\n",
       "      <td>18.937974</td>\n",
       "      <td>72.837663</td>\n",
       "      <td>260</td>\n",
       "      <td>5263f0f5498edc1ad5f3270f</td>\n",
       "    </tr>\n",
       "    <tr>\n",
       "      <th>1</th>\n",
       "      <td>Farhang Restaurant</td>\n",
       "      <td>Steakhouse</td>\n",
       "      <td>Opposite GPO</td>\n",
       "      <td>18.938165</td>\n",
       "      <td>72.837917</td>\n",
       "      <td>280</td>\n",
       "      <td>4e4c0a4122713bd908c641ff</td>\n",
       "    </tr>\n",
       "    <tr>\n",
       "      <th>2</th>\n",
       "      <td>Iran Like Restaurant</td>\n",
       "      <td>Indian Restaurant</td>\n",
       "      <td>Palton Road, Near Haj House</td>\n",
       "      <td>18.945343</td>\n",
       "      <td>72.836809</td>\n",
       "      <td>747</td>\n",
       "      <td>4fb5276be4b0b34b9ac27a1b</td>\n",
       "    </tr>\n",
       "    <tr>\n",
       "      <th>3</th>\n",
       "      <td>New Majestic Restaurant</td>\n",
       "      <td>Indian Restaurant</td>\n",
       "      <td>Opp CST</td>\n",
       "      <td>18.938972</td>\n",
       "      <td>72.835517</td>\n",
       "      <td>29</td>\n",
       "      <td>4d9f2bfe9b91a1cda6c365c0</td>\n",
       "    </tr>\n",
       "    <tr>\n",
       "      <th>4</th>\n",
       "      <td>Panchratna restaurant &amp; bar</td>\n",
       "      <td>Indian Restaurant</td>\n",
       "      <td>Opp. Metro Cinema</td>\n",
       "      <td>18.942900</td>\n",
       "      <td>72.826820</td>\n",
       "      <td>1007</td>\n",
       "      <td>4f489f23e4b018635344413a</td>\n",
       "    </tr>\n",
       "  </tbody>\n",
       "</table>\n",
       "</div>"
      ],
      "text/plain": [
       "                                Name         Categories  \\\n",
       "0  Nanumal Bhojraj Restaurant - Fort  Indian Restaurant   \n",
       "1                 Farhang Restaurant         Steakhouse   \n",
       "2               Iran Like Restaurant  Indian Restaurant   \n",
       "3            New Majestic Restaurant  Indian Restaurant   \n",
       "4        Panchratna restaurant & bar  Indian Restaurant   \n",
       "\n",
       "                       Address   Latitude  Longitude  Distance  \\\n",
       "0           Near GPO, Fort, VT  18.937974  72.837663       260   \n",
       "1                 Opposite GPO  18.938165  72.837917       280   \n",
       "2  Palton Road, Near Haj House  18.945343  72.836809       747   \n",
       "3                      Opp CST  18.938972  72.835517        29   \n",
       "4            Opp. Metro Cinema  18.942900  72.826820      1007   \n",
       "\n",
       "                         Id  \n",
       "0  5263f0f5498edc1ad5f3270f  \n",
       "1  4e4c0a4122713bd908c641ff  \n",
       "2  4fb5276be4b0b34b9ac27a1b  \n",
       "3  4d9f2bfe9b91a1cda6c365c0  \n",
       "4  4f489f23e4b018635344413a  "
      ]
     },
     "execution_count": 139,
     "metadata": {},
     "output_type": "execute_result"
    }
   ],
   "source": [
    "venues_df = venues_df[['name', 'categories', 'location.address', 'location.lat', 'location.lng', 'location.distance', 'id']]\n",
    "venues_df['categories'] = venues_df['categories'].apply(get_category)\n",
    "venues_df.columns = ['Name', 'Categories', 'Address', 'Latitude', 'Longitude', 'Distance', 'Id']\n",
    "venues_df['Categories'].fillna('Indian Restaurant', inplace = True)\n",
    "venues_df.head()"
   ]
  },
  {
   "cell_type": "code",
   "execution_count": 140,
   "metadata": {},
   "outputs": [
    {
     "data": {
      "text/plain": [
       "Indian Restaurant                  22\n",
       "Restaurant                          4\n",
       "Asian Restaurant                    4\n",
       "Steakhouse                          2\n",
       "Bar                                 2\n",
       "Chinese Restaurant                  2\n",
       "Afghan Restaurant                   1\n",
       "Southern / Soul Food Restaurant     1\n",
       "Fast Food Restaurant                1\n",
       "Vegetarian / Vegan Restaurant       1\n",
       "Irani Cafe                          1\n",
       "Hotel Bar                           1\n",
       "Seafood Restaurant                  1\n",
       "Food                                1\n",
       "BBQ Joint                           1\n",
       "Snack Place                         1\n",
       "Lounge                              1\n",
       "Cantonese Restaurant                1\n",
       "Punjabi Restaurant                  1\n",
       "Mughlai Restaurant                  1\n",
       "Name: Categories, dtype: int64"
      ]
     },
     "execution_count": 140,
     "metadata": {},
     "output_type": "execute_result"
    }
   ],
   "source": [
    "# Explore venues from each category\n",
    "venues_df['Categories'].value_counts()"
   ]
  },
  {
   "cell_type": "markdown",
   "metadata": {},
   "source": [
    "#### Visualize the nearby venues on a MAP"
   ]
  },
  {
   "cell_type": "code",
   "execution_count": 93,
   "metadata": {},
   "outputs": [
    {
     "data": {
      "text/html": [
       "<div style=\"width:100%;\"><div style=\"position:relative;width:100%;height:0;padding-bottom:60%;\"><span style=\"color:#565656\">Make this Notebook Trusted to load map: File -> Trust Notebook</span><iframe src=\"about:blank\" style=\"position:absolute;width:100%;height:100%;left:0;top:0;border:none !important;\" data-html=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 onload=\"this.contentDocument.open();this.contentDocument.write(atob(this.getAttribute('data-html')));this.contentDocument.close();\" allowfullscreen webkitallowfullscreen mozallowfullscreen></iframe></div></div>"
      ],
      "text/plain": [
       "<folium.folium.Map at 0x7f814e254c88>"
      ]
     },
     "execution_count": 93,
     "metadata": {},
     "output_type": "execute_result"
    }
   ],
   "source": [
    "mumbai_map = folium.Map(location = [latitude, longitude], zoom_start = 11)\n",
    "\n",
    "# Display your loc\n",
    "folium.CircleMarker(\n",
    "    [latitude, longitude],\n",
    "    radius=10,\n",
    "    color='red',\n",
    "    popup='Your Loc',\n",
    "    fill = True,\n",
    "    fill_color = 'red',\n",
    "    fill_opacity = 0.6\n",
    ").add_to(mumbai_map)\n",
    "\n",
    "# Display Venues\n",
    "for lat, lng in zip(venues_df.Latitude, venues_df.Longitude):\n",
    "    folium.CircleMarker(\n",
    "        [lat, lng],\n",
    "        radius = 5,\n",
    "        color = 'yellow',\n",
    "        fill = True,\n",
    "        fill_color = 'blue',\n",
    "        fill_opacity = 0.6\n",
    "    ).add_to(mumbai_map)\n",
    "    \n",
    "# Display popup text\n",
    "for lat, lng, label in zip(venues_df.Latitude, venues_df.Longitude, venues_df.Name):\n",
    "    folium.Marker(\n",
    "        [lat, lng],\n",
    "        popup = label\n",
    "    ).add_to(mumbai_map)\n",
    "\n",
    "\n",
    "mumbai_map"
   ]
  },
  {
   "cell_type": "code",
   "execution_count": null,
   "metadata": {},
   "outputs": [],
   "source": []
  },
  {
   "cell_type": "markdown",
   "metadata": {},
   "source": [
    "### Exploring the Venues"
   ]
  },
  {
   "cell_type": "markdown",
   "metadata": {},
   "source": [
    "#### Function to return all the venues located nearby these venues"
   ]
  },
  {
   "cell_type": "code",
   "execution_count": 94,
   "metadata": {},
   "outputs": [],
   "source": [
    "def getNearbyVenues(names, latitudes, longitudes, radius = 500, limit = 100):\n",
    "    venues_list = []\n",
    "    \n",
    "    for name, lat, lng in zip(names, latitudes, longitudes):\n",
    "        url = 'https://api.foursquare.com/v2/venues/explore?&client_id={}&client_secret={}&v={}&ll={},{}&radius={}&limit={}'.format(\n",
    "            CLIENT_ID, \n",
    "            CLIENT_SECRET, \n",
    "            VERSION, \n",
    "            lat, \n",
    "            lng, \n",
    "            radius, \n",
    "            limit)\n",
    "        \n",
    "        # Get the result\n",
    "        venues = requests.get(url).json()['response']['groups'][0]['items']\n",
    "        \n",
    "        for venue in venues:\n",
    "            venues_list.append([(\n",
    "                name, \n",
    "                lat, \n",
    "                lng,\n",
    "                venue['venue']['name'],\n",
    "                venue['venue']['categories'][0]['name'],\n",
    "                venue['venue']['location']['lat'],\n",
    "                venue['venue']['location']['lng']\n",
    "            )])\n",
    "    \n",
    "    nearby_venues_df = pd.DataFrame(venues_list)\n",
    "    \n",
    "    return(nearby_venues_df)"
   ]
  },
  {
   "cell_type": "code",
   "execution_count": 95,
   "metadata": {},
   "outputs": [],
   "source": [
    "# Get all the venues\n",
    "mumbai_venues = getNearbyVenues(\n",
    "    names = venues_df['Name'],\n",
    "    latitudes = venues_df['Latitude'],\n",
    "    longitudes = venues_df['Longitude']\n",
    ")"
   ]
  },
  {
   "cell_type": "markdown",
   "metadata": {},
   "source": [
    "#### Cleaning the dataframe and retrieving only the relevant information from it"
   ]
  },
  {
   "cell_type": "code",
   "execution_count": 96,
   "metadata": {},
   "outputs": [],
   "source": [
    "mumbai_venues['Venue'] = mumbai_venues.apply(lambda x: x[0][0], axis = 1)\n",
    "mumbai_venues['Venue Latitude'] = mumbai_venues.apply(lambda x: x[0][1], axis = 1)\n",
    "mumbai_venues['Venue Longitude'] = mumbai_venues.apply(lambda x: x[0][2], axis = 1)\n",
    "mumbai_venues['Neighbourhood Name'] = mumbai_venues.apply(lambda x: x[0][3], axis = 1)\n",
    "mumbai_venues['Neighbourhood Category'] = mumbai_venues.apply(lambda x: x[0][4], axis = 1)\n",
    "mumbai_venues['Neighbourhood Latitude'] = mumbai_venues.apply(lambda x: x[0][5], axis = 1)\n",
    "mumbai_venues['Neighbourhood Longitude'] = mumbai_venues.apply(lambda x: x[0][6], axis = 1)\n",
    "mumbai_venues.drop(0, axis = 1, inplace = True)"
   ]
  },
  {
   "cell_type": "code",
   "execution_count": 97,
   "metadata": {},
   "outputs": [
    {
     "data": {
      "text/html": [
       "<div>\n",
       "<style scoped>\n",
       "    .dataframe tbody tr th:only-of-type {\n",
       "        vertical-align: middle;\n",
       "    }\n",
       "\n",
       "    .dataframe tbody tr th {\n",
       "        vertical-align: top;\n",
       "    }\n",
       "\n",
       "    .dataframe thead th {\n",
       "        text-align: right;\n",
       "    }\n",
       "</style>\n",
       "<table border=\"1\" class=\"dataframe\">\n",
       "  <thead>\n",
       "    <tr style=\"text-align: right;\">\n",
       "      <th></th>\n",
       "      <th>Venue</th>\n",
       "      <th>Venue Latitude</th>\n",
       "      <th>Venue Longitude</th>\n",
       "      <th>Neighbourhood Name</th>\n",
       "      <th>Neighbourhood Category</th>\n",
       "      <th>Neighbourhood Latitude</th>\n",
       "      <th>Neighbourhood Longitude</th>\n",
       "    </tr>\n",
       "  </thead>\n",
       "  <tbody>\n",
       "    <tr>\n",
       "      <th>0</th>\n",
       "      <td>Nanumal Bhojraj Restaurant - Fort</td>\n",
       "      <td>18.937974</td>\n",
       "      <td>72.837663</td>\n",
       "      <td>Sher-E-Punjab</td>\n",
       "      <td>Indian Restaurant</td>\n",
       "      <td>18.937944</td>\n",
       "      <td>72.837853</td>\n",
       "    </tr>\n",
       "    <tr>\n",
       "      <th>1</th>\n",
       "      <td>Nanumal Bhojraj Restaurant - Fort</td>\n",
       "      <td>18.937974</td>\n",
       "      <td>72.837663</td>\n",
       "      <td>Dakshin Bar And Kitchen</td>\n",
       "      <td>Seafood Restaurant</td>\n",
       "      <td>18.936489</td>\n",
       "      <td>72.837490</td>\n",
       "    </tr>\n",
       "    <tr>\n",
       "      <th>2</th>\n",
       "      <td>Nanumal Bhojraj Restaurant - Fort</td>\n",
       "      <td>18.937974</td>\n",
       "      <td>72.837663</td>\n",
       "      <td>Café Universal</td>\n",
       "      <td>Irani Cafe</td>\n",
       "      <td>18.936021</td>\n",
       "      <td>72.837453</td>\n",
       "    </tr>\n",
       "    <tr>\n",
       "      <th>3</th>\n",
       "      <td>Nanumal Bhojraj Restaurant - Fort</td>\n",
       "      <td>18.937974</td>\n",
       "      <td>72.837663</td>\n",
       "      <td>Britannia &amp; Co.</td>\n",
       "      <td>Parsi Restaurant</td>\n",
       "      <td>18.934683</td>\n",
       "      <td>72.840183</td>\n",
       "    </tr>\n",
       "    <tr>\n",
       "      <th>4</th>\n",
       "      <td>Nanumal Bhojraj Restaurant - Fort</td>\n",
       "      <td>18.937974</td>\n",
       "      <td>72.837663</td>\n",
       "      <td>Town House Cafe</td>\n",
       "      <td>Bar</td>\n",
       "      <td>18.938550</td>\n",
       "      <td>72.833464</td>\n",
       "    </tr>\n",
       "  </tbody>\n",
       "</table>\n",
       "</div>"
      ],
      "text/plain": [
       "                               Venue  Venue Latitude  Venue Longitude  \\\n",
       "0  Nanumal Bhojraj Restaurant - Fort       18.937974        72.837663   \n",
       "1  Nanumal Bhojraj Restaurant - Fort       18.937974        72.837663   \n",
       "2  Nanumal Bhojraj Restaurant - Fort       18.937974        72.837663   \n",
       "3  Nanumal Bhojraj Restaurant - Fort       18.937974        72.837663   \n",
       "4  Nanumal Bhojraj Restaurant - Fort       18.937974        72.837663   \n",
       "\n",
       "        Neighbourhood Name Neighbourhood Category  Neighbourhood Latitude  \\\n",
       "0            Sher-E-Punjab      Indian Restaurant               18.937944   \n",
       "1  Dakshin Bar And Kitchen     Seafood Restaurant               18.936489   \n",
       "2           Café Universal             Irani Cafe               18.936021   \n",
       "3          Britannia & Co.       Parsi Restaurant               18.934683   \n",
       "4          Town House Cafe                    Bar               18.938550   \n",
       "\n",
       "   Neighbourhood Longitude  \n",
       "0                72.837853  \n",
       "1                72.837490  \n",
       "2                72.837453  \n",
       "3                72.840183  \n",
       "4                72.833464  "
      ]
     },
     "execution_count": 97,
     "metadata": {},
     "output_type": "execute_result"
    }
   ],
   "source": [
    "mumbai_venues.head()"
   ]
  },
  {
   "cell_type": "code",
   "execution_count": 98,
   "metadata": {},
   "outputs": [
    {
     "data": {
      "text/plain": [
       "(1613, 7)"
      ]
     },
     "execution_count": 98,
     "metadata": {},
     "output_type": "execute_result"
    }
   ],
   "source": [
    "# Let us look at the total neighbourhood returned\n",
    "mumbai_venues.shape"
   ]
  },
  {
   "cell_type": "markdown",
   "metadata": {},
   "source": [
    "##### Group each neighbourhood by Venues"
   ]
  },
  {
   "cell_type": "code",
   "execution_count": 99,
   "metadata": {},
   "outputs": [
    {
     "data": {
      "text/html": [
       "<div>\n",
       "<style scoped>\n",
       "    .dataframe tbody tr th:only-of-type {\n",
       "        vertical-align: middle;\n",
       "    }\n",
       "\n",
       "    .dataframe tbody tr th {\n",
       "        vertical-align: top;\n",
       "    }\n",
       "\n",
       "    .dataframe thead th {\n",
       "        text-align: right;\n",
       "    }\n",
       "</style>\n",
       "<table border=\"1\" class=\"dataframe\">\n",
       "  <thead>\n",
       "    <tr style=\"text-align: right;\">\n",
       "      <th></th>\n",
       "      <th>Venue Latitude</th>\n",
       "      <th>Venue Longitude</th>\n",
       "      <th>Neighbourhood Name</th>\n",
       "      <th>Neighbourhood Category</th>\n",
       "      <th>Neighbourhood Latitude</th>\n",
       "      <th>Neighbourhood Longitude</th>\n",
       "    </tr>\n",
       "    <tr>\n",
       "      <th>Venue</th>\n",
       "      <th></th>\n",
       "      <th></th>\n",
       "      <th></th>\n",
       "      <th></th>\n",
       "      <th></th>\n",
       "      <th></th>\n",
       "    </tr>\n",
       "  </thead>\n",
       "  <tbody>\n",
       "    <tr>\n",
       "      <th>Abhiruchi Restaurant</th>\n",
       "      <td>12</td>\n",
       "      <td>12</td>\n",
       "      <td>12</td>\n",
       "      <td>12</td>\n",
       "      <td>12</td>\n",
       "      <td>12</td>\n",
       "    </tr>\n",
       "    <tr>\n",
       "      <th>Ankur restaurant</th>\n",
       "      <td>77</td>\n",
       "      <td>77</td>\n",
       "      <td>77</td>\n",
       "      <td>77</td>\n",
       "      <td>77</td>\n",
       "      <td>77</td>\n",
       "    </tr>\n",
       "    <tr>\n",
       "      <th>Anubhav Restaurant &amp; Bar</th>\n",
       "      <td>25</td>\n",
       "      <td>25</td>\n",
       "      <td>25</td>\n",
       "      <td>25</td>\n",
       "      <td>25</td>\n",
       "      <td>25</td>\n",
       "    </tr>\n",
       "    <tr>\n",
       "      <th>Aram Restaurant</th>\n",
       "      <td>14</td>\n",
       "      <td>14</td>\n",
       "      <td>14</td>\n",
       "      <td>14</td>\n",
       "      <td>14</td>\n",
       "      <td>14</td>\n",
       "    </tr>\n",
       "    <tr>\n",
       "      <th>Army restaurant</th>\n",
       "      <td>76</td>\n",
       "      <td>76</td>\n",
       "      <td>76</td>\n",
       "      <td>76</td>\n",
       "      <td>76</td>\n",
       "      <td>76</td>\n",
       "    </tr>\n",
       "  </tbody>\n",
       "</table>\n",
       "</div>"
      ],
      "text/plain": [
       "                          Venue Latitude  Venue Longitude  Neighbourhood Name  \\\n",
       "Venue                                                                           \n",
       "Abhiruchi Restaurant                  12               12                  12   \n",
       "Ankur restaurant                      77               77                  77   \n",
       "Anubhav Restaurant & Bar              25               25                  25   \n",
       "Aram Restaurant                       14               14                  14   \n",
       "Army restaurant                       76               76                  76   \n",
       "\n",
       "                          Neighbourhood Category  Neighbourhood Latitude  \\\n",
       "Venue                                                                      \n",
       "Abhiruchi Restaurant                          12                      12   \n",
       "Ankur restaurant                              77                      77   \n",
       "Anubhav Restaurant & Bar                      25                      25   \n",
       "Aram Restaurant                               14                      14   \n",
       "Army restaurant                               76                      76   \n",
       "\n",
       "                          Neighbourhood Longitude  \n",
       "Venue                                              \n",
       "Abhiruchi Restaurant                           12  \n",
       "Ankur restaurant                               77  \n",
       "Anubhav Restaurant & Bar                       25  \n",
       "Aram Restaurant                                14  \n",
       "Army restaurant                                76  "
      ]
     },
     "execution_count": 99,
     "metadata": {},
     "output_type": "execute_result"
    }
   ],
   "source": [
    "mumbai_venues.groupby('Venue').count().head()"
   ]
  },
  {
   "cell_type": "code",
   "execution_count": 100,
   "metadata": {},
   "outputs": [
    {
     "name": "stdout",
     "output_type": "stream",
     "text": [
      "There are total of 84 unique categories\n"
     ]
    }
   ],
   "source": [
    "# Total Number of Unique Categories\n",
    "print('There are total of {} unique categories'.format(len(mumbai_venues['Neighbourhood Category'].unique())))"
   ]
  },
  {
   "cell_type": "markdown",
   "metadata": {},
   "source": [
    "### Analyze Each Neighbourhood"
   ]
  },
  {
   "cell_type": "code",
   "execution_count": 101,
   "metadata": {},
   "outputs": [
    {
     "data": {
      "text/html": [
       "<div>\n",
       "<style scoped>\n",
       "    .dataframe tbody tr th:only-of-type {\n",
       "        vertical-align: middle;\n",
       "    }\n",
       "\n",
       "    .dataframe tbody tr th {\n",
       "        vertical-align: top;\n",
       "    }\n",
       "\n",
       "    .dataframe thead th {\n",
       "        text-align: right;\n",
       "    }\n",
       "</style>\n",
       "<table border=\"1\" class=\"dataframe\">\n",
       "  <thead>\n",
       "    <tr style=\"text-align: right;\">\n",
       "      <th></th>\n",
       "      <th>Venue</th>\n",
       "      <th>American Restaurant</th>\n",
       "      <th>Art Gallery</th>\n",
       "      <th>Arts &amp; Crafts Store</th>\n",
       "      <th>Asian Restaurant</th>\n",
       "      <th>Athletics &amp; Sports</th>\n",
       "      <th>BBQ Joint</th>\n",
       "      <th>Bakery</th>\n",
       "      <th>Bank</th>\n",
       "      <th>Bar</th>\n",
       "      <th>...</th>\n",
       "      <th>Seafood Restaurant</th>\n",
       "      <th>Smoke Shop</th>\n",
       "      <th>Stadium</th>\n",
       "      <th>Steakhouse</th>\n",
       "      <th>Tea Room</th>\n",
       "      <th>Tourist Information Center</th>\n",
       "      <th>Train Station</th>\n",
       "      <th>Vegetarian / Vegan Restaurant</th>\n",
       "      <th>Wine Shop</th>\n",
       "      <th>Women's Store</th>\n",
       "    </tr>\n",
       "  </thead>\n",
       "  <tbody>\n",
       "    <tr>\n",
       "      <th>0</th>\n",
       "      <td>Nanumal Bhojraj Restaurant - Fort</td>\n",
       "      <td>0</td>\n",
       "      <td>0</td>\n",
       "      <td>0</td>\n",
       "      <td>0</td>\n",
       "      <td>0</td>\n",
       "      <td>0</td>\n",
       "      <td>0</td>\n",
       "      <td>0</td>\n",
       "      <td>0</td>\n",
       "      <td>...</td>\n",
       "      <td>0</td>\n",
       "      <td>0</td>\n",
       "      <td>0</td>\n",
       "      <td>0</td>\n",
       "      <td>0</td>\n",
       "      <td>0</td>\n",
       "      <td>0</td>\n",
       "      <td>0</td>\n",
       "      <td>0</td>\n",
       "      <td>0</td>\n",
       "    </tr>\n",
       "    <tr>\n",
       "      <th>1</th>\n",
       "      <td>Nanumal Bhojraj Restaurant - Fort</td>\n",
       "      <td>0</td>\n",
       "      <td>0</td>\n",
       "      <td>0</td>\n",
       "      <td>0</td>\n",
       "      <td>0</td>\n",
       "      <td>0</td>\n",
       "      <td>0</td>\n",
       "      <td>0</td>\n",
       "      <td>0</td>\n",
       "      <td>...</td>\n",
       "      <td>1</td>\n",
       "      <td>0</td>\n",
       "      <td>0</td>\n",
       "      <td>0</td>\n",
       "      <td>0</td>\n",
       "      <td>0</td>\n",
       "      <td>0</td>\n",
       "      <td>0</td>\n",
       "      <td>0</td>\n",
       "      <td>0</td>\n",
       "    </tr>\n",
       "    <tr>\n",
       "      <th>2</th>\n",
       "      <td>Nanumal Bhojraj Restaurant - Fort</td>\n",
       "      <td>0</td>\n",
       "      <td>0</td>\n",
       "      <td>0</td>\n",
       "      <td>0</td>\n",
       "      <td>0</td>\n",
       "      <td>0</td>\n",
       "      <td>0</td>\n",
       "      <td>0</td>\n",
       "      <td>0</td>\n",
       "      <td>...</td>\n",
       "      <td>0</td>\n",
       "      <td>0</td>\n",
       "      <td>0</td>\n",
       "      <td>0</td>\n",
       "      <td>0</td>\n",
       "      <td>0</td>\n",
       "      <td>0</td>\n",
       "      <td>0</td>\n",
       "      <td>0</td>\n",
       "      <td>0</td>\n",
       "    </tr>\n",
       "    <tr>\n",
       "      <th>3</th>\n",
       "      <td>Nanumal Bhojraj Restaurant - Fort</td>\n",
       "      <td>0</td>\n",
       "      <td>0</td>\n",
       "      <td>0</td>\n",
       "      <td>0</td>\n",
       "      <td>0</td>\n",
       "      <td>0</td>\n",
       "      <td>0</td>\n",
       "      <td>0</td>\n",
       "      <td>0</td>\n",
       "      <td>...</td>\n",
       "      <td>0</td>\n",
       "      <td>0</td>\n",
       "      <td>0</td>\n",
       "      <td>0</td>\n",
       "      <td>0</td>\n",
       "      <td>0</td>\n",
       "      <td>0</td>\n",
       "      <td>0</td>\n",
       "      <td>0</td>\n",
       "      <td>0</td>\n",
       "    </tr>\n",
       "    <tr>\n",
       "      <th>4</th>\n",
       "      <td>Nanumal Bhojraj Restaurant - Fort</td>\n",
       "      <td>0</td>\n",
       "      <td>0</td>\n",
       "      <td>0</td>\n",
       "      <td>0</td>\n",
       "      <td>0</td>\n",
       "      <td>0</td>\n",
       "      <td>0</td>\n",
       "      <td>0</td>\n",
       "      <td>1</td>\n",
       "      <td>...</td>\n",
       "      <td>0</td>\n",
       "      <td>0</td>\n",
       "      <td>0</td>\n",
       "      <td>0</td>\n",
       "      <td>0</td>\n",
       "      <td>0</td>\n",
       "      <td>0</td>\n",
       "      <td>0</td>\n",
       "      <td>0</td>\n",
       "      <td>0</td>\n",
       "    </tr>\n",
       "  </tbody>\n",
       "</table>\n",
       "<p>5 rows × 85 columns</p>\n",
       "</div>"
      ],
      "text/plain": [
       "                               Venue  American Restaurant  Art Gallery  \\\n",
       "0  Nanumal Bhojraj Restaurant - Fort                    0            0   \n",
       "1  Nanumal Bhojraj Restaurant - Fort                    0            0   \n",
       "2  Nanumal Bhojraj Restaurant - Fort                    0            0   \n",
       "3  Nanumal Bhojraj Restaurant - Fort                    0            0   \n",
       "4  Nanumal Bhojraj Restaurant - Fort                    0            0   \n",
       "\n",
       "   Arts & Crafts Store  Asian Restaurant  Athletics & Sports  BBQ Joint  \\\n",
       "0                    0                 0                   0          0   \n",
       "1                    0                 0                   0          0   \n",
       "2                    0                 0                   0          0   \n",
       "3                    0                 0                   0          0   \n",
       "4                    0                 0                   0          0   \n",
       "\n",
       "   Bakery  Bank  Bar  ...  Seafood Restaurant  Smoke Shop  Stadium  \\\n",
       "0       0     0    0  ...                   0           0        0   \n",
       "1       0     0    0  ...                   1           0        0   \n",
       "2       0     0    0  ...                   0           0        0   \n",
       "3       0     0    0  ...                   0           0        0   \n",
       "4       0     0    1  ...                   0           0        0   \n",
       "\n",
       "   Steakhouse  Tea Room  Tourist Information Center  Train Station  \\\n",
       "0           0         0                           0              0   \n",
       "1           0         0                           0              0   \n",
       "2           0         0                           0              0   \n",
       "3           0         0                           0              0   \n",
       "4           0         0                           0              0   \n",
       "\n",
       "   Vegetarian / Vegan Restaurant  Wine Shop  Women's Store  \n",
       "0                              0          0              0  \n",
       "1                              0          0              0  \n",
       "2                              0          0              0  \n",
       "3                              0          0              0  \n",
       "4                              0          0              0  \n",
       "\n",
       "[5 rows x 85 columns]"
      ]
     },
     "execution_count": 101,
     "metadata": {},
     "output_type": "execute_result"
    }
   ],
   "source": [
    "mumbai_venues_onehot = pd.get_dummies(mumbai_venues[['Neighbourhood Category']], prefix = '', prefix_sep = '')\n",
    "\n",
    "# Add venues column\n",
    "mumbai_venues_onehot['Venue'] = mumbai_venues['Venue']\n",
    "\n",
    "# Move the venues column to first index\n",
    "mumbai_venues_onehot = mumbai_venues_onehot[[mumbai_venues_onehot.columns[-1]] + list(mumbai_venues_onehot.columns[:-1])]\n",
    "\n",
    "mumbai_venues_onehot.head()"
   ]
  },
  {
   "cell_type": "markdown",
   "metadata": {},
   "source": [
    "#### Next, let's group rows by neighborhood and by taking the mean of the frequency of occurrence of each category"
   ]
  },
  {
   "cell_type": "code",
   "execution_count": 102,
   "metadata": {},
   "outputs": [
    {
     "data": {
      "text/html": [
       "<div>\n",
       "<style scoped>\n",
       "    .dataframe tbody tr th:only-of-type {\n",
       "        vertical-align: middle;\n",
       "    }\n",
       "\n",
       "    .dataframe tbody tr th {\n",
       "        vertical-align: top;\n",
       "    }\n",
       "\n",
       "    .dataframe thead th {\n",
       "        text-align: right;\n",
       "    }\n",
       "</style>\n",
       "<table border=\"1\" class=\"dataframe\">\n",
       "  <thead>\n",
       "    <tr style=\"text-align: right;\">\n",
       "      <th></th>\n",
       "      <th>Venue</th>\n",
       "      <th>American Restaurant</th>\n",
       "      <th>Art Gallery</th>\n",
       "      <th>Arts &amp; Crafts Store</th>\n",
       "      <th>Asian Restaurant</th>\n",
       "      <th>Athletics &amp; Sports</th>\n",
       "      <th>BBQ Joint</th>\n",
       "      <th>Bakery</th>\n",
       "      <th>Bank</th>\n",
       "      <th>Bar</th>\n",
       "      <th>...</th>\n",
       "      <th>Seafood Restaurant</th>\n",
       "      <th>Smoke Shop</th>\n",
       "      <th>Stadium</th>\n",
       "      <th>Steakhouse</th>\n",
       "      <th>Tea Room</th>\n",
       "      <th>Tourist Information Center</th>\n",
       "      <th>Train Station</th>\n",
       "      <th>Vegetarian / Vegan Restaurant</th>\n",
       "      <th>Wine Shop</th>\n",
       "      <th>Women's Store</th>\n",
       "    </tr>\n",
       "  </thead>\n",
       "  <tbody>\n",
       "    <tr>\n",
       "      <th>0</th>\n",
       "      <td>Abhiruchi Restaurant</td>\n",
       "      <td>0.083333</td>\n",
       "      <td>0.000000</td>\n",
       "      <td>0.000000</td>\n",
       "      <td>0.000000</td>\n",
       "      <td>0.000000</td>\n",
       "      <td>0.000000</td>\n",
       "      <td>0.000000</td>\n",
       "      <td>0.000000</td>\n",
       "      <td>0.000000</td>\n",
       "      <td>...</td>\n",
       "      <td>0.000000</td>\n",
       "      <td>0.000000</td>\n",
       "      <td>0.0</td>\n",
       "      <td>0.000000</td>\n",
       "      <td>0.000000</td>\n",
       "      <td>0.0</td>\n",
       "      <td>0.000000</td>\n",
       "      <td>0.000000</td>\n",
       "      <td>0.083333</td>\n",
       "      <td>0.000000</td>\n",
       "    </tr>\n",
       "    <tr>\n",
       "      <th>1</th>\n",
       "      <td>Ankur restaurant</td>\n",
       "      <td>0.000000</td>\n",
       "      <td>0.012987</td>\n",
       "      <td>0.012987</td>\n",
       "      <td>0.012987</td>\n",
       "      <td>0.000000</td>\n",
       "      <td>0.012987</td>\n",
       "      <td>0.012987</td>\n",
       "      <td>0.000000</td>\n",
       "      <td>0.012987</td>\n",
       "      <td>...</td>\n",
       "      <td>0.038961</td>\n",
       "      <td>0.012987</td>\n",
       "      <td>0.0</td>\n",
       "      <td>0.012987</td>\n",
       "      <td>0.012987</td>\n",
       "      <td>0.0</td>\n",
       "      <td>0.000000</td>\n",
       "      <td>0.025974</td>\n",
       "      <td>0.000000</td>\n",
       "      <td>0.012987</td>\n",
       "    </tr>\n",
       "    <tr>\n",
       "      <th>2</th>\n",
       "      <td>Anubhav Restaurant &amp; Bar</td>\n",
       "      <td>0.000000</td>\n",
       "      <td>0.000000</td>\n",
       "      <td>0.000000</td>\n",
       "      <td>0.000000</td>\n",
       "      <td>0.000000</td>\n",
       "      <td>0.000000</td>\n",
       "      <td>0.000000</td>\n",
       "      <td>0.000000</td>\n",
       "      <td>0.040000</td>\n",
       "      <td>...</td>\n",
       "      <td>0.080000</td>\n",
       "      <td>0.000000</td>\n",
       "      <td>0.0</td>\n",
       "      <td>0.000000</td>\n",
       "      <td>0.000000</td>\n",
       "      <td>0.0</td>\n",
       "      <td>0.040000</td>\n",
       "      <td>0.000000</td>\n",
       "      <td>0.000000</td>\n",
       "      <td>0.000000</td>\n",
       "    </tr>\n",
       "    <tr>\n",
       "      <th>3</th>\n",
       "      <td>Aram Restaurant</td>\n",
       "      <td>0.000000</td>\n",
       "      <td>0.000000</td>\n",
       "      <td>0.000000</td>\n",
       "      <td>0.000000</td>\n",
       "      <td>0.071429</td>\n",
       "      <td>0.000000</td>\n",
       "      <td>0.000000</td>\n",
       "      <td>0.000000</td>\n",
       "      <td>0.142857</td>\n",
       "      <td>...</td>\n",
       "      <td>0.071429</td>\n",
       "      <td>0.000000</td>\n",
       "      <td>0.0</td>\n",
       "      <td>0.000000</td>\n",
       "      <td>0.000000</td>\n",
       "      <td>0.0</td>\n",
       "      <td>0.071429</td>\n",
       "      <td>0.000000</td>\n",
       "      <td>0.000000</td>\n",
       "      <td>0.000000</td>\n",
       "    </tr>\n",
       "    <tr>\n",
       "      <th>4</th>\n",
       "      <td>Army restaurant</td>\n",
       "      <td>0.000000</td>\n",
       "      <td>0.000000</td>\n",
       "      <td>0.013158</td>\n",
       "      <td>0.013158</td>\n",
       "      <td>0.000000</td>\n",
       "      <td>0.000000</td>\n",
       "      <td>0.026316</td>\n",
       "      <td>0.013158</td>\n",
       "      <td>0.013158</td>\n",
       "      <td>...</td>\n",
       "      <td>0.026316</td>\n",
       "      <td>0.013158</td>\n",
       "      <td>0.0</td>\n",
       "      <td>0.013158</td>\n",
       "      <td>0.013158</td>\n",
       "      <td>0.0</td>\n",
       "      <td>0.013158</td>\n",
       "      <td>0.026316</td>\n",
       "      <td>0.000000</td>\n",
       "      <td>0.000000</td>\n",
       "    </tr>\n",
       "  </tbody>\n",
       "</table>\n",
       "<p>5 rows × 85 columns</p>\n",
       "</div>"
      ],
      "text/plain": [
       "                      Venue  American Restaurant  Art Gallery  \\\n",
       "0      Abhiruchi Restaurant             0.083333     0.000000   \n",
       "1          Ankur restaurant             0.000000     0.012987   \n",
       "2  Anubhav Restaurant & Bar             0.000000     0.000000   \n",
       "3           Aram Restaurant             0.000000     0.000000   \n",
       "4           Army restaurant             0.000000     0.000000   \n",
       "\n",
       "   Arts & Crafts Store  Asian Restaurant  Athletics & Sports  BBQ Joint  \\\n",
       "0             0.000000          0.000000            0.000000   0.000000   \n",
       "1             0.012987          0.012987            0.000000   0.012987   \n",
       "2             0.000000          0.000000            0.000000   0.000000   \n",
       "3             0.000000          0.000000            0.071429   0.000000   \n",
       "4             0.013158          0.013158            0.000000   0.000000   \n",
       "\n",
       "     Bakery      Bank       Bar  ...  Seafood Restaurant  Smoke Shop  Stadium  \\\n",
       "0  0.000000  0.000000  0.000000  ...            0.000000    0.000000      0.0   \n",
       "1  0.012987  0.000000  0.012987  ...            0.038961    0.012987      0.0   \n",
       "2  0.000000  0.000000  0.040000  ...            0.080000    0.000000      0.0   \n",
       "3  0.000000  0.000000  0.142857  ...            0.071429    0.000000      0.0   \n",
       "4  0.026316  0.013158  0.013158  ...            0.026316    0.013158      0.0   \n",
       "\n",
       "   Steakhouse  Tea Room  Tourist Information Center  Train Station  \\\n",
       "0    0.000000  0.000000                         0.0       0.000000   \n",
       "1    0.012987  0.012987                         0.0       0.000000   \n",
       "2    0.000000  0.000000                         0.0       0.040000   \n",
       "3    0.000000  0.000000                         0.0       0.071429   \n",
       "4    0.013158  0.013158                         0.0       0.013158   \n",
       "\n",
       "   Vegetarian / Vegan Restaurant  Wine Shop  Women's Store  \n",
       "0                       0.000000   0.083333       0.000000  \n",
       "1                       0.025974   0.000000       0.012987  \n",
       "2                       0.000000   0.000000       0.000000  \n",
       "3                       0.000000   0.000000       0.000000  \n",
       "4                       0.026316   0.000000       0.000000  \n",
       "\n",
       "[5 rows x 85 columns]"
      ]
     },
     "execution_count": 102,
     "metadata": {},
     "output_type": "execute_result"
    }
   ],
   "source": [
    "mumbai_grpd = mumbai_venues_onehot.groupby('Venue').mean().reset_index()\n",
    "\n",
    "mumbai_grpd.head()"
   ]
  },
  {
   "cell_type": "markdown",
   "metadata": {},
   "source": [
    "### Cluster Neighbourhoods"
   ]
  },
  {
   "cell_type": "code",
   "execution_count": 103,
   "metadata": {},
   "outputs": [],
   "source": [
    "from sklearn.cluster import KMeans\n",
    "import matplotlib.cm as cm\n",
    "import matplotlib.colors as colors"
   ]
  },
  {
   "cell_type": "markdown",
   "metadata": {},
   "source": [
    "#### Choosing the Best Number of Cluster"
   ]
  },
  {
   "cell_type": "code",
   "execution_count": 104,
   "metadata": {},
   "outputs": [
    {
     "data": {
      "text/plain": [
       "[<matplotlib.lines.Line2D at 0x7f814e090908>]"
      ]
     },
     "execution_count": 104,
     "metadata": {},
     "output_type": "execute_result"
    },
    {
     "data": {
      "image/png": "[encoded data removed]",
      "text/plain": [
       "<Figure size 432x288 with 1 Axes>"
      ]
     },
     "metadata": {
      "needs_background": "light"
     },
     "output_type": "display_data"
    }
   ],
   "source": [
    "wcss = []\n",
    "\n",
    "for i in range(1, 11):\n",
    "    \n",
    "    kmeans_i = KMeans(init = 'k-means++', n_clusters = i, random_state = 0)\n",
    "    kmeans_i.fit(mumbai_grpd.drop('Venue', axis = 1))\n",
    "    \n",
    "    wcss.append(kmeans_i.inertia_)\n",
    "\n",
    "plt.plot(range(1, 11), wcss)\n",
    "    "
   ]
  },
  {
   "cell_type": "code",
   "execution_count": 105,
   "metadata": {},
   "outputs": [
    {
     "data": {
      "text/plain": [
       "[1.6583381970429272,\n",
       " 1.187349680500691,\n",
       " 0.9005365069019025,\n",
       " 0.739691905690186,\n",
       " 0.6266493845943079,\n",
       " 0.5417850713987311,\n",
       " 0.4828669467034515,\n",
       " 0.42678870195418106,\n",
       " 0.3704882690264285,\n",
       " 0.32874968442085317]"
      ]
     },
     "execution_count": 105,
     "metadata": {},
     "output_type": "execute_result"
    }
   ],
   "source": [
    "wcss"
   ]
  },
  {
   "cell_type": "markdown",
   "metadata": {},
   "source": [
    "##### Clearly from the elbow method <code>number of clusters</code> should be <code>5</code>"
   ]
  },
  {
   "cell_type": "markdown",
   "metadata": {},
   "source": [
    "### Clustering Using 5 clusters"
   ]
  },
  {
   "cell_type": "code",
   "execution_count": 106,
   "metadata": {},
   "outputs": [
    {
     "data": {
      "text/plain": [
       "KMeans(algorithm='auto', copy_x=True, init='k-means++', max_iter=300,\n",
       "    n_clusters=5, n_init=10, n_jobs=None, precompute_distances='auto',\n",
       "    random_state=0, tol=0.0001, verbose=0)"
      ]
     },
     "execution_count": 106,
     "metadata": {},
     "output_type": "execute_result"
    }
   ],
   "source": [
    "klstr = 5\n",
    "\n",
    "kmeans = KMeans(n_clusters = klstr, random_state = 0, init = 'k-means++')\n",
    "kmeans.fit(mumbai_grpd.drop('Venue', axis = 1))"
   ]
  },
  {
   "cell_type": "code",
   "execution_count": 107,
   "metadata": {},
   "outputs": [
    {
     "data": {
      "text/plain": [
       "(array([2, 1, 4, 4, 1, 1, 4, 1, 4, 2, 1, 4, 4, 1, 1, 0, 4, 4, 1, 2, 4, 0,\n",
       "        4, 3, 1, 3, 1, 3, 4, 3, 2, 1, 4, 1, 4, 4, 1, 3, 4, 2, 4, 4, 0, 0,\n",
       "        2, 3, 2, 0, 3, 3], dtype=int32),\n",
       " 0.6266493845943079)"
      ]
     },
     "execution_count": 107,
     "metadata": {},
     "output_type": "execute_result"
    }
   ],
   "source": [
    "kmeans.labels_, kmeans.inertia_"
   ]
  },
  {
   "cell_type": "markdown",
   "metadata": {},
   "source": [
    "### Add the labels to the dataframe"
   ]
  },
  {
   "cell_type": "code",
   "execution_count": 144,
   "metadata": {},
   "outputs": [],
   "source": [
    "mumbai_grpd.drop('Cluster Labels', axis = 1, inplace = True)"
   ]
  },
  {
   "cell_type": "code",
   "execution_count": 145,
   "metadata": {},
   "outputs": [
    {
     "data": {
      "text/html": [
       "<div>\n",
       "<style scoped>\n",
       "    .dataframe tbody tr th:only-of-type {\n",
       "        vertical-align: middle;\n",
       "    }\n",
       "\n",
       "    .dataframe tbody tr th {\n",
       "        vertical-align: top;\n",
       "    }\n",
       "\n",
       "    .dataframe thead th {\n",
       "        text-align: right;\n",
       "    }\n",
       "</style>\n",
       "<table border=\"1\" class=\"dataframe\">\n",
       "  <thead>\n",
       "    <tr style=\"text-align: right;\">\n",
       "      <th></th>\n",
       "      <th>Name</th>\n",
       "      <th>Cluster Labels</th>\n",
       "    </tr>\n",
       "  </thead>\n",
       "  <tbody>\n",
       "    <tr>\n",
       "      <th>0</th>\n",
       "      <td>Abhiruchi Restaurant</td>\n",
       "      <td>2</td>\n",
       "    </tr>\n",
       "    <tr>\n",
       "      <th>1</th>\n",
       "      <td>Ankur restaurant</td>\n",
       "      <td>1</td>\n",
       "    </tr>\n",
       "    <tr>\n",
       "      <th>2</th>\n",
       "      <td>Anubhav Restaurant &amp; Bar</td>\n",
       "      <td>4</td>\n",
       "    </tr>\n",
       "    <tr>\n",
       "      <th>3</th>\n",
       "      <td>Aram Restaurant</td>\n",
       "      <td>4</td>\n",
       "    </tr>\n",
       "    <tr>\n",
       "      <th>4</th>\n",
       "      <td>Army restaurant</td>\n",
       "      <td>1</td>\n",
       "    </tr>\n",
       "  </tbody>\n",
       "</table>\n",
       "</div>"
      ],
      "text/plain": [
       "                       Name  Cluster Labels\n",
       "0      Abhiruchi Restaurant               2\n",
       "1          Ankur restaurant               1\n",
       "2  Anubhav Restaurant & Bar               4\n",
       "3           Aram Restaurant               4\n",
       "4           Army restaurant               1"
      ]
     },
     "execution_count": 145,
     "metadata": {},
     "output_type": "execute_result"
    }
   ],
   "source": [
    "mumbai_grpd.insert(1, 'Cluster Labels', kmeans.labels_)\n",
    "\n",
    "# Extract the labels to form a new df\n",
    "labels_df = mumbai_grpd[['Venue', 'Cluster Labels']]\n",
    "labels_df.columns = ['Name', 'Cluster Labels']\n",
    "labels_df.head()"
   ]
  },
  {
   "cell_type": "markdown",
   "metadata": {},
   "source": [
    "## Add cluster labels to the original venues dataframe"
   ]
  },
  {
   "cell_type": "code",
   "execution_count": 146,
   "metadata": {},
   "outputs": [
    {
     "data": {
      "text/html": [
       "<div>\n",
       "<style scoped>\n",
       "    .dataframe tbody tr th:only-of-type {\n",
       "        vertical-align: middle;\n",
       "    }\n",
       "\n",
       "    .dataframe tbody tr th {\n",
       "        vertical-align: top;\n",
       "    }\n",
       "\n",
       "    .dataframe thead th {\n",
       "        text-align: right;\n",
       "    }\n",
       "</style>\n",
       "<table border=\"1\" class=\"dataframe\">\n",
       "  <thead>\n",
       "    <tr style=\"text-align: right;\">\n",
       "      <th></th>\n",
       "      <th>Name</th>\n",
       "      <th>Categories</th>\n",
       "      <th>Address</th>\n",
       "      <th>Latitude</th>\n",
       "      <th>Longitude</th>\n",
       "      <th>Distance</th>\n",
       "      <th>Id</th>\n",
       "      <th>Cluster Labels</th>\n",
       "    </tr>\n",
       "  </thead>\n",
       "  <tbody>\n",
       "    <tr>\n",
       "      <th>0</th>\n",
       "      <td>Nanumal Bhojraj Restaurant - Fort</td>\n",
       "      <td>Indian Restaurant</td>\n",
       "      <td>Near GPO, Fort, VT</td>\n",
       "      <td>18.937974</td>\n",
       "      <td>72.837663</td>\n",
       "      <td>260</td>\n",
       "      <td>5263f0f5498edc1ad5f3270f</td>\n",
       "      <td>4</td>\n",
       "    </tr>\n",
       "    <tr>\n",
       "      <th>1</th>\n",
       "      <td>Farhang Restaurant</td>\n",
       "      <td>Steakhouse</td>\n",
       "      <td>Opposite GPO</td>\n",
       "      <td>18.938165</td>\n",
       "      <td>72.837917</td>\n",
       "      <td>280</td>\n",
       "      <td>4e4c0a4122713bd908c641ff</td>\n",
       "      <td>4</td>\n",
       "    </tr>\n",
       "    <tr>\n",
       "      <th>2</th>\n",
       "      <td>Iran Like Restaurant</td>\n",
       "      <td>Indian Restaurant</td>\n",
       "      <td>Palton Road, Near Haj House</td>\n",
       "      <td>18.945343</td>\n",
       "      <td>72.836809</td>\n",
       "      <td>747</td>\n",
       "      <td>4fb5276be4b0b34b9ac27a1b</td>\n",
       "      <td>2</td>\n",
       "    </tr>\n",
       "    <tr>\n",
       "      <th>3</th>\n",
       "      <td>New Majestic Restaurant</td>\n",
       "      <td>Indian Restaurant</td>\n",
       "      <td>Opp CST</td>\n",
       "      <td>18.938972</td>\n",
       "      <td>72.835517</td>\n",
       "      <td>29</td>\n",
       "      <td>4d9f2bfe9b91a1cda6c365c0</td>\n",
       "      <td>4</td>\n",
       "    </tr>\n",
       "    <tr>\n",
       "      <th>4</th>\n",
       "      <td>Panchratna restaurant &amp; bar</td>\n",
       "      <td>Indian Restaurant</td>\n",
       "      <td>Opp. Metro Cinema</td>\n",
       "      <td>18.942900</td>\n",
       "      <td>72.826820</td>\n",
       "      <td>1007</td>\n",
       "      <td>4f489f23e4b018635344413a</td>\n",
       "      <td>3</td>\n",
       "    </tr>\n",
       "  </tbody>\n",
       "</table>\n",
       "</div>"
      ],
      "text/plain": [
       "                                Name         Categories  \\\n",
       "0  Nanumal Bhojraj Restaurant - Fort  Indian Restaurant   \n",
       "1                 Farhang Restaurant         Steakhouse   \n",
       "2               Iran Like Restaurant  Indian Restaurant   \n",
       "3            New Majestic Restaurant  Indian Restaurant   \n",
       "4        Panchratna restaurant & bar  Indian Restaurant   \n",
       "\n",
       "                       Address   Latitude  Longitude  Distance  \\\n",
       "0           Near GPO, Fort, VT  18.937974  72.837663       260   \n",
       "1                 Opposite GPO  18.938165  72.837917       280   \n",
       "2  Palton Road, Near Haj House  18.945343  72.836809       747   \n",
       "3                      Opp CST  18.938972  72.835517        29   \n",
       "4            Opp. Metro Cinema  18.942900  72.826820      1007   \n",
       "\n",
       "                         Id  Cluster Labels  \n",
       "0  5263f0f5498edc1ad5f3270f               4  \n",
       "1  4e4c0a4122713bd908c641ff               4  \n",
       "2  4fb5276be4b0b34b9ac27a1b               2  \n",
       "3  4d9f2bfe9b91a1cda6c365c0               4  \n",
       "4  4f489f23e4b018635344413a               3  "
      ]
     },
     "execution_count": 146,
     "metadata": {},
     "output_type": "execute_result"
    }
   ],
   "source": [
    "venues_df = pd.merge(venues_df, labels_df, on = 'Name')\n",
    "venues_df.head()"
   ]
  },
  {
   "cell_type": "markdown",
   "metadata": {},
   "source": [
    "## Visualize the Cluster"
   ]
  },
  {
   "cell_type": "code",
   "execution_count": 147,
   "metadata": {},
   "outputs": [
    {
     "data": {
      "text/html": [
       "<div style=\"width:100%;\"><div style=\"position:relative;width:100%;height:0;padding-bottom:60%;\"><span style=\"color:#565656\">Make this Notebook Trusted to load map: File -> Trust Notebook</span><iframe src=\"about:blank\" style=\"position:absolute;width:100%;height:100%;left:0;top:0;border:none !important;\" data-html=PCFET0NUWVBFIGh0bWw+CjxoZWFkPiAgICAKICAgIDxtZXRhIGh0dHAtZXF1aXY9ImNvbnRlbnQtdHlwZSIgY29udGVudD0idGV4dC9odG1sOyBjaGFyc2V0PVVURi04IiAvPgogICAgPHNjcmlwdD5MX1BSRUZFUl9DQU5WQVMgPSBmYWxzZTsgTF9OT19UT1VDSCA9IGZhbHNlOyBMX0RJU0FCTEVfM0QgPSBmYWxzZTs8L3NjcmlwdD4KICAgIDxzY3JpcHQgc3JjPSJodHRwczovL2Nkbi5qc2RlbGl2ci5uZXQvbnBtL2xlYWZsZXRAMS4yLjAvZGlzdC9sZWFmbGV0LmpzIj48L3NjcmlwdD4KICAgIDxzY3JpcHQgc3JjPSJodHRwczovL2FqYXguZ29vZ2xlYXBpcy5jb20vYWpheC9saWJzL2pxdWVyeS8xLjExLjEvanF1ZXJ5Lm1pbi5qcyI+PC9zY3JpcHQ+CiAgICA8c2NyaXB0IHNyYz0iaHR0cHM6Ly9tYXhjZG4uYm9vdHN0cmFwY2RuLmNvbS9ib290c3RyYXAvMy4yLjAvanMvYm9vdHN0cmFwLm1pbi5qcyI+PC9zY3JpcHQ+CiAgICA8c2NyaXB0IHNyYz0iaHR0cHM6Ly9jZG5qcy5jbG91ZGZsYXJlLmNvbS9hamF4L2xpYnMvTGVhZmxldC5hd2Vzb21lLW1hcmtlcnMvMi4wLjIvbGVhZmxldC5hd2Vzb21lLW1hcmtlcnMuanMiPjwvc2NyaXB0PgogICAgPGxpbmsgcmVsPSJzdHlsZXNoZWV0IiBocmVmPSJodHRwczovL2Nkbi5qc2RlbGl2ci5uZXQvbnBtL2xlYWZsZXRAMS4yLjAvZGlzdC9sZWFmbGV0LmNzcyIvPgogICAgPGxpbmsgcmVsPSJzdHlsZXNoZWV0IiBocmVmPSJodHRwczovL21heGNkbi5ib290c3RyYXBjZG4uY29tL2Jvb3RzdHJhcC8zLjIuMC9jc3MvYm9vdHN0cmFwLm1pbi5jc3MiLz4KICAgIDxsaW5rIHJlbD0ic3R5bGVzaGVldCIgaHJlZj0iaHR0cHM6Ly9tYXhjZG4uYm9vdHN0cmFwY2RuLmNvbS9ib290c3RyYXAvMy4yLjAvY3NzL2Jvb3RzdHJhcC10aGVtZS5taW4uY3NzIi8+CiAgICA8bGluayByZWw9InN0eWxlc2hlZXQiIGhyZWY9Imh0dHBzOi8vbWF4Y2RuLmJvb3RzdHJhcGNkbi5jb20vZm9udC1hd2Vzb21lLzQuNi4zL2Nzcy9mb250LWF3ZXNvbWUubWluLmNzcyIvPgogICAgPGxpbmsgcmVsPSJzdHlsZXNoZWV0IiBocmVmPSJodHRwczovL2NkbmpzLmNsb3VkZmxhcmUuY29tL2FqYXgvbGlicy9MZWFmbGV0LmF3ZXNvbWUtbWFya2Vycy8yLjAuMi9sZWFmbGV0LmF3ZXNvbWUtbWFya2Vycy5jc3MiLz4KICAgIDxsaW5rIHJlbD0ic3R5bGVzaGVldCIgaHJlZj0iaHR0cHM6Ly9yYXdnaXQuY29tL3B5dGhvbi12aXN1YWxpemF0aW9uL2ZvbGl1bS9tYXN0ZXIvZm9saXVtL3RlbXBsYXRlcy9sZWFmbGV0LmF3ZXNvbWUucm90YXRlLmNzcyIvPgogICAgPHN0eWxlPmh0bWwsIGJvZHkge3dpZHRoOiAxMDAlO2hlaWdodDogMTAwJTttYXJnaW46IDA7cGFkZGluZzogMDt9PC9zdHlsZT4KICAgIDxzdHlsZT4jbWFwIHtwb3NpdGlvbjphYnNvbHV0ZTt0b3A6MDtib3R0b206MDtyaWdodDowO2xlZnQ6MDt9PC9zdHlsZT4KICAgIAogICAgICAgICAgICA8c3R5bGU+ICNtYXBfN2IxNWUwMjk5ZjVjNGZkYjhmN2JhMTBiMDgzY2U1MjEgewogICAgICAgICAgICAgICAgcG9zaXRpb24gOiByZWxhdGl2ZTsKICAgICAgICAgICAgICAgIHdpZHRoIDogMTAwLjAlOwogICAgICAgICAgICAgICAgaGVpZ2h0OiAxMDAuMCU7CiAgICAgICAgICAgICAgICBsZWZ0OiAwLjAlOwogICAgICAgICAgICAgICAgdG9wOiAwLjAlOwogICAgICAgICAgICAgICAgfQogICAgICAgICAgICA8L3N0eWxlPgogICAgICAgIAo8L2hlYWQ+Cjxib2R5PiAgICAKICAgIAogICAgICAgICAgICA8ZGl2IGNsYXNzPSJmb2xpdW0tbWFwIiBpZD0ibWFwXzdiMTVlMDI5OWY1YzRmZGI4ZjdiYTEwYjA4M2NlNTIxIiA+PC9kaXY+CiAgICAgICAgCjwvYm9keT4KPHNjcmlwdD4gICAgCiAgICAKCiAgICAgICAgICAgIAogICAgICAgICAgICAgICAgdmFyIGJvdW5kcyA9IG51bGw7CiAgICAgICAgICAgIAoKICAgICAgICAgICAgdmFyIG1hcF83YjE1ZTAyOTlmNWM0ZmRiOGY3YmExMGIwODNjZTUyMSA9IEwubWFwKAogICAgICAgICAgICAgICAgICAgICAgICAgICAgICAgICAgJ21hcF83YjE1ZTAyOTlmNWM0ZmRiOGY3YmExMGIwODNjZTUyMScsCiAgICAgICAgICAgICAgICAgICAgICAgICAgICAgICAgICB7Y2VudGVyOiBbMTguOTM4NzcxMSw3Mi44MzUzMzU1XSwKICAgICAgICAgICAgICAgICAgICAgICAgICAgICAgICAgIHpvb206IDExLAogICAgICAgICAgICAgICAgICAgICAgICAgICAgICAgICAgbWF4Qm91bmRzOiBib3VuZHMsCiAgICAgICAgICAgICAgICAgICAgICAgICAgICAgICAgICBsYXllcnM6IFtdLAogICAgICAgICAgICAgICAgICAgICAgICAgICAgICAgICAgd29ybGRDb3B5SnVtcDogZmFsc2UsCiAgICAgICAgICAgICAgICAgICAgICAgICAgICAgICAgICBjcnM6IEwuQ1JTLkVQU0czODU3CiAgICAgICAgICAgICAgICAgICAgICAgICAgICAgICAgIH0pOwogICAgICAgICAgICAKICAgICAgICAKICAgIAogICAgICAgICAgICB2YXIgdGlsZV9sYXllcl8yODU3MDdhNGEzYjc0OWIzOGIxNDA5ZWRmZTAzMGQ1OSA9IEwudGlsZUxheWVyKAogICAgICAgICAgICAgICAgJ2h0dHBzOi8ve3N9LnRpbGUub3BlbnN0cmVldG1hcC5vcmcve3p9L3t4fS97eX0ucG5nJywKICAgICAgICAgICAgICAgIHsKICAiYXR0cmlidXRpb24iOiBudWxsLAogICJkZXRlY3RSZXRpbmEiOiBmYWxzZSwKICAibWF4Wm9vbSI6IDE4LAogICJtaW5ab29tIjogMSwKICAibm9XcmFwIjogZmFsc2UsCiAgInN1YmRvbWFpbnMiOiAiYWJjIgp9CiAgICAgICAgICAgICAgICApLmFkZFRvKG1hcF83YjE1ZTAyOTlmNWM0ZmRiOGY3YmExMGIwODNjZTUyMSk7CiAgICAgICAgCiAgICAKICAgICAgICAgICAgdmFyIGNpcmNsZV9tYXJrZXJfODYzYTI3ODY4ZjI2NGFlMDkyMDFhODEzNDAyYzU5N2QgPSBMLmNpcmNsZU1hcmtlcigKICAgICAgICAgICAgICAgIFsxOC45Mzc5NzQ0ODU4NzczNDgsNzIuODM3NjYzMjU0MTQzNjRdLAogICAgICAgICAgICAgICAgewogICJidWJibGluZ01vdXNlRXZlbnRzIjogdHJ1ZSwKICAiY29sb3IiOiAiI2ZmYjM2MCIsCiAgImRhc2hBcnJheSI6IG51bGwsCiAgImRhc2hPZmZzZXQiOiBudWxsLAogICJmaWxsIjogdHJ1ZSwKICAiZmlsbENvbG9yIjogInllbGxvdyIsCiAgImZpbGxPcGFjaXR5IjogMC43LAogICJmaWxsUnVsZSI6ICJldmVub2RkIiwKICAibGluZUNhcCI6ICJyb3VuZCIsCiAgImxpbmVKb2luIjogInJvdW5kIiwKICAib3BhY2l0eSI6IDEuMCwKICAicmFkaXVzIjogNSwKICAic3Ryb2tlIjogdHJ1ZSwKICAid2VpZ2h0IjogMwp9CiAgICAgICAgICAgICAgICApLmFkZFRvKG1hcF83YjE1ZTAyOTlmNWM0ZmRiOGY3YmExMGIwODNjZTUyMSk7CiAgICAgICAgICAgIAogICAgCiAgICAgICAgICAgIHZhciBwb3B1cF80ODk1YjBkNmViMjA0YjU4YmEzMGI2MjI4MzI0MzExYiA9IEwucG9wdXAoe21heFdpZHRoOiAnMzAwJ30pOwoKICAgICAgICAgICAgCiAgICAgICAgICAgICAgICB2YXIgaHRtbF8yNTM2N2Q5ZmU1Zjk0MGEzYTk2MDNlZjBiYmJlOWEwNSA9ICQoJzxkaXYgaWQ9Imh0bWxfMjUzNjdkOWZlNWY5NDBhM2E5NjAzZWYwYmJiZTlhMDUiIHN0eWxlPSJ3aWR0aDogMTAwLjAlOyBoZWlnaHQ6IDEwMC4wJTsiPk5hbnVtYWwgQmhvanJhaiBSZXN0YXVyYW50IC0gRm9ydCwgQ2x1c3RlciA0PC9kaXY+JylbMF07CiAgICAgICAgICAgICAgICBwb3B1cF80ODk1YjBkNmViMjA0YjU4YmEzMGI2MjI4MzI0MzExYi5zZXRDb250ZW50KGh0bWxfMjUzNjdkOWZlNWY5NDBhM2E5NjAzZWYwYmJiZTlhMDUpOwogICAgICAgICAgICAKCiAgICAgICAgICAgIGNpcmNsZV9tYXJrZXJfODYzYTI3ODY4ZjI2NGFlMDkyMDFhODEzNDAyYzU5N2QuYmluZFBvcHVwKHBvcHVwXzQ4OTViMGQ2ZWIyMDRiNThiYTMwYjYyMjgzMjQzMTFiKTsKCiAgICAgICAgICAgIAogICAgICAgIAogICAgCiAgICAgICAgICAgIHZhciBjaXJjbGVfbWFya2VyXzliYWIyZTU5YmNkMTQ3N2Y5Njg2ZWM4ZTc3NzllNGRjID0gTC5jaXJjbGVNYXJrZXIoCiAgICAgICAgICAgICAgICBbMTguOTM4MTY0NTMwNTAxMzYsNzIuODM3OTE3MTI1ODExMTZdLAogICAgICAgICAgICAgICAgewogICJidWJibGluZ01vdXNlRXZlbnRzIjogdHJ1ZSwKICAiY29sb3IiOiAiI2ZmYjM2MCIsCiAgImRhc2hBcnJheSI6IG51bGwsCiAgImRhc2hPZmZzZXQiOiBudWxsLAogICJmaWxsIjogdHJ1ZSwKICAiZmlsbENvbG9yIjogInllbGxvdyIsCiAgImZpbGxPcGFjaXR5IjogMC43LAogICJmaWxsUnVsZSI6ICJldmVub2RkIiwKICAibGluZUNhcCI6ICJyb3VuZCIsCiAgImxpbmVKb2luIjogInJvdW5kIiwKICAib3BhY2l0eSI6IDEuMCwKICAicmFkaXVzIjogNSwKICAic3Ryb2tlIjogdHJ1ZSwKICAid2VpZ2h0IjogMwp9CiAgICAgICAgICAgICAgICApLmFkZFRvKG1hcF83YjE1ZTAyOTlmNWM0ZmRiOGY3YmExMGIwODNjZTUyMSk7CiAgICAgICAgICAgIAogICAgCiAgICAgICAgICAgIHZhciBwb3B1cF9iODdlOWVjYWViYmQ0MDZjYWQ4NjYyZjM1NmIxNzZmMSA9IEwucG9wdXAoe21heFdpZHRoOiAnMzAwJ30pOwoKICAgICAgICAgICAgCiAgICAgICAgICAgICAgICB2YXIgaHRtbF85MTA0MWZiNjY5MmE0YTlmYmE5ZmMzZjM5MjcyY2JlYyA9ICQoJzxkaXYgaWQ9Imh0bWxfOTEwNDFmYjY2OTJhNGE5ZmJhOWZjM2YzOTI3MmNiZWMiIHN0eWxlPSJ3aWR0aDogMTAwLjAlOyBoZWlnaHQ6IDEwMC4wJTsiPkZhcmhhbmcgUmVzdGF1cmFudCwgQ2x1c3RlciA0PC9kaXY+JylbMF07CiAgICAgICAgICAgICAgICBwb3B1cF9iODdlOWVjYWViYmQ0MDZjYWQ4NjYyZjM1NmIxNzZmMS5zZXRDb250ZW50KGh0bWxfOTEwNDFmYjY2OTJhNGE5ZmJhOWZjM2YzOTI3MmNiZWMpOwogICAgICAgICAgICAKCiAgICAgICAgICAgIGNpcmNsZV9tYXJrZXJfOWJhYjJlNTliY2QxNDc3Zjk2ODZlYzhlNzc3OWU0ZGMuYmluZFBvcHVwKHBvcHVwX2I4N2U5ZWNhZWJiZDQwNmNhZDg2NjJmMzU2YjE3NmYxKTsKCiAgICAgICAgICAgIAogICAgICAgIAogICAgCiAgICAgICAgICAgIHZhciBjaXJjbGVfbWFya2VyXzU4MDY2NDQwY2YyYjRlYzI4NjRkNGQ4MWRlMzM1OTMzID0gTC5jaXJjbGVNYXJrZXIoCiAgICAgICAgICAgICAgICBbMTguOTQ1MzQyOTM2NDkzOTcyLDcyLjgzNjgwOTMyMDIyOTM4XSwKICAgICAgICAgICAgICAgIHsKICAiYnViYmxpbmdNb3VzZUV2ZW50cyI6IHRydWUsCiAgImNvbG9yIjogIiMwMGI1ZWIiLAogICJkYXNoQXJyYXkiOiBudWxsLAogICJkYXNoT2Zmc2V0IjogbnVsbCwKICAiZmlsbCI6IHRydWUsCiAgImZpbGxDb2xvciI6ICJ5ZWxsb3ciLAogICJmaWxsT3BhY2l0eSI6IDAuNywKICAiZmlsbFJ1bGUiOiAiZXZlbm9kZCIsCiAgImxpbmVDYXAiOiAicm91bmQiLAogICJsaW5lSm9pbiI6ICJyb3VuZCIsCiAgIm9wYWNpdHkiOiAxLjAsCiAgInJhZGl1cyI6IDUsCiAgInN0cm9rZSI6IHRydWUsCiAgIndlaWdodCI6IDMKfQogICAgICAgICAgICAgICAgKS5hZGRUbyhtYXBfN2IxNWUwMjk5ZjVjNGZkYjhmN2JhMTBiMDgzY2U1MjEpOwogICAgICAgICAgICAKICAgIAogICAgICAgICAgICB2YXIgcG9wdXBfMjc0NGVlYmVkNzQ3NDBmYmE4YzAzMDg2YjkwMDExMTUgPSBMLnBvcHVwKHttYXhXaWR0aDogJzMwMCd9KTsKCiAgICAgICAgICAgIAogICAgICAgICAgICAgICAgdmFyIGh0bWxfYzE1Y2Y0NmRiZjRmNDNjZGIxNGQ0YjI4ZTE2NTVmM2UgPSAkKCc8ZGl2IGlkPSJodG1sX2MxNWNmNDZkYmY0ZjQzY2RiMTRkNGIyOGUxNjU1ZjNlIiBzdHlsZT0id2lkdGg6IDEwMC4wJTsgaGVpZ2h0OiAxMDAuMCU7Ij5JcmFuIExpa2UgUmVzdGF1cmFudCwgQ2x1c3RlciAyPC9kaXY+JylbMF07CiAgICAgICAgICAgICAgICBwb3B1cF8yNzQ0ZWViZWQ3NDc0MGZiYThjMDMwODZiOTAwMTExNS5zZXRDb250ZW50KGh0bWxfYzE1Y2Y0NmRiZjRmNDNjZGIxNGQ0YjI4ZTE2NTVmM2UpOwogICAgICAgICAgICAKCiAgICAgICAgICAgIGNpcmNsZV9tYXJrZXJfNTgwNjY0NDBjZjJiNGVjMjg2NGQ0ZDgxZGUzMzU5MzMuYmluZFBvcHVwKHBvcHVwXzI3NDRlZWJlZDc0NzQwZmJhOGMwMzA4NmI5MDAxMTE1KTsKCiAgICAgICAgICAgIAogICAgICAgIAogICAgCiAgICAgICAgICAgIHZhciBjaXJjbGVfbWFya2VyXzM4ZTNkNGUxMzRhMTRmODQ4MzcxYzRhM2EzNDlhNDZiID0gTC5jaXJjbGVNYXJrZXIoCiAgICAgICAgICAgICAgICBbMTguOTM4OTcxNTYwODk2NzQzLDcyLjgzNTUxNjg3NDAxNzY2XSwKICAgICAgICAgICAgICAgIHsKICAiYnViYmxpbmdNb3VzZUV2ZW50cyI6IHRydWUsCiAgImNvbG9yIjogIiNmZmIzNjAiLAogICJkYXNoQXJyYXkiOiBudWxsLAogICJkYXNoT2Zmc2V0IjogbnVsbCwKICAiZmlsbCI6IHRydWUsCiAgImZpbGxDb2xvciI6ICJ5ZWxsb3ciLAogICJmaWxsT3BhY2l0eSI6IDAuNywKICAiZmlsbFJ1bGUiOiAiZXZlbm9kZCIsCiAgImxpbmVDYXAiOiAicm91bmQiLAogICJsaW5lSm9pbiI6ICJyb3VuZCIsCiAgIm9wYWNpdHkiOiAxLjAsCiAgInJhZGl1cyI6IDUsCiAgInN0cm9rZSI6IHRydWUsCiAgIndlaWdodCI6IDMKfQogICAgICAgICAgICAgICAgKS5hZGRUbyhtYXBfN2IxNWUwMjk5ZjVjNGZkYjhmN2JhMTBiMDgzY2U1MjEpOwogICAgICAgICAgICAKICAgIAogICAgICAgICAgICB2YXIgcG9wdXBfYTBiMzFiNGYwMDE1NGJiMDkzMzY5YjZkODk1ODU4MDQgPSBMLnBvcHVwKHttYXhXaWR0aDogJzMwMCd9KTsKCiAgICAgICAgICAgIAogICAgICAgICAgICAgICAgdmFyIGh0bWxfYzU5YmFlNGIzOWYzNGJiZWIzYzE0NzBkMWVkZDQ5ZTMgPSAkKCc8ZGl2IGlkPSJodG1sX2M1OWJhZTRiMzlmMzRiYmViM2MxNDcwZDFlZGQ0OWUzIiBzdHlsZT0id2lkdGg6IDEwMC4wJTsgaGVpZ2h0OiAxMDAuMCU7Ij5OZXcgTWFqZXN0aWMgUmVzdGF1cmFudCwgQ2x1c3RlciA0PC9kaXY+JylbMF07CiAgICAgICAgICAgICAgICBwb3B1cF9hMGIzMWI0ZjAwMTU0YmIwOTMzNjliNmQ4OTU4NTgwNC5zZXRDb250ZW50KGh0bWxfYzU5YmFlNGIzOWYzNGJiZWIzYzE0NzBkMWVkZDQ5ZTMpOwogICAgICAgICAgICAKCiAgICAgICAgICAgIGNpcmNsZV9tYXJrZXJfMzhlM2Q0ZTEzNGExNGY4NDgzNzFjNGEzYTM0OWE0NmIuYmluZFBvcHVwKHBvcHVwX2EwYjMxYjRmMDAxNTRiYjA5MzM2OWI2ZDg5NTg1ODA0KTsKCiAgICAgICAgICAgIAogICAgICAgIAogICAgCiAgICAgICAgICAgIHZhciBjaXJjbGVfbWFya2VyXzMyNzIxMzkyOTg4ODRkODg4MjU3NTUxZDU4YWFmODZjID0gTC5jaXJjbGVNYXJrZXIoCiAgICAgICAgICAgICAgICBbMTguOTQyODk5NjEyMDM3NzUzLDcyLjgyNjgyMDA5MDczNTU0XSwKICAgICAgICAgICAgICAgIHsKICAiYnViYmxpbmdNb3VzZUV2ZW50cyI6IHRydWUsCiAgImNvbG9yIjogIiM4MGZmYjQiLAogICJkYXNoQXJyYXkiOiBudWxsLAogICJkYXNoT2Zmc2V0IjogbnVsbCwKICAiZmlsbCI6IHRydWUsCiAgImZpbGxDb2xvciI6ICJ5ZWxsb3ciLAogICJmaWxsT3BhY2l0eSI6IDAuNywKICAiZmlsbFJ1bGUiOiAiZXZlbm9kZCIsCiAgImxpbmVDYXAiOiAicm91bmQiLAogICJsaW5lSm9pbiI6ICJyb3VuZCIsCiAgIm9wYWNpdHkiOiAxLjAsCiAgInJhZGl1cyI6IDUsCiAgInN0cm9rZSI6IHRydWUsCiAgIndlaWdodCI6IDMKfQogICAgICAgICAgICAgICAgKS5hZGRUbyhtYXBfN2IxNWUwMjk5ZjVjNGZkYjhmN2JhMTBiMDgzY2U1MjEpOwogICAgICAgICAgICAKICAgIAogICAgICAgICAgICB2YXIgcG9wdXBfMTRiNjU3M2JmNzdmNDY1MmJkZTQ3ZmI0ODJmNDU1NTAgPSBMLnBvcHVwKHttYXhXaWR0aDogJzMwMCd9KTsKCiAgICAgICAgICAgIAogICAgICAgICAgICAgICAgdmFyIGh0bWxfYTE0ZjFhMDIwYmI2NDBlZTk5YjIyMjhkYmNhOGEzNWEgPSAkKCc8ZGl2IGlkPSJodG1sX2ExNGYxYTAyMGJiNjQwZWU5OWIyMjI4ZGJjYThhMzVhIiBzdHlsZT0id2lkdGg6IDEwMC4wJTsgaGVpZ2h0OiAxMDAuMCU7Ij5QYW5jaHJhdG5hIHJlc3RhdXJhbnQgJiBiYXIsIENsdXN0ZXIgMzwvZGl2PicpWzBdOwogICAgICAgICAgICAgICAgcG9wdXBfMTRiNjU3M2JmNzdmNDY1MmJkZTQ3ZmI0ODJmNDU1NTAuc2V0Q29udGVudChodG1sX2ExNGYxYTAyMGJiNjQwZWU5OWIyMjI4ZGJjYThhMzVhKTsKICAgICAgICAgICAgCgogICAgICAgICAgICBjaXJjbGVfbWFya2VyXzMyNzIxMzkyOTg4ODRkODg4MjU3NTUxZDU4YWFmODZjLmJpbmRQb3B1cChwb3B1cF8xNGI2NTczYmY3N2Y0NjUyYmRlNDdmYjQ4MmY0NTU1MCk7CgogICAgICAgICAgICAKICAgICAgICAKICAgIAogICAgICAgICAgICB2YXIgY2lyY2xlX21hcmtlcl9hOGVmYzU3OTRjNTQ0MjlkOTlkOWM1NGY3NWU3OTBmOSA9IEwuY2lyY2xlTWFya2VyKAogICAgICAgICAgICAgICAgWzE4LjkzODM1NzE5MzIzODYwMiw3Mi44MzUwNzI1OTQwNDkyNV0sCiAgICAgICAgICAgICAgICB7CiAgImJ1YmJsaW5nTW91c2VFdmVudHMiOiB0cnVlLAogICJjb2xvciI6ICIjZmZiMzYwIiwKICAiZGFzaEFycmF5IjogbnVsbCwKICAiZGFzaE9mZnNldCI6IG51bGwsCiAgImZpbGwiOiB0cnVlLAogICJmaWxsQ29sb3IiOiAieWVsbG93IiwKICAiZmlsbE9wYWNpdHkiOiAwLjcsCiAgImZpbGxSdWxlIjogImV2ZW5vZGQiLAogICJsaW5lQ2FwIjogInJvdW5kIiwKICAibGluZUpvaW4iOiAicm91bmQiLAogICJvcGFjaXR5IjogMS4wLAogICJyYWRpdXMiOiA1LAogICJzdHJva2UiOiB0cnVlLAogICJ3ZWlnaHQiOiAzCn0KICAgICAgICAgICAgICAgICkuYWRkVG8obWFwXzdiMTVlMDI5OWY1YzRmZGI4ZjdiYTEwYjA4M2NlNTIxKTsKICAgICAgICAgICAgCiAgICAKICAgICAgICAgICAgdmFyIHBvcHVwX2UwZDMxZjFjMjc4NTQ1M2ViYTkyZGU4NWJmZmM3MmIyID0gTC5wb3B1cCh7bWF4V2lkdGg6ICczMDAnfSk7CgogICAgICAgICAgICAKICAgICAgICAgICAgICAgIHZhciBodG1sXzU5NDE1ZDJhOTk5MjRkZTRiNGUyNGMwNjIwZjIyMTA4ID0gJCgnPGRpdiBpZD0iaHRtbF81OTQxNWQyYTk5OTI0ZGU0YjRlMjRjMDYyMGYyMjEwOCIgc3R5bGU9IndpZHRoOiAxMDAuMCU7IGhlaWdodDogMTAwLjAlOyI+U2FpIFBvb2phIFJlc3RhdXJhbnQsIENsdXN0ZXIgNDwvZGl2PicpWzBdOwogICAgICAgICAgICAgICAgcG9wdXBfZTBkMzFmMWMyNzg1NDUzZWJhOTJkZTg1YmZmYzcyYjIuc2V0Q29udGVudChodG1sXzU5NDE1ZDJhOTk5MjRkZTRiNGUyNGMwNjIwZjIyMTA4KTsKICAgICAgICAgICAgCgogICAgICAgICAgICBjaXJjbGVfbWFya2VyX2E4ZWZjNTc5NGM1NDQyOWQ5OWQ5YzU0Zjc1ZTc5MGY5LmJpbmRQb3B1cChwb3B1cF9lMGQzMWYxYzI3ODU0NTNlYmE5MmRlODViZmZjNzJiMik7CgogICAgICAgICAgICAKICAgICAgICAKICAgIAogICAgICAgICAgICB2YXIgY2lyY2xlX21hcmtlcl85NDMzMzdlZTMzYWY0NjYwYTQxMDdjZTkxYTVjNDJiYyA9IEwuY2lyY2xlTWFya2VyKAogICAgICAgICAgICAgICAgWzE4LjkzMzE3MzM5MTkxNDY3LDcyLjgyNjkyODk0MTY2MDIzXSwKICAgICAgICAgICAgICAgIHsKICAiYnViYmxpbmdNb3VzZUV2ZW50cyI6IHRydWUsCiAgImNvbG9yIjogIiNmZjAwMDAiLAogICJkYXNoQXJyYXkiOiBudWxsLAogICJkYXNoT2Zmc2V0IjogbnVsbCwKICAiZmlsbCI6IHRydWUsCiAgImZpbGxDb2xvciI6ICJ5ZWxsb3ciLAogICJmaWxsT3BhY2l0eSI6IDAuNywKICAiZmlsbFJ1bGUiOiAiZXZlbm9kZCIsCiAgImxpbmVDYXAiOiAicm91bmQiLAogICJsaW5lSm9pbiI6ICJyb3VuZCIsCiAgIm9wYWNpdHkiOiAxLjAsCiAgInJhZGl1cyI6IDUsCiAgInN0cm9rZSI6IHRydWUsCiAgIndlaWdodCI6IDMKfQogICAgICAgICAgICAgICAgKS5hZGRUbyhtYXBfN2IxNWUwMjk5ZjVjNGZkYjhmN2JhMTBiMDgzY2U1MjEpOwogICAgICAgICAgICAKICAgIAogICAgICAgICAgICB2YXIgcG9wdXBfMDk4ZmM2ZDI2OTEzNGQ2ZWE4YzkwYjhhZDZiYTJlYTYgPSBMLnBvcHVwKHttYXhXaWR0aDogJzMwMCd9KTsKCiAgICAgICAgICAgIAogICAgICAgICAgICAgICAgdmFyIGh0bWxfNzg2ZGQwYmE3ODMxNGYzYmIzYzZjYzg3YWE4YzdkN2IgPSAkKCc8ZGl2IGlkPSJodG1sXzc4NmRkMGJhNzgzMTRmM2JiM2M2Y2M4N2FhOGM3ZDdiIiBzdHlsZT0id2lkdGg6IDEwMC4wJTsgaGVpZ2h0OiAxMDAuMCU7Ij5TdGFkaXVtIFJlc3RhdXJhbnQgJiBTdG9yZXMsIENsdXN0ZXIgMDwvZGl2PicpWzBdOwogICAgICAgICAgICAgICAgcG9wdXBfMDk4ZmM2ZDI2OTEzNGQ2ZWE4YzkwYjhhZDZiYTJlYTYuc2V0Q29udGVudChodG1sXzc4NmRkMGJhNzgzMTRmM2JiM2M2Y2M4N2FhOGM3ZDdiKTsKICAgICAgICAgICAgCgogICAgICAgICAgICBjaXJjbGVfbWFya2VyXzk0MzMzN2VlMzNhZjQ2NjBhNDEwN2NlOTFhNWM0MmJjLmJpbmRQb3B1cChwb3B1cF8wOThmYzZkMjY5MTM0ZDZlYThjOTBiOGFkNmJhMmVhNik7CgogICAgICAgICAgICAKICAgICAgICAKICAgIAogICAgICAgICAgICB2YXIgY2lyY2xlX21hcmtlcl8yYzYzMjdmYTZkNjY0MmE5OGRhMWY5MjE3ZmVlNjkxNCA9IEwuY2lyY2xlTWFya2VyKAogICAgICAgICAgICAgICAgWzE4LjkzOTIyNTIzMTYzOTgyNCw3Mi44MzU3MDcyNzk0NzA0N10sCiAgICAgICAgICAgICAgICB7CiAgImJ1YmJsaW5nTW91c2VFdmVudHMiOiB0cnVlLAogICJjb2xvciI6ICIjZmZiMzYwIiwKICAiZGFzaEFycmF5IjogbnVsbCwKICAiZGFzaE9mZnNldCI6IG51bGwsCiAgImZpbGwiOiB0cnVlLAogICJmaWxsQ29sb3IiOiAieWVsbG93IiwKICAiZmlsbE9wYWNpdHkiOiAwLjcsCiAgImZpbGxSdWxlIjogImV2ZW5vZGQiLAogICJsaW5lQ2FwIjogInJvdW5kIiwKICAibGluZUpvaW4iOiAicm91bmQiLAogICJvcGFjaXR5IjogMS4wLAogICJyYWRpdXMiOiA1LAogICJzdHJva2UiOiB0cnVlLAogICJ3ZWlnaHQiOiAzCn0KICAgICAgICAgICAgICAgICkuYWRkVG8obWFwXzdiMTVlMDI5OWY1YzRmZGI4ZjdiYTEwYjA4M2NlNTIxKTsKICAgICAgICAgICAgCiAgICAKICAgICAgICAgICAgdmFyIHBvcHVwXzcyYWZiZjc3YzJhNzQyYzg4ZmZiOTY0NzgzMjI4NjA2ID0gTC5wb3B1cCh7bWF4V2lkdGg6ICczMDAnfSk7CgogICAgICAgICAgICAKICAgICAgICAgICAgICAgIHZhciBodG1sX2Q3MzE2OTA1ZDU4YTQ3NzZiMzg5Yzk5ODZhYWQ3OTBiID0gJCgnPGRpdiBpZD0iaHRtbF9kNzMxNjkwNWQ1OGE0Nzc2YjM4OWM5OTg2YWFkNzkwYiIgc3R5bGU9IndpZHRoOiAxMDAuMCU7IGhlaWdodDogMTAwLjAlOyI+UG9vbmFtIFJlc3RhdXJhbnQsIENsdXN0ZXIgNDwvZGl2PicpWzBdOwogICAgICAgICAgICAgICAgcG9wdXBfNzJhZmJmNzdjMmE3NDJjODhmZmI5NjQ3ODMyMjg2MDYuc2V0Q29udGVudChodG1sX2Q3MzE2OTA1ZDU4YTQ3NzZiMzg5Yzk5ODZhYWQ3OTBiKTsKICAgICAgICAgICAgCgogICAgICAgICAgICBjaXJjbGVfbWFya2VyXzJjNjMyN2ZhNmQ2NjQyYTk4ZGExZjkyMTdmZWU2OTE0LmJpbmRQb3B1cChwb3B1cF83MmFmYmY3N2MyYTc0MmM4OGZmYjk2NDc4MzIyODYwNik7CgogICAgICAgICAgICAKICAgICAgICAKICAgIAogICAgICAgICAgICB2YXIgY2lyY2xlX21hcmtlcl9iYzliNDdkNTYxMWM0ODJmOGI2OTNiOWEzMTE1NjU0OCA9IEwuY2lyY2xlTWFya2VyKAogICAgICAgICAgICAgICAgWzE4LjkzOTU0MzQ4OTI0MDUxNyw3Mi44MzQ0OTQ1NTY3ODcyNV0sCiAgICAgICAgICAgICAgICB7CiAgImJ1YmJsaW5nTW91c2VFdmVudHMiOiB0cnVlLAogICJjb2xvciI6ICIjZmZiMzYwIiwKICAiZGFzaEFycmF5IjogbnVsbCwKICAiZGFzaE9mZnNldCI6IG51bGwsCiAgImZpbGwiOiB0cnVlLAogICJmaWxsQ29sb3IiOiAieWVsbG93IiwKICAiZmlsbE9wYWNpdHkiOiAwLjcsCiAgImZpbGxSdWxlIjogImV2ZW5vZGQiLAogICJsaW5lQ2FwIjogInJvdW5kIiwKICAibGluZUpvaW4iOiAicm91bmQiLAogICJvcGFjaXR5IjogMS4wLAogICJyYWRpdXMiOiA1LAogICJzdHJva2UiOiB0cnVlLAogICJ3ZWlnaHQiOiAzCn0KICAgICAgICAgICAgICAgICkuYWRkVG8obWFwXzdiMTVlMDI5OWY1YzRmZGI4ZjdiYTEwYjA4M2NlNTIxKTsKICAgICAgICAgICAgCiAgICAKICAgICAgICAgICAgdmFyIHBvcHVwX2I0Y2NhMTk3ZjgyYzQ0OTRiNDhiNmVkZjljNmFiOTBhID0gTC5wb3B1cCh7bWF4V2lkdGg6ICczMDAnfSk7CgogICAgICAgICAgICAKICAgICAgICAgICAgICAgIHZhciBodG1sXzYzZjkzYmVkNGI5YjQxNjZhMWIzNjlhMzgwNmRlY2UxID0gJCgnPGRpdiBpZD0iaHRtbF82M2Y5M2JlZDRiOWI0MTY2YTFiMzY5YTM4MDZkZWNlMSIgc3R5bGU9IndpZHRoOiAxMDAuMCU7IGhlaWdodDogMTAwLjAlOyI+QXJhbSBSZXN0YXVyYW50LCBDbHVzdGVyIDQ8L2Rpdj4nKVswXTsKICAgICAgICAgICAgICAgIHBvcHVwX2I0Y2NhMTk3ZjgyYzQ0OTRiNDhiNmVkZjljNmFiOTBhLnNldENvbnRlbnQoaHRtbF82M2Y5M2JlZDRiOWI0MTY2YTFiMzY5YTM4MDZkZWNlMSk7CiAgICAgICAgICAgIAoKICAgICAgICAgICAgY2lyY2xlX21hcmtlcl9iYzliNDdkNTYxMWM0ODJmOGI2OTNiOWEzMTE1NjU0OC5iaW5kUG9wdXAocG9wdXBfYjRjY2ExOTdmODJjNDQ5NGI0OGI2ZWRmOWM2YWI5MGEpOwoKICAgICAgICAgICAgCiAgICAgICAgCiAgICAKICAgICAgICAgICAgdmFyIGNpcmNsZV9tYXJrZXJfM2UzNTc4MDRlMTAxNGM2YTk3YzFlNWRjMzJmMTU0YzcgPSBMLmNpcmNsZU1hcmtlcigKICAgICAgICAgICAgICAgIFsxOC45NTMyMDAyMjEwNzEzMyw3Mi44Mzc1NzY3MDY5MjM3OF0sCiAgICAgICAgICAgICAgICB7CiAgImJ1YmJsaW5nTW91c2VFdmVudHMiOiB0cnVlLAogICJjb2xvciI6ICIjODAwMGZmIiwKICAiZGFzaEFycmF5IjogbnVsbCwKICAiZGFzaE9mZnNldCI6IG51bGwsCiAgImZpbGwiOiB0cnVlLAogICJmaWxsQ29sb3IiOiAieWVsbG93IiwKICAiZmlsbE9wYWNpdHkiOiAwLjcsCiAgImZpbGxSdWxlIjogImV2ZW5vZGQiLAogICJsaW5lQ2FwIjogInJvdW5kIiwKICAibGluZUpvaW4iOiAicm91bmQiLAogICJvcGFjaXR5IjogMS4wLAogICJyYWRpdXMiOiA1LAogICJzdHJva2UiOiB0cnVlLAogICJ3ZWlnaHQiOiAzCn0KICAgICAgICAgICAgICAgICkuYWRkVG8obWFwXzdiMTVlMDI5OWY1YzRmZGI4ZjdiYTEwYjA4M2NlNTIxKTsKICAgICAgICAgICAgCiAgICAKICAgICAgICAgICAgdmFyIHBvcHVwXzBiMzNkNGM1MGFiZTQyYzk4NmE1NWI0YjhiOWU3YjAyID0gTC5wb3B1cCh7bWF4V2lkdGg6ICczMDAnfSk7CgogICAgICAgICAgICAKICAgICAgICAgICAgICAgIHZhciBodG1sXzI5YzdjZGFjMTViMjRkNGE4YWNlNzVkOTVjMTcwM2UwID0gJCgnPGRpdiBpZD0iaHRtbF8yOWM3Y2RhYzE1YjI0ZDRhOGFjZTc1ZDk1YzE3MDNlMCIgc3R5bGU9IndpZHRoOiAxMDAuMCU7IGhlaWdodDogMTAwLjAlOyI+TmFudW1hbCBCaG9qcmFqIFJlc3RhdXJhbnQgLSBNYXNqaWQgQnVuZGVyLCBDbHVzdGVyIDE8L2Rpdj4nKVswXTsKICAgICAgICAgICAgICAgIHBvcHVwXzBiMzNkNGM1MGFiZTQyYzk4NmE1NWI0YjhiOWU3YjAyLnNldENvbnRlbnQoaHRtbF8yOWM3Y2RhYzE1YjI0ZDRhOGFjZTc1ZDk1YzE3MDNlMCk7CiAgICAgICAgICAgIAoKICAgICAgICAgICAgY2lyY2xlX21hcmtlcl8zZTM1NzgwNGUxMDE0YzZhOTdjMWU1ZGMzMmYxNTRjNy5iaW5kUG9wdXAocG9wdXBfMGIzM2Q0YzUwYWJlNDJjOTg2YTU1YjRiOGI5ZTdiMDIpOwoKICAgICAgICAgICAgCiAgICAgICAgCiAgICAKICAgICAgICAgICAgdmFyIGNpcmNsZV9tYXJrZXJfMDY5ODBiZThiMjMxNDI1MmI4ZjNkNGViNjMxYTM5MTUgPSBMLmNpcmNsZU1hcmtlcigKICAgICAgICAgICAgICAgIFsxOC45Mzc0ODk0OTQ0ODgwNyw3Mi44MzYxNTczMjgxMzExOF0sCiAgICAgICAgICAgICAgICB7CiAgImJ1YmJsaW5nTW91c2VFdmVudHMiOiB0cnVlLAogICJjb2xvciI6ICIjZmZiMzYwIiwKICAiZGFzaEFycmF5IjogbnVsbCwKICAiZGFzaE9mZnNldCI6IG51bGwsCiAgImZpbGwiOiB0cnVlLAogICJmaWxsQ29sb3IiOiAieWVsbG93IiwKICAiZmlsbE9wYWNpdHkiOiAwLjcsCiAgImZpbGxSdWxlIjogImV2ZW5vZGQiLAogICJsaW5lQ2FwIjogInJvdW5kIiwKICAibGluZUpvaW4iOiAicm91bmQiLAogICJvcGFjaXR5IjogMS4wLAogICJyYWRpdXMiOiA1LAogICJzdHJva2UiOiB0cnVlLAogICJ3ZWlnaHQiOiAzCn0KICAgICAgICAgICAgICAgICkuYWRkVG8obWFwXzdiMTVlMDI5OWY1YzRmZGI4ZjdiYTEwYjA4M2NlNTIxKTsKICAgICAgICAgICAgCiAgICAKICAgICAgICAgICAgdmFyIHBvcHVwXzhhYTU3YjYwOWI0ODQwYWM5MjMwMTFkZjZmMTNjZjEzID0gTC5wb3B1cCh7bWF4V2lkdGg6ICczMDAnfSk7CgogICAgICAgICAgICAKICAgICAgICAgICAgICAgIHZhciBodG1sXzBlNDIyNTRkZDQwZDRiMTc5NDIyMjA3NjRiNWRjNjc5ID0gJCgnPGRpdiBpZD0iaHRtbF8wZTQyMjU0ZGQ0MGQ0YjE3OTQyMjIwNzY0YjVkYzY3OSIgc3R5bGU9IndpZHRoOiAxMDAuMCU7IGhlaWdodDogMTAwLjAlOyI+S2FscGFuYSByZXN0YXVyYW50LCBDbHVzdGVyIDQ8L2Rpdj4nKVswXTsKICAgICAgICAgICAgICAgIHBvcHVwXzhhYTU3YjYwOWI0ODQwYWM5MjMwMTFkZjZmMTNjZjEzLnNldENvbnRlbnQoaHRtbF8wZTQyMjU0ZGQ0MGQ0YjE3OTQyMjIwNzY0YjVkYzY3OSk7CiAgICAgICAgICAgIAoKICAgICAgICAgICAgY2lyY2xlX21hcmtlcl8wNjk4MGJlOGIyMzE0MjUyYjhmM2Q0ZWI2MzFhMzkxNS5iaW5kUG9wdXAocG9wdXBfOGFhNTdiNjA5YjQ4NDBhYzkyMzAxMWRmNmYxM2NmMTMpOwoKICAgICAgICAgICAgCiAgICAgICAgCiAgICAKICAgICAgICAgICAgdmFyIGNpcmNsZV9tYXJrZXJfMzVkYmFmN2FhZmVhNDFhYzhlOTJjZDhiNjc0ZWQ1NTQgPSBMLmNpcmNsZU1hcmtlcigKICAgICAgICAgICAgICAgIFsxOC45MzU5MDE3Nzg5MzA1NTMsNzIuODM0NDI2MzY3MTk1MDRdLAogICAgICAgICAgICAgICAgewogICJidWJibGluZ01vdXNlRXZlbnRzIjogdHJ1ZSwKICAiY29sb3IiOiAiI2ZmYjM2MCIsCiAgImRhc2hBcnJheSI6IG51bGwsCiAgImRhc2hPZmZzZXQiOiBudWxsLAogICJmaWxsIjogdHJ1ZSwKICAiZmlsbENvbG9yIjogInllbGxvdyIsCiAgImZpbGxPcGFjaXR5IjogMC43LAogICJmaWxsUnVsZSI6ICJldmVub2RkIiwKICAibGluZUNhcCI6ICJyb3VuZCIsCiAgImxpbmVKb2luIjogInJvdW5kIiwKICAib3BhY2l0eSI6IDEuMCwKICAicmFkaXVzIjogNSwKICAic3Ryb2tlIjogdHJ1ZSwKICAid2VpZ2h0IjogMwp9CiAgICAgICAgICAgICAgICApLmFkZFRvKG1hcF83YjE1ZTAyOTlmNWM0ZmRiOGY3YmExMGIwODNjZTUyMSk7CiAgICAgICAgICAgIAogICAgCiAgICAgICAgICAgIHZhciBwb3B1cF80MGYzNGUxYzhmYmQ0YjA1OWE1MzA2OGE2OTNhYTg5NCA9IEwucG9wdXAoe21heFdpZHRoOiAnMzAwJ30pOwoKICAgICAgICAgICAgCiAgICAgICAgICAgICAgICB2YXIgaHRtbF9lMzVkNGJmYmVmZTI0MDljYjhhZTBmOTI5NmViYTZmMyA9ICQoJzxkaXYgaWQ9Imh0bWxfZTM1ZDRiZmJlZmUyNDA5Y2I4YWUwZjkyOTZlYmE2ZjMiIHN0eWxlPSJ3aWR0aDogMTAwLjAlOyBoZWlnaHQ6IDEwMC4wJTsiPkJvbWJheSBSZXN0YXVyYW50LCBDbHVzdGVyIDQ8L2Rpdj4nKVswXTsKICAgICAgICAgICAgICAgIHBvcHVwXzQwZjM0ZTFjOGZiZDRiMDU5YTUzMDY4YTY5M2FhODk0LnNldENvbnRlbnQoaHRtbF9lMzVkNGJmYmVmZTI0MDljYjhhZTBmOTI5NmViYTZmMyk7CiAgICAgICAgICAgIAoKICAgICAgICAgICAgY2lyY2xlX21hcmtlcl8zNWRiYWY3YWFmZWE0MWFjOGU5MmNkOGI2NzRlZDU1NC5iaW5kUG9wdXAocG9wdXBfNDBmMzRlMWM4ZmJkNGIwNTlhNTMwNjhhNjkzYWE4OTQpOwoKICAgICAgICAgICAgCiAgICAgICAgCiAgICAKICAgICAgICAgICAgdmFyIGNpcmNsZV9tYXJrZXJfNjc1ZDBkMjMzMjVlNDJmNzllNDBiYTg5NTQwNDVlMzMgPSBMLmNpcmNsZU1hcmtlcigKICAgICAgICAgICAgICAgIFsxOC45MzY4NDY4NjA3NTExOTIsNzIuODM3NTI0Nzc4NTc3MV0sCiAgICAgICAgICAgICAgICB7CiAgImJ1YmJsaW5nTW91c2VFdmVudHMiOiB0cnVlLAogICJjb2xvciI6ICIjZmZiMzYwIiwKICAiZGFzaEFycmF5IjogbnVsbCwKICAiZGFzaE9mZnNldCI6IG51bGwsCiAgImZpbGwiOiB0cnVlLAogICJmaWxsQ29sb3IiOiAieWVsbG93IiwKICAiZmlsbE9wYWNpdHkiOiAwLjcsCiAgImZpbGxSdWxlIjogImV2ZW5vZGQiLAogICJsaW5lQ2FwIjogInJvdW5kIiwKICAibGluZUpvaW4iOiAicm91bmQiLAogICJvcGFjaXR5IjogMS4wLAogICJyYWRpdXMiOiA1LAogICJzdHJva2UiOiB0cnVlLAogICJ3ZWlnaHQiOiAzCn0KICAgICAgICAgICAgICAgICkuYWRkVG8obWFwXzdiMTVlMDI5OWY1YzRmZGI4ZjdiYTEwYjA4M2NlNTIxKTsKICAgICAgICAgICAgCiAgICAKICAgICAgICAgICAgdmFyIHBvcHVwX2VmNmVmMTg2ZjM0MDRkMjU5NjdjYTAxMjU3YzA2MmQ4ID0gTC5wb3B1cCh7bWF4V2lkdGg6ICczMDAnfSk7CgogICAgICAgICAgICAKICAgICAgICAgICAgICAgIHZhciBodG1sXzU0YWEzNzBhOWRmZTRiZDY4YjBiYjMyMjE0OTdhZTcxID0gJCgnPGRpdiBpZD0iaHRtbF81NGFhMzcwYTlkZmU0YmQ2OGIwYmIzMjIxNDk3YWU3MSIgc3R5bGU9IndpZHRoOiAxMDAuMCU7IGhlaWdodDogMTAwLjAlOyI+Q2FuYXJhIFJlc3RhdXJhbnQsIENsdXN0ZXIgNDwvZGl2PicpWzBdOwogICAgICAgICAgICAgICAgcG9wdXBfZWY2ZWYxODZmMzQwNGQyNTk2N2NhMDEyNTdjMDYyZDguc2V0Q29udGVudChodG1sXzU0YWEzNzBhOWRmZTRiZDY4YjBiYjMyMjE0OTdhZTcxKTsKICAgICAgICAgICAgCgogICAgICAgICAgICBjaXJjbGVfbWFya2VyXzY3NWQwZDIzMzI1ZTQyZjc5ZTQwYmE4OTU0MDQ1ZTMzLmJpbmRQb3B1cChwb3B1cF9lZjZlZjE4NmYzNDA0ZDI1OTY3Y2EwMTI1N2MwNjJkOCk7CgogICAgICAgICAgICAKICAgICAgICAKICAgIAogICAgICAgICAgICB2YXIgY2lyY2xlX21hcmtlcl9lZjE1ZjdmMTcwN2Q0MjNjYTBmNGUzYzhhZTk1NDgxYyA9IEwuY2lyY2xlTWFya2VyKAogICAgICAgICAgICAgICAgWzE4LjkzODE5OSw3Mi44Mzc3NjRdLAogICAgICAgICAgICAgICAgewogICJidWJibGluZ01vdXNlRXZlbnRzIjogdHJ1ZSwKICAiY29sb3IiOiAiI2ZmYjM2MCIsCiAgImRhc2hBcnJheSI6IG51bGwsCiAgImRhc2hPZmZzZXQiOiBudWxsLAogICJmaWxsIjogdHJ1ZSwKICAiZmlsbENvbG9yIjogInllbGxvdyIsCiAgImZpbGxPcGFjaXR5IjogMC43LAogICJmaWxsUnVsZSI6ICJldmVub2RkIiwKICAibGluZUNhcCI6ICJyb3VuZCIsCiAgImxpbmVKb2luIjogInJvdW5kIiwKICAib3BhY2l0eSI6IDEuMCwKICAicmFkaXVzIjogNSwKICAic3Ryb2tlIjogdHJ1ZSwKICAid2VpZ2h0IjogMwp9CiAgICAgICAgICAgICAgICApLmFkZFRvKG1hcF83YjE1ZTAyOTlmNWM0ZmRiOGY3YmExMGIwODNjZTUyMSk7CiAgICAgICAgICAgIAogICAgCiAgICAgICAgICAgIHZhciBwb3B1cF8yOTQ3MGMzNmQyZTY0NmJhODdiZTVjYmFkODhhODdmZCA9IEwucG9wdXAoe21heFdpZHRoOiAnMzAwJ30pOwoKICAgICAgICAgICAgCiAgICAgICAgICAgICAgICB2YXIgaHRtbF8yODQwMGRhN2I0ZjQ0NmU3OTdhYzRiOTZlZWUxOThiOCA9ICQoJzxkaXYgaWQ9Imh0bWxfMjg0MDBkYTdiNGY0NDZlNzk3YWM0Yjk2ZWVlMTk4YjgiIHN0eWxlPSJ3aWR0aDogMTAwLjAlOyBoZWlnaHQ6IDEwMC4wJTsiPkd1bHNoYW4gUmVzdGF1cmFudCwgQ2x1c3RlciA0PC9kaXY+JylbMF07CiAgICAgICAgICAgICAgICBwb3B1cF8yOTQ3MGMzNmQyZTY0NmJhODdiZTVjYmFkODhhODdmZC5zZXRDb250ZW50KGh0bWxfMjg0MDBkYTdiNGY0NDZlNzk3YWM0Yjk2ZWVlMTk4YjgpOwogICAgICAgICAgICAKCiAgICAgICAgICAgIGNpcmNsZV9tYXJrZXJfZWYxNWY3ZjE3MDdkNDIzY2EwZjRlM2M4YWU5NTQ4MWMuYmluZFBvcHVwKHBvcHVwXzI5NDcwYzM2ZDJlNjQ2YmE4N2JlNWNiYWQ4OGE4N2ZkKTsKCiAgICAgICAgICAgIAogICAgICAgIAogICAgCiAgICAgICAgICAgIHZhciBjaXJjbGVfbWFya2VyXzgzMGNlMDRkMjlmYjQzMDI4MmJhNzEyODIyYjYwNDc2ID0gTC5jaXJjbGVNYXJrZXIoCiAgICAgICAgICAgICAgICBbMTguOTM3MjQ1MzA2NjYzOTEsNzIuODM3NjA1NTU2MDAwNV0sCiAgICAgICAgICAgICAgICB7CiAgImJ1YmJsaW5nTW91c2VFdmVudHMiOiB0cnVlLAogICJjb2xvciI6ICIjZmZiMzYwIiwKICAiZGFzaEFycmF5IjogbnVsbCwKICAiZGFzaE9mZnNldCI6IG51bGwsCiAgImZpbGwiOiB0cnVlLAogICJmaWxsQ29sb3IiOiAieWVsbG93IiwKICAiZmlsbE9wYWNpdHkiOiAwLjcsCiAgImZpbGxSdWxlIjogImV2ZW5vZGQiLAogICJsaW5lQ2FwIjogInJvdW5kIiwKICAibGluZUpvaW4iOiAicm91bmQiLAogICJvcGFjaXR5IjogMS4wLAogICJyYWRpdXMiOiA1LAogICJzdHJva2UiOiB0cnVlLAogICJ3ZWlnaHQiOiAzCn0KICAgICAgICAgICAgICAgICkuYWRkVG8obWFwXzdiMTVlMDI5OWY1YzRmZGI4ZjdiYTEwYjA4M2NlNTIxKTsKICAgICAgICAgICAgCiAgICAKICAgICAgICAgICAgdmFyIHBvcHVwXzExMTk0MDAxMTQ1ZTRkOTViZDY3YTM0YzY2NzY3M2VmID0gTC5wb3B1cCh7bWF4V2lkdGg6ICczMDAnfSk7CgogICAgICAgICAgICAKICAgICAgICAgICAgICAgIHZhciBodG1sX2IyN2U1MTVjODRjNDQ2YTg5ZjczOTUzNTI4ZjhlNWYzID0gJCgnPGRpdiBpZD0iaHRtbF9iMjdlNTE1Yzg0YzQ0NmE4OWY3Mzk1MzUyOGY4ZTVmMyIgc3R5bGU9IndpZHRoOiAxMDAuMCU7IGhlaWdodDogMTAwLjAlOyI+TWFuZ2Fsb3JlIG5hYXogUmVzdGF1cmFudCwgQ2x1c3RlciA0PC9kaXY+JylbMF07CiAgICAgICAgICAgICAgICBwb3B1cF8xMTE5NDAwMTE0NWU0ZDk1YmQ2N2EzNGM2Njc2NzNlZi5zZXRDb250ZW50KGh0bWxfYjI3ZTUxNWM4NGM0NDZhODlmNzM5NTM1MjhmOGU1ZjMpOwogICAgICAgICAgICAKCiAgICAgICAgICAgIGNpcmNsZV9tYXJrZXJfODMwY2UwNGQyOWZiNDMwMjgyYmE3MTI4MjJiNjA0NzYuYmluZFBvcHVwKHBvcHVwXzExMTk0MDAxMTQ1ZTRkOTViZDY3YTM0YzY2NzY3M2VmKTsKCiAgICAgICAgICAgIAogICAgICAgIAogICAgCiAgICAgICAgICAgIHZhciBjaXJjbGVfbWFya2VyXzVjM2NmOGRhZWNiZDQ3YWM5MDAyZmM4ZTZmNDM1MzAxID0gTC5jaXJjbGVNYXJrZXIoCiAgICAgICAgICAgICAgICBbMTguOTM1MjY2MTU5OTgwNTgsNzIuODM3MjM5NzQ5NDM5MDZdLAogICAgICAgICAgICAgICAgewogICJidWJibGluZ01vdXNlRXZlbnRzIjogdHJ1ZSwKICAiY29sb3IiOiAiI2ZmYjM2MCIsCiAgImRhc2hBcnJheSI6IG51bGwsCiAgImRhc2hPZmZzZXQiOiBudWxsLAogICJmaWxsIjogdHJ1ZSwKICAiZmlsbENvbG9yIjogInllbGxvdyIsCiAgImZpbGxPcGFjaXR5IjogMC43LAogICJmaWxsUnVsZSI6ICJldmVub2RkIiwKICAibGluZUNhcCI6ICJyb3VuZCIsCiAgImxpbmVKb2luIjogInJvdW5kIiwKICAib3BhY2l0eSI6IDEuMCwKICAicmFkaXVzIjogNSwKICAic3Ryb2tlIjogdHJ1ZSwKICAid2VpZ2h0IjogMwp9CiAgICAgICAgICAgICAgICApLmFkZFRvKG1hcF83YjE1ZTAyOTlmNWM0ZmRiOGY3YmExMGIwODNjZTUyMSk7CiAgICAgICAgICAgIAogICAgCiAgICAgICAgICAgIHZhciBwb3B1cF81ZTllMjQ1NTMzMjc0OWEyOTk5YWUwMWViNGYzZTlmMSA9IEwucG9wdXAoe21heFdpZHRoOiAnMzAwJ30pOwoKICAgICAgICAgICAgCiAgICAgICAgICAgICAgICB2YXIgaHRtbF82MjVmYzZmMTY3ZDE0YTQ2YWMzZjIxODYyNmJhNTc1NyA9ICQoJzxkaXYgaWQ9Imh0bWxfNjI1ZmM2ZjE2N2QxNGE0NmFjM2YyMTg2MjZiYTU3NTciIHN0eWxlPSJ3aWR0aDogMTAwLjAlOyBoZWlnaHQ6IDEwMC4wJTsiPkV4Y2VsbGVuc2VhIFJlc3RhdXJhbnQsIENsdXN0ZXIgNDwvZGl2PicpWzBdOwogICAgICAgICAgICAgICAgcG9wdXBfNWU5ZTI0NTUzMzI3NDlhMjk5OWFlMDFlYjRmM2U5ZjEuc2V0Q29udGVudChodG1sXzYyNWZjNmYxNjdkMTRhNDZhYzNmMjE4NjI2YmE1NzU3KTsKICAgICAgICAgICAgCgogICAgICAgICAgICBjaXJjbGVfbWFya2VyXzVjM2NmOGRhZWNiZDQ3YWM5MDAyZmM4ZTZmNDM1MzAxLmJpbmRQb3B1cChwb3B1cF81ZTllMjQ1NTMzMjc0OWEyOTk5YWUwMWViNGYzZTlmMSk7CgogICAgICAgICAgICAKICAgICAgICAKICAgIAogICAgICAgICAgICB2YXIgY2lyY2xlX21hcmtlcl9mNjkxMTgyOTUwN2M0NzM0YTJiZTM0MzRlZTc4YzkyNyA9IEwuY2lyY2xlTWFya2VyKAogICAgICAgICAgICAgICAgWzE4LjkzNzg3NjA2NTQ4NzUzNiw3Mi44MzEwMDQ3OTgyNTU3NV0sCiAgICAgICAgICAgICAgICB7CiAgImJ1YmJsaW5nTW91c2VFdmVudHMiOiB0cnVlLAogICJjb2xvciI6ICIjZmZiMzYwIiwKICAiZGFzaEFycmF5IjogbnVsbCwKICAiZGFzaE9mZnNldCI6IG51bGwsCiAgImZpbGwiOiB0cnVlLAogICJmaWxsQ29sb3IiOiAieWVsbG93IiwKICAiZmlsbE9wYWNpdHkiOiAwLjcsCiAgImZpbGxSdWxlIjogImV2ZW5vZGQiLAogICJsaW5lQ2FwIjogInJvdW5kIiwKICAibGluZUpvaW4iOiAicm91bmQiLAogICJvcGFjaXR5IjogMS4wLAogICJyYWRpdXMiOiA1LAogICJzdHJva2UiOiB0cnVlLAogICJ3ZWlnaHQiOiAzCn0KICAgICAgICAgICAgICAgICkuYWRkVG8obWFwXzdiMTVlMDI5OWY1YzRmZGI4ZjdiYTEwYjA4M2NlNTIxKTsKICAgICAgICAgICAgCiAgICAKICAgICAgICAgICAgdmFyIHBvcHVwXzUwOGRjNmJlN2ZiOTQ2OGZiOTBkZGUxNzU1MDRlYjJhID0gTC5wb3B1cCh7bWF4V2lkdGg6ICczMDAnfSk7CgogICAgICAgICAgICAKICAgICAgICAgICAgICAgIHZhciBodG1sXzlkNTBiNmEzZjllYzQxNWZhYzdhOGY2NjYwZmRlNmQ2ID0gJCgnPGRpdiBpZD0iaHRtbF85ZDUwYjZhM2Y5ZWM0MTVmYWM3YThmNjY2MGZkZTZkNiIgc3R5bGU9IndpZHRoOiAxMDAuMCU7IGhlaWdodDogMTAwLjAlOyI+Um95YWwgQ2hpbmEgUmVzdGF1cmFudCwgQ2x1c3RlciA0PC9kaXY+JylbMF07CiAgICAgICAgICAgICAgICBwb3B1cF81MDhkYzZiZTdmYjk0NjhmYjkwZGRlMTc1NTA0ZWIyYS5zZXRDb250ZW50KGh0bWxfOWQ1MGI2YTNmOWVjNDE1ZmFjN2E4ZjY2NjBmZGU2ZDYpOwogICAgICAgICAgICAKCiAgICAgICAgICAgIGNpcmNsZV9tYXJrZXJfZjY5MTE4Mjk1MDdjNDczNGEyYmUzNDM0ZWU3OGM5MjcuYmluZFBvcHVwKHBvcHVwXzUwOGRjNmJlN2ZiOTQ2OGZiOTBkZGUxNzU1MDRlYjJhKTsKCiAgICAgICAgICAgIAogICAgICAgIAogICAgCiAgICAgICAgICAgIHZhciBjaXJjbGVfbWFya2VyXzcyZmEyMTI4MDA0NTRjNTliY2U5MjM1OWE5NWIxOGY3ID0gTC5jaXJjbGVNYXJrZXIoCiAgICAgICAgICAgICAgICBbMTguOTM2NDk3LDcyLjgzNzU4Nl0sCiAgICAgICAgICAgICAgICB7CiAgImJ1YmJsaW5nTW91c2VFdmVudHMiOiB0cnVlLAogICJjb2xvciI6ICIjZmZiMzYwIiwKICAiZGFzaEFycmF5IjogbnVsbCwKICAiZGFzaE9mZnNldCI6IG51bGwsCiAgImZpbGwiOiB0cnVlLAogICJmaWxsQ29sb3IiOiAieWVsbG93IiwKICAiZmlsbE9wYWNpdHkiOiAwLjcsCiAgImZpbGxSdWxlIjogImV2ZW5vZGQiLAogICJsaW5lQ2FwIjogInJvdW5kIiwKICAibGluZUpvaW4iOiAicm91bmQiLAogICJvcGFjaXR5IjogMS4wLAogICJyYWRpdXMiOiA1LAogICJzdHJva2UiOiB0cnVlLAogICJ3ZWlnaHQiOiAzCn0KICAgICAgICAgICAgICAgICkuYWRkVG8obWFwXzdiMTVlMDI5OWY1YzRmZGI4ZjdiYTEwYjA4M2NlNTIxKTsKICAgICAgICAgICAgCiAgICAKICAgICAgICAgICAgdmFyIHBvcHVwXzc0Yjc1NzI3MGJmOTQwZDFiMDg3NWMyZGY4ZThiNjUyID0gTC5wb3B1cCh7bWF4V2lkdGg6ICczMDAnfSk7CgogICAgICAgICAgICAKICAgICAgICAgICAgICAgIHZhciBodG1sXzc2YTJhYzIwY2YzNTRlYTZiN2Q3MGJjYjlkMGZlNWQ0ID0gJCgnPGRpdiBpZD0iaHRtbF83NmEyYWMyMGNmMzU0ZWE2YjdkNzBiY2I5ZDBmZTVkNCIgc3R5bGU9IndpZHRoOiAxMDAuMCU7IGhlaWdodDogMTAwLjAlOyI+QW51YmhhdiBSZXN0YXVyYW50ICYgQmFyLCBDbHVzdGVyIDQ8L2Rpdj4nKVswXTsKICAgICAgICAgICAgICAgIHBvcHVwXzc0Yjc1NzI3MGJmOTQwZDFiMDg3NWMyZGY4ZThiNjUyLnNldENvbnRlbnQoaHRtbF83NmEyYWMyMGNmMzU0ZWE2YjdkNzBiY2I5ZDBmZTVkNCk7CiAgICAgICAgICAgIAoKICAgICAgICAgICAgY2lyY2xlX21hcmtlcl83MmZhMjEyODAwNDU0YzU5YmNlOTIzNTlhOTViMThmNy5iaW5kUG9wdXAocG9wdXBfNzRiNzU3MjcwYmY5NDBkMWIwODc1YzJkZjhlOGI2NTIpOwoKICAgICAgICAgICAgCiAgICAgICAgCiAgICAKICAgICAgICAgICAgdmFyIGNpcmNsZV9tYXJrZXJfMzYzMTk5ZjhlODBjNDliMmI3NmI0MDNlMTIzZGM5ZDIgPSBMLmNpcmNsZU1hcmtlcigKICAgICAgICAgICAgICAgIFsxOC45MzUwMDcwOTUzMzY5MTQsNzIuODMzNjg2ODI4NjEzMjhdLAogICAgICAgICAgICAgICAgewogICJidWJibGluZ01vdXNlRXZlbnRzIjogdHJ1ZSwKICAiY29sb3IiOiAiIzgwMDBmZiIsCiAgImRhc2hBcnJheSI6IG51bGwsCiAgImRhc2hPZmZzZXQiOiBudWxsLAogICJmaWxsIjogdHJ1ZSwKICAiZmlsbENvbG9yIjogInllbGxvdyIsCiAgImZpbGxPcGFjaXR5IjogMC43LAogICJmaWxsUnVsZSI6ICJldmVub2RkIiwKICAibGluZUNhcCI6ICJyb3VuZCIsCiAgImxpbmVKb2luIjogInJvdW5kIiwKICAib3BhY2l0eSI6IDEuMCwKICAicmFkaXVzIjogNSwKICAic3Ryb2tlIjogdHJ1ZSwKICAid2VpZ2h0IjogMwp9CiAgICAgICAgICAgICAgICApLmFkZFRvKG1hcF83YjE1ZTAyOTlmNWM0ZmRiOGY3YmExMGIwODNjZTUyMSk7CiAgICAgICAgICAgIAogICAgCiAgICAgICAgICAgIHZhciBwb3B1cF9iMjIxMjRmZGEwMmM0MWE3YTlkZmY3MDE4ZGRjZDljNiA9IEwucG9wdXAoe21heFdpZHRoOiAnMzAwJ30pOwoKICAgICAgICAgICAgCiAgICAgICAgICAgICAgICB2YXIgaHRtbF83MzFlNGQ1Y2I4NjY0ZWVhYjUyNDY5NGE5OTA4NGViYyA9ICQoJzxkaXYgaWQ9Imh0bWxfNzMxZTRkNWNiODY2NGVlYWI1MjQ2OTRhOTkwODRlYmMiIHN0eWxlPSJ3aWR0aDogMTAwLjAlOyBoZWlnaHQ6IDEwMC4wJTsiPkJyaWdodG9uIFJlc3RhdXJhbnQsIENsdXN0ZXIgMTwvZGl2PicpWzBdOwogICAgICAgICAgICAgICAgcG9wdXBfYjIyMTI0ZmRhMDJjNDFhN2E5ZGZmNzAxOGRkY2Q5YzYuc2V0Q29udGVudChodG1sXzczMWU0ZDVjYjg2NjRlZWFiNTI0Njk0YTk5MDg0ZWJjKTsKICAgICAgICAgICAgCgogICAgICAgICAgICBjaXJjbGVfbWFya2VyXzM2MzE5OWY4ZTgwYzQ5YjJiNzZiNDAzZTEyM2RjOWQyLmJpbmRQb3B1cChwb3B1cF9iMjIxMjRmZGEwMmM0MWE3YTlkZmY3MDE4ZGRjZDljNik7CgogICAgICAgICAgICAKICAgICAgICAKICAgIAogICAgICAgICAgICB2YXIgY2lyY2xlX21hcmtlcl8yY2NlYTQxMGVlZjE0NmVkYWQ0ZDAzZTRmNGY1MDk5YiA9IEwuY2lyY2xlTWFya2VyKAogICAgICAgICAgICAgICAgWzE4LjkzMTMzMDQ5NTI4ODkwOCw3Mi44MzQ5ODM0MTM2OTE3NV0sCiAgICAgICAgICAgICAgICB7CiAgImJ1YmJsaW5nTW91c2VFdmVudHMiOiB0cnVlLAogICJjb2xvciI6ICIjODAwMGZmIiwKICAiZGFzaEFycmF5IjogbnVsbCwKICAiZGFzaE9mZnNldCI6IG51bGwsCiAgImZpbGwiOiB0cnVlLAogICJmaWxsQ29sb3IiOiAieWVsbG93IiwKICAiZmlsbE9wYWNpdHkiOiAwLjcsCiAgImZpbGxSdWxlIjogImV2ZW5vZGQiLAogICJsaW5lQ2FwIjogInJvdW5kIiwKICAibGluZUpvaW4iOiAicm91bmQiLAogICJvcGFjaXR5IjogMS4wLAogICJyYWRpdXMiOiA1LAogICJzdHJva2UiOiB0cnVlLAogICJ3ZWlnaHQiOiAzCn0KICAgICAgICAgICAgICAgICkuYWRkVG8obWFwXzdiMTVlMDI5OWY1YzRmZGI4ZjdiYTEwYjA4M2NlNTIxKTsKICAgICAgICAgICAgCiAgICAKICAgICAgICAgICAgdmFyIHBvcHVwX2I0YTYzZTZkODI2MTRhZjM4MTkwYzJiMjUxZDZmNjBjID0gTC5wb3B1cCh7bWF4V2lkdGg6ICczMDAnfSk7CgogICAgICAgICAgICAKICAgICAgICAgICAgICAgIHZhciBodG1sXzExYjBlYjJhNWIxYTRlZDdiMGEwZTZhNTViZTQ3ZjU0ID0gJCgnPGRpdiBpZD0iaHRtbF8xMWIwZWIyYTViMWE0ZWQ3YjBhMGU2YTU1YmU0N2Y1NCIgc3R5bGU9IndpZHRoOiAxMDAuMCU7IGhlaWdodDogMTAwLjAlOyI+QmFkZW1peWEgVGhlIEthYmFiIFJlc3RhdXJhbnQsIENsdXN0ZXIgMTwvZGl2PicpWzBdOwogICAgICAgICAgICAgICAgcG9wdXBfYjRhNjNlNmQ4MjYxNGFmMzgxOTBjMmIyNTFkNmY2MGMuc2V0Q29udGVudChodG1sXzExYjBlYjJhNWIxYTRlZDdiMGEwZTZhNTViZTQ3ZjU0KTsKICAgICAgICAgICAgCgogICAgICAgICAgICBjaXJjbGVfbWFya2VyXzJjY2VhNDEwZWVmMTQ2ZWRhZDRkMDNlNGY0ZjUwOTliLmJpbmRQb3B1cChwb3B1cF9iNGE2M2U2ZDgyNjE0YWYzODE5MGMyYjI1MWQ2ZjYwYyk7CgogICAgICAgICAgICAKICAgICAgICAKICAgIAogICAgICAgICAgICB2YXIgY2lyY2xlX21hcmtlcl9lMzQ4MGNiZTEyOGQ0OGJkYjI3ZWU4NTE3YTlhYmNiMiA9IEwuY2lyY2xlTWFya2VyKAogICAgICAgICAgICAgICAgWzE4LjkzNTU3ODAxOTYxNzc3Miw3Mi44MzczNTc0NTM4MjkxOF0sCiAgICAgICAgICAgICAgICB7CiAgImJ1YmJsaW5nTW91c2VFdmVudHMiOiB0cnVlLAogICJjb2xvciI6ICIjZmZiMzYwIiwKICAiZGFzaEFycmF5IjogbnVsbCwKICAiZGFzaE9mZnNldCI6IG51bGwsCiAgImZpbGwiOiB0cnVlLAogICJmaWxsQ29sb3IiOiAieWVsbG93IiwKICAiZmlsbE9wYWNpdHkiOiAwLjcsCiAgImZpbGxSdWxlIjogImV2ZW5vZGQiLAogICJsaW5lQ2FwIjogInJvdW5kIiwKICAibGluZUpvaW4iOiAicm91bmQiLAogICJvcGFjaXR5IjogMS4wLAogICJyYWRpdXMiOiA1LAogICJzdHJva2UiOiB0cnVlLAogICJ3ZWlnaHQiOiAzCn0KICAgICAgICAgICAgICAgICkuYWRkVG8obWFwXzdiMTVlMDI5OWY1YzRmZGI4ZjdiYTEwYjA4M2NlNTIxKTsKICAgICAgICAgICAgCiAgICAKICAgICAgICAgICAgdmFyIHBvcHVwX2QzYjI3ZmNkNGJiZjQ3NzhhMDRjM2Y3NDI1YzY3Yjg5ID0gTC5wb3B1cCh7bWF4V2lkdGg6ICczMDAnfSk7CgogICAgICAgICAgICAKICAgICAgICAgICAgICAgIHZhciBodG1sXzVmOWQzNDA0MmZmODQ0ZTNhNTM5ZDBmOWQxMGU0MDc4ID0gJCgnPGRpdiBpZD0iaHRtbF81ZjlkMzQwNDJmZjg0NGUzYTUzOWQwZjlkMTBlNDA3OCIgc3R5bGU9IndpZHRoOiAxMDAuMCU7IGhlaWdodDogMTAwLjAlOyI+R29vZGx1Y2sgUmVzdGF1cmFudCwgQ2x1c3RlciA0PC9kaXY+JylbMF07CiAgICAgICAgICAgICAgICBwb3B1cF9kM2IyN2ZjZDRiYmY0Nzc4YTA0YzNmNzQyNWM2N2I4OS5zZXRDb250ZW50KGh0bWxfNWY5ZDM0MDQyZmY4NDRlM2E1MzlkMGY5ZDEwZTQwNzgpOwogICAgICAgICAgICAKCiAgICAgICAgICAgIGNpcmNsZV9tYXJrZXJfZTM0ODBjYmUxMjhkNDhiZGIyN2VlODUxN2E5YWJjYjIuYmluZFBvcHVwKHBvcHVwX2QzYjI3ZmNkNGJiZjQ3NzhhMDRjM2Y3NDI1YzY3Yjg5KTsKCiAgICAgICAgICAgIAogICAgICAgIAogICAgCiAgICAgICAgICAgIHZhciBjaXJjbGVfbWFya2VyXzI0YzFjNTE3ODE0YzRiNTBhMzFkNTlmYjhlMGVjNmVmID0gTC5jaXJjbGVNYXJrZXIoCiAgICAgICAgICAgICAgICBbMTguOTM1MDM5NTk2MjAxMTcsNzIuODM2OTQwODM5MTczNjldLAogICAgICAgICAgICAgICAgewogICJidWJibGluZ01vdXNlRXZlbnRzIjogdHJ1ZSwKICAiY29sb3IiOiAiI2ZmYjM2MCIsCiAgImRhc2hBcnJheSI6IG51bGwsCiAgImRhc2hPZmZzZXQiOiBudWxsLAogICJmaWxsIjogdHJ1ZSwKICAiZmlsbENvbG9yIjogInllbGxvdyIsCiAgImZpbGxPcGFjaXR5IjogMC43LAogICJmaWxsUnVsZSI6ICJldmVub2RkIiwKICAibGluZUNhcCI6ICJyb3VuZCIsCiAgImxpbmVKb2luIjogInJvdW5kIiwKICAib3BhY2l0eSI6IDEuMCwKICAicmFkaXVzIjogNSwKICAic3Ryb2tlIjogdHJ1ZSwKICAid2VpZ2h0IjogMwp9CiAgICAgICAgICAgICAgICApLmFkZFRvKG1hcF83YjE1ZTAyOTlmNWM0ZmRiOGY3YmExMGIwODNjZTUyMSk7CiAgICAgICAgICAgIAogICAgCiAgICAgICAgICAgIHZhciBwb3B1cF8zNmIzNzQ1MDJjZTU0YTI0YTBjN2NiOGIxM2QwMjM5ZCA9IEwucG9wdXAoe21heFdpZHRoOiAnMzAwJ30pOwoKICAgICAgICAgICAgCiAgICAgICAgICAgICAgICB2YXIgaHRtbF8wNjAyOWNjODM3ZGM0NzVlOWNiYmUzNGVkNjhlYjU3NyA9ICQoJzxkaXYgaWQ9Imh0bWxfMDYwMjljYzgzN2RjNDc1ZTljYmJlMzRlZDY4ZWI1NzciIHN0eWxlPSJ3aWR0aDogMTAwLjAlOyBoZWlnaHQ6IDEwMC4wJTsiPktheWFuaSBSZXN0YXVyYW50LCBDbHVzdGVyIDQ8L2Rpdj4nKVswXTsKICAgICAgICAgICAgICAgIHBvcHVwXzM2YjM3NDUwMmNlNTRhMjRhMGM3Y2I4YjEzZDAyMzlkLnNldENvbnRlbnQoaHRtbF8wNjAyOWNjODM3ZGM0NzVlOWNiYmUzNGVkNjhlYjU3Nyk7CiAgICAgICAgICAgIAoKICAgICAgICAgICAgY2lyY2xlX21hcmtlcl8yNGMxYzUxNzgxNGM0YjUwYTMxZDU5ZmI4ZTBlYzZlZi5iaW5kUG9wdXAocG9wdXBfMzZiMzc0NTAyY2U1NGEyNGEwYzdjYjhiMTNkMDIzOWQpOwoKICAgICAgICAgICAgCiAgICAgICAgCiAgICAKICAgICAgICAgICAgdmFyIGNpcmNsZV9tYXJrZXJfMWI5YTIxODAyNGZhNDFhNWE4MjQ1Yjc2ZWZjOTE3MzcgPSBMLmNpcmNsZU1hcmtlcigKICAgICAgICAgICAgICAgIFsxOC45MzI5NDg0NTUxMTczMiw3Mi44MjYxMjY4MTM4ODg1NV0sCiAgICAgICAgICAgICAgICB7CiAgImJ1YmJsaW5nTW91c2VFdmVudHMiOiB0cnVlLAogICJjb2xvciI6ICIjZmYwMDAwIiwKICAiZGFzaEFycmF5IjogbnVsbCwKICAiZGFzaE9mZnNldCI6IG51bGwsCiAgImZpbGwiOiB0cnVlLAogICJmaWxsQ29sb3IiOiAieWVsbG93IiwKICAiZmlsbE9wYWNpdHkiOiAwLjcsCiAgImZpbGxSdWxlIjogImV2ZW5vZGQiLAogICJsaW5lQ2FwIjogInJvdW5kIiwKICAibGluZUpvaW4iOiAicm91bmQiLAogICJvcGFjaXR5IjogMS4wLAogICJyYWRpdXMiOiA1LAogICJzdHJva2UiOiB0cnVlLAogICJ3ZWlnaHQiOiAzCn0KICAgICAgICAgICAgICAgICkuYWRkVG8obWFwXzdiMTVlMDI5OWY1YzRmZGI4ZjdiYTEwYjA4M2NlNTIxKTsKICAgICAgICAgICAgCiAgICAKICAgICAgICAgICAgdmFyIHBvcHVwXzk5MWEzYTA4ZjBiMTQ5NDZiZjcyMTcwZThjOWRjYzM2ID0gTC5wb3B1cCh7bWF4V2lkdGg6ICczMDAnfSk7CgogICAgICAgICAgICAKICAgICAgICAgICAgICAgIHZhciBodG1sX2FkNTM4NzU2NjJkYzRhMmJhZTRmYzYxNDhmMDE1MTE2ID0gJCgnPGRpdiBpZD0iaHRtbF9hZDUzODc1NjYyZGM0YTJiYWU0ZmM2MTQ4ZjAxNTExNiIgc3R5bGU9IndpZHRoOiAxMDAuMCU7IGhlaWdodDogMTAwLjAlOyI+R2F5bG9yZCBSZXN0YXVyYW50LCBDbHVzdGVyIDA8L2Rpdj4nKVswXTsKICAgICAgICAgICAgICAgIHBvcHVwXzk5MWEzYTA4ZjBiMTQ5NDZiZjcyMTcwZThjOWRjYzM2LnNldENvbnRlbnQoaHRtbF9hZDUzODc1NjYyZGM0YTJiYWU0ZmM2MTQ4ZjAxNTExNik7CiAgICAgICAgICAgIAoKICAgICAgICAgICAgY2lyY2xlX21hcmtlcl8xYjlhMjE4MDI0ZmE0MWE1YTgyNDViNzZlZmM5MTczNy5iaW5kUG9wdXAocG9wdXBfOTkxYTNhMDhmMGIxNDk0NmJmNzIxNzBlOGM5ZGNjMzYpOwoKICAgICAgICAgICAgCiAgICAgICAgCiAgICAKICAgICAgICAgICAgdmFyIGNpcmNsZV9tYXJrZXJfMjE2MWUwNGY1NTVkNDllODkyMDE1ZWNmZDQ2MzQwMGUgPSBMLmNpcmNsZU1hcmtlcigKICAgICAgICAgICAgICAgIFsxOC45MzM5NzA5MjgxOTE1ODgsNzIuODMzNjA0ODEyNjE5OTVdLAogICAgICAgICAgICAgICAgewogICJidWJibGluZ01vdXNlRXZlbnRzIjogdHJ1ZSwKICAiY29sb3IiOiAiIzgwMDBmZiIsCiAgImRhc2hBcnJheSI6IG51bGwsCiAgImRhc2hPZmZzZXQiOiBudWxsLAogICJmaWxsIjogdHJ1ZSwKICAiZmlsbENvbG9yIjogInllbGxvdyIsCiAgImZpbGxPcGFjaXR5IjogMC43LAogICJmaWxsUnVsZSI6ICJldmVub2RkIiwKICAibGluZUNhcCI6ICJyb3VuZCIsCiAgImxpbmVKb2luIjogInJvdW5kIiwKICAib3BhY2l0eSI6IDEuMCwKICAicmFkaXVzIjogNSwKICAic3Ryb2tlIjogdHJ1ZSwKICAid2VpZ2h0IjogMwp9CiAgICAgICAgICAgICAgICApLmFkZFRvKG1hcF83YjE1ZTAyOTlmNWM0ZmRiOGY3YmExMGIwODNjZTUyMSk7CiAgICAgICAgICAgIAogICAgCiAgICAgICAgICAgIHZhciBwb3B1cF9lYTUwY2U4MmVlODk0ZGM4YTA0MTE1ZGY4NWY2ZDllYSA9IEwucG9wdXAoe21heFdpZHRoOiAnMzAwJ30pOwoKICAgICAgICAgICAgCiAgICAgICAgICAgICAgICB2YXIgaHRtbF80ZjAxNTM2NzVhZTM0MmRkYjgzM2ViYzMyNTE3ODBjOCA9ICQoJzxkaXYgaWQ9Imh0bWxfNGYwMTUzNjc1YWUzNDJkZGI4MzNlYmMzMjUxNzgwYzgiIHN0eWxlPSJ3aWR0aDogMTAwLjAlOyBoZWlnaHQ6IDEwMC4wJTsiPkZvcnQgcmVzdGF1cmFudCwgQ2x1c3RlciAxPC9kaXY+JylbMF07CiAgICAgICAgICAgICAgICBwb3B1cF9lYTUwY2U4MmVlODk0ZGM4YTA0MTE1ZGY4NWY2ZDllYS5zZXRDb250ZW50KGh0bWxfNGYwMTUzNjc1YWUzNDJkZGI4MzNlYmMzMjUxNzgwYzgpOwogICAgICAgICAgICAKCiAgICAgICAgICAgIGNpcmNsZV9tYXJrZXJfMjE2MWUwNGY1NTVkNDllODkyMDE1ZWNmZDQ2MzQwMGUuYmluZFBvcHVwKHBvcHVwX2VhNTBjZTgyZWU4OTRkYzhhMDQxMTVkZjg1ZjZkOWVhKTsKCiAgICAgICAgICAgIAogICAgICAgIAogICAgCiAgICAgICAgICAgIHZhciBjaXJjbGVfbWFya2VyXzRjMDE5ODQ1Zjk3YzQ1Yzc5ODI5M2JhNGFlMjdmMzY5ID0gTC5jaXJjbGVNYXJrZXIoCiAgICAgICAgICAgICAgICBbMTguOTM4Mzg4ODI0NDYyODksNzIuODMwMDMyMzQ4NjMyODFdLAogICAgICAgICAgICAgICAgewogICJidWJibGluZ01vdXNlRXZlbnRzIjogdHJ1ZSwKICAiY29sb3IiOiAiI2ZmMDAwMCIsCiAgImRhc2hBcnJheSI6IG51bGwsCiAgImRhc2hPZmZzZXQiOiBudWxsLAogICJmaWxsIjogdHJ1ZSwKICAiZmlsbENvbG9yIjogInllbGxvdyIsCiAgImZpbGxPcGFjaXR5IjogMC43LAogICJmaWxsUnVsZSI6ICJldmVub2RkIiwKICAibGluZUNhcCI6ICJyb3VuZCIsCiAgImxpbmVKb2luIjogInJvdW5kIiwKICAib3BhY2l0eSI6IDEuMCwKICAicmFkaXVzIjogNSwKICAic3Ryb2tlIjogdHJ1ZSwKICAid2VpZ2h0IjogMwp9CiAgICAgICAgICAgICAgICApLmFkZFRvKG1hcF83YjE1ZTAyOTlmNWM0ZmRiOGY3YmExMGIwODNjZTUyMSk7CiAgICAgICAgICAgIAogICAgCiAgICAgICAgICAgIHZhciBwb3B1cF84NzM2MTFmMDIzZmE0YzI4OGU0MjkyNDI5MDg4NjQ4MyA9IEwucG9wdXAoe21heFdpZHRoOiAnMzAwJ30pOwoKICAgICAgICAgICAgCiAgICAgICAgICAgICAgICB2YXIgaHRtbF8wMDRhY2VkZGZmYzU0MTJmYjkwNGVmNjFhNzc5ZjJjMyA9ICQoJzxkaXYgaWQ9Imh0bWxfMDA0YWNlZGRmZmM1NDEyZmI5MDRlZjYxYTc3OWYyYzMiIHN0eWxlPSJ3aWR0aDogMTAwLjAlOyBoZWlnaHQ6IDEwMC4wJTsiPmJhbGFqaSByZXN0YXVyYW50LCBDbHVzdGVyIDA8L2Rpdj4nKVswXTsKICAgICAgICAgICAgICAgIHBvcHVwXzg3MzYxMWYwMjNmYTRjMjg4ZTQyOTI0MjkwODg2NDgzLnNldENvbnRlbnQoaHRtbF8wMDRhY2VkZGZmYzU0MTJmYjkwNGVmNjFhNzc5ZjJjMyk7CiAgICAgICAgICAgIAoKICAgICAgICAgICAgY2lyY2xlX21hcmtlcl80YzAxOTg0NWY5N2M0NWM3OTgyOTNiYTRhZTI3ZjM2OS5iaW5kUG9wdXAocG9wdXBfODczNjExZjAyM2ZhNGMyODhlNDI5MjQyOTA4ODY0ODMpOwoKICAgICAgICAgICAgCiAgICAgICAgCiAgICAKICAgICAgICAgICAgdmFyIGNpcmNsZV9tYXJrZXJfMDM1YTc0MDZmZWIzNDUyNzkzMjg2ZWZkZTgyMTIwMzIgPSBMLmNpcmNsZU1hcmtlcigKICAgICAgICAgICAgICAgIFsxOC45MzUxMTE5NjAzNDIzOTMsNzIuODM2ODk1ODY3NzIxODZdLAogICAgICAgICAgICAgICAgewogICJidWJibGluZ01vdXNlRXZlbnRzIjogdHJ1ZSwKICAiY29sb3IiOiAiI2ZmYjM2MCIsCiAgImRhc2hBcnJheSI6IG51bGwsCiAgImRhc2hPZmZzZXQiOiBudWxsLAogICJmaWxsIjogdHJ1ZSwKICAiZmlsbENvbG9yIjogInllbGxvdyIsCiAgImZpbGxPcGFjaXR5IjogMC43LAogICJmaWxsUnVsZSI6ICJldmVub2RkIiwKICAibGluZUNhcCI6ICJyb3VuZCIsCiAgImxpbmVKb2luIjogInJvdW5kIiwKICAib3BhY2l0eSI6IDEuMCwKICAicmFkaXVzIjogNSwKICAic3Ryb2tlIjogdHJ1ZSwKICAid2VpZ2h0IjogMwp9CiAgICAgICAgICAgICAgICApLmFkZFRvKG1hcF83YjE1ZTAyOTlmNWM0ZmRiOGY3YmExMGIwODNjZTUyMSk7CiAgICAgICAgICAgIAogICAgCiAgICAgICAgICAgIHZhciBwb3B1cF83YTFkMGRiOWI0YjI0M2FkYjUxMWYzYWQ2ZDhlOWU2NSA9IEwucG9wdXAoe21heFdpZHRoOiAnMzAwJ30pOwoKICAgICAgICAgICAgCiAgICAgICAgICAgICAgICB2YXIgaHRtbF9lNzlhYjAwZmY1M2M0M2NlOTU4Zjg2ODNmZDkzODYwMSA9ICQoJzxkaXYgaWQ9Imh0bWxfZTc5YWIwMGZmNTNjNDNjZTk1OGY4NjgzZmQ5Mzg2MDEiIHN0eWxlPSJ3aWR0aDogMTAwLjAlOyBoZWlnaHQ6IDEwMC4wJTsiPk5hdGlvbmFsIFJlc3RhdXJhbnQsIENsdXN0ZXIgNDwvZGl2PicpWzBdOwogICAgICAgICAgICAgICAgcG9wdXBfN2ExZDBkYjliNGIyNDNhZGI1MTFmM2FkNmQ4ZTllNjUuc2V0Q29udGVudChodG1sX2U3OWFiMDBmZjUzYzQzY2U5NThmODY4M2ZkOTM4NjAxKTsKICAgICAgICAgICAgCgogICAgICAgICAgICBjaXJjbGVfbWFya2VyXzAzNWE3NDA2ZmViMzQ1Mjc5MzI4NmVmZGU4MjEyMDMyLmJpbmRQb3B1cChwb3B1cF83YTFkMGRiOWI0YjI0M2FkYjUxMWYzYWQ2ZDhlOWU2NSk7CgogICAgICAgICAgICAKICAgICAgICAKICAgIAogICAgICAgICAgICB2YXIgY2lyY2xlX21hcmtlcl9jNDc5N2ZkOGZhM2E0ZGRjYjcyZjZiYzI0YTlhYjQwOCA9IEwuY2lyY2xlTWFya2VyKAogICAgICAgICAgICAgICAgWzE4LjkzMTM2NjE0Nzc5MDM0LDcyLjgzMTQ2MTcxMjY0MDkzXSwKICAgICAgICAgICAgICAgIHsKICAiYnViYmxpbmdNb3VzZUV2ZW50cyI6IHRydWUsCiAgImNvbG9yIjogIiM4MDAwZmYiLAogICJkYXNoQXJyYXkiOiBudWxsLAogICJkYXNoT2Zmc2V0IjogbnVsbCwKICAiZmlsbCI6IHRydWUsCiAgImZpbGxDb2xvciI6ICJ5ZWxsb3ciLAogICJmaWxsT3BhY2l0eSI6IDAuNywKICAiZmlsbFJ1bGUiOiAiZXZlbm9kZCIsCiAgImxpbmVDYXAiOiAicm91bmQiLAogICJsaW5lSm9pbiI6ICJyb3VuZCIsCiAgIm9wYWNpdHkiOiAxLjAsCiAgInJhZGl1cyI6IDUsCiAgInN0cm9rZSI6IHRydWUsCiAgIndlaWdodCI6IDMKfQogICAgICAgICAgICAgICAgKS5hZGRUbyhtYXBfN2IxNWUwMjk5ZjVjNGZkYjhmN2JhMTBiMDgzY2U1MjEpOwogICAgICAgICAgICAKICAgIAogICAgICAgICAgICB2YXIgcG9wdXBfMDllNTlhNGU4MGNkNDE2YmI4NjZkOGY1ZjYzOTVkNTcgPSBMLnBvcHVwKHttYXhXaWR0aDogJzMwMCd9KTsKCiAgICAgICAgICAgIAogICAgICAgICAgICAgICAgdmFyIGh0bWxfMzE5Y2M5ZmVkZmM5NGI5ZDg4OTdhYTM4MWFkYmIzMGMgPSAkKCc8ZGl2IGlkPSJodG1sXzMxOWNjOWZlZGZjOTRiOWQ4ODk3YWEzODFhZGJiMzBjIiBzdHlsZT0id2lkdGg6IDEwMC4wJTsgaGVpZ2h0OiAxMDAuMCU7Ij5Gb3VudGFpbiBTaXp6bGVycyBSZXN0YXVyYW50LCBDbHVzdGVyIDE8L2Rpdj4nKVswXTsKICAgICAgICAgICAgICAgIHBvcHVwXzA5ZTU5YTRlODBjZDQxNmJiODY2ZDhmNWY2Mzk1ZDU3LnNldENvbnRlbnQoaHRtbF8zMTljYzlmZWRmYzk0YjlkODg5N2FhMzgxYWRiYjMwYyk7CiAgICAgICAgICAgIAoKICAgICAgICAgICAgY2lyY2xlX21hcmtlcl9jNDc5N2ZkOGZhM2E0ZGRjYjcyZjZiYzI0YTlhYjQwOC5iaW5kUG9wdXAocG9wdXBfMDllNTlhNGU4MGNkNDE2YmI4NjZkOGY1ZjYzOTVkNTcpOwoKICAgICAgICAgICAgCiAgICAgICAgCiAgICAKICAgICAgICAgICAgdmFyIGNpcmNsZV9tYXJrZXJfMTFhODgwMTI4MDFjNGQ3YzkwNzMyNzFlNDRmZTIwNDcgPSBMLmNpcmNsZU1hcmtlcigKICAgICAgICAgICAgICAgIFsxOC45MzUwMDE5MTQ3NjMwNjcsNzIuODMzNzkwNzE2Nzc1OTRdLAogICAgICAgICAgICAgICAgewogICJidWJibGluZ01vdXNlRXZlbnRzIjogdHJ1ZSwKICAiY29sb3IiOiAiIzgwMDBmZiIsCiAgImRhc2hBcnJheSI6IG51bGwsCiAgImRhc2hPZmZzZXQiOiBudWxsLAogICJmaWxsIjogdHJ1ZSwKICAiZmlsbENvbG9yIjogInllbGxvdyIsCiAgImZpbGxPcGFjaXR5IjogMC43LAogICJmaWxsUnVsZSI6ICJldmVub2RkIiwKICAibGluZUNhcCI6ICJyb3VuZCIsCiAgImxpbmVKb2luIjogInJvdW5kIiwKICAib3BhY2l0eSI6IDEuMCwKICAicmFkaXVzIjogNSwKICAic3Ryb2tlIjogdHJ1ZSwKICAid2VpZ2h0IjogMwp9CiAgICAgICAgICAgICAgICApLmFkZFRvKG1hcF83YjE1ZTAyOTlmNWM0ZmRiOGY3YmExMGIwODNjZTUyMSk7CiAgICAgICAgICAgIAogICAgCiAgICAgICAgICAgIHZhciBwb3B1cF84OTIyNjFkZjA1M2Q0ZjUyYjRiOGFjMzg4MDA2M2E2MiA9IEwucG9wdXAoe21heFdpZHRoOiAnMzAwJ30pOwoKICAgICAgICAgICAgCiAgICAgICAgICAgICAgICB2YXIgaHRtbF8xOGQwYWVmMDRmOWI0MDAzOTNkYTdjYTBjODc5Mjk4ZSA9ICQoJzxkaXYgaWQ9Imh0bWxfMThkMGFlZjA0ZjliNDAwMzkzZGE3Y2EwYzg3OTI5OGUiIHN0eWxlPSJ3aWR0aDogMTAwLjAlOyBoZWlnaHQ6IDEwMC4wJTsiPkxhbGl0IHJlc3RhdXJhbnQsIENsdXN0ZXIgMTwvZGl2PicpWzBdOwogICAgICAgICAgICAgICAgcG9wdXBfODkyMjYxZGYwNTNkNGY1MmI0YjhhYzM4ODAwNjNhNjIuc2V0Q29udGVudChodG1sXzE4ZDBhZWYwNGY5YjQwMDM5M2RhN2NhMGM4NzkyOThlKTsKICAgICAgICAgICAgCgogICAgICAgICAgICBjaXJjbGVfbWFya2VyXzExYTg4MDEyODAxYzRkN2M5MDczMjcxZTQ0ZmUyMDQ3LmJpbmRQb3B1cChwb3B1cF84OTIyNjFkZjA1M2Q0ZjUyYjRiOGFjMzg4MDA2M2E2Mik7CgogICAgICAgICAgICAKICAgICAgICAKICAgIAogICAgICAgICAgICB2YXIgY2lyY2xlX21hcmtlcl81ODdhYjk5MWFmMzM0ZWJmODg5YzQwMDQxMjkzN2FiZCA9IEwuY2lyY2xlTWFya2VyKAogICAgICAgICAgICAgICAgWzE4LjkyODEzMzY1MDA3Nzc0Nyw3Mi44MzE1NDA2OTg0NTEzNV0sCiAgICAgICAgICAgICAgICB7CiAgImJ1YmJsaW5nTW91c2VFdmVudHMiOiB0cnVlLAogICJjb2xvciI6ICIjODAwMGZmIiwKICAiZGFzaEFycmF5IjogbnVsbCwKICAiZGFzaE9mZnNldCI6IG51bGwsCiAgImZpbGwiOiB0cnVlLAogICJmaWxsQ29sb3IiOiAieWVsbG93IiwKICAiZmlsbE9wYWNpdHkiOiAwLjcsCiAgImZpbGxSdWxlIjogImV2ZW5vZGQiLAogICJsaW5lQ2FwIjogInJvdW5kIiwKICAibGluZUpvaW4iOiAicm91bmQiLAogICJvcGFjaXR5IjogMS4wLAogICJyYWRpdXMiOiA1LAogICJzdHJva2UiOiB0cnVlLAogICJ3ZWlnaHQiOiAzCn0KICAgICAgICAgICAgICAgICkuYWRkVG8obWFwXzdiMTVlMDI5OWY1YzRmZGI4ZjdiYTEwYjA4M2NlNTIxKTsKICAgICAgICAgICAgCiAgICAKICAgICAgICAgICAgdmFyIHBvcHVwXzhhNWYzOTRiOWNkNjQ4ZDE4MWY0NTBiMmNhNDAzZTRhID0gTC5wb3B1cCh7bWF4V2lkdGg6ICczMDAnfSk7CgogICAgICAgICAgICAKICAgICAgICAgICAgICAgIHZhciBodG1sX2FhYjg2Njg5M2IzOTQzMTRiOGU2NWIyZTFiMWQ4ZWUzID0gJCgnPGRpdiBpZD0iaHRtbF9hYWI4NjY4OTNiMzk0MzE0YjhlNjViMmUxYjFkOGVlMyIgc3R5bGU9IndpZHRoOiAxMDAuMCU7IGhlaWdodDogMTAwLjAlOyI+S2h5YmVyIFJlc3RhdXJhbnQsIENsdXN0ZXIgMTwvZGl2PicpWzBdOwogICAgICAgICAgICAgICAgcG9wdXBfOGE1ZjM5NGI5Y2Q2NDhkMTgxZjQ1MGIyY2E0MDNlNGEuc2V0Q29udGVudChodG1sX2FhYjg2Njg5M2IzOTQzMTRiOGU2NWIyZTFiMWQ4ZWUzKTsKICAgICAgICAgICAgCgogICAgICAgICAgICBjaXJjbGVfbWFya2VyXzU4N2FiOTkxYWYzMzRlYmY4ODljNDAwNDEyOTM3YWJkLmJpbmRQb3B1cChwb3B1cF84YTVmMzk0YjljZDY0OGQxODFmNDUwYjJjYTQwM2U0YSk7CgogICAgICAgICAgICAKICAgICAgICAKICAgIAogICAgICAgICAgICB2YXIgY2lyY2xlX21hcmtlcl9mNDQxYTI3NmMwNzY0ZWExYjE4MWIzNWU5MTRkZGRkZiA9IEwuY2lyY2xlTWFya2VyKAogICAgICAgICAgICAgICAgWzE4Ljk0MjUzMTI3ODU4NTk1Nyw3Mi44MzEzMjc5MTY0MzA2NF0sCiAgICAgICAgICAgICAgICB7CiAgImJ1YmJsaW5nTW91c2VFdmVudHMiOiB0cnVlLAogICJjb2xvciI6ICIjODBmZmI0IiwKICAiZGFzaEFycmF5IjogbnVsbCwKICAiZGFzaE9mZnNldCI6IG51bGwsCiAgImZpbGwiOiB0cnVlLAogICJmaWxsQ29sb3IiOiAieWVsbG93IiwKICAiZmlsbE9wYWNpdHkiOiAwLjcsCiAgImZpbGxSdWxlIjogImV2ZW5vZGQiLAogICJsaW5lQ2FwIjogInJvdW5kIiwKICAibGluZUpvaW4iOiAicm91bmQiLAogICJvcGFjaXR5IjogMS4wLAogICJyYWRpdXMiOiA1LAogICJzdHJva2UiOiB0cnVlLAogICJ3ZWlnaHQiOiAzCn0KICAgICAgICAgICAgICAgICkuYWRkVG8obWFwXzdiMTVlMDI5OWY1YzRmZGI4ZjdiYTEwYjA4M2NlNTIxKTsKICAgICAgICAgICAgCiAgICAKICAgICAgICAgICAgdmFyIHBvcHVwX2EyNDgyNWUxYTg4ODQwNjc4YTVkYjJlN2ZjZmViMzU4ID0gTC5wb3B1cCh7bWF4V2lkdGg6ICczMDAnfSk7CgogICAgICAgICAgICAKICAgICAgICAgICAgICAgIHZhciBodG1sX2VmOTk3MzgzOTFkZTQwZmM5YTNjMjJjZDJkYzgzODM0ID0gJCgnPGRpdiBpZD0iaHRtbF9lZjk5NzM4MzkxZGU0MGZjOWEzYzIyY2QyZGM4MzgzNCIgc3R5bGU9IndpZHRoOiAxMDAuMCU7IGhlaWdodDogMTAwLjAlOyI+V2VsY29tZSBSZXN0YXVyYW50LCBDbHVzdGVyIDM8L2Rpdj4nKVswXTsKICAgICAgICAgICAgICAgIHBvcHVwX2EyNDgyNWUxYTg4ODQwNjc4YTVkYjJlN2ZjZmViMzU4LnNldENvbnRlbnQoaHRtbF9lZjk5NzM4MzkxZGU0MGZjOWEzYzIyY2QyZGM4MzgzNCk7CiAgICAgICAgICAgIAoKICAgICAgICAgICAgY2lyY2xlX21hcmtlcl9mNDQxYTI3NmMwNzY0ZWExYjE4MWIzNWU5MTRkZGRkZi5iaW5kUG9wdXAocG9wdXBfYTI0ODI1ZTFhODg4NDA2NzhhNWRiMmU3ZmNmZWIzNTgpOwoKICAgICAgICAgICAgCiAgICAgICAgCiAgICAKICAgICAgICAgICAgdmFyIGNpcmNsZV9tYXJrZXJfNWI0MGEyMzM3ZjI2NGU4MGEyMzFkNGZhMGNjZWEwNTAgPSBMLmNpcmNsZU1hcmtlcigKICAgICAgICAgICAgICAgIFsxOC45NDI1NzgwMDI3NTE1NjcsNzIuODI4NTMxODk3NTIwOTJdLAogICAgICAgICAgICAgICAgewogICJidWJibGluZ01vdXNlRXZlbnRzIjogdHJ1ZSwKICAiY29sb3IiOiAiIzgwZmZiNCIsCiAgImRhc2hBcnJheSI6IG51bGwsCiAgImRhc2hPZmZzZXQiOiBudWxsLAogICJmaWxsIjogdHJ1ZSwKICAiZmlsbENvbG9yIjogInllbGxvdyIsCiAgImZpbGxPcGFjaXR5IjogMC43LAogICJmaWxsUnVsZSI6ICJldmVub2RkIiwKICAibGluZUNhcCI6ICJyb3VuZCIsCiAgImxpbmVKb2luIjogInJvdW5kIiwKICAib3BhY2l0eSI6IDEuMCwKICAicmFkaXVzIjogNSwKICAic3Ryb2tlIjogdHJ1ZSwKICAid2VpZ2h0IjogMwp9CiAgICAgICAgICAgICAgICApLmFkZFRvKG1hcF83YjE1ZTAyOTlmNWM0ZmRiOGY3YmExMGIwODNjZTUyMSk7CiAgICAgICAgICAgIAogICAgCiAgICAgICAgICAgIHZhciBwb3B1cF9iZGRjMmEzNWJlNzA0Y2U0YWYwZDIzODc4YTQyN2VmOSA9IEwucG9wdXAoe21heFdpZHRoOiAnMzAwJ30pOwoKICAgICAgICAgICAgCiAgICAgICAgICAgICAgICB2YXIgaHRtbF82Y2JjZTZhOTdkMTI0YjZlOTJhZTExMDFhNzUwNTQyZiA9ICQoJzxkaXYgaWQ9Imh0bWxfNmNiY2U2YTk3ZDEyNGI2ZTkyYWUxMTAxYTc1MDU0MmYiIHN0eWxlPSJ3aWR0aDogMTAwLjAlOyBoZWlnaHQ6IDEwMC4wJTsiPktpdCBLYXQgLSBCYXIgJiBSZXN0YXVyYW50LCBDbHVzdGVyIDM8L2Rpdj4nKVswXTsKICAgICAgICAgICAgICAgIHBvcHVwX2JkZGMyYTM1YmU3MDRjZTRhZjBkMjM4NzhhNDI3ZWY5LnNldENvbnRlbnQoaHRtbF82Y2JjZTZhOTdkMTI0YjZlOTJhZTExMDFhNzUwNTQyZik7CiAgICAgICAgICAgIAoKICAgICAgICAgICAgY2lyY2xlX21hcmtlcl81YjQwYTIzMzdmMjY0ZTgwYTIzMWQ0ZmEwY2NlYTA1MC5iaW5kUG9wdXAocG9wdXBfYmRkYzJhMzViZTcwNGNlNGFmMGQyMzg3OGE0MjdlZjkpOwoKICAgICAgICAgICAgCiAgICAgICAgCiAgICAKICAgICAgICAgICAgdmFyIGNpcmNsZV9tYXJrZXJfMjY4Zjg4ZjlhN2RiNGRkODlhMmIyMGI3NWVkMDE4YWYgPSBMLmNpcmNsZU1hcmtlcigKICAgICAgICAgICAgICAgIFsxOC45MzMwMDUzNzQ4NDAwNDcsNzIuODM0MzA1MTk5NDY5MTNdLAogICAgICAgICAgICAgICAgewogICJidWJibGluZ01vdXNlRXZlbnRzIjogdHJ1ZSwKICAiY29sb3IiOiAiIzgwMDBmZiIsCiAgImRhc2hBcnJheSI6IG51bGwsCiAgImRhc2hPZmZzZXQiOiBudWxsLAogICJmaWxsIjogdHJ1ZSwKICAiZmlsbENvbG9yIjogInllbGxvdyIsCiAgImZpbGxPcGFjaXR5IjogMC43LAogICJmaWxsUnVsZSI6ICJldmVub2RkIiwKICAibGluZUNhcCI6ICJyb3VuZCIsCiAgImxpbmVKb2luIjogInJvdW5kIiwKICAib3BhY2l0eSI6IDEuMCwKICAicmFkaXVzIjogNSwKICAic3Ryb2tlIjogdHJ1ZSwKICAid2VpZ2h0IjogMwp9CiAgICAgICAgICAgICAgICApLmFkZFRvKG1hcF83YjE1ZTAyOTlmNWM0ZmRiOGY3YmExMGIwODNjZTUyMSk7CiAgICAgICAgICAgIAogICAgCiAgICAgICAgICAgIHZhciBwb3B1cF8xN2VhZmViNzgyZWI0ZTk4YTRkOWIzOTFmNDFmZmQwMCA9IEwucG9wdXAoe21heFdpZHRoOiAnMzAwJ30pOwoKICAgICAgICAgICAgCiAgICAgICAgICAgICAgICB2YXIgaHRtbF83N2JjMThhZGM1MDk0NWVjYjRhOTdmMGVhM2Y3YmRiNCA9ICQoJzxkaXYgaWQ9Imh0bWxfNzdiYzE4YWRjNTA5NDVlY2I0YTk3ZjBlYTNmN2JkYjQiIHN0eWxlPSJ3aWR0aDogMTAwLjAlOyBoZWlnaHQ6IDEwMC4wJTsiPk5ldyBVZHVwaSBSZXN0YXVyYW50LCBDbHVzdGVyIDE8L2Rpdj4nKVswXTsKICAgICAgICAgICAgICAgIHBvcHVwXzE3ZWFmZWI3ODJlYjRlOThhNGQ5YjM5MWY0MWZmZDAwLnNldENvbnRlbnQoaHRtbF83N2JjMThhZGM1MDk0NWVjYjRhOTdmMGVhM2Y3YmRiNCk7CiAgICAgICAgICAgIAoKICAgICAgICAgICAgY2lyY2xlX21hcmtlcl8yNjhmODhmOWE3ZGI0ZGQ4OWEyYjIwYjc1ZWQwMThhZi5iaW5kUG9wdXAocG9wdXBfMTdlYWZlYjc4MmViNGU5OGE0ZDliMzkxZjQxZmZkMDApOwoKICAgICAgICAgICAgCiAgICAgICAgCiAgICAKICAgICAgICAgICAgdmFyIGNpcmNsZV9tYXJrZXJfMmMwYzhmZWE4YWIyNDIwMDk4Y2RiN2ViOWI0ZTliM2YgPSBMLmNpcmNsZU1hcmtlcigKICAgICAgICAgICAgICAgIFsxOC45NDM5NjU1NDY1NjQ5MzYsNzIuODI5NDM1MzYxMDMzNzVdLAogICAgICAgICAgICAgICAgewogICJidWJibGluZ01vdXNlRXZlbnRzIjogdHJ1ZSwKICAiY29sb3IiOiAiIzgwZmZiNCIsCiAgImRhc2hBcnJheSI6IG51bGwsCiAgImRhc2hPZmZzZXQiOiBudWxsLAogICJmaWxsIjogdHJ1ZSwKICAiZmlsbENvbG9yIjogInllbGxvdyIsCiAgImZpbGxPcGFjaXR5IjogMC43LAogICJmaWxsUnVsZSI6ICJldmVub2RkIiwKICAibGluZUNhcCI6ICJyb3VuZCIsCiAgImxpbmVKb2luIjogInJvdW5kIiwKICAib3BhY2l0eSI6IDEuMCwKICAicmFkaXVzIjogNSwKICAic3Ryb2tlIjogdHJ1ZSwKICAid2VpZ2h0IjogMwp9CiAgICAgICAgICAgICAgICApLmFkZFRvKG1hcF83YjE1ZTAyOTlmNWM0ZmRiOGY3YmExMGIwODNjZTUyMSk7CiAgICAgICAgICAgIAogICAgCiAgICAgICAgICAgIHZhciBwb3B1cF81YTJlMjEwZDU2YjA0N2Q0OWVkZGMxOWI2ZWIxMTc4NCA9IEwucG9wdXAoe21heFdpZHRoOiAnMzAwJ30pOwoKICAgICAgICAgICAgCiAgICAgICAgICAgICAgICB2YXIgaHRtbF9kMzIwY2QzODkzMGQ0ZDY3YWJlOGFjZjJkNDA3YTNjZiA9ICQoJzxkaXYgaWQ9Imh0bWxfZDMyMGNkMzg5MzBkNGQ2N2FiZThhY2YyZDQwN2EzY2YiIHN0eWxlPSJ3aWR0aDogMTAwLjAlOyBoZWlnaHQ6IDEwMC4wJTsiPk1hbyBGYW1pbHkgUmVzdGF1cmFudCwgQ2x1c3RlciAzPC9kaXY+JylbMF07CiAgICAgICAgICAgICAgICBwb3B1cF81YTJlMjEwZDU2YjA0N2Q0OWVkZGMxOWI2ZWIxMTc4NC5zZXRDb250ZW50KGh0bWxfZDMyMGNkMzg5MzBkNGQ2N2FiZThhY2YyZDQwN2EzY2YpOwogICAgICAgICAgICAKCiAgICAgICAgICAgIGNpcmNsZV9tYXJrZXJfMmMwYzhmZWE4YWIyNDIwMDk4Y2RiN2ViOWI0ZTliM2YuYmluZFBvcHVwKHBvcHVwXzVhMmUyMTBkNTZiMDQ3ZDQ5ZWRkYzE5YjZlYjExNzg0KTsKCiAgICAgICAgICAgIAogICAgICAgIAogICAgCiAgICAgICAgICAgIHZhciBjaXJjbGVfbWFya2VyXzA2ZjBiYTU3OTViNTQwYWRhOGJkN2ViYzU2MTEzNmNkID0gTC5jaXJjbGVNYXJrZXIoCiAgICAgICAgICAgICAgICBbMTguOTMzMDU3OTYyMDIxMDUzLDcyLjgzMzQzOTcxMzk2MTQxXSwKICAgICAgICAgICAgICAgIHsKICAiYnViYmxpbmdNb3VzZUV2ZW50cyI6IHRydWUsCiAgImNvbG9yIjogIiM4MDAwZmYiLAogICJkYXNoQXJyYXkiOiBudWxsLAogICJkYXNoT2Zmc2V0IjogbnVsbCwKICAiZmlsbCI6IHRydWUsCiAgImZpbGxDb2xvciI6ICJ5ZWxsb3ciLAogICJmaWxsT3BhY2l0eSI6IDAuNywKICAiZmlsbFJ1bGUiOiAiZXZlbm9kZCIsCiAgImxpbmVDYXAiOiAicm91bmQiLAogICJsaW5lSm9pbiI6ICJyb3VuZCIsCiAgIm9wYWNpdHkiOiAxLjAsCiAgInJhZGl1cyI6IDUsCiAgInN0cm9rZSI6IHRydWUsCiAgIndlaWdodCI6IDMKfQogICAgICAgICAgICAgICAgKS5hZGRUbyhtYXBfN2IxNWUwMjk5ZjVjNGZkYjhmN2JhMTBiMDgzY2U1MjEpOwogICAgICAgICAgICAKICAgIAogICAgICAgICAgICB2YXIgcG9wdXBfN2U0MGUzNzAwYTYyNDYyY2FmYzBlZDVmNmE1ZWE0Y2UgPSBMLnBvcHVwKHttYXhXaWR0aDogJzMwMCd9KTsKCiAgICAgICAgICAgIAogICAgICAgICAgICAgICAgdmFyIGh0bWxfNjVkMGU0NjRkMzIzNDJlOGE5OWI4N2Y4YzljM2NiNGQgPSAkKCc8ZGl2IGlkPSJodG1sXzY1ZDBlNDY0ZDMyMzQyZThhOTliODdmOGM5YzNjYjRkIiBzdHlsZT0id2lkdGg6IDEwMC4wJTsgaGVpZ2h0OiAxMDAuMCU7Ij5Nb2Rlcm4gUmVzdGF1cmFudCBhbmQgQmFyLCBDbHVzdGVyIDE8L2Rpdj4nKVswXTsKICAgICAgICAgICAgICAgIHBvcHVwXzdlNDBlMzcwMGE2MjQ2MmNhZmMwZWQ1ZjZhNWVhNGNlLnNldENvbnRlbnQoaHRtbF82NWQwZTQ2NGQzMjM0MmU4YTk5Yjg3ZjhjOWMzY2I0ZCk7CiAgICAgICAgICAgIAoKICAgICAgICAgICAgY2lyY2xlX21hcmtlcl8wNmYwYmE1Nzk1YjU0MGFkYThiZDdlYmM1NjExMzZjZC5iaW5kUG9wdXAocG9wdXBfN2U0MGUzNzAwYTYyNDYyY2FmYzBlZDVmNmE1ZWE0Y2UpOwoKICAgICAgICAgICAgCiAgICAgICAgCiAgICAKICAgICAgICAgICAgdmFyIGNpcmNsZV9tYXJrZXJfMWY2ODgwZWU5Yzc5NDJkODhmMGE0Zjk5MTc2ZmNlZjkgPSBMLmNpcmNsZU1hcmtlcigKICAgICAgICAgICAgICAgIFsxOC45MzgxODc2MzEzNDcxMDUsNzIuODI4Njc5NDg4NzcwNTVdLAogICAgICAgICAgICAgICAgewogICJidWJibGluZ01vdXNlRXZlbnRzIjogdHJ1ZSwKICAiY29sb3IiOiAiI2ZmMDAwMCIsCiAgImRhc2hBcnJheSI6IG51bGwsCiAgImRhc2hPZmZzZXQiOiBudWxsLAogICJmaWxsIjogdHJ1ZSwKICAiZmlsbENvbG9yIjogInllbGxvdyIsCiAgImZpbGxPcGFjaXR5IjogMC43LAogICJmaWxsUnVsZSI6ICJldmVub2RkIiwKICAibGluZUNhcCI6ICJyb3VuZCIsCiAgImxpbmVKb2luIjogInJvdW5kIiwKICAib3BhY2l0eSI6IDEuMCwKICAicmFkaXVzIjogNSwKICAic3Ryb2tlIjogdHJ1ZSwKICAid2VpZ2h0IjogMwp9CiAgICAgICAgICAgICAgICApLmFkZFRvKG1hcF83YjE1ZTAyOTlmNWM0ZmRiOGY3YmExMGIwODNjZTUyMSk7CiAgICAgICAgICAgIAogICAgCiAgICAgICAgICAgIHZhciBwb3B1cF81Y2E0ODExOGY0ZjA0MzhmOTI4MDZhYjYzZDcxNTdlNCA9IEwucG9wdXAoe21heFdpZHRoOiAnMzAwJ30pOwoKICAgICAgICAgICAgCiAgICAgICAgICAgICAgICB2YXIgaHRtbF82YzliOTRiMzExMmU0YTc0YThlMDhhOWYxODU3NWQ0YiA9ICQoJzxkaXYgaWQ9Imh0bWxfNmM5Yjk0YjMxMTJlNGE3NGE4ZTA4YTlmMTg1NzVkNGIiIHN0eWxlPSJ3aWR0aDogMTAwLjAlOyBoZWlnaHQ6IDEwMC4wJTsiPlN1cnVjaGkgUmVzdGF1cmFudCwgQ2x1c3RlciAwPC9kaXY+JylbMF07CiAgICAgICAgICAgICAgICBwb3B1cF81Y2E0ODExOGY0ZjA0MzhmOTI4MDZhYjYzZDcxNTdlNC5zZXRDb250ZW50KGh0bWxfNmM5Yjk0YjMxMTJlNGE3NGE4ZTA4YTlmMTg1NzVkNGIpOwogICAgICAgICAgICAKCiAgICAgICAgICAgIGNpcmNsZV9tYXJrZXJfMWY2ODgwZWU5Yzc5NDJkODhmMGE0Zjk5MTc2ZmNlZjkuYmluZFBvcHVwKHBvcHVwXzVjYTQ4MTE4ZjRmMDQzOGY5MjgwNmFiNjNkNzE1N2U0KTsKCiAgICAgICAgICAgIAogICAgICAgIAogICAgCiAgICAgICAgICAgIHZhciBjaXJjbGVfbWFya2VyX2Y5ZTg1NWNhN2Q2MjQ4MTM4YmQxYjljN2QyYTYxOGZjID0gTC5jaXJjbGVNYXJrZXIoCiAgICAgICAgICAgICAgICBbMTguOTQ1ODU2NzUzMzQyNTU3LDcyLjgzMzg4Mzk5NjkwNTgxXSwKICAgICAgICAgICAgICAgIHsKICAiYnViYmxpbmdNb3VzZUV2ZW50cyI6IHRydWUsCiAgImNvbG9yIjogIiMwMGI1ZWIiLAogICJkYXNoQXJyYXkiOiBudWxsLAogICJkYXNoT2Zmc2V0IjogbnVsbCwKICAiZmlsbCI6IHRydWUsCiAgImZpbGxDb2xvciI6ICJ5ZWxsb3ciLAogICJmaWxsT3BhY2l0eSI6IDAuNywKICAiZmlsbFJ1bGUiOiAiZXZlbm9kZCIsCiAgImxpbmVDYXAiOiAicm91bmQiLAogICJsaW5lSm9pbiI6ICJyb3VuZCIsCiAgIm9wYWNpdHkiOiAxLjAsCiAgInJhZGl1cyI6IDUsCiAgInN0cm9rZSI6IHRydWUsCiAgIndlaWdodCI6IDMKfQogICAgICAgICAgICAgICAgKS5hZGRUbyhtYXBfN2IxNWUwMjk5ZjVjNGZkYjhmN2JhMTBiMDgzY2U1MjEpOwogICAgICAgICAgICAKICAgIAogICAgICAgICAgICB2YXIgcG9wdXBfNWZjODU3ODIxMzA5NGVjZGFiMWUwZTdiNGYyMWQ3ZmMgPSBMLnBvcHVwKHttYXhXaWR0aDogJzMwMCd9KTsKCiAgICAgICAgICAgIAogICAgICAgICAgICAgICAgdmFyIGh0bWxfNTdjZmJhZmZmYzc2NDAyNWE0NTRkYzc2ZTJjYWY1ZDEgPSAkKCc8ZGl2IGlkPSJodG1sXzU3Y2ZiYWZmZmM3NjQwMjVhNDU0ZGM3NmUyY2FmNWQxIiBzdHlsZT0id2lkdGg6IDEwMC4wJTsgaGVpZ2h0OiAxMDAuMCU7Ij5DaXZpbCBSZXN0YXVyYW50LCBDbHVzdGVyIDI8L2Rpdj4nKVswXTsKICAgICAgICAgICAgICAgIHBvcHVwXzVmYzg1NzgyMTMwOTRlY2RhYjFlMGU3YjRmMjFkN2ZjLnNldENvbnRlbnQoaHRtbF81N2NmYmFmZmZjNzY0MDI1YTQ1NGRjNzZlMmNhZjVkMSk7CiAgICAgICAgICAgIAoKICAgICAgICAgICAgY2lyY2xlX21hcmtlcl9mOWU4NTVjYTdkNjI0ODEzOGJkMWI5YzdkMmE2MThmYy5iaW5kUG9wdXAocG9wdXBfNWZjODU3ODIxMzA5NGVjZGFiMWUwZTdiNGYyMWQ3ZmMpOwoKICAgICAgICAgICAgCiAgICAgICAgCiAgICAKICAgICAgICAgICAgdmFyIGNpcmNsZV9tYXJrZXJfMDI0NDQ5ODdiNTRmNDEyN2EzY2FkNWNkNTc3YzNlMjUgPSBMLmNpcmNsZU1hcmtlcigKICAgICAgICAgICAgICAgIFsxOC45MzMzNiw3Mi44MzE4NTVdLAogICAgICAgICAgICAgICAgewogICJidWJibGluZ01vdXNlRXZlbnRzIjogdHJ1ZSwKICAiY29sb3IiOiAiIzgwMDBmZiIsCiAgImRhc2hBcnJheSI6IG51bGwsCiAgImRhc2hPZmZzZXQiOiBudWxsLAogICJmaWxsIjogdHJ1ZSwKICAiZmlsbENvbG9yIjogInllbGxvdyIsCiAgImZpbGxPcGFjaXR5IjogMC43LAogICJmaWxsUnVsZSI6ICJldmVub2RkIiwKICAibGluZUNhcCI6ICJyb3VuZCIsCiAgImxpbmVKb2luIjogInJvdW5kIiwKICAib3BhY2l0eSI6IDEuMCwKICAicmFkaXVzIjogNSwKICAic3Ryb2tlIjogdHJ1ZSwKICAid2VpZ2h0IjogMwp9CiAgICAgICAgICAgICAgICApLmFkZFRvKG1hcF83YjE1ZTAyOTlmNWM0ZmRiOGY3YmExMGIwODNjZTUyMSk7CiAgICAgICAgICAgIAogICAgCiAgICAgICAgICAgIHZhciBwb3B1cF8yMmRjZjE4YTIwMTE0NGNhYWYzYTViMjI3ZWMwMWU0NCA9IEwucG9wdXAoe21heFdpZHRoOiAnMzAwJ30pOwoKICAgICAgICAgICAgCiAgICAgICAgICAgICAgICB2YXIgaHRtbF8wZTY2NmI4ZTMxN2U0YmI1OTdhNDU0NDY3NjNkYTg1YSA9ICQoJzxkaXYgaWQ9Imh0bWxfMGU2NjZiOGUzMTdlNGJiNTk3YTQ1NDQ2NzYzZGE4NWEiIHN0eWxlPSJ3aWR0aDogMTAwLjAlOyBoZWlnaHQ6IDEwMC4wJTsiPkluZGlhIFJlc3RhdXJhbnQsIENsdXN0ZXIgMTwvZGl2PicpWzBdOwogICAgICAgICAgICAgICAgcG9wdXBfMjJkY2YxOGEyMDExNDRjYWFmM2E1YjIyN2VjMDFlNDQuc2V0Q29udGVudChodG1sXzBlNjY2YjhlMzE3ZTRiYjU5N2E0NTQ0Njc2M2RhODVhKTsKICAgICAgICAgICAgCgogICAgICAgICAgICBjaXJjbGVfbWFya2VyXzAyNDQ0OTg3YjU0ZjQxMjdhM2NhZDVjZDU3N2MzZTI1LmJpbmRQb3B1cChwb3B1cF8yMmRjZjE4YTIwMTE0NGNhYWYzYTViMjI3ZWMwMWU0NCk7CgogICAgICAgICAgICAKICAgICAgICAKICAgIAogICAgICAgICAgICB2YXIgY2lyY2xlX21hcmtlcl82ZDJiZjRjMDhmMWU0M2QxODYxNTAyNWZlNGU3ODI2YyA9IEwuY2lyY2xlTWFya2VyKAogICAgICAgICAgICAgICAgWzE4LjkzMDcyMjM1OTQ2OTExNSw3Mi44MzIyNzk5NTg1NjQ2OF0sCiAgICAgICAgICAgICAgICB7CiAgImJ1YmJsaW5nTW91c2VFdmVudHMiOiB0cnVlLAogICJjb2xvciI6ICIjODAwMGZmIiwKICAiZGFzaEFycmF5IjogbnVsbCwKICAiZGFzaE9mZnNldCI6IG51bGwsCiAgImZpbGwiOiB0cnVlLAogICJmaWxsQ29sb3IiOiAieWVsbG93IiwKICAiZmlsbE9wYWNpdHkiOiAwLjcsCiAgImZpbGxSdWxlIjogImV2ZW5vZGQiLAogICJsaW5lQ2FwIjogInJvdW5kIiwKICAibGluZUpvaW4iOiAicm91bmQiLAogICJvcGFjaXR5IjogMS4wLAogICJyYWRpdXMiOiA1LAogICJzdHJva2UiOiB0cnVlLAogICJ3ZWlnaHQiOiAzCn0KICAgICAgICAgICAgICAgICkuYWRkVG8obWFwXzdiMTVlMDI5OWY1YzRmZGI4ZjdiYTEwYjA4M2NlNTIxKTsKICAgICAgICAgICAgCiAgICAKICAgICAgICAgICAgdmFyIHBvcHVwX2MyMzI4M2I0NzMzZTQ1ZWY4MTBkYzYzNzBmZmFlODVjID0gTC5wb3B1cCh7bWF4V2lkdGg6ICczMDAnfSk7CgogICAgICAgICAgICAKICAgICAgICAgICAgICAgIHZhciBodG1sX2Y3NDhjYTRmYjliNjRkNzBiOTA0NjJlZWFlMWYwZTgxID0gJCgnPGRpdiBpZD0iaHRtbF9mNzQ4Y2E0ZmI5YjY0ZDcwYjkwNDYyZWVhZTFmMGU4MSIgc3R5bGU9IndpZHRoOiAxMDAuMCU7IGhlaWdodDogMTAwLjAlOyI+QW5rdXIgcmVzdGF1cmFudCwgQ2x1c3RlciAxPC9kaXY+JylbMF07CiAgICAgICAgICAgICAgICBwb3B1cF9jMjMyODNiNDczM2U0NWVmODEwZGM2MzcwZmZhZTg1Yy5zZXRDb250ZW50KGh0bWxfZjc0OGNhNGZiOWI2NGQ3MGI5MDQ2MmVlYWUxZjBlODEpOwogICAgICAgICAgICAKCiAgICAgICAgICAgIGNpcmNsZV9tYXJrZXJfNmQyYmY0YzA4ZjFlNDNkMTg2MTUwMjVmZTRlNzgyNmMuYmluZFBvcHVwKHBvcHVwX2MyMzI4M2I0NzMzZTQ1ZWY4MTBkYzYzNzBmZmFlODVjKTsKCiAgICAgICAgICAgIAogICAgICAgIAogICAgCiAgICAgICAgICAgIHZhciBjaXJjbGVfbWFya2VyX2IzN2NjMTkzOWJmYTRlNGNhZjYwNTk2ZmM1YzBkNzQ5ID0gTC5jaXJjbGVNYXJrZXIoCiAgICAgICAgICAgICAgICBbMTguOTQ1NDgyLDcyLjgzNDI3XSwKICAgICAgICAgICAgICAgIHsKICAiYnViYmxpbmdNb3VzZUV2ZW50cyI6IHRydWUsCiAgImNvbG9yIjogIiMwMGI1ZWIiLAogICJkYXNoQXJyYXkiOiBudWxsLAogICJkYXNoT2Zmc2V0IjogbnVsbCwKICAiZmlsbCI6IHRydWUsCiAgImZpbGxDb2xvciI6ICJ5ZWxsb3ciLAogICJmaWxsT3BhY2l0eSI6IDAuNywKICAiZmlsbFJ1bGUiOiAiZXZlbm9kZCIsCiAgImxpbmVDYXAiOiAicm91bmQiLAogICJsaW5lSm9pbiI6ICJyb3VuZCIsCiAgIm9wYWNpdHkiOiAxLjAsCiAgInJhZGl1cyI6IDUsCiAgInN0cm9rZSI6IHRydWUsCiAgIndlaWdodCI6IDMKfQogICAgICAgICAgICAgICAgKS5hZGRUbyhtYXBfN2IxNWUwMjk5ZjVjNGZkYjhmN2JhMTBiMDgzY2U1MjEpOwogICAgICAgICAgICAKICAgIAogICAgICAgICAgICB2YXIgcG9wdXBfNTg1YTJjNjAwM2E1NGQxNTkyOTBiMTkyODljMjk1M2QgPSBMLnBvcHVwKHttYXhXaWR0aDogJzMwMCd9KTsKCiAgICAgICAgICAgIAogICAgICAgICAgICAgICAgdmFyIGh0bWxfNTk0NDQ4Mjc0OThhNGEwMWIwNjJjNjdmNzcyMTFhOWUgPSAkKCc8ZGl2IGlkPSJodG1sXzU5NDQ0ODI3NDk4YTRhMDFiMDYyYzY3Zjc3MjExYTllIiBzdHlsZT0id2lkdGg6IDEwMC4wJTsgaGVpZ2h0OiAxMDAuMCU7Ij5Vc3RhYWRpIFJlc3RhdXJhbnQsIENsdXN0ZXIgMjwvZGl2PicpWzBdOwogICAgICAgICAgICAgICAgcG9wdXBfNTg1YTJjNjAwM2E1NGQxNTkyOTBiMTkyODljMjk1M2Quc2V0Q29udGVudChodG1sXzU5NDQ0ODI3NDk4YTRhMDFiMDYyYzY3Zjc3MjExYTllKTsKICAgICAgICAgICAgCgogICAgICAgICAgICBjaXJjbGVfbWFya2VyX2IzN2NjMTkzOWJmYTRlNGNhZjYwNTk2ZmM1YzBkNzQ5LmJpbmRQb3B1cChwb3B1cF81ODVhMmM2MDAzYTU0ZDE1OTI5MGIxOTI4OWMyOTUzZCk7CgogICAgICAgICAgICAKICAgICAgICAKICAgIAogICAgICAgICAgICB2YXIgY2lyY2xlX21hcmtlcl8wMzM5YmYzOTkwMDU0YjI1YWMxM2FhNjI1ZWVlYmJkYSA9IEwuY2lyY2xlTWFya2VyKAogICAgICAgICAgICAgICAgWzE4LjkzNDUzNTI5OTY0NjQ3Nyw3Mi44MjUzNTU5MzEwNTI2OF0sCiAgICAgICAgICAgICAgICB7CiAgImJ1YmJsaW5nTW91c2VFdmVudHMiOiB0cnVlLAogICJjb2xvciI6ICIjZmYwMDAwIiwKICAiZGFzaEFycmF5IjogbnVsbCwKICAiZGFzaE9mZnNldCI6IG51bGwsCiAgImZpbGwiOiB0cnVlLAogICJmaWxsQ29sb3IiOiAieWVsbG93IiwKICAiZmlsbE9wYWNpdHkiOiAwLjcsCiAgImZpbGxSdWxlIjogImV2ZW5vZGQiLAogICJsaW5lQ2FwIjogInJvdW5kIiwKICAibGluZUpvaW4iOiAicm91bmQiLAogICJvcGFjaXR5IjogMS4wLAogICJyYWRpdXMiOiA1LAogICJzdHJva2UiOiB0cnVlLAogICJ3ZWlnaHQiOiAzCn0KICAgICAgICAgICAgICAgICkuYWRkVG8obWFwXzdiMTVlMDI5OWY1YzRmZGI4ZjdiYTEwYjA4M2NlNTIxKTsKICAgICAgICAgICAgCiAgICAKICAgICAgICAgICAgdmFyIHBvcHVwXzhiYTc3NGQwODhmNzRhOTQ4NTcwNWMyOGE3ZTFjZjZkID0gTC5wb3B1cCh7bWF4V2lkdGg6ICczMDAnfSk7CgogICAgICAgICAgICAKICAgICAgICAgICAgICAgIHZhciBodG1sX2RkYTJlNjgzMDczNjQ3MDViOGFjOTMwNmRhZmM1ZTUwID0gJCgnPGRpdiBpZD0iaHRtbF9kZGEyZTY4MzA3MzY0NzA1YjhhYzkzMDZkYWZjNWU1MCIgc3R5bGU9IndpZHRoOiAxMDAuMCU7IGhlaWdodDogMTAwLjAlOyI+S2FtbGluZyBDaGluZXNlIFJlc3RhdXJhbnQsIENsdXN0ZXIgMDwvZGl2PicpWzBdOwogICAgICAgICAgICAgICAgcG9wdXBfOGJhNzc0ZDA4OGY3NGE5NDg1NzA1YzI4YTdlMWNmNmQuc2V0Q29udGVudChodG1sX2RkYTJlNjgzMDczNjQ3MDViOGFjOTMwNmRhZmM1ZTUwKTsKICAgICAgICAgICAgCgogICAgICAgICAgICBjaXJjbGVfbWFya2VyXzAzMzliZjM5OTAwNTRiMjVhYzEzYWE2MjVlZWViYmRhLmJpbmRQb3B1cChwb3B1cF84YmE3NzRkMDg4Zjc0YTk0ODU3MDVjMjhhN2UxY2Y2ZCk7CgogICAgICAgICAgICAKICAgICAgICAKICAgIAogICAgICAgICAgICB2YXIgY2lyY2xlX21hcmtlcl9lOThjODMwODA2ODE0YjdiYTgwNzk2ZmY1Yzc5NjMxNSA9IEwuY2lyY2xlTWFya2VyKAogICAgICAgICAgICAgICAgWzE4LjkzMjE4NzA1NDAyOTk5NSw3Mi44MzMzMzU4NTU0OTQwM10sCiAgICAgICAgICAgICAgICB7CiAgImJ1YmJsaW5nTW91c2VFdmVudHMiOiB0cnVlLAogICJjb2xvciI6ICIjODAwMGZmIiwKICAiZGFzaEFycmF5IjogbnVsbCwKICAiZGFzaE9mZnNldCI6IG51bGwsCiAgImZpbGwiOiB0cnVlLAogICJmaWxsQ29sb3IiOiAieWVsbG93IiwKICAiZmlsbE9wYWNpdHkiOiAwLjcsCiAgImZpbGxSdWxlIjogImV2ZW5vZGQiLAogICJsaW5lQ2FwIjogInJvdW5kIiwKICAibGluZUpvaW4iOiAicm91bmQiLAogICJvcGFjaXR5IjogMS4wLAogICJyYWRpdXMiOiA1LAogICJzdHJva2UiOiB0cnVlLAogICJ3ZWlnaHQiOiAzCn0KICAgICAgICAgICAgICAgICkuYWRkVG8obWFwXzdiMTVlMDI5OWY1YzRmZGI4ZjdiYTEwYjA4M2NlNTIxKTsKICAgICAgICAgICAgCiAgICAKICAgICAgICAgICAgdmFyIHBvcHVwX2MyNzU1MDM3NjM3ODQxOTVhMDM3ZjBjNWNhNmQ2NmVhID0gTC5wb3B1cCh7bWF4V2lkdGg6ICczMDAnfSk7CgogICAgICAgICAgICAKICAgICAgICAgICAgICAgIHZhciBodG1sXzdhZDcyNzE4MmE5MTRjMmRiMDFmYjFkZDUzYWIyNDg2ID0gJCgnPGRpdiBpZD0iaHRtbF83YWQ3MjcxODJhOTE0YzJkYjAxZmIxZGQ1M2FiMjQ4NiIgc3R5bGU9IndpZHRoOiAxMDAuMCU7IGhlaWdodDogMTAwLjAlOyI+RHdhcmthIHJlc3RhdXJhbnQsIENsdXN0ZXIgMTwvZGl2PicpWzBdOwogICAgICAgICAgICAgICAgcG9wdXBfYzI3NTUwMzc2Mzc4NDE5NWEwMzdmMGM1Y2E2ZDY2ZWEuc2V0Q29udGVudChodG1sXzdhZDcyNzE4MmE5MTRjMmRiMDFmYjFkZDUzYWIyNDg2KTsKICAgICAgICAgICAgCgogICAgICAgICAgICBjaXJjbGVfbWFya2VyX2U5OGM4MzA4MDY4MTRiN2JhODA3OTZmZjVjNzk2MzE1LmJpbmRQb3B1cChwb3B1cF9jMjc1NTAzNzYzNzg0MTk1YTAzN2YwYzVjYTZkNjZlYSk7CgogICAgICAgICAgICAKICAgICAgICAKICAgIAogICAgICAgICAgICB2YXIgY2lyY2xlX21hcmtlcl83NDA0YzlhOTVmMTU0NGM4OTJlYzY3YmY2Mzk3ZDI1ZiA9IEwuY2lyY2xlTWFya2VyKAogICAgICAgICAgICAgICAgWzE4Ljk0MTUzOTM2NTAyMTcxNSw3Mi44MjcxODUwNDc0MDc3NV0sCiAgICAgICAgICAgICAgICB7CiAgImJ1YmJsaW5nTW91c2VFdmVudHMiOiB0cnVlLAogICJjb2xvciI6ICIjODBmZmI0IiwKICAiZGFzaEFycmF5IjogbnVsbCwKICAiZGFzaE9mZnNldCI6IG51bGwsCiAgImZpbGwiOiB0cnVlLAogICJmaWxsQ29sb3IiOiAieWVsbG93IiwKICAiZmlsbE9wYWNpdHkiOiAwLjcsCiAgImZpbGxSdWxlIjogImV2ZW5vZGQiLAogICJsaW5lQ2FwIjogInJvdW5kIiwKICAibGluZUpvaW4iOiAicm91bmQiLAogICJvcGFjaXR5IjogMS4wLAogICJyYWRpdXMiOiA1LAogICJzdHJva2UiOiB0cnVlLAogICJ3ZWlnaHQiOiAzCn0KICAgICAgICAgICAgICAgICkuYWRkVG8obWFwXzdiMTVlMDI5OWY1YzRmZGI4ZjdiYTEwYjA4M2NlNTIxKTsKICAgICAgICAgICAgCiAgICAKICAgICAgICAgICAgdmFyIHBvcHVwXzhjMTQ4NmMyMDAwYzQ5ZWI5MWU5YThhYWQ0OTU5MWEwID0gTC5wb3B1cCh7bWF4V2lkdGg6ICczMDAnfSk7CgogICAgICAgICAgICAKICAgICAgICAgICAgICAgIHZhciBodG1sXzMzN2M0MzExM2QyZTRlZWJiNjJkYjRmMDQ3OTE2OTEzID0gJCgnPGRpdiBpZD0iaHRtbF8zMzdjNDMxMTNkMmU0ZWViYjYyZGI0ZjA0NzkxNjkxMyIgc3R5bGU9IndpZHRoOiAxMDAuMCU7IGhlaWdodDogMTAwLjAlOyI+TGliZXJ0eSBSZXN0YXVyYW50LCBDbHVzdGVyIDM8L2Rpdj4nKVswXTsKICAgICAgICAgICAgICAgIHBvcHVwXzhjMTQ4NmMyMDAwYzQ5ZWI5MWU5YThhYWQ0OTU5MWEwLnNldENvbnRlbnQoaHRtbF8zMzdjNDMxMTNkMmU0ZWViYjYyZGI0ZjA0NzkxNjkxMyk7CiAgICAgICAgICAgIAoKICAgICAgICAgICAgY2lyY2xlX21hcmtlcl83NDA0YzlhOTVmMTU0NGM4OTJlYzY3YmY2Mzk3ZDI1Zi5iaW5kUG9wdXAocG9wdXBfOGMxNDg2YzIwMDBjNDllYjkxZTlhOGFhZDQ5NTkxYTApOwoKICAgICAgICAgICAgCiAgICAgICAgCiAgICAKICAgICAgICAgICAgdmFyIGNpcmNsZV9tYXJrZXJfY2JjZGQxYTY1NzVhNDMyOWFjYmRmN2FlZGQzMTI3NzAgPSBMLmNpcmNsZU1hcmtlcigKICAgICAgICAgICAgICAgIFsxOC45NDk5NzMxNjI2NTA1MTUsNzIuODM0NTcwNjE0NDA5MjNdLAogICAgICAgICAgICAgICAgewogICJidWJibGluZ01vdXNlRXZlbnRzIjogdHJ1ZSwKICAiY29sb3IiOiAiIzAwYjVlYiIsCiAgImRhc2hBcnJheSI6IG51bGwsCiAgImRhc2hPZmZzZXQiOiBudWxsLAogICJmaWxsIjogdHJ1ZSwKICAiZmlsbENvbG9yIjogInllbGxvdyIsCiAgImZpbGxPcGFjaXR5IjogMC43LAogICJmaWxsUnVsZSI6ICJldmVub2RkIiwKICAibGluZUNhcCI6ICJyb3VuZCIsCiAgImxpbmVKb2luIjogInJvdW5kIiwKICAib3BhY2l0eSI6IDEuMCwKICAicmFkaXVzIjogNSwKICAic3Ryb2tlIjogdHJ1ZSwKICAid2VpZ2h0IjogMwp9CiAgICAgICAgICAgICAgICApLmFkZFRvKG1hcF83YjE1ZTAyOTlmNWM0ZmRiOGY3YmExMGIwODNjZTUyMSk7CiAgICAgICAgICAgIAogICAgCiAgICAgICAgICAgIHZhciBwb3B1cF8zZjE1YzRiNTY1ZmY0MTY2ODEyNjY0MzM0ZDU3NGFmYSA9IEwucG9wdXAoe21heFdpZHRoOiAnMzAwJ30pOwoKICAgICAgICAgICAgCiAgICAgICAgICAgICAgICB2YXIgaHRtbF80OWQyM2NhZmZjYTk0YjdlOTY5MzI2MzkyZmMyYzQ5OSA9ICQoJzxkaXYgaWQ9Imh0bWxfNDlkMjNjYWZmY2E5NGI3ZTk2OTMyNjM5MmZjMmM0OTkiIHN0eWxlPSJ3aWR0aDogMTAwLjAlOyBoZWlnaHQ6IDEwMC4wJTsiPk1lemJhYW4gUmVzdGF1cmFudCwgQ2x1c3RlciAyPC9kaXY+JylbMF07CiAgICAgICAgICAgICAgICBwb3B1cF8zZjE1YzRiNTY1ZmY0MTY2ODEyNjY0MzM0ZDU3NGFmYS5zZXRDb250ZW50KGh0bWxfNDlkMjNjYWZmY2E5NGI3ZTk2OTMyNjM5MmZjMmM0OTkpOwogICAgICAgICAgICAKCiAgICAgICAgICAgIGNpcmNsZV9tYXJrZXJfY2JjZGQxYTY1NzVhNDMyOWFjYmRmN2FlZGQzMTI3NzAuYmluZFBvcHVwKHBvcHVwXzNmMTVjNGI1NjVmZjQxNjY4MTI2NjQzMzRkNTc0YWZhKTsKCiAgICAgICAgICAgIAogICAgICAgIAogICAgCiAgICAgICAgICAgIHZhciBjaXJjbGVfbWFya2VyX2Y5YzVmMmRhNWIwMzRlNDJiZGU4M2NhOGE4MWQzYzI0ID0gTC5jaXJjbGVNYXJrZXIoCiAgICAgICAgICAgICAgICBbMTguOTQ1MTU5ODI5MjUwMTg3LDcyLjgzMDg3MzU3ODMyMjJdLAogICAgICAgICAgICAgICAgewogICJidWJibGluZ01vdXNlRXZlbnRzIjogdHJ1ZSwKICAiY29sb3IiOiAiIzgwZmZiNCIsCiAgImRhc2hBcnJheSI6IG51bGwsCiAgImRhc2hPZmZzZXQiOiBudWxsLAogICJmaWxsIjogdHJ1ZSwKICAiZmlsbENvbG9yIjogInllbGxvdyIsCiAgImZpbGxPcGFjaXR5IjogMC43LAogICJmaWxsUnVsZSI6ICJldmVub2RkIiwKICAibGluZUNhcCI6ICJyb3VuZCIsCiAgImxpbmVKb2luIjogInJvdW5kIiwKICAib3BhY2l0eSI6IDEuMCwKICAicmFkaXVzIjogNSwKICAic3Ryb2tlIjogdHJ1ZSwKICAid2VpZ2h0IjogMwp9CiAgICAgICAgICAgICAgICApLmFkZFRvKG1hcF83YjE1ZTAyOTlmNWM0ZmRiOGY3YmExMGIwODNjZTUyMSk7CiAgICAgICAgICAgIAogICAgCiAgICAgICAgICAgIHZhciBwb3B1cF8zNDgyYWY5YTIyMGQ0NTZkYmNiMGU1NDhlNDBhMWQ5YSA9IEwucG9wdXAoe21heFdpZHRoOiAnMzAwJ30pOwoKICAgICAgICAgICAgCiAgICAgICAgICAgICAgICB2YXIgaHRtbF84MTg3NDk3ODIzNGE0NDJkYTZmNTM1NDExYmMzYTdlMSA9ICQoJzxkaXYgaWQ9Imh0bWxfODE4NzQ5NzgyMzRhNDQyZGE2ZjUzNTQxMWJjM2E3ZTEiIHN0eWxlPSJ3aWR0aDogMTAwLjAlOyBoZWlnaHQ6IDEwMC4wJTsiPktodWRhLUUgUmVzdGF1cmFudCwgQ2x1c3RlciAzPC9kaXY+JylbMF07CiAgICAgICAgICAgICAgICBwb3B1cF8zNDgyYWY5YTIyMGQ0NTZkYmNiMGU1NDhlNDBhMWQ5YS5zZXRDb250ZW50KGh0bWxfODE4NzQ5NzgyMzRhNDQyZGE2ZjUzNTQxMWJjM2E3ZTEpOwogICAgICAgICAgICAKCiAgICAgICAgICAgIGNpcmNsZV9tYXJrZXJfZjljNWYyZGE1YjAzNGU0MmJkZTgzY2E4YTgxZDNjMjQuYmluZFBvcHVwKHBvcHVwXzM0ODJhZjlhMjIwZDQ1NmRiY2IwZTU0OGU0MGExZDlhKTsKCiAgICAgICAgICAgIAogICAgICAgIAogICAgCiAgICAgICAgICAgIHZhciBjaXJjbGVfbWFya2VyXzFlMzIyMzUwNTg1ODRiMjZiZTQzMGZiZThmNDJkZjdkID0gTC5jaXJjbGVNYXJrZXIoCiAgICAgICAgICAgICAgICBbMTguOTQ2Mjc4NzQ3NjI0NzE0LDcyLjgzNDgzNjAyOTA2MDMzXSwKICAgICAgICAgICAgICAgIHsKICAiYnViYmxpbmdNb3VzZUV2ZW50cyI6IHRydWUsCiAgImNvbG9yIjogIiMwMGI1ZWIiLAogICJkYXNoQXJyYXkiOiBudWxsLAogICJkYXNoT2Zmc2V0IjogbnVsbCwKICAiZmlsbCI6IHRydWUsCiAgImZpbGxDb2xvciI6ICJ5ZWxsb3ciLAogICJmaWxsT3BhY2l0eSI6IDAuNywKICAiZmlsbFJ1bGUiOiAiZXZlbm9kZCIsCiAgImxpbmVDYXAiOiAicm91bmQiLAogICJsaW5lSm9pbiI6ICJyb3VuZCIsCiAgIm9wYWNpdHkiOiAxLjAsCiAgInJhZGl1cyI6IDUsCiAgInN0cm9rZSI6IHRydWUsCiAgIndlaWdodCI6IDMKfQogICAgICAgICAgICAgICAgKS5hZGRUbyhtYXBfN2IxNWUwMjk5ZjVjNGZkYjhmN2JhMTBiMDgzY2U1MjEpOwogICAgICAgICAgICAKICAgIAogICAgICAgICAgICB2YXIgcG9wdXBfNmMxZTY3NWIzNmZlNDQxMzkxNjAyMzk0OTU5MWI2MmUgPSBMLnBvcHVwKHttYXhXaWR0aDogJzMwMCd9KTsKCiAgICAgICAgICAgIAogICAgICAgICAgICAgICAgdmFyIGh0bWxfZmJkM2E1ODFiY2JjNDIzZGEwYTNkN2ZmOGIxMzBmODggPSAkKCc8ZGl2IGlkPSJodG1sX2ZiZDNhNTgxYmNiYzQyM2RhMGEzZDdmZjhiMTMwZjg4IiBzdHlsZT0id2lkdGg6IDEwMC4wJTsgaGVpZ2h0OiAxMDAuMCU7Ij5ZYWRnYXIgSXFiYWwgUmVzdGF1cmFudCwgQ2x1c3RlciAyPC9kaXY+JylbMF07CiAgICAgICAgICAgICAgICBwb3B1cF82YzFlNjc1YjM2ZmU0NDEzOTE2MDIzOTQ5NTkxYjYyZS5zZXRDb250ZW50KGh0bWxfZmJkM2E1ODFiY2JjNDIzZGEwYTNkN2ZmOGIxMzBmODgpOwogICAgICAgICAgICAKCiAgICAgICAgICAgIGNpcmNsZV9tYXJrZXJfMWUzMjIzNTA1ODU4NGIyNmJlNDMwZmJlOGY0MmRmN2QuYmluZFBvcHVwKHBvcHVwXzZjMWU2NzViMzZmZTQ0MTM5MTYwMjM5NDk1OTFiNjJlKTsKCiAgICAgICAgICAgIAogICAgICAgIAogICAgCiAgICAgICAgICAgIHZhciBjaXJjbGVfbWFya2VyXzliNzQxNzY2YWFiYzQ3ZTM4Y2EwYzBiNjExY2ZmZDgxID0gTC5jaXJjbGVNYXJrZXIoCiAgICAgICAgICAgICAgICBbMTguOTQyNiw3Mi44MjY4NV0sCiAgICAgICAgICAgICAgICB7CiAgImJ1YmJsaW5nTW91c2VFdmVudHMiOiB0cnVlLAogICJjb2xvciI6ICIjODBmZmI0IiwKICAiZGFzaEFycmF5IjogbnVsbCwKICAiZGFzaE9mZnNldCI6IG51bGwsCiAgImZpbGwiOiB0cnVlLAogICJmaWxsQ29sb3IiOiAieWVsbG93IiwKICAiZmlsbE9wYWNpdHkiOiAwLjcsCiAgImZpbGxSdWxlIjogImV2ZW5vZGQiLAogICJsaW5lQ2FwIjogInJvdW5kIiwKICAibGluZUpvaW4iOiAicm91bmQiLAogICJvcGFjaXR5IjogMS4wLAogICJyYWRpdXMiOiA1LAogICJzdHJva2UiOiB0cnVlLAogICJ3ZWlnaHQiOiAzCn0KICAgICAgICAgICAgICAgICkuYWRkVG8obWFwXzdiMTVlMDI5OWY1YzRmZGI4ZjdiYTEwYjA4M2NlNTIxKTsKICAgICAgICAgICAgCiAgICAKICAgICAgICAgICAgdmFyIHBvcHVwXzM4NjIxYmRhY2VhNDQ2OWZhYjI5ODk5NjRjYzU5OTk3ID0gTC5wb3B1cCh7bWF4V2lkdGg6ICczMDAnfSk7CgogICAgICAgICAgICAKICAgICAgICAgICAgICAgIHZhciBodG1sXzA0ZmY1ZmU5OWZhMTQ4Y2I4N2QyMzM1NDI2NTY2ZWJiID0gJCgnPGRpdiBpZD0iaHRtbF8wNGZmNWZlOTlmYTE0OGNiODdkMjMzNTQyNjU2NmViYiIgc3R5bGU9IndpZHRoOiAxMDAuMCU7IGhlaWdodDogMTAwLjAlOyI+bWFyaW5lIHJlc3RhdXJhbnQsIENsdXN0ZXIgMzwvZGl2PicpWzBdOwogICAgICAgICAgICAgICAgcG9wdXBfMzg2MjFiZGFjZWE0NDY5ZmFiMjk4OTk2NGNjNTk5OTcuc2V0Q29udGVudChodG1sXzA0ZmY1ZmU5OWZhMTQ4Y2I4N2QyMzM1NDI2NTY2ZWJiKTsKICAgICAgICAgICAgCgogICAgICAgICAgICBjaXJjbGVfbWFya2VyXzliNzQxNzY2YWFiYzQ3ZTM4Y2EwYzBiNjExY2ZmZDgxLmJpbmRQb3B1cChwb3B1cF8zODYyMWJkYWNlYTQ0NjlmYWIyOTg5OTY0Y2M1OTk5Nyk7CgogICAgICAgICAgICAKICAgICAgICAKICAgIAogICAgICAgICAgICB2YXIgY2lyY2xlX21hcmtlcl9mZWEzZWE3M2VhOTk0ZjhiOTdjZGQ4MjhlMDY4Yzc4YSA9IEwuY2lyY2xlTWFya2VyKAogICAgICAgICAgICAgICAgWzE4LjkzMjU4MzMxOTg4MTgsNzIuODMwMDQxMjExMTU3NTldLAogICAgICAgICAgICAgICAgewogICJidWJibGluZ01vdXNlRXZlbnRzIjogdHJ1ZSwKICAiY29sb3IiOiAiIzgwMDBmZiIsCiAgImRhc2hBcnJheSI6IG51bGwsCiAgImRhc2hPZmZzZXQiOiBudWxsLAogICJmaWxsIjogdHJ1ZSwKICAiZmlsbENvbG9yIjogInllbGxvdyIsCiAgImZpbGxPcGFjaXR5IjogMC43LAogICJmaWxsUnVsZSI6ICJldmVub2RkIiwKICAibGluZUNhcCI6ICJyb3VuZCIsCiAgImxpbmVKb2luIjogInJvdW5kIiwKICAib3BhY2l0eSI6IDEuMCwKICAicmFkaXVzIjogNSwKICAic3Ryb2tlIjogdHJ1ZSwKICAid2VpZ2h0IjogMwp9CiAgICAgICAgICAgICAgICApLmFkZFRvKG1hcF83YjE1ZTAyOTlmNWM0ZmRiOGY3YmExMGIwODNjZTUyMSk7CiAgICAgICAgICAgIAogICAgCiAgICAgICAgICAgIHZhciBwb3B1cF9hZWRmMGJhOWJkMGY0OWFhOTY4ZTg4NGQyMTZlMDk4OSA9IEwucG9wdXAoe21heFdpZHRoOiAnMzAwJ30pOwoKICAgICAgICAgICAgCiAgICAgICAgICAgICAgICB2YXIgaHRtbF9lMzZkNmY5YzgwZTg0ZjVlYTBiNzE1YzAwZGRhOTBiMiA9ICQoJzxkaXYgaWQ9Imh0bWxfZTM2ZDZmOWM4MGU4NGY1ZWEwYjcxNWMwMGRkYTkwYjIiIHN0eWxlPSJ3aWR0aDogMTAwLjAlOyBoZWlnaHQ6IDEwMC4wJTsiPkFybXkgcmVzdGF1cmFudCwgQ2x1c3RlciAxPC9kaXY+JylbMF07CiAgICAgICAgICAgICAgICBwb3B1cF9hZWRmMGJhOWJkMGY0OWFhOTY4ZTg4NGQyMTZlMDk4OS5zZXRDb250ZW50KGh0bWxfZTM2ZDZmOWM4MGU4NGY1ZWEwYjcxNWMwMGRkYTkwYjIpOwogICAgICAgICAgICAKCiAgICAgICAgICAgIGNpcmNsZV9tYXJrZXJfZmVhM2VhNzNlYTk5NGY4Yjk3Y2RkODI4ZTA2OGM3OGEuYmluZFBvcHVwKHBvcHVwX2FlZGYwYmE5YmQwZjQ5YWE5NjhlODg0ZDIxNmUwOTg5KTsKCiAgICAgICAgICAgIAogICAgICAgIAogICAgCiAgICAgICAgICAgIHZhciBjaXJjbGVfbWFya2VyXzU3NTYzYWRmMDUzOTQ5NmQ5MzE5MmU2NWFmZmM2ZjQ4ID0gTC5jaXJjbGVNYXJrZXIoCiAgICAgICAgICAgICAgICBbMTguOTQ3OTA0MzQ0NjUxOSw3Mi44MzU4ODYxNDUwNjMzNF0sCiAgICAgICAgICAgICAgICB7CiAgImJ1YmJsaW5nTW91c2VFdmVudHMiOiB0cnVlLAogICJjb2xvciI6ICIjMDBiNWViIiwKICAiZGFzaEFycmF5IjogbnVsbCwKICAiZGFzaE9mZnNldCI6IG51bGwsCiAgImZpbGwiOiB0cnVlLAogICJmaWxsQ29sb3IiOiAieWVsbG93IiwKICAiZmlsbE9wYWNpdHkiOiAwLjcsCiAgImZpbGxSdWxlIjogImV2ZW5vZGQiLAogICJsaW5lQ2FwIjogInJvdW5kIiwKICAibGluZUpvaW4iOiAicm91bmQiLAogICJvcGFjaXR5IjogMS4wLAogICJyYWRpdXMiOiA1LAogICJzdHJva2UiOiB0cnVlLAogICJ3ZWlnaHQiOiAzCn0KICAgICAgICAgICAgICAgICkuYWRkVG8obWFwXzdiMTVlMDI5OWY1YzRmZGI4ZjdiYTEwYjA4M2NlNTIxKTsKICAgICAgICAgICAgCiAgICAKICAgICAgICAgICAgdmFyIHBvcHVwX2M1OTNiNzUwYWJkYTQ1NjI4YzVmNTYxZjFkYWRmNWEwID0gTC5wb3B1cCh7bWF4V2lkdGg6ICczMDAnfSk7CgogICAgICAgICAgICAKICAgICAgICAgICAgICAgIHZhciBodG1sXzk3Y2MwNjAxOWRlYzRjZTJiYTE3ZTAwNDYxZTE2MmNjID0gJCgnPGRpdiBpZD0iaHRtbF85N2NjMDYwMTlkZWM0Y2UyYmExN2UwMDQ2MWUxNjJjYyIgc3R5bGU9IndpZHRoOiAxMDAuMCU7IGhlaWdodDogMTAwLjAlOyI+UmFkaW8gUmVzdGF1cmFudCwgQ2x1c3RlciAyPC9kaXY+JylbMF07CiAgICAgICAgICAgICAgICBwb3B1cF9jNTkzYjc1MGFiZGE0NTYyOGM1ZjU2MWYxZGFkZjVhMC5zZXRDb250ZW50KGh0bWxfOTdjYzA2MDE5ZGVjNGNlMmJhMTdlMDA0NjFlMTYyY2MpOwogICAgICAgICAgICAKCiAgICAgICAgICAgIGNpcmNsZV9tYXJrZXJfNTc1NjNhZGYwNTM5NDk2ZDkzMTkyZTY1YWZmYzZmNDguYmluZFBvcHVwKHBvcHVwX2M1OTNiNzUwYWJkYTQ1NjI4YzVmNTYxZjFkYWRmNWEwKTsKCiAgICAgICAgICAgIAogICAgICAgIAogICAgCiAgICAgICAgICAgIHZhciBjaXJjbGVfbWFya2VyXzBjMTM1YTk0YTczYjQ4NTg4YjY1NjEwYzY2NDIwOTlkID0gTC5jaXJjbGVNYXJrZXIoCiAgICAgICAgICAgICAgICBbMTguOTQxODA1Nzc3NjYwNDgsNzIuODI3NDg1MDkwNDIzMDJdLAogICAgICAgICAgICAgICAgewogICJidWJibGluZ01vdXNlRXZlbnRzIjogdHJ1ZSwKICAiY29sb3IiOiAiIzgwZmZiNCIsCiAgImRhc2hBcnJheSI6IG51bGwsCiAgImRhc2hPZmZzZXQiOiBudWxsLAogICJmaWxsIjogdHJ1ZSwKICAiZmlsbENvbG9yIjogInllbGxvdyIsCiAgImZpbGxPcGFjaXR5IjogMC43LAogICJmaWxsUnVsZSI6ICJldmVub2RkIiwKICAibGluZUNhcCI6ICJyb3VuZCIsCiAgImxpbmVKb2luIjogInJvdW5kIiwKICAib3BhY2l0eSI6IDEuMCwKICAicmFkaXVzIjogNSwKICAic3Ryb2tlIjogdHJ1ZSwKICAid2VpZ2h0IjogMwp9CiAgICAgICAgICAgICAgICApLmFkZFRvKG1hcF83YjE1ZTAyOTlmNWM0ZmRiOGY3YmExMGIwODNjZTUyMSk7CiAgICAgICAgICAgIAogICAgCiAgICAgICAgICAgIHZhciBwb3B1cF8yNTMxM2RkOWMzZjE0Y2ViYWYwZGEyOTJhZTg1NWRhMiA9IEwucG9wdXAoe21heFdpZHRoOiAnMzAwJ30pOwoKICAgICAgICAgICAgCiAgICAgICAgICAgICAgICB2YXIgaHRtbF9kOTIyNmZjMjhlMGE0Y2MyYjA5ZWJiM2Q1MWQxZDBlMSA9ICQoJzxkaXYgaWQ9Imh0bWxfZDkyMjZmYzI4ZTBhNGNjMmIwOWViYjNkNTFkMWQwZTEiIHN0eWxlPSJ3aWR0aDogMTAwLjAlOyBoZWlnaHQ6IDEwMC4wJTsiPmthbWF0IHJlc3RhdXJhbnQsIENsdXN0ZXIgMzwvZGl2PicpWzBdOwogICAgICAgICAgICAgICAgcG9wdXBfMjUzMTNkZDljM2YxNGNlYmFmMGRhMjkyYWU4NTVkYTIuc2V0Q29udGVudChodG1sX2Q5MjI2ZmMyOGUwYTRjYzJiMDllYmIzZDUxZDFkMGUxKTsKICAgICAgICAgICAgCgogICAgICAgICAgICBjaXJjbGVfbWFya2VyXzBjMTM1YTk0YTczYjQ4NTg4YjY1NjEwYzY2NDIwOTlkLmJpbmRQb3B1cChwb3B1cF8yNTMxM2RkOWMzZjE0Y2ViYWYwZGEyOTJhZTg1NWRhMik7CgogICAgICAgICAgICAKICAgICAgICAKICAgIAogICAgICAgICAgICB2YXIgY2lyY2xlX21hcmtlcl80OTE3YjZlNTIxMWE0YzQwYjU4NmEwYmEwMjU1Y2RjYSA9IEwuY2lyY2xlTWFya2VyKAogICAgICAgICAgICAgICAgWzE4Ljk0NjgwMzA2LDcyLjgzNTU2MTM1XSwKICAgICAgICAgICAgICAgIHsKICAiYnViYmxpbmdNb3VzZUV2ZW50cyI6IHRydWUsCiAgImNvbG9yIjogIiMwMGI1ZWIiLAogICJkYXNoQXJyYXkiOiBudWxsLAogICJkYXNoT2Zmc2V0IjogbnVsbCwKICAiZmlsbCI6IHRydWUsCiAgImZpbGxDb2xvciI6ICJ5ZWxsb3ciLAogICJmaWxsT3BhY2l0eSI6IDAuNywKICAiZmlsbFJ1bGUiOiAiZXZlbm9kZCIsCiAgImxpbmVDYXAiOiAicm91bmQiLAogICJsaW5lSm9pbiI6ICJyb3VuZCIsCiAgIm9wYWNpdHkiOiAxLjAsCiAgInJhZGl1cyI6IDUsCiAgInN0cm9rZSI6IHRydWUsCiAgIndlaWdodCI6IDMKfQogICAgICAgICAgICAgICAgKS5hZGRUbyhtYXBfN2IxNWUwMjk5ZjVjNGZkYjhmN2JhMTBiMDgzY2U1MjEpOwogICAgICAgICAgICAKICAgIAogICAgICAgICAgICB2YXIgcG9wdXBfNDUwZjllNDM0YzQwNGU1NWExYmE1YmJjODljNjE0NjQgPSBMLnBvcHVwKHttYXhXaWR0aDogJzMwMCd9KTsKCiAgICAgICAgICAgIAogICAgICAgICAgICAgICAgdmFyIGh0bWxfMDI0MGQ5NmM5MmZhNDQwYTgzOTRlMTFhNjBjZGUyYzUgPSAkKCc8ZGl2IGlkPSJodG1sXzAyNDBkOTZjOTJmYTQ0MGE4Mzk0ZTExYTYwY2RlMmM1IiBzdHlsZT0id2lkdGg6IDEwMC4wJTsgaGVpZ2h0OiAxMDAuMCU7Ij5BYmhpcnVjaGkgUmVzdGF1cmFudCwgQ2x1c3RlciAyPC9kaXY+JylbMF07CiAgICAgICAgICAgICAgICBwb3B1cF80NTBmOWU0MzRjNDA0ZTU1YTFiYTViYmM4OWM2MTQ2NC5zZXRDb250ZW50KGh0bWxfMDI0MGQ5NmM5MmZhNDQwYTgzOTRlMTFhNjBjZGUyYzUpOwogICAgICAgICAgICAKCiAgICAgICAgICAgIGNpcmNsZV9tYXJrZXJfNDkxN2I2ZTUyMTFhNGM0MGI1ODZhMGJhMDI1NWNkY2EuYmluZFBvcHVwKHBvcHVwXzQ1MGY5ZTQzNGM0MDRlNTVhMWJhNWJiYzg5YzYxNDY0KTsKCiAgICAgICAgICAgIAogICAgICAgIAo8L3NjcmlwdD4= onload=\"this.contentDocument.open();this.contentDocument.write(atob(this.getAttribute('data-html')));this.contentDocument.close();\" allowfullscreen webkitallowfullscreen mozallowfullscreen></iframe></div></div>"
      ],
      "text/plain": [
       "<folium.folium.Map at 0x7f814df296a0>"
      ]
     },
     "execution_count": 147,
     "metadata": {},
     "output_type": "execute_result"
    }
   ],
   "source": [
    "cluster_map = folium.Map(location = [latitude, longitude], zoom_start = 11)\n",
    "\n",
    "x = np.arange(klstr)\n",
    "ys = [i + x + (i*x)**2 for i in range(klstr)]\n",
    "\n",
    "colors_array = cm.rainbow(np.linspace(0, 1, len(ys)))\n",
    "\n",
    "rainbow = [colors.rgb2hex(i) for i in colors_array]\n",
    "\n",
    "# Add markers to the map\n",
    "markers_colors = []\n",
    "for lat, lng, hood, cluster in zip(venues_df['Latitude'], venues_df['Longitude'], venues_df['Name'], venues_df['Cluster Labels']):\n",
    "    label = str(hood) + ', Cluster ' + str(cluster)\n",
    "    folium.CircleMarker(\n",
    "        [lat, lng],\n",
    "        radius = 5,\n",
    "        popup = label,\n",
    "        color = rainbow[cluster - 1],\n",
    "        fill = True,\n",
    "        fill_color = 'yellow',\n",
    "        fill_opacity = 0.7\n",
    "    ).add_to(cluster_map)\n",
    "\n",
    "\n",
    "cluster_map"
   ]
  },
  {
   "cell_type": "code",
   "execution_count": null,
   "metadata": {},
   "outputs": [],
   "source": []
  }
 ],
 "metadata": {
  "kernelspec": {
   "display_name": "Python",
   "language": "python",
   "name": "conda-env-python-py"
  },
  "language_info": {
   "codemirror_mode": {
    "name": "ipython",
    "version": 3
   },
   "file_extension": ".py",
   "mimetype": "text/x-python",
   "name": "python",
   "nbconvert_exporter": "python",
   "pygments_lexer": "ipython3",
   "version": "3.6.11"
  }
 },
 "nbformat": 4,
 "nbformat_minor": 4
}
