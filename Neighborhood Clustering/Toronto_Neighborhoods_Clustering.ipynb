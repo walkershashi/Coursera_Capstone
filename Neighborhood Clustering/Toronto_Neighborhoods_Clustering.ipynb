{
 "cells": [
  {
   "cell_type": "code",
   "execution_count": 1,
   "metadata": {},
   "outputs": [],
   "source": [
    "#import necessary modules\n",
    "import csv\n",
    "import requests\n",
    "import numpy as np\n",
    "import pandas as pd"
   ]
  },
  {
   "source": [
    "# Load the CSV file\n",
    "df = pd.read_csv('data/Toronto Neighbourhood Data.csv')\n",
    "df.drop(columns = ['Unnamed: 0'], axis = 1, inplace = True)\n",
    "\n",
    "df.head()"
   ],
   "cell_type": "code",
   "metadata": {},
   "execution_count": 2,
   "outputs": [
    {
     "output_type": "execute_result",
     "data": {
      "text/plain": [
       "  Postal Code           Borough                                Neighbourhood  \\\n",
       "0         M3A        North York                                    Parkwoods   \n",
       "1         M4A        North York                             Victoria Village   \n",
       "2         M5A  Downtown Toronto                    Regent Park, Harbourfront   \n",
       "3         M6A        North York             Lawrence Manor, Lawrence Heights   \n",
       "4         M7A  Downtown Toronto  Queen's Park, Ontario Provincial Government   \n",
       "\n",
       "    Latitude  Longitude  \n",
       "0  43.753259 -79.329656  \n",
       "1  43.725882 -79.315572  \n",
       "2  43.654260 -79.360636  \n",
       "3  43.718518 -79.464763  \n",
       "4  43.662301 -79.389494  "
      ],
      "text/html": "<div>\n<style scoped>\n    .dataframe tbody tr th:only-of-type {\n        vertical-align: middle;\n    }\n\n    .dataframe tbody tr th {\n        vertical-align: top;\n    }\n\n    .dataframe thead th {\n        text-align: right;\n    }\n</style>\n<table border=\"1\" class=\"dataframe\">\n  <thead>\n    <tr style=\"text-align: right;\">\n      <th></th>\n      <th>Postal Code</th>\n      <th>Borough</th>\n      <th>Neighbourhood</th>\n      <th>Latitude</th>\n      <th>Longitude</th>\n    </tr>\n  </thead>\n  <tbody>\n    <tr>\n      <th>0</th>\n      <td>M3A</td>\n      <td>North York</td>\n      <td>Parkwoods</td>\n      <td>43.753259</td>\n      <td>-79.329656</td>\n    </tr>\n    <tr>\n      <th>1</th>\n      <td>M4A</td>\n      <td>North York</td>\n      <td>Victoria Village</td>\n      <td>43.725882</td>\n      <td>-79.315572</td>\n    </tr>\n    <tr>\n      <th>2</th>\n      <td>M5A</td>\n      <td>Downtown Toronto</td>\n      <td>Regent Park, Harbourfront</td>\n      <td>43.654260</td>\n      <td>-79.360636</td>\n    </tr>\n    <tr>\n      <th>3</th>\n      <td>M6A</td>\n      <td>North York</td>\n      <td>Lawrence Manor, Lawrence Heights</td>\n      <td>43.718518</td>\n      <td>-79.464763</td>\n    </tr>\n    <tr>\n      <th>4</th>\n      <td>M7A</td>\n      <td>Downtown Toronto</td>\n      <td>Queen's Park, Ontario Provincial Government</td>\n      <td>43.662301</td>\n      <td>-79.389494</td>\n    </tr>\n  </tbody>\n</table>\n</div>"
     },
     "metadata": {},
     "execution_count": 2
    }
   ]
  },
  {
   "cell_type": "markdown",
   "metadata": {},
   "source": [
    "#### Extract the neighborhood that are located near toronto only or containes the word Toronto in it\n"
   ]
  },
  {
   "cell_type": "code",
   "execution_count": 3,
   "metadata": {},
   "outputs": [
    {
     "output_type": "execute_result",
     "data": {
      "text/plain": [
       "  Postal Code           Borough                                Neighbourhood  \\\n",
       "0         M5A  Downtown Toronto                    Regent Park, Harbourfront   \n",
       "1         M7A  Downtown Toronto  Queen's Park, Ontario Provincial Government   \n",
       "2         M5B  Downtown Toronto                     Garden District, Ryerson   \n",
       "3         M5C  Downtown Toronto                               St. James Town   \n",
       "4         M4E      East Toronto                                  The Beaches   \n",
       "\n",
       "    Latitude  Longitude  \n",
       "0  43.654260 -79.360636  \n",
       "1  43.662301 -79.389494  \n",
       "2  43.657162 -79.378937  \n",
       "3  43.651494 -79.375418  \n",
       "4  43.676357 -79.293031  "
      ],
      "text/html": "<div>\n<style scoped>\n    .dataframe tbody tr th:only-of-type {\n        vertical-align: middle;\n    }\n\n    .dataframe tbody tr th {\n        vertical-align: top;\n    }\n\n    .dataframe thead th {\n        text-align: right;\n    }\n</style>\n<table border=\"1\" class=\"dataframe\">\n  <thead>\n    <tr style=\"text-align: right;\">\n      <th></th>\n      <th>Postal Code</th>\n      <th>Borough</th>\n      <th>Neighbourhood</th>\n      <th>Latitude</th>\n      <th>Longitude</th>\n    </tr>\n  </thead>\n  <tbody>\n    <tr>\n      <th>0</th>\n      <td>M5A</td>\n      <td>Downtown Toronto</td>\n      <td>Regent Park, Harbourfront</td>\n      <td>43.654260</td>\n      <td>-79.360636</td>\n    </tr>\n    <tr>\n      <th>1</th>\n      <td>M7A</td>\n      <td>Downtown Toronto</td>\n      <td>Queen's Park, Ontario Provincial Government</td>\n      <td>43.662301</td>\n      <td>-79.389494</td>\n    </tr>\n    <tr>\n      <th>2</th>\n      <td>M5B</td>\n      <td>Downtown Toronto</td>\n      <td>Garden District, Ryerson</td>\n      <td>43.657162</td>\n      <td>-79.378937</td>\n    </tr>\n    <tr>\n      <th>3</th>\n      <td>M5C</td>\n      <td>Downtown Toronto</td>\n      <td>St. James Town</td>\n      <td>43.651494</td>\n      <td>-79.375418</td>\n    </tr>\n    <tr>\n      <th>4</th>\n      <td>M4E</td>\n      <td>East Toronto</td>\n      <td>The Beaches</td>\n      <td>43.676357</td>\n      <td>-79.293031</td>\n    </tr>\n  </tbody>\n</table>\n</div>"
     },
     "metadata": {},
     "execution_count": 3
    }
   ],
   "source": [
    "toronto_df = df[df['Borough'].str.contains('Toronto')].reset_index()\n",
    "\n",
    "# drop the index column\n",
    "toronto_df.drop(['index'], axis = 1, inplace = True)\n",
    "toronto_df.head()"
   ]
  },
  {
   "cell_type": "code",
   "execution_count": 4,
   "metadata": {},
   "outputs": [
    {
     "output_type": "stream",
     "name": "stdout",
     "text": [
      "The geograpical coordinate of Toronto are 43.6534817, -79.3839347.\n"
     ]
    }
   ],
   "source": [
    "from geopy.geocoders import Nominatim\n",
    "\n",
    "# get the coordinates of the Toronto region\n",
    "address = 'Toronto'\n",
    "geolocator = Nominatim(user_agent=\"ny_explorer\")\n",
    "location = geolocator.geocode(address)\n",
    "\n",
    "latitude = location.latitude\n",
    "longitude = location.longitude\n",
    "\n",
    "print('The geograpical coordinate of Toronto are {}, {}.'.format(latitude, longitude))"
   ]
  },
  {
   "cell_type": "code",
   "execution_count": 5,
   "metadata": {},
   "outputs": [
    {
     "output_type": "execute_result",
     "data": {
      "text/plain": [
       "<folium.folium.Map at 0x16716b47e08>"
      ],
      "text/html": "<div style=\"width:100%;\"><div style=\"position:relative;width:100%;height:0;padding-bottom:60%;\"><span style=\"color:#565656\">Make this Notebook Trusted to load map: File -> Trust Notebook</span><iframe src=\"about:blank\" style=\"position:absolute;width:100%;height:100%;left:0;top:0;border:none !important;\" data-html=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 onload=\"this.contentDocument.open();this.contentDocument.write(atob(this.getAttribute('data-html')));this.contentDocument.close();\" allowfullscreen webkitallowfullscreen mozallowfullscreen></iframe></div></div>"
     },
     "metadata": {},
     "execution_count": 5
    }
   ],
   "source": [
    "# Visualize all the neighbourhoods on the Map\n",
    "import folium\n",
    "\n",
    "toronto_map = folium.Map(location= [latitude, longitude], zoom_start = 11)\n",
    "\n",
    "# plot the points on the map\n",
    "for lat, lng in zip(toronto_df['Latitude'], toronto_df['Longitude']):\n",
    "    folium.CircleMarker(\n",
    "        [lat, lng],\n",
    "        radius = 5,\n",
    "        color = 'yellow',\n",
    "        fill= True, \n",
    "        fill_color = 'blue',\n",
    "        fill_opacity = 0.7\n",
    "    ).add_to(toronto_map)\n",
    "\n",
    "toronto_map"
   ]
  },
  {
   "cell_type": "code",
   "execution_count": 6,
   "metadata": {},
   "outputs": [
    {
     "output_type": "execute_result",
     "data": {
      "text/plain": [
       "<folium.folium.Map at 0x1672882d288>"
      ],
      "text/html": "<div style=\"width:100%;\"><div style=\"position:relative;width:100%;height:0;padding-bottom:60%;\"><span style=\"color:#565656\">Make this Notebook Trusted to load map: File -> Trust Notebook</span><iframe src=\"about:blank\" style=\"position:absolute;width:100%;height:100%;left:0;top:0;border:none !important;\" data-html=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 onload=\"this.contentDocument.open();this.contentDocument.write(atob(this.getAttribute('data-html')));this.contentDocument.close();\" allowfullscreen webkitallowfullscreen mozallowfullscreen></iframe></div></div>"
     },
     "metadata": {},
     "execution_count": 6
    }
   ],
   "source": [
    "# Visualize all the neighbourhoods on the Map\n",
    "import folium\n",
    "\n",
    "toronto_map = folium.Map(location = [latitude, longitude], zoom_start = 11)\n",
    "\n",
    "# plot the points on the map\n",
    "for lat, lng in zip(toronto_df['Latitude'], toronto_df['Longitude']):\n",
    "    folium.CircleMarker(\n",
    "        [lat, lng],\n",
    "        radius = 5,\n",
    "        color = 'yellow',\n",
    "        fill= True, \n",
    "        fill_color = 'blue',\n",
    "        fill_opacity = 0.7\n",
    "    ).add_to(toronto_map)\n",
    "\n",
    "toronto_map\n",
    "\n",
    "# Add popup labels\n",
    "latitudes, longitudes = toronto_df.Latitude, toronto_df.Longitude\n",
    "names = toronto_df.Neighbourhood\n",
    "for lat, lng, label in zip(latitudes, longitudes, names):\n",
    "    folium.Marker(\n",
    "        [lat, lng],\n",
    "        popup = label\n",
    "    ).add_to(toronto_map)\n",
    "\n",
    "toronto_map"
   ]
  },
  {
   "source": [
    "### Exploring the neighborhoods"
   ],
   "cell_type": "markdown",
   "metadata": {}
  },
  {
   "cell_type": "code",
   "execution_count": 7,
   "metadata": {},
   "outputs": [
    {
     "output_type": "stream",
     "name": "stdout",
     "text": [
      "Your credentails:\nCLIENT_ID: OECZ01BUCTDUDGR0YUA4VKHV1T4COOU5535O5OKPCJFEAU3F\nCLIENT_SECRET:FETLWMYN0AT51PPEKTIYBFRENECKX1OBTUMNN5U2BHI3TH0K\n"
     ]
    }
   ],
   "source": [
    "# Define Foursquare Credentials\n",
    "\n",
    "CLIENT_ID = 'OECZ01BUCTDUDGR0YUA4VKHV1T4COOU5535O5OKPCJFEAU3F' # your Foursquare ID\n",
    "CLIENT_SECRET = 'FETLWMYN0AT51PPEKTIYBFRENECKX1OBTUMNN5U2BHI3TH0K' # your Foursquare Secret\n",
    "VERSION = '20180605' # Foursquare API version\n",
    "\n",
    "print('Your credentails:')\n",
    "print('CLIENT_ID: ' + CLIENT_ID)\n",
    "print('CLIENT_SECRET:' + CLIENT_SECRET)"
   ]
  },
  {
   "cell_type": "code",
   "execution_count": 8,
   "metadata": {},
   "outputs": [
    {
     "output_type": "execute_result",
     "data": {
      "text/plain": [
       "'Regent Park, Harbourfront'"
      ]
     },
     "metadata": {},
     "execution_count": 8
    }
   ],
   "source": [
    "# Let's explore the first neighborhood\n",
    "\n",
    "neighbor = toronto_df['Neighbourhood'].iloc[0]\n",
    "neighbor"
   ]
  },
  {
   "source": [
    "#### Get the neighbourhood Co-Ordinates"
   ],
   "cell_type": "markdown",
   "metadata": {}
  },
  {
   "cell_type": "code",
   "execution_count": 9,
   "metadata": {},
   "outputs": [
    {
     "output_type": "execute_result",
     "data": {
      "text/plain": [
       "(43.6542599, -79.3606359)"
      ]
     },
     "metadata": {},
     "execution_count": 9
    }
   ],
   "source": [
    "neighbor_lat = toronto_df['Latitude'].iloc[0]\n",
    "neighbor_lng = toronto_df['Longitude'].iloc[0]\n",
    "\n",
    "neighbor_lat, neighbor_lng"
   ]
  },
  {
   "source": [
    "#### Get the top 100 venues that are in the radius of 500 meters of this neighbourhood"
   ],
   "cell_type": "markdown",
   "metadata": {}
  },
  {
   "cell_type": "code",
   "execution_count": 10,
   "metadata": {},
   "outputs": [
    {
     "output_type": "execute_result",
     "data": {
      "text/plain": [
       "'https://api.foursquare.com/v2/venues/explore?&client_id=OECZ01BUCTDUDGR0YUA4VKHV1T4COOU5535O5OKPCJFEAU3F&client_secret=FETLWMYN0AT51PPEKTIYBFRENECKX1OBTUMNN5U2BHI3TH0K&v=20180605&ll=43.6542599,-79.3606359&radius=500&limit=100'"
      ]
     },
     "metadata": {},
     "execution_count": 10
    }
   ],
   "source": [
    "LIMIT = 100\n",
    "radius = 500\n",
    "\n",
    "url = 'https://api.foursquare.com/v2/venues/explore?&client_id={}&client_secret={}&v={}&ll={},{}&radius={}&limit={}'.format(\n",
    "    CLIENT_ID, \n",
    "    CLIENT_SECRET, \n",
    "    VERSION, \n",
    "    neighbor_lat, \n",
    "    neighbor_lng, \n",
    "    radius, \n",
    "    LIMIT)\n",
    "\n",
    "url"
   ]
  },
  {
   "cell_type": "code",
   "execution_count": 11,
   "metadata": {},
   "outputs": [
    {
     "output_type": "execute_result",
     "data": {
      "text/plain": [
       "dict_keys(['meta', 'response'])"
      ]
     },
     "metadata": {},
     "execution_count": 11
    }
   ],
   "source": [
    "# Get the response\n",
    "import requests\n",
    "import json\n",
    "from pandas.io.json import json_normalize # tranform JSON file into a pandas dataframe\n",
    "\n",
    "\n",
    "results = requests.get(url).json()\n",
    "results.keys()"
   ]
  },
  {
   "cell_type": "code",
   "execution_count": 12,
   "metadata": {},
   "outputs": [],
   "source": [
    "# function to extract the category of the venue\n",
    "def get_category_type(row):\n",
    "    categories_list = row['venue.categories']\n",
    "    \n",
    "    if len(categories_list) == 0:\n",
    "        return None\n",
    "    else:\n",
    "        return categories_list[0]['name']"
   ]
  },
  {
   "cell_type": "code",
   "execution_count": 13,
   "metadata": {},
   "outputs": [
    {
     "output_type": "stream",
     "name": "stdout",
     "text": [
      "44 venues were returned by Foursquare\n"
     ]
    },
    {
     "output_type": "execute_result",
     "data": {
      "text/plain": [
       "                     name           categories        lat        lng\n",
       "0        Roselle Desserts               Bakery  43.653447 -79.362017\n",
       "1           Tandem Coffee          Coffee Shop  43.653559 -79.361809\n",
       "2  Cooper Koo Family YMCA  Distribution Center  43.653249 -79.358008\n",
       "3     Body Blitz Spa East                  Spa  43.654735 -79.359874\n",
       "4          Impact Kitchen           Restaurant  43.656369 -79.356980"
      ],
      "text/html": "<div>\n<style scoped>\n    .dataframe tbody tr th:only-of-type {\n        vertical-align: middle;\n    }\n\n    .dataframe tbody tr th {\n        vertical-align: top;\n    }\n\n    .dataframe thead th {\n        text-align: right;\n    }\n</style>\n<table border=\"1\" class=\"dataframe\">\n  <thead>\n    <tr style=\"text-align: right;\">\n      <th></th>\n      <th>name</th>\n      <th>categories</th>\n      <th>lat</th>\n      <th>lng</th>\n    </tr>\n  </thead>\n  <tbody>\n    <tr>\n      <th>0</th>\n      <td>Roselle Desserts</td>\n      <td>Bakery</td>\n      <td>43.653447</td>\n      <td>-79.362017</td>\n    </tr>\n    <tr>\n      <th>1</th>\n      <td>Tandem Coffee</td>\n      <td>Coffee Shop</td>\n      <td>43.653559</td>\n      <td>-79.361809</td>\n    </tr>\n    <tr>\n      <th>2</th>\n      <td>Cooper Koo Family YMCA</td>\n      <td>Distribution Center</td>\n      <td>43.653249</td>\n      <td>-79.358008</td>\n    </tr>\n    <tr>\n      <th>3</th>\n      <td>Body Blitz Spa East</td>\n      <td>Spa</td>\n      <td>43.654735</td>\n      <td>-79.359874</td>\n    </tr>\n    <tr>\n      <th>4</th>\n      <td>Impact Kitchen</td>\n      <td>Restaurant</td>\n      <td>43.656369</td>\n      <td>-79.356980</td>\n    </tr>\n  </tbody>\n</table>\n</div>"
     },
     "metadata": {},
     "execution_count": 13
    }
   ],
   "source": [
    "# filter the results\n",
    "\n",
    "venues = json_normalize(results['response']['groups'][0]['items'])\n",
    "\n",
    "# Filter columns\n",
    "filtered_columns = ['venue.name', 'venue.categories', 'venue.location.lat', 'venue.location.lng']\n",
    "venues = venues.loc[:, filtered_columns]\n",
    "\n",
    "# filter the category of each result\n",
    "venues['venue.categories'] = venues.apply(get_category_type, axis = 1)\n",
    "\n",
    "# clean columns\n",
    "venues.columns = [col.split(\".\")[-1] for col in venues.columns]\n",
    "\n",
    "print('{} venues were returned by Foursquare'.format(venues.shape[0]))\n",
    "\n",
    "venues.head()"
   ]
  },
  {
   "source": [
    "### Explore the Neighbourhood in Toronto Region "
   ],
   "cell_type": "markdown",
   "metadata": {}
  },
  {
   "cell_type": "code",
   "execution_count": 14,
   "metadata": {},
   "outputs": [],
   "source": [
    "# function to return all the nearby venues of the Toronto Neighbourhood\n",
    "def getNearbyVenues(names, latitudes, longitudes, radius = 500, LIMIT = 100):\n",
    "    \n",
    "    venues_list = []\n",
    "    for name, lat, lng in zip(names, latitudes, longitudes):\n",
    "        url = 'https://api.foursquare.com/v2/venues/explore?&client_id={}&client_secret={}&v={}&ll={},{}&radius={}&limit={}'.format(\n",
    "            CLIENT_ID, \n",
    "            CLIENT_SECRET, \n",
    "            VERSION, \n",
    "            lat, \n",
    "            lng, \n",
    "            radius, \n",
    "            LIMIT)\n",
    "        \n",
    "        # Get the response\n",
    "        results = requests.get(url).json()['response']['groups'][0]['items']\n",
    "        \n",
    "        venues_list.append([(\n",
    "            name,\n",
    "            lat,\n",
    "            lng,\n",
    "            v['venue']['name'],\n",
    "            v['venue']['categories'][0]['name'],\n",
    "            v['venue']['location']['lat'],\n",
    "            v['venue']['location']['lng']\n",
    "            ) for v in results])\n",
    "        \n",
    "    nearby_venues = pd.DataFrame([item for venue_list in venues_list for item in venue_list])\n",
    "        \n",
    "    nearby_venues.columns = ['Neighbourhood', \n",
    "        'Neighbourhood Latitude',\n",
    "        'Neighbourhood Longitude',\n",
    "        'Venue',\n",
    "        'Venue Category',\n",
    "        'Venue Latitude',\n",
    "        'Venue Longitude']\n",
    "\n",
    "    return(nearby_venues)\n",
    "    "
   ]
  },
  {
   "cell_type": "code",
   "execution_count": 15,
   "metadata": {
    "tags": []
   },
   "outputs": [],
   "source": [
    "toronto_venues = getNearbyVenues(\n",
    "    names = toronto_df['Neighbourhood'],\n",
    "    latitudes = toronto_df['Latitude'],\n",
    "    longitudes = toronto_df['Longitude']\n",
    ")\n"
   ]
  },
  {
   "cell_type": "code",
   "execution_count": 16,
   "metadata": {},
   "outputs": [
    {
     "output_type": "stream",
     "name": "stdout",
     "text": [
      "(1624, 7)\n"
     ]
    },
    {
     "output_type": "execute_result",
     "data": {
      "text/plain": [
       "               Neighbourhood  Neighbourhood Latitude  Neighbourhood Longitude  \\\n",
       "0  Regent Park, Harbourfront                43.65426               -79.360636   \n",
       "1  Regent Park, Harbourfront                43.65426               -79.360636   \n",
       "2  Regent Park, Harbourfront                43.65426               -79.360636   \n",
       "3  Regent Park, Harbourfront                43.65426               -79.360636   \n",
       "4  Regent Park, Harbourfront                43.65426               -79.360636   \n",
       "\n",
       "                    Venue       Venue Category  Venue Latitude  \\\n",
       "0        Roselle Desserts               Bakery       43.653447   \n",
       "1           Tandem Coffee          Coffee Shop       43.653559   \n",
       "2  Cooper Koo Family YMCA  Distribution Center       43.653249   \n",
       "3     Body Blitz Spa East                  Spa       43.654735   \n",
       "4          Impact Kitchen           Restaurant       43.656369   \n",
       "\n",
       "   Venue Longitude  \n",
       "0       -79.362017  \n",
       "1       -79.361809  \n",
       "2       -79.358008  \n",
       "3       -79.359874  \n",
       "4       -79.356980  "
      ],
      "text/html": "<div>\n<style scoped>\n    .dataframe tbody tr th:only-of-type {\n        vertical-align: middle;\n    }\n\n    .dataframe tbody tr th {\n        vertical-align: top;\n    }\n\n    .dataframe thead th {\n        text-align: right;\n    }\n</style>\n<table border=\"1\" class=\"dataframe\">\n  <thead>\n    <tr style=\"text-align: right;\">\n      <th></th>\n      <th>Neighbourhood</th>\n      <th>Neighbourhood Latitude</th>\n      <th>Neighbourhood Longitude</th>\n      <th>Venue</th>\n      <th>Venue Category</th>\n      <th>Venue Latitude</th>\n      <th>Venue Longitude</th>\n    </tr>\n  </thead>\n  <tbody>\n    <tr>\n      <th>0</th>\n      <td>Regent Park, Harbourfront</td>\n      <td>43.65426</td>\n      <td>-79.360636</td>\n      <td>Roselle Desserts</td>\n      <td>Bakery</td>\n      <td>43.653447</td>\n      <td>-79.362017</td>\n    </tr>\n    <tr>\n      <th>1</th>\n      <td>Regent Park, Harbourfront</td>\n      <td>43.65426</td>\n      <td>-79.360636</td>\n      <td>Tandem Coffee</td>\n      <td>Coffee Shop</td>\n      <td>43.653559</td>\n      <td>-79.361809</td>\n    </tr>\n    <tr>\n      <th>2</th>\n      <td>Regent Park, Harbourfront</td>\n      <td>43.65426</td>\n      <td>-79.360636</td>\n      <td>Cooper Koo Family YMCA</td>\n      <td>Distribution Center</td>\n      <td>43.653249</td>\n      <td>-79.358008</td>\n    </tr>\n    <tr>\n      <th>3</th>\n      <td>Regent Park, Harbourfront</td>\n      <td>43.65426</td>\n      <td>-79.360636</td>\n      <td>Body Blitz Spa East</td>\n      <td>Spa</td>\n      <td>43.654735</td>\n      <td>-79.359874</td>\n    </tr>\n    <tr>\n      <th>4</th>\n      <td>Regent Park, Harbourfront</td>\n      <td>43.65426</td>\n      <td>-79.360636</td>\n      <td>Impact Kitchen</td>\n      <td>Restaurant</td>\n      <td>43.656369</td>\n      <td>-79.356980</td>\n    </tr>\n  </tbody>\n</table>\n</div>"
     },
     "metadata": {},
     "execution_count": 16
    }
   ],
   "source": [
    "print(toronto_venues.shape)\n",
    "toronto_venues.head()"
   ]
  },
  {
   "source": [
    "#### Group All the venues by the neighborhoods"
   ],
   "cell_type": "markdown",
   "metadata": {}
  },
  {
   "cell_type": "code",
   "execution_count": 17,
   "metadata": {},
   "outputs": [
    {
     "output_type": "execute_result",
     "data": {
      "text/plain": [
       "                                                    Neighbourhood Latitude  \\\n",
       "Neighbourhood                                                                \n",
       "Berczy Park                                                             55   \n",
       "Brockton, Parkdale Village, Exhibition Place                            23   \n",
       "Business reply mail Processing Centre, South Ce...                      16   \n",
       "CN Tower, King and Spadina, Railway Lands, Harb...                      16   \n",
       "Central Bay Street                                                      68   \n",
       "\n",
       "                                                    Neighbourhood Longitude  \\\n",
       "Neighbourhood                                                                 \n",
       "Berczy Park                                                              55   \n",
       "Brockton, Parkdale Village, Exhibition Place                             23   \n",
       "Business reply mail Processing Centre, South Ce...                       16   \n",
       "CN Tower, King and Spadina, Railway Lands, Harb...                       16   \n",
       "Central Bay Street                                                       68   \n",
       "\n",
       "                                                    Venue  Venue Category  \\\n",
       "Neighbourhood                                                               \n",
       "Berczy Park                                            55              55   \n",
       "Brockton, Parkdale Village, Exhibition Place           23              23   \n",
       "Business reply mail Processing Centre, South Ce...     16              16   \n",
       "CN Tower, King and Spadina, Railway Lands, Harb...     16              16   \n",
       "Central Bay Street                                     68              68   \n",
       "\n",
       "                                                    Venue Latitude  \\\n",
       "Neighbourhood                                                        \n",
       "Berczy Park                                                     55   \n",
       "Brockton, Parkdale Village, Exhibition Place                    23   \n",
       "Business reply mail Processing Centre, South Ce...              16   \n",
       "CN Tower, King and Spadina, Railway Lands, Harb...              16   \n",
       "Central Bay Street                                              68   \n",
       "\n",
       "                                                    Venue Longitude  \n",
       "Neighbourhood                                                        \n",
       "Berczy Park                                                      55  \n",
       "Brockton, Parkdale Village, Exhibition Place                     23  \n",
       "Business reply mail Processing Centre, South Ce...               16  \n",
       "CN Tower, King and Spadina, Railway Lands, Harb...               16  \n",
       "Central Bay Street                                               68  "
      ],
      "text/html": "<div>\n<style scoped>\n    .dataframe tbody tr th:only-of-type {\n        vertical-align: middle;\n    }\n\n    .dataframe tbody tr th {\n        vertical-align: top;\n    }\n\n    .dataframe thead th {\n        text-align: right;\n    }\n</style>\n<table border=\"1\" class=\"dataframe\">\n  <thead>\n    <tr style=\"text-align: right;\">\n      <th></th>\n      <th>Neighbourhood Latitude</th>\n      <th>Neighbourhood Longitude</th>\n      <th>Venue</th>\n      <th>Venue Category</th>\n      <th>Venue Latitude</th>\n      <th>Venue Longitude</th>\n    </tr>\n    <tr>\n      <th>Neighbourhood</th>\n      <th></th>\n      <th></th>\n      <th></th>\n      <th></th>\n      <th></th>\n      <th></th>\n    </tr>\n  </thead>\n  <tbody>\n    <tr>\n      <th>Berczy Park</th>\n      <td>55</td>\n      <td>55</td>\n      <td>55</td>\n      <td>55</td>\n      <td>55</td>\n      <td>55</td>\n    </tr>\n    <tr>\n      <th>Brockton, Parkdale Village, Exhibition Place</th>\n      <td>23</td>\n      <td>23</td>\n      <td>23</td>\n      <td>23</td>\n      <td>23</td>\n      <td>23</td>\n    </tr>\n    <tr>\n      <th>Business reply mail Processing Centre, South Central Letter Processing Plant Toronto</th>\n      <td>16</td>\n      <td>16</td>\n      <td>16</td>\n      <td>16</td>\n      <td>16</td>\n      <td>16</td>\n    </tr>\n    <tr>\n      <th>CN Tower, King and Spadina, Railway Lands, Harbourfront West, Bathurst Quay, South Niagara, Island airport</th>\n      <td>16</td>\n      <td>16</td>\n      <td>16</td>\n      <td>16</td>\n      <td>16</td>\n      <td>16</td>\n    </tr>\n    <tr>\n      <th>Central Bay Street</th>\n      <td>68</td>\n      <td>68</td>\n      <td>68</td>\n      <td>68</td>\n      <td>68</td>\n      <td>68</td>\n    </tr>\n  </tbody>\n</table>\n</div>"
     },
     "metadata": {},
     "execution_count": 17
    }
   ],
   "source": [
    "toronto_venues.groupby('Neighbourhood').count().head()"
   ]
  },
  {
   "cell_type": "code",
   "execution_count": 18,
   "metadata": {},
   "outputs": [
    {
     "output_type": "stream",
     "name": "stdout",
     "text": [
      "There are total of 237 unique categories\n"
     ]
    }
   ],
   "source": [
    "# Total Number of Unique Categories\n",
    "print('There are total of {} unique categories'.format(len(toronto_venues['Venue Category'].unique())))"
   ]
  },
  {
   "source": [
    "### Analyze Each Neighbourhood"
   ],
   "cell_type": "markdown",
   "metadata": {}
  },
  {
   "cell_type": "code",
   "execution_count": 19,
   "metadata": {},
   "outputs": [
    {
     "output_type": "execute_result",
     "data": {
      "text/plain": [
       "               Neighbourhood  Afghan Restaurant  Airport  Airport Food Court  \\\n",
       "0  Regent Park, Harbourfront                  0        0                   0   \n",
       "1  Regent Park, Harbourfront                  0        0                   0   \n",
       "2  Regent Park, Harbourfront                  0        0                   0   \n",
       "3  Regent Park, Harbourfront                  0        0                   0   \n",
       "4  Regent Park, Harbourfront                  0        0                   0   \n",
       "\n",
       "   Airport Gate  Airport Lounge  Airport Service  Airport Terminal  \\\n",
       "0             0               0                0                 0   \n",
       "1             0               0                0                 0   \n",
       "2             0               0                0                 0   \n",
       "3             0               0                0                 0   \n",
       "4             0               0                0                 0   \n",
       "\n",
       "   American Restaurant  Antique Shop  ...  Theme Restaurant  Toy / Game Store  \\\n",
       "0                    0             0  ...                 0                 0   \n",
       "1                    0             0  ...                 0                 0   \n",
       "2                    0             0  ...                 0                 0   \n",
       "3                    0             0  ...                 0                 0   \n",
       "4                    0             0  ...                 0                 0   \n",
       "\n",
       "   Trail  Train Station  Vegetarian / Vegan Restaurant  Video Game Store  \\\n",
       "0      0              0                              0                 0   \n",
       "1      0              0                              0                 0   \n",
       "2      0              0                              0                 0   \n",
       "3      0              0                              0                 0   \n",
       "4      0              0                              0                 0   \n",
       "\n",
       "   Vietnamese Restaurant  Wine Bar  Women's Store  Yoga Studio  \n",
       "0                      0         0              0            0  \n",
       "1                      0         0              0            0  \n",
       "2                      0         0              0            0  \n",
       "3                      0         0              0            0  \n",
       "4                      0         0              0            0  \n",
       "\n",
       "[5 rows x 238 columns]"
      ],
      "text/html": "<div>\n<style scoped>\n    .dataframe tbody tr th:only-of-type {\n        vertical-align: middle;\n    }\n\n    .dataframe tbody tr th {\n        vertical-align: top;\n    }\n\n    .dataframe thead th {\n        text-align: right;\n    }\n</style>\n<table border=\"1\" class=\"dataframe\">\n  <thead>\n    <tr style=\"text-align: right;\">\n      <th></th>\n      <th>Neighbourhood</th>\n      <th>Afghan Restaurant</th>\n      <th>Airport</th>\n      <th>Airport Food Court</th>\n      <th>Airport Gate</th>\n      <th>Airport Lounge</th>\n      <th>Airport Service</th>\n      <th>Airport Terminal</th>\n      <th>American Restaurant</th>\n      <th>Antique Shop</th>\n      <th>...</th>\n      <th>Theme Restaurant</th>\n      <th>Toy / Game Store</th>\n      <th>Trail</th>\n      <th>Train Station</th>\n      <th>Vegetarian / Vegan Restaurant</th>\n      <th>Video Game Store</th>\n      <th>Vietnamese Restaurant</th>\n      <th>Wine Bar</th>\n      <th>Women's Store</th>\n      <th>Yoga Studio</th>\n    </tr>\n  </thead>\n  <tbody>\n    <tr>\n      <th>0</th>\n      <td>Regent Park, Harbourfront</td>\n      <td>0</td>\n      <td>0</td>\n      <td>0</td>\n      <td>0</td>\n      <td>0</td>\n      <td>0</td>\n      <td>0</td>\n      <td>0</td>\n      <td>0</td>\n      <td>...</td>\n      <td>0</td>\n      <td>0</td>\n      <td>0</td>\n      <td>0</td>\n      <td>0</td>\n      <td>0</td>\n      <td>0</td>\n      <td>0</td>\n      <td>0</td>\n      <td>0</td>\n    </tr>\n    <tr>\n      <th>1</th>\n      <td>Regent Park, Harbourfront</td>\n      <td>0</td>\n      <td>0</td>\n      <td>0</td>\n      <td>0</td>\n      <td>0</td>\n      <td>0</td>\n      <td>0</td>\n      <td>0</td>\n      <td>0</td>\n      <td>...</td>\n      <td>0</td>\n      <td>0</td>\n      <td>0</td>\n      <td>0</td>\n      <td>0</td>\n      <td>0</td>\n      <td>0</td>\n      <td>0</td>\n      <td>0</td>\n      <td>0</td>\n    </tr>\n    <tr>\n      <th>2</th>\n      <td>Regent Park, Harbourfront</td>\n      <td>0</td>\n      <td>0</td>\n      <td>0</td>\n      <td>0</td>\n      <td>0</td>\n      <td>0</td>\n      <td>0</td>\n      <td>0</td>\n      <td>0</td>\n      <td>...</td>\n      <td>0</td>\n      <td>0</td>\n      <td>0</td>\n      <td>0</td>\n      <td>0</td>\n      <td>0</td>\n      <td>0</td>\n      <td>0</td>\n      <td>0</td>\n      <td>0</td>\n    </tr>\n    <tr>\n      <th>3</th>\n      <td>Regent Park, Harbourfront</td>\n      <td>0</td>\n      <td>0</td>\n      <td>0</td>\n      <td>0</td>\n      <td>0</td>\n      <td>0</td>\n      <td>0</td>\n      <td>0</td>\n      <td>0</td>\n      <td>...</td>\n      <td>0</td>\n      <td>0</td>\n      <td>0</td>\n      <td>0</td>\n      <td>0</td>\n      <td>0</td>\n      <td>0</td>\n      <td>0</td>\n      <td>0</td>\n      <td>0</td>\n    </tr>\n    <tr>\n      <th>4</th>\n      <td>Regent Park, Harbourfront</td>\n      <td>0</td>\n      <td>0</td>\n      <td>0</td>\n      <td>0</td>\n      <td>0</td>\n      <td>0</td>\n      <td>0</td>\n      <td>0</td>\n      <td>0</td>\n      <td>...</td>\n      <td>0</td>\n      <td>0</td>\n      <td>0</td>\n      <td>0</td>\n      <td>0</td>\n      <td>0</td>\n      <td>0</td>\n      <td>0</td>\n      <td>0</td>\n      <td>0</td>\n    </tr>\n  </tbody>\n</table>\n<p>5 rows × 238 columns</p>\n</div>"
     },
     "metadata": {},
     "execution_count": 19
    }
   ],
   "source": [
    "toronto_onehot = pd.get_dummies(toronto_venues[['Venue Category']], prefix = \"\", prefix_sep = \"\")\n",
    "\n",
    "# Add the Neighbourhood column\n",
    "toronto_onehot['Neighbourhood'] = toronto_venues['Neighbourhood']\n",
    "\n",
    "# Move the Neighbourhood column to the first columns\n",
    "fixed_col = [toronto_onehot.columns[-1]] + list(toronto_onehot.columns[:-1])\n",
    "toronto_onehot = toronto_onehot[fixed_col]\n",
    "\n",
    "toronto_onehot.head()"
   ]
  },
  {
   "source": [
    "#### Next, let's group rows by neighborhood and by taking the mean of the frequency of occurrence of each category"
   ],
   "cell_type": "markdown",
   "metadata": {}
  },
  {
   "cell_type": "code",
   "execution_count": 20,
   "metadata": {},
   "outputs": [
    {
     "output_type": "execute_result",
     "data": {
      "text/plain": [
       "                                       Neighbourhood  Afghan Restaurant  \\\n",
       "0                                        Berczy Park                0.0   \n",
       "1       Brockton, Parkdale Village, Exhibition Place                0.0   \n",
       "2  Business reply mail Processing Centre, South C...                0.0   \n",
       "3  CN Tower, King and Spadina, Railway Lands, Har...                0.0   \n",
       "4                                 Central Bay Street                0.0   \n",
       "\n",
       "   Airport  Airport Food Court  Airport Gate  Airport Lounge  Airport Service  \\\n",
       "0   0.0000              0.0000        0.0000           0.000            0.000   \n",
       "1   0.0000              0.0000        0.0000           0.000            0.000   \n",
       "2   0.0000              0.0000        0.0000           0.000            0.000   \n",
       "3   0.0625              0.0625        0.0625           0.125            0.125   \n",
       "4   0.0000              0.0000        0.0000           0.000            0.000   \n",
       "\n",
       "   Airport Terminal  American Restaurant  Antique Shop  ...  Theme Restaurant  \\\n",
       "0            0.0000                  0.0           0.0  ...               0.0   \n",
       "1            0.0000                  0.0           0.0  ...               0.0   \n",
       "2            0.0000                  0.0           0.0  ...               0.0   \n",
       "3            0.0625                  0.0           0.0  ...               0.0   \n",
       "4            0.0000                  0.0           0.0  ...               0.0   \n",
       "\n",
       "   Toy / Game Store  Trail  Train Station  Vegetarian / Vegan Restaurant  \\\n",
       "0               0.0    0.0            0.0                       0.018182   \n",
       "1               0.0    0.0            0.0                       0.000000   \n",
       "2               0.0    0.0            0.0                       0.000000   \n",
       "3               0.0    0.0            0.0                       0.000000   \n",
       "4               0.0    0.0            0.0                       0.014706   \n",
       "\n",
       "   Video Game Store  Vietnamese Restaurant  Wine Bar  Women's Store  \\\n",
       "0               0.0                    0.0  0.000000            0.0   \n",
       "1               0.0                    0.0  0.000000            0.0   \n",
       "2               0.0                    0.0  0.000000            0.0   \n",
       "3               0.0                    0.0  0.000000            0.0   \n",
       "4               0.0                    0.0  0.014706            0.0   \n",
       "\n",
       "   Yoga Studio  \n",
       "0     0.000000  \n",
       "1     0.000000  \n",
       "2     0.000000  \n",
       "3     0.000000  \n",
       "4     0.014706  \n",
       "\n",
       "[5 rows x 238 columns]"
      ],
      "text/html": "<div>\n<style scoped>\n    .dataframe tbody tr th:only-of-type {\n        vertical-align: middle;\n    }\n\n    .dataframe tbody tr th {\n        vertical-align: top;\n    }\n\n    .dataframe thead th {\n        text-align: right;\n    }\n</style>\n<table border=\"1\" class=\"dataframe\">\n  <thead>\n    <tr style=\"text-align: right;\">\n      <th></th>\n      <th>Neighbourhood</th>\n      <th>Afghan Restaurant</th>\n      <th>Airport</th>\n      <th>Airport Food Court</th>\n      <th>Airport Gate</th>\n      <th>Airport Lounge</th>\n      <th>Airport Service</th>\n      <th>Airport Terminal</th>\n      <th>American Restaurant</th>\n      <th>Antique Shop</th>\n      <th>...</th>\n      <th>Theme Restaurant</th>\n      <th>Toy / Game Store</th>\n      <th>Trail</th>\n      <th>Train Station</th>\n      <th>Vegetarian / Vegan Restaurant</th>\n      <th>Video Game Store</th>\n      <th>Vietnamese Restaurant</th>\n      <th>Wine Bar</th>\n      <th>Women's Store</th>\n      <th>Yoga Studio</th>\n    </tr>\n  </thead>\n  <tbody>\n    <tr>\n      <th>0</th>\n      <td>Berczy Park</td>\n      <td>0.0</td>\n      <td>0.0000</td>\n      <td>0.0000</td>\n      <td>0.0000</td>\n      <td>0.000</td>\n      <td>0.000</td>\n      <td>0.0000</td>\n      <td>0.0</td>\n      <td>0.0</td>\n      <td>...</td>\n      <td>0.0</td>\n      <td>0.0</td>\n      <td>0.0</td>\n      <td>0.0</td>\n      <td>0.018182</td>\n      <td>0.0</td>\n      <td>0.0</td>\n      <td>0.000000</td>\n      <td>0.0</td>\n      <td>0.000000</td>\n    </tr>\n    <tr>\n      <th>1</th>\n      <td>Brockton, Parkdale Village, Exhibition Place</td>\n      <td>0.0</td>\n      <td>0.0000</td>\n      <td>0.0000</td>\n      <td>0.0000</td>\n      <td>0.000</td>\n      <td>0.000</td>\n      <td>0.0000</td>\n      <td>0.0</td>\n      <td>0.0</td>\n      <td>...</td>\n      <td>0.0</td>\n      <td>0.0</td>\n      <td>0.0</td>\n      <td>0.0</td>\n      <td>0.000000</td>\n      <td>0.0</td>\n      <td>0.0</td>\n      <td>0.000000</td>\n      <td>0.0</td>\n      <td>0.000000</td>\n    </tr>\n    <tr>\n      <th>2</th>\n      <td>Business reply mail Processing Centre, South C...</td>\n      <td>0.0</td>\n      <td>0.0000</td>\n      <td>0.0000</td>\n      <td>0.0000</td>\n      <td>0.000</td>\n      <td>0.000</td>\n      <td>0.0000</td>\n      <td>0.0</td>\n      <td>0.0</td>\n      <td>...</td>\n      <td>0.0</td>\n      <td>0.0</td>\n      <td>0.0</td>\n      <td>0.0</td>\n      <td>0.000000</td>\n      <td>0.0</td>\n      <td>0.0</td>\n      <td>0.000000</td>\n      <td>0.0</td>\n      <td>0.000000</td>\n    </tr>\n    <tr>\n      <th>3</th>\n      <td>CN Tower, King and Spadina, Railway Lands, Har...</td>\n      <td>0.0</td>\n      <td>0.0625</td>\n      <td>0.0625</td>\n      <td>0.0625</td>\n      <td>0.125</td>\n      <td>0.125</td>\n      <td>0.0625</td>\n      <td>0.0</td>\n      <td>0.0</td>\n      <td>...</td>\n      <td>0.0</td>\n      <td>0.0</td>\n      <td>0.0</td>\n      <td>0.0</td>\n      <td>0.000000</td>\n      <td>0.0</td>\n      <td>0.0</td>\n      <td>0.000000</td>\n      <td>0.0</td>\n      <td>0.000000</td>\n    </tr>\n    <tr>\n      <th>4</th>\n      <td>Central Bay Street</td>\n      <td>0.0</td>\n      <td>0.0000</td>\n      <td>0.0000</td>\n      <td>0.0000</td>\n      <td>0.000</td>\n      <td>0.000</td>\n      <td>0.0000</td>\n      <td>0.0</td>\n      <td>0.0</td>\n      <td>...</td>\n      <td>0.0</td>\n      <td>0.0</td>\n      <td>0.0</td>\n      <td>0.0</td>\n      <td>0.014706</td>\n      <td>0.0</td>\n      <td>0.0</td>\n      <td>0.014706</td>\n      <td>0.0</td>\n      <td>0.014706</td>\n    </tr>\n  </tbody>\n</table>\n<p>5 rows × 238 columns</p>\n</div>"
     },
     "metadata": {},
     "execution_count": 20
    }
   ],
   "source": [
    "toronto_grpd = toronto_onehot.groupby('Neighbourhood').mean().reset_index()\n",
    "toronto_grpd.head()"
   ]
  },
  {
   "cell_type": "code",
   "execution_count": 21,
   "metadata": {},
   "outputs": [
    {
     "output_type": "execute_result",
     "data": {
      "text/plain": [
       "(39, 238)"
      ]
     },
     "metadata": {},
     "execution_count": 21
    }
   ],
   "source": [
    "toronto_grpd.shape"
   ]
  },
  {
   "source": [
    "#### Let's print N most common venues of some neighbourhood"
   ],
   "cell_type": "markdown",
   "metadata": {}
  },
  {
   "cell_type": "code",
   "execution_count": 22,
   "metadata": {},
   "outputs": [],
   "source": [
    "def n_most_common(n, neighbourhood):\n",
    "    temp = toronto_grpd[toronto_grpd['Neighbourhood'] == neighbourhood]\n",
    "    temp = temp.T.reset_index()\n",
    "    temp.columns = ['venues', 'freq']\n",
    "    temp = temp.iloc[1:]\n",
    "    temp['freq'] = temp['freq'].astype(float)\n",
    "    temp = temp.round({'freq': 2})\n",
    "    print(\"----\" + neighbourhood + \"----\")\n",
    "    print(temp.sort_values('freq', ascending = False).reset_index(drop = True).head(5))\n",
    "    print('\\n')"
   ]
  },
  {
   "cell_type": "code",
   "execution_count": 23,
   "metadata": {},
   "outputs": [
    {
     "output_type": "stream",
     "name": "stdout",
     "text": [
      "----Berczy Park----\n           venues  freq\n0     Coffee Shop  0.09\n1    Cocktail Bar  0.04\n2        Beer Bar  0.04\n3  Farmers Market  0.04\n4     Cheese Shop  0.04\n\n\n----Central Bay Street----\n               venues  freq\n0         Coffee Shop  0.18\n1                Café  0.06\n2      Sandwich Place  0.04\n3  Italian Restaurant  0.04\n4     Thai Restaurant  0.03\n\n\n"
     ]
    }
   ],
   "source": [
    "n_most_common(5, 'Berczy Park')\n",
    "n_most_common(5, 'Central Bay Street')"
   ]
  },
  {
   "source": [
    "#### Creating a Data Frame with the 10 most common venues of Neighbourhood"
   ],
   "cell_type": "markdown",
   "metadata": {}
  },
  {
   "cell_type": "code",
   "execution_count": 24,
   "metadata": {},
   "outputs": [],
   "source": [
    "def most_common_venues(row, num_top_venues):\n",
    "    row_categories = row.iloc[1:].sort_values(ascending = False)\n",
    "    \n",
    "    return row_categories.index.values[0:num_top_venues]"
   ]
  },
  {
   "cell_type": "code",
   "execution_count": 25,
   "metadata": {
    "tags": []
   },
   "outputs": [
    {
     "output_type": "execute_result",
     "data": {
      "text/plain": [
       "                                       Neighbourhood 1st Most Common Venue  \\\n",
       "0                                        Berczy Park           Coffee Shop   \n",
       "1       Brockton, Parkdale Village, Exhibition Place                  Café   \n",
       "2  Business reply mail Processing Centre, South C...  Gym / Fitness Center   \n",
       "3  CN Tower, King and Spadina, Railway Lands, Har...        Airport Lounge   \n",
       "4                                 Central Bay Street           Coffee Shop   \n",
       "\n",
       "  2nd Most Common Venue 3rd Most Common Venue 4th Most Common Venue  \\\n",
       "0        Farmers Market                Bakery              Beer Bar   \n",
       "1             Nightclub        Breakfast Spot           Coffee Shop   \n",
       "2         Auto Workshop            Comic Shop                  Park   \n",
       "3       Airport Service               Airport         Boat or Ferry   \n",
       "4                  Café        Sandwich Place    Italian Restaurant   \n",
       "\n",
       "  5th Most Common Venue   6th Most Common Venue 7th Most Common Venue  \\\n",
       "0            Restaurant             Cheese Shop    Seafood Restaurant   \n",
       "1     Convenience Store  Furniture / Home Store                   Bar   \n",
       "2           Pizza Place        Recording Studio            Restaurant   \n",
       "3                   Bar     Rental Car Location      Sculpture Garden   \n",
       "4           Salad Place        Department Store       Thai Restaurant   \n",
       "\n",
       "  8th Most Common Venue 9th Most Common Venue 10th Most Common Venue  \n",
       "0          Cocktail Bar          Concert Hall                  Beach  \n",
       "1    Italian Restaurant                Bakery           Climbing Gym  \n",
       "2               Butcher         Burrito Place                Brewery  \n",
       "3                 Plane           Coffee Shop               Boutique  \n",
       "4          Burger Joint       Bubble Tea Shop    Japanese Restaurant  "
      ],
      "text/html": "<div>\n<style scoped>\n    .dataframe tbody tr th:only-of-type {\n        vertical-align: middle;\n    }\n\n    .dataframe tbody tr th {\n        vertical-align: top;\n    }\n\n    .dataframe thead th {\n        text-align: right;\n    }\n</style>\n<table border=\"1\" class=\"dataframe\">\n  <thead>\n    <tr style=\"text-align: right;\">\n      <th></th>\n      <th>Neighbourhood</th>\n      <th>1st Most Common Venue</th>\n      <th>2nd Most Common Venue</th>\n      <th>3rd Most Common Venue</th>\n      <th>4th Most Common Venue</th>\n      <th>5th Most Common Venue</th>\n      <th>6th Most Common Venue</th>\n      <th>7th Most Common Venue</th>\n      <th>8th Most Common Venue</th>\n      <th>9th Most Common Venue</th>\n      <th>10th Most Common Venue</th>\n    </tr>\n  </thead>\n  <tbody>\n    <tr>\n      <th>0</th>\n      <td>Berczy Park</td>\n      <td>Coffee Shop</td>\n      <td>Farmers Market</td>\n      <td>Bakery</td>\n      <td>Beer Bar</td>\n      <td>Restaurant</td>\n      <td>Cheese Shop</td>\n      <td>Seafood Restaurant</td>\n      <td>Cocktail Bar</td>\n      <td>Concert Hall</td>\n      <td>Beach</td>\n    </tr>\n    <tr>\n      <th>1</th>\n      <td>Brockton, Parkdale Village, Exhibition Place</td>\n      <td>Café</td>\n      <td>Nightclub</td>\n      <td>Breakfast Spot</td>\n      <td>Coffee Shop</td>\n      <td>Convenience Store</td>\n      <td>Furniture / Home Store</td>\n      <td>Bar</td>\n      <td>Italian Restaurant</td>\n      <td>Bakery</td>\n      <td>Climbing Gym</td>\n    </tr>\n    <tr>\n      <th>2</th>\n      <td>Business reply mail Processing Centre, South C...</td>\n      <td>Gym / Fitness Center</td>\n      <td>Auto Workshop</td>\n      <td>Comic Shop</td>\n      <td>Park</td>\n      <td>Pizza Place</td>\n      <td>Recording Studio</td>\n      <td>Restaurant</td>\n      <td>Butcher</td>\n      <td>Burrito Place</td>\n      <td>Brewery</td>\n    </tr>\n    <tr>\n      <th>3</th>\n      <td>CN Tower, King and Spadina, Railway Lands, Har...</td>\n      <td>Airport Lounge</td>\n      <td>Airport Service</td>\n      <td>Airport</td>\n      <td>Boat or Ferry</td>\n      <td>Bar</td>\n      <td>Rental Car Location</td>\n      <td>Sculpture Garden</td>\n      <td>Plane</td>\n      <td>Coffee Shop</td>\n      <td>Boutique</td>\n    </tr>\n    <tr>\n      <th>4</th>\n      <td>Central Bay Street</td>\n      <td>Coffee Shop</td>\n      <td>Café</td>\n      <td>Sandwich Place</td>\n      <td>Italian Restaurant</td>\n      <td>Salad Place</td>\n      <td>Department Store</td>\n      <td>Thai Restaurant</td>\n      <td>Burger Joint</td>\n      <td>Bubble Tea Shop</td>\n      <td>Japanese Restaurant</td>\n    </tr>\n  </tbody>\n</table>\n</div>"
     },
     "metadata": {},
     "execution_count": 25
    }
   ],
   "source": [
    "indicators = ['st', 'nd', 'rd']\n",
    "num_top_venues = 10\n",
    "\n",
    "columns = ['Neighbourhood']\n",
    "\n",
    "for ind in range(num_top_venues):\n",
    "    try:\n",
    "        columns.append('{}{} Most Common Venue'.format(ind+1, indicators[ind]))\n",
    "    except:\n",
    "        columns.append('{}th Most Common Venue'.format(ind + 1))\n",
    "    \n",
    "neighbourhoods_venues = pd.DataFrame(columns = columns)\n",
    "neighbourhoods_venues['Neighbourhood'] = toronto_grpd['Neighbourhood']\n",
    "\n",
    "for ind in range(toronto_grpd.shape[0]):\n",
    "    neighbourhoods_venues.iloc[ind, 1:] = most_common_venues(toronto_grpd.iloc[ind, 1:], num_top_venues)\n",
    "\n",
    "neighbourhoods_venues.head()\n"
   ]
  },
  {
   "source": [
    "### Cluster Neighbourhoods"
   ],
   "cell_type": "markdown",
   "metadata": {}
  },
  {
   "cell_type": "code",
   "execution_count": 26,
   "metadata": {},
   "outputs": [
    {
     "output_type": "execute_result",
     "data": {
      "text/plain": [
       "array([2, 2, 2, 2, 2, 2, 2, 2, 2, 2])"
      ]
     },
     "metadata": {},
     "execution_count": 26
    }
   ],
   "source": [
    "# Matplotlib and associated plotting modules\n",
    "import matplotlib.cm as cm\n",
    "import matplotlib.colors as colors\n",
    "\n",
    "# import k-means from clustering stage\n",
    "from sklearn.cluster import KMeans\n",
    "\n",
    "\n",
    "# number of Clusters\n",
    "kluster = 5\n",
    "toronto_grpd_clustered = toronto_grpd.drop('Neighbourhood', 1)\n",
    "\n",
    "# K-Means Clustering\n",
    "kmeans = KMeans(n_clusters = kluster, random_state = 0).fit(toronto_grpd_clustered)\n",
    "\n",
    "# Get the labels\n",
    "kmeans.labels_[:10]"
   ]
  },
  {
   "source": [
    "Let's create a new dataframe that includes the cluster as well as the top 10 venues for each neighborhood."
   ],
   "cell_type": "markdown",
   "metadata": {}
  },
  {
   "cell_type": "code",
   "execution_count": 27,
   "metadata": {},
   "outputs": [],
   "source": [
    "neighbourhoods_venues.insert(0, 'Cluster Labels', kmeans.labels_)"
   ]
  },
  {
   "cell_type": "code",
   "execution_count": 28,
   "metadata": {},
   "outputs": [
    {
     "output_type": "execute_result",
     "data": {
      "text/plain": [
       "  Postal Code           Borough                                Neighbourhood  \\\n",
       "0         M5A  Downtown Toronto                    Regent Park, Harbourfront   \n",
       "1         M7A  Downtown Toronto  Queen's Park, Ontario Provincial Government   \n",
       "2         M5B  Downtown Toronto                     Garden District, Ryerson   \n",
       "3         M5C  Downtown Toronto                               St. James Town   \n",
       "4         M4E      East Toronto                                  The Beaches   \n",
       "\n",
       "    Latitude  Longitude  Cluster Labels 1st Most Common Venue  \\\n",
       "0  43.654260 -79.360636               2           Coffee Shop   \n",
       "1  43.662301 -79.389494               2           Coffee Shop   \n",
       "2  43.657162 -79.378937               2        Clothing Store   \n",
       "3  43.651494 -79.375418               2           Coffee Shop   \n",
       "4  43.676357 -79.293031               3                   Pub   \n",
       "\n",
       "  2nd Most Common Venue 3rd Most Common Venue 4th Most Common Venue  \\\n",
       "0                   Pub                Bakery                  Park   \n",
       "1           Yoga Studio                 Diner              Beer Bar   \n",
       "2           Coffee Shop                  Café       Bubble Tea Shop   \n",
       "3                  Café            Restaurant          Cocktail Bar   \n",
       "4     Health Food Store                 Trail          Neighborhood   \n",
       "\n",
       "  5th Most Common Venue 6th Most Common Venue 7th Most Common Venue  \\\n",
       "0        Breakfast Spot                  Café               Theater   \n",
       "1         Smoothie Shop    Italian Restaurant        Sandwich Place   \n",
       "2   Japanese Restaurant        Cosmetics Shop                 Hotel   \n",
       "3             Gastropub              Beer Bar   American Restaurant   \n",
       "4           Yoga Studio               Dog Run                 Diner   \n",
       "\n",
       "  8th Most Common Venue 9th Most Common Venue     10th Most Common Venue  \n",
       "0           Yoga Studio           Event Space                 Restaurant  \n",
       "1            Restaurant                  Café        Distribution Center  \n",
       "2             Bookstore           Pizza Place  Middle Eastern Restaurant  \n",
       "3                   Gym                 Hotel             Clothing Store  \n",
       "4        Discount Store   Distribution Center                 Donut Shop  "
      ],
      "text/html": "<div>\n<style scoped>\n    .dataframe tbody tr th:only-of-type {\n        vertical-align: middle;\n    }\n\n    .dataframe tbody tr th {\n        vertical-align: top;\n    }\n\n    .dataframe thead th {\n        text-align: right;\n    }\n</style>\n<table border=\"1\" class=\"dataframe\">\n  <thead>\n    <tr style=\"text-align: right;\">\n      <th></th>\n      <th>Postal Code</th>\n      <th>Borough</th>\n      <th>Neighbourhood</th>\n      <th>Latitude</th>\n      <th>Longitude</th>\n      <th>Cluster Labels</th>\n      <th>1st Most Common Venue</th>\n      <th>2nd Most Common Venue</th>\n      <th>3rd Most Common Venue</th>\n      <th>4th Most Common Venue</th>\n      <th>5th Most Common Venue</th>\n      <th>6th Most Common Venue</th>\n      <th>7th Most Common Venue</th>\n      <th>8th Most Common Venue</th>\n      <th>9th Most Common Venue</th>\n      <th>10th Most Common Venue</th>\n    </tr>\n  </thead>\n  <tbody>\n    <tr>\n      <th>0</th>\n      <td>M5A</td>\n      <td>Downtown Toronto</td>\n      <td>Regent Park, Harbourfront</td>\n      <td>43.654260</td>\n      <td>-79.360636</td>\n      <td>2</td>\n      <td>Coffee Shop</td>\n      <td>Pub</td>\n      <td>Bakery</td>\n      <td>Park</td>\n      <td>Breakfast Spot</td>\n      <td>Café</td>\n      <td>Theater</td>\n      <td>Yoga Studio</td>\n      <td>Event Space</td>\n      <td>Restaurant</td>\n    </tr>\n    <tr>\n      <th>1</th>\n      <td>M7A</td>\n      <td>Downtown Toronto</td>\n      <td>Queen's Park, Ontario Provincial Government</td>\n      <td>43.662301</td>\n      <td>-79.389494</td>\n      <td>2</td>\n      <td>Coffee Shop</td>\n      <td>Yoga Studio</td>\n      <td>Diner</td>\n      <td>Beer Bar</td>\n      <td>Smoothie Shop</td>\n      <td>Italian Restaurant</td>\n      <td>Sandwich Place</td>\n      <td>Restaurant</td>\n      <td>Café</td>\n      <td>Distribution Center</td>\n    </tr>\n    <tr>\n      <th>2</th>\n      <td>M5B</td>\n      <td>Downtown Toronto</td>\n      <td>Garden District, Ryerson</td>\n      <td>43.657162</td>\n      <td>-79.378937</td>\n      <td>2</td>\n      <td>Clothing Store</td>\n      <td>Coffee Shop</td>\n      <td>Café</td>\n      <td>Bubble Tea Shop</td>\n      <td>Japanese Restaurant</td>\n      <td>Cosmetics Shop</td>\n      <td>Hotel</td>\n      <td>Bookstore</td>\n      <td>Pizza Place</td>\n      <td>Middle Eastern Restaurant</td>\n    </tr>\n    <tr>\n      <th>3</th>\n      <td>M5C</td>\n      <td>Downtown Toronto</td>\n      <td>St. James Town</td>\n      <td>43.651494</td>\n      <td>-79.375418</td>\n      <td>2</td>\n      <td>Coffee Shop</td>\n      <td>Café</td>\n      <td>Restaurant</td>\n      <td>Cocktail Bar</td>\n      <td>Gastropub</td>\n      <td>Beer Bar</td>\n      <td>American Restaurant</td>\n      <td>Gym</td>\n      <td>Hotel</td>\n      <td>Clothing Store</td>\n    </tr>\n    <tr>\n      <th>4</th>\n      <td>M4E</td>\n      <td>East Toronto</td>\n      <td>The Beaches</td>\n      <td>43.676357</td>\n      <td>-79.293031</td>\n      <td>3</td>\n      <td>Pub</td>\n      <td>Health Food Store</td>\n      <td>Trail</td>\n      <td>Neighborhood</td>\n      <td>Yoga Studio</td>\n      <td>Dog Run</td>\n      <td>Diner</td>\n      <td>Discount Store</td>\n      <td>Distribution Center</td>\n      <td>Donut Shop</td>\n    </tr>\n  </tbody>\n</table>\n</div>"
     },
     "metadata": {},
     "execution_count": 28
    }
   ],
   "source": [
    "toronto_merged = toronto_df\n",
    "\n",
    "# Merge the toronto data and the venues data to get the Co-Ordinates also\n",
    "toronto_merged = toronto_merged.join(neighbourhoods_venues.set_index('Neighbourhood'), on = 'Neighbourhood')\n",
    "\n",
    "toronto_merged.head()"
   ]
  },
  {
   "source": [
    "#### Visualize the resulting Cluster"
   ],
   "cell_type": "markdown",
   "metadata": {}
  },
  {
   "cell_type": "code",
   "execution_count": 29,
   "metadata": {},
   "outputs": [
    {
     "output_type": "execute_result",
     "data": {
      "text/plain": [
       "<folium.folium.Map at 0x16739305108>"
      ],
      "text/html": "<div style=\"width:100%;\"><div style=\"position:relative;width:100%;height:0;padding-bottom:60%;\"><span style=\"color:#565656\">Make this Notebook Trusted to load map: File -> Trust Notebook</span><iframe src=\"about:blank\" style=\"position:absolute;width:100%;height:100%;left:0;top:0;border:none !important;\" data-html=PCFET0NUWVBFIGh0bWw+CjxoZWFkPiAgICAKICAgIDxtZXRhIGh0dHAtZXF1aXY9ImNvbnRlbnQtdHlwZSIgY29udGVudD0idGV4dC9odG1sOyBjaGFyc2V0PVVURi04IiAvPgogICAgCiAgICAgICAgPHNjcmlwdD4KICAgICAgICAgICAgTF9OT19UT1VDSCA9IGZhbHNlOwogICAgICAgICAgICBMX0RJU0FCTEVfM0QgPSBmYWxzZTsKICAgICAgICA8L3NjcmlwdD4KICAgIAogICAgPHNjcmlwdCBzcmM9Imh0dHBzOi8vY2RuLmpzZGVsaXZyLm5ldC9ucG0vbGVhZmxldEAxLjYuMC9kaXN0L2xlYWZsZXQuanMiPjwvc2NyaXB0PgogICAgPHNjcmlwdCBzcmM9Imh0dHBzOi8vY29kZS5qcXVlcnkuY29tL2pxdWVyeS0xLjEyLjQubWluLmpzIj48L3NjcmlwdD4KICAgIDxzY3JpcHQgc3JjPSJodHRwczovL21heGNkbi5ib290c3RyYXBjZG4uY29tL2Jvb3RzdHJhcC8zLjIuMC9qcy9ib290c3RyYXAubWluLmpzIj48L3NjcmlwdD4KICAgIDxzY3JpcHQgc3JjPSJodHRwczovL2NkbmpzLmNsb3VkZmxhcmUuY29tL2FqYXgvbGlicy9MZWFmbGV0LmF3ZXNvbWUtbWFya2Vycy8yLjAuMi9sZWFmbGV0LmF3ZXNvbWUtbWFya2Vycy5qcyI+PC9zY3JpcHQ+CiAgICA8bGluayByZWw9InN0eWxlc2hlZXQiIGhyZWY9Imh0dHBzOi8vY2RuLmpzZGVsaXZyLm5ldC9ucG0vbGVhZmxldEAxLjYuMC9kaXN0L2xlYWZsZXQuY3NzIi8+CiAgICA8bGluayByZWw9InN0eWxlc2hlZXQiIGhyZWY9Imh0dHBzOi8vbWF4Y2RuLmJvb3RzdHJhcGNkbi5jb20vYm9vdHN0cmFwLzMuMi4wL2Nzcy9ib290c3RyYXAubWluLmNzcyIvPgogICAgPGxpbmsgcmVsPSJzdHlsZXNoZWV0IiBocmVmPSJodHRwczovL21heGNkbi5ib290c3RyYXBjZG4uY29tL2Jvb3RzdHJhcC8zLjIuMC9jc3MvYm9vdHN0cmFwLXRoZW1lLm1pbi5jc3MiLz4KICAgIDxsaW5rIHJlbD0ic3R5bGVzaGVldCIgaHJlZj0iaHR0cHM6Ly9tYXhjZG4uYm9vdHN0cmFwY2RuLmNvbS9mb250LWF3ZXNvbWUvNC42LjMvY3NzL2ZvbnQtYXdlc29tZS5taW4uY3NzIi8+CiAgICA8bGluayByZWw9InN0eWxlc2hlZXQiIGhyZWY9Imh0dHBzOi8vY2RuanMuY2xvdWRmbGFyZS5jb20vYWpheC9saWJzL0xlYWZsZXQuYXdlc29tZS1tYXJrZXJzLzIuMC4yL2xlYWZsZXQuYXdlc29tZS1tYXJrZXJzLmNzcyIvPgogICAgPGxpbmsgcmVsPSJzdHlsZXNoZWV0IiBocmVmPSJodHRwczovL3Jhd2Nkbi5naXRoYWNrLmNvbS9weXRob24tdmlzdWFsaXphdGlvbi9mb2xpdW0vbWFzdGVyL2ZvbGl1bS90ZW1wbGF0ZXMvbGVhZmxldC5hd2Vzb21lLnJvdGF0ZS5jc3MiLz4KICAgIDxzdHlsZT5odG1sLCBib2R5IHt3aWR0aDogMTAwJTtoZWlnaHQ6IDEwMCU7bWFyZ2luOiAwO3BhZGRpbmc6IDA7fTwvc3R5bGU+CiAgICA8c3R5bGU+I21hcCB7cG9zaXRpb246YWJzb2x1dGU7dG9wOjA7Ym90dG9tOjA7cmlnaHQ6MDtsZWZ0OjA7fTwvc3R5bGU+CiAgICAKICAgICAgICAgICAgPG1ldGEgbmFtZT0idmlld3BvcnQiIGNvbnRlbnQ9IndpZHRoPWRldmljZS13aWR0aCwKICAgICAgICAgICAgICAgIGluaXRpYWwtc2NhbGU9MS4wLCBtYXhpbXVtLXNjYWxlPTEuMCwgdXNlci1zY2FsYWJsZT1ubyIgLz4KICAgICAgICAgICAgPHN0eWxlPgogICAgICAgICAgICAgICAgI21hcF8wN2ExYzBiNjE4ODM0ZWEwYjk5NWMzNzRlNDY3MWFiNSB7CiAgICAgICAgICAgICAgICAgICAgcG9zaXRpb246IHJlbGF0aXZlOwogICAgICAgICAgICAgICAgICAgIHdpZHRoOiAxMDAuMCU7CiAgICAgICAgICAgICAgICAgICAgaGVpZ2h0OiAxMDAuMCU7CiAgICAgICAgICAgICAgICAgICAgbGVmdDogMC4wJTsKICAgICAgICAgICAgICAgICAgICB0b3A6IDAuMCU7CiAgICAgICAgICAgICAgICB9CiAgICAgICAgICAgIDwvc3R5bGU+CiAgICAgICAgCjwvaGVhZD4KPGJvZHk+ICAgIAogICAgCiAgICAgICAgICAgIDxkaXYgY2xhc3M9ImZvbGl1bS1tYXAiIGlkPSJtYXBfMDdhMWMwYjYxODgzNGVhMGI5OTVjMzc0ZTQ2NzFhYjUiID48L2Rpdj4KICAgICAgICAKPC9ib2R5Pgo8c2NyaXB0PiAgICAKICAgIAogICAgICAgICAgICB2YXIgbWFwXzA3YTFjMGI2MTg4MzRlYTBiOTk1YzM3NGU0NjcxYWI1ID0gTC5tYXAoCiAgICAgICAgICAgICAgICAibWFwXzA3YTFjMGI2MTg4MzRlYTBiOTk1YzM3NGU0NjcxYWI1IiwKICAgICAgICAgICAgICAgIHsKICAgICAgICAgICAgICAgICAgICBjZW50ZXI6IFs0My42NTM0ODE3LCAtNzkuMzgzOTM0N10sCiAgICAgICAgICAgICAgICAgICAgY3JzOiBMLkNSUy5FUFNHMzg1NywKICAgICAgICAgICAgICAgICAgICB6b29tOiAxMSwKICAgICAgICAgICAgICAgICAgICB6b29tQ29udHJvbDogdHJ1ZSwKICAgICAgICAgICAgICAgICAgICBwcmVmZXJDYW52YXM6IGZhbHNlLAogICAgICAgICAgICAgICAgfQogICAgICAgICAgICApOwoKICAgICAgICAgICAgCgogICAgICAgIAogICAgCiAgICAgICAgICAgIHZhciB0aWxlX2xheWVyXzk5NzFjY2IwODQ0YzRlNTZiNGQxMGEyNTEwYThjMzk4ID0gTC50aWxlTGF5ZXIoCiAgICAgICAgICAgICAgICAiaHR0cHM6Ly97c30udGlsZS5vcGVuc3RyZWV0bWFwLm9yZy97en0ve3h9L3t5fS5wbmciLAogICAgICAgICAgICAgICAgeyJhdHRyaWJ1dGlvbiI6ICJEYXRhIGJ5IFx1MDAyNmNvcHk7IFx1MDAzY2EgaHJlZj1cImh0dHA6Ly9vcGVuc3RyZWV0bWFwLm9yZ1wiXHUwMDNlT3BlblN0cmVldE1hcFx1MDAzYy9hXHUwMDNlLCB1bmRlciBcdTAwM2NhIGhyZWY9XCJodHRwOi8vd3d3Lm9wZW5zdHJlZXRtYXAub3JnL2NvcHlyaWdodFwiXHUwMDNlT0RiTFx1MDAzYy9hXHUwMDNlLiIsICJkZXRlY3RSZXRpbmEiOiBmYWxzZSwgIm1heE5hdGl2ZVpvb20iOiAxOCwgIm1heFpvb20iOiAxOCwgIm1pblpvb20iOiAwLCAibm9XcmFwIjogZmFsc2UsICJvcGFjaXR5IjogMSwgInN1YmRvbWFpbnMiOiAiYWJjIiwgInRtcyI6IGZhbHNlfQogICAgICAgICAgICApLmFkZFRvKG1hcF8wN2ExYzBiNjE4ODM0ZWEwYjk5NWMzNzRlNDY3MWFiNSk7CiAgICAgICAgCiAgICAKICAgICAgICAgICAgdmFyIGNpcmNsZV9tYXJrZXJfN2NkMGEyYjI4ZjY5NGNhMDhhYmY0ZGIwZDgzNTYxZjAgPSBMLmNpcmNsZU1hcmtlcigKICAgICAgICAgICAgICAgIFs0My42NTQyNTk5LCAtNzkuMzYwNjM1OV0sCiAgICAgICAgICAgICAgICB7ImJ1YmJsaW5nTW91c2VFdmVudHMiOiB0cnVlLCAiY29sb3IiOiAiIzAwYjVlYiIsICJkYXNoQXJyYXkiOiBudWxsLCAiZGFzaE9mZnNldCI6IG51bGwsICJmaWxsIjogdHJ1ZSwgImZpbGxDb2xvciI6ICJ5ZWxsb3ciLCAiZmlsbE9wYWNpdHkiOiAwLjcsICJmaWxsUnVsZSI6ICJldmVub2RkIiwgImxpbmVDYXAiOiAicm91bmQiLCAibGluZUpvaW4iOiAicm91bmQiLCAib3BhY2l0eSI6IDEuMCwgInJhZGl1cyI6IDUsICJzdHJva2UiOiB0cnVlLCAid2VpZ2h0IjogM30KICAgICAgICAgICAgKS5hZGRUbyhtYXBfMDdhMWMwYjYxODgzNGVhMGI5OTVjMzc0ZTQ2NzFhYjUpOwogICAgICAgIAogICAgCiAgICAgICAgdmFyIHBvcHVwXzc5ZjdjNTVlNDczNjRmMmNiOTM0Mzk1MWQzMWEyZGI3ID0gTC5wb3B1cCh7Im1heFdpZHRoIjogIjEwMCUifSk7CgogICAgICAgIAogICAgICAgICAgICB2YXIgaHRtbF9jMGU5OWUyZjdkY2U0OWNkOTc1MDdiZmE4ZDRiYjIzYSA9ICQoYDxkaXYgaWQ9Imh0bWxfYzBlOTllMmY3ZGNlNDljZDk3NTA3YmZhOGQ0YmIyM2EiIHN0eWxlPSJ3aWR0aDogMTAwLjAlOyBoZWlnaHQ6IDEwMC4wJTsiPlJlZ2VudCBQYXJrLCBIYXJib3VyZnJvbnQsIENsdXN0ZXIgMjwvZGl2PmApWzBdOwogICAgICAgICAgICBwb3B1cF83OWY3YzU1ZTQ3MzY0ZjJjYjkzNDM5NTFkMzFhMmRiNy5zZXRDb250ZW50KGh0bWxfYzBlOTllMmY3ZGNlNDljZDk3NTA3YmZhOGQ0YmIyM2EpOwogICAgICAgIAoKICAgICAgICBjaXJjbGVfbWFya2VyXzdjZDBhMmIyOGY2OTRjYTA4YWJmNGRiMGQ4MzU2MWYwLmJpbmRQb3B1cChwb3B1cF83OWY3YzU1ZTQ3MzY0ZjJjYjkzNDM5NTFkMzFhMmRiNykKICAgICAgICA7CgogICAgICAgIAogICAgCiAgICAKICAgICAgICAgICAgdmFyIGNpcmNsZV9tYXJrZXJfNmM4OTU3NWVkNTRkNGQ3MzlhMWY4N2IyZjE3YjJhZDMgPSBMLmNpcmNsZU1hcmtlcigKICAgICAgICAgICAgICAgIFs0My42NjIzMDE1LCAtNzkuMzg5NDkzOF0sCiAgICAgICAgICAgICAgICB7ImJ1YmJsaW5nTW91c2VFdmVudHMiOiB0cnVlLCAiY29sb3IiOiAiIzAwYjVlYiIsICJkYXNoQXJyYXkiOiBudWxsLCAiZGFzaE9mZnNldCI6IG51bGwsICJmaWxsIjogdHJ1ZSwgImZpbGxDb2xvciI6ICJ5ZWxsb3ciLCAiZmlsbE9wYWNpdHkiOiAwLjcsICJmaWxsUnVsZSI6ICJldmVub2RkIiwgImxpbmVDYXAiOiAicm91bmQiLCAibGluZUpvaW4iOiAicm91bmQiLCAib3BhY2l0eSI6IDEuMCwgInJhZGl1cyI6IDUsICJzdHJva2UiOiB0cnVlLCAid2VpZ2h0IjogM30KICAgICAgICAgICAgKS5hZGRUbyhtYXBfMDdhMWMwYjYxODgzNGVhMGI5OTVjMzc0ZTQ2NzFhYjUpOwogICAgICAgIAogICAgCiAgICAgICAgdmFyIHBvcHVwXzBkOTIxNDI4MDc3MTQxMjQ4YzczMDhiZGVkMzFkZTY3ID0gTC5wb3B1cCh7Im1heFdpZHRoIjogIjEwMCUifSk7CgogICAgICAgIAogICAgICAgICAgICB2YXIgaHRtbF9iYWY5YmIxMDEzYzU0NjJhYTQxZmRmZmE2MzE2ZTY4OSA9ICQoYDxkaXYgaWQ9Imh0bWxfYmFmOWJiMTAxM2M1NDYyYWE0MWZkZmZhNjMxNmU2ODkiIHN0eWxlPSJ3aWR0aDogMTAwLjAlOyBoZWlnaHQ6IDEwMC4wJTsiPlF1ZWVuJ3MgUGFyaywgT250YXJpbyBQcm92aW5jaWFsIEdvdmVybm1lbnQsIENsdXN0ZXIgMjwvZGl2PmApWzBdOwogICAgICAgICAgICBwb3B1cF8wZDkyMTQyODA3NzE0MTI0OGM3MzA4YmRlZDMxZGU2Ny5zZXRDb250ZW50KGh0bWxfYmFmOWJiMTAxM2M1NDYyYWE0MWZkZmZhNjMxNmU2ODkpOwogICAgICAgIAoKICAgICAgICBjaXJjbGVfbWFya2VyXzZjODk1NzVlZDU0ZDRkNzM5YTFmODdiMmYxN2IyYWQzLmJpbmRQb3B1cChwb3B1cF8wZDkyMTQyODA3NzE0MTI0OGM3MzA4YmRlZDMxZGU2NykKICAgICAgICA7CgogICAgICAgIAogICAgCiAgICAKICAgICAgICAgICAgdmFyIGNpcmNsZV9tYXJrZXJfNTk3OWNjN2YzOTBhNDA4MDhjNzI1ODE1YjlmNjZjMmUgPSBMLmNpcmNsZU1hcmtlcigKICAgICAgICAgICAgICAgIFs0My42NTcxNjE4LCAtNzkuMzc4OTM3MDk5OTk5OTldLAogICAgICAgICAgICAgICAgeyJidWJibGluZ01vdXNlRXZlbnRzIjogdHJ1ZSwgImNvbG9yIjogIiMwMGI1ZWIiLCAiZGFzaEFycmF5IjogbnVsbCwgImRhc2hPZmZzZXQiOiBudWxsLCAiZmlsbCI6IHRydWUsICJmaWxsQ29sb3IiOiAieWVsbG93IiwgImZpbGxPcGFjaXR5IjogMC43LCAiZmlsbFJ1bGUiOiAiZXZlbm9kZCIsICJsaW5lQ2FwIjogInJvdW5kIiwgImxpbmVKb2luIjogInJvdW5kIiwgIm9wYWNpdHkiOiAxLjAsICJyYWRpdXMiOiA1LCAic3Ryb2tlIjogdHJ1ZSwgIndlaWdodCI6IDN9CiAgICAgICAgICAgICkuYWRkVG8obWFwXzA3YTFjMGI2MTg4MzRlYTBiOTk1YzM3NGU0NjcxYWI1KTsKICAgICAgICAKICAgIAogICAgICAgIHZhciBwb3B1cF83YmE2M2FjYmIwNzE0OGE2OGM0Yjk4MTM5MTg5NDhmOSA9IEwucG9wdXAoeyJtYXhXaWR0aCI6ICIxMDAlIn0pOwoKICAgICAgICAKICAgICAgICAgICAgdmFyIGh0bWxfYWZhMGYzNWQyYmVjNDkwYWE1NDAwMjdjMGQ3NWE3MTggPSAkKGA8ZGl2IGlkPSJodG1sX2FmYTBmMzVkMmJlYzQ5MGFhNTQwMDI3YzBkNzVhNzE4IiBzdHlsZT0id2lkdGg6IDEwMC4wJTsgaGVpZ2h0OiAxMDAuMCU7Ij5HYXJkZW4gRGlzdHJpY3QsIFJ5ZXJzb24sIENsdXN0ZXIgMjwvZGl2PmApWzBdOwogICAgICAgICAgICBwb3B1cF83YmE2M2FjYmIwNzE0OGE2OGM0Yjk4MTM5MTg5NDhmOS5zZXRDb250ZW50KGh0bWxfYWZhMGYzNWQyYmVjNDkwYWE1NDAwMjdjMGQ3NWE3MTgpOwogICAgICAgIAoKICAgICAgICBjaXJjbGVfbWFya2VyXzU5NzljYzdmMzkwYTQwODA4YzcyNTgxNWI5ZjY2YzJlLmJpbmRQb3B1cChwb3B1cF83YmE2M2FjYmIwNzE0OGE2OGM0Yjk4MTM5MTg5NDhmOSkKICAgICAgICA7CgogICAgICAgIAogICAgCiAgICAKICAgICAgICAgICAgdmFyIGNpcmNsZV9tYXJrZXJfNmRkYTU5MWU4Yzk4NGJmNjhhYTVmZThlNTcyMzhjNjEgPSBMLmNpcmNsZU1hcmtlcigKICAgICAgICAgICAgICAgIFs0My42NTE0OTM5LCAtNzkuMzc1NDE3OV0sCiAgICAgICAgICAgICAgICB7ImJ1YmJsaW5nTW91c2VFdmVudHMiOiB0cnVlLCAiY29sb3IiOiAiIzAwYjVlYiIsICJkYXNoQXJyYXkiOiBudWxsLCAiZGFzaE9mZnNldCI6IG51bGwsICJmaWxsIjogdHJ1ZSwgImZpbGxDb2xvciI6ICJ5ZWxsb3ciLCAiZmlsbE9wYWNpdHkiOiAwLjcsICJmaWxsUnVsZSI6ICJldmVub2RkIiwgImxpbmVDYXAiOiAicm91bmQiLCAibGluZUpvaW4iOiAicm91bmQiLCAib3BhY2l0eSI6IDEuMCwgInJhZGl1cyI6IDUsICJzdHJva2UiOiB0cnVlLCAid2VpZ2h0IjogM30KICAgICAgICAgICAgKS5hZGRUbyhtYXBfMDdhMWMwYjYxODgzNGVhMGI5OTVjMzc0ZTQ2NzFhYjUpOwogICAgICAgIAogICAgCiAgICAgICAgdmFyIHBvcHVwX2U2ODVmYjJlZWYzMTQ5ODU4NTYzZjkzY2FhZWM4YjFiID0gTC5wb3B1cCh7Im1heFdpZHRoIjogIjEwMCUifSk7CgogICAgICAgIAogICAgICAgICAgICB2YXIgaHRtbF80N2RjZWY3NjNlNzg0NDk2YmUzODNlOWYwNGMxNTAxNCA9ICQoYDxkaXYgaWQ9Imh0bWxfNDdkY2VmNzYzZTc4NDQ5NmJlMzgzZTlmMDRjMTUwMTQiIHN0eWxlPSJ3aWR0aDogMTAwLjAlOyBoZWlnaHQ6IDEwMC4wJTsiPlN0LiBKYW1lcyBUb3duLCBDbHVzdGVyIDI8L2Rpdj5gKVswXTsKICAgICAgICAgICAgcG9wdXBfZTY4NWZiMmVlZjMxNDk4NTg1NjNmOTNjYWFlYzhiMWIuc2V0Q29udGVudChodG1sXzQ3ZGNlZjc2M2U3ODQ0OTZiZTM4M2U5ZjA0YzE1MDE0KTsKICAgICAgICAKCiAgICAgICAgY2lyY2xlX21hcmtlcl82ZGRhNTkxZThjOTg0YmY2OGFhNWZlOGU1NzIzOGM2MS5iaW5kUG9wdXAocG9wdXBfZTY4NWZiMmVlZjMxNDk4NTg1NjNmOTNjYWFlYzhiMWIpCiAgICAgICAgOwoKICAgICAgICAKICAgIAogICAgCiAgICAgICAgICAgIHZhciBjaXJjbGVfbWFya2VyXzIzOTBjY2Q0NTI3MTQwZGI4YWI2MjU4NjhlZjdhNmJjID0gTC5jaXJjbGVNYXJrZXIoCiAgICAgICAgICAgICAgICBbNDMuNjc2MzU3Mzk5OTk5OTksIC03OS4yOTMwMzEyXSwKICAgICAgICAgICAgICAgIHsiYnViYmxpbmdNb3VzZUV2ZW50cyI6IHRydWUsICJjb2xvciI6ICIjODBmZmI0IiwgImRhc2hBcnJheSI6IG51bGwsICJkYXNoT2Zmc2V0IjogbnVsbCwgImZpbGwiOiB0cnVlLCAiZmlsbENvbG9yIjogInllbGxvdyIsICJmaWxsT3BhY2l0eSI6IDAuNywgImZpbGxSdWxlIjogImV2ZW5vZGQiLCAibGluZUNhcCI6ICJyb3VuZCIsICJsaW5lSm9pbiI6ICJyb3VuZCIsICJvcGFjaXR5IjogMS4wLCAicmFkaXVzIjogNSwgInN0cm9rZSI6IHRydWUsICJ3ZWlnaHQiOiAzfQogICAgICAgICAgICApLmFkZFRvKG1hcF8wN2ExYzBiNjE4ODM0ZWEwYjk5NWMzNzRlNDY3MWFiNSk7CiAgICAgICAgCiAgICAKICAgICAgICB2YXIgcG9wdXBfY2VhMDRmYTRhODE1NDYwMjg0MGYwMDNjMjJiMmJkN2MgPSBMLnBvcHVwKHsibWF4V2lkdGgiOiAiMTAwJSJ9KTsKCiAgICAgICAgCiAgICAgICAgICAgIHZhciBodG1sXzlhNDk3MDRmZWJhNzQ3MTc5ZTdiMzVmNDhlMDk2MjNhID0gJChgPGRpdiBpZD0iaHRtbF85YTQ5NzA0ZmViYTc0NzE3OWU3YjM1ZjQ4ZTA5NjIzYSIgc3R5bGU9IndpZHRoOiAxMDAuMCU7IGhlaWdodDogMTAwLjAlOyI+VGhlIEJlYWNoZXMsIENsdXN0ZXIgMzwvZGl2PmApWzBdOwogICAgICAgICAgICBwb3B1cF9jZWEwNGZhNGE4MTU0NjAyODQwZjAwM2MyMmIyYmQ3Yy5zZXRDb250ZW50KGh0bWxfOWE0OTcwNGZlYmE3NDcxNzllN2IzNWY0OGUwOTYyM2EpOwogICAgICAgIAoKICAgICAgICBjaXJjbGVfbWFya2VyXzIzOTBjY2Q0NTI3MTQwZGI4YWI2MjU4NjhlZjdhNmJjLmJpbmRQb3B1cChwb3B1cF9jZWEwNGZhNGE4MTU0NjAyODQwZjAwM2MyMmIyYmQ3YykKICAgICAgICA7CgogICAgICAgIAogICAgCiAgICAKICAgICAgICAgICAgdmFyIGNpcmNsZV9tYXJrZXJfZGNlODUzMWY3NTBjNGU1MzgxZmYyYmZjMzA1NWVmMTYgPSBMLmNpcmNsZU1hcmtlcigKICAgICAgICAgICAgICAgIFs0My42NDQ3NzA4LCAtNzkuMzczMzA2NF0sCiAgICAgICAgICAgICAgICB7ImJ1YmJsaW5nTW91c2VFdmVudHMiOiB0cnVlLCAiY29sb3IiOiAiIzAwYjVlYiIsICJkYXNoQXJyYXkiOiBudWxsLCAiZGFzaE9mZnNldCI6IG51bGwsICJmaWxsIjogdHJ1ZSwgImZpbGxDb2xvciI6ICJ5ZWxsb3ciLCAiZmlsbE9wYWNpdHkiOiAwLjcsICJmaWxsUnVsZSI6ICJldmVub2RkIiwgImxpbmVDYXAiOiAicm91bmQiLCAibGluZUpvaW4iOiAicm91bmQiLCAib3BhY2l0eSI6IDEuMCwgInJhZGl1cyI6IDUsICJzdHJva2UiOiB0cnVlLCAid2VpZ2h0IjogM30KICAgICAgICAgICAgKS5hZGRUbyhtYXBfMDdhMWMwYjYxODgzNGVhMGI5OTVjMzc0ZTQ2NzFhYjUpOwogICAgICAgIAogICAgCiAgICAgICAgdmFyIHBvcHVwXzE2YzA5ZDFkMjQwYjQ4MjRiZTY5NDMxNDNlYTMzYjUyID0gTC5wb3B1cCh7Im1heFdpZHRoIjogIjEwMCUifSk7CgogICAgICAgIAogICAgICAgICAgICB2YXIgaHRtbF81ZDc4ZjU3MmRlOTA0MjIxYTU0ZDI4Yzc4NjBhMWUxNyA9ICQoYDxkaXYgaWQ9Imh0bWxfNWQ3OGY1NzJkZTkwNDIyMWE1NGQyOGM3ODYwYTFlMTciIHN0eWxlPSJ3aWR0aDogMTAwLjAlOyBoZWlnaHQ6IDEwMC4wJTsiPkJlcmN6eSBQYXJrLCBDbHVzdGVyIDI8L2Rpdj5gKVswXTsKICAgICAgICAgICAgcG9wdXBfMTZjMDlkMWQyNDBiNDgyNGJlNjk0MzE0M2VhMzNiNTIuc2V0Q29udGVudChodG1sXzVkNzhmNTcyZGU5MDQyMjFhNTRkMjhjNzg2MGExZTE3KTsKICAgICAgICAKCiAgICAgICAgY2lyY2xlX21hcmtlcl9kY2U4NTMxZjc1MGM0ZTUzODFmZjJiZmMzMDU1ZWYxNi5iaW5kUG9wdXAocG9wdXBfMTZjMDlkMWQyNDBiNDgyNGJlNjk0MzE0M2VhMzNiNTIpCiAgICAgICAgOwoKICAgICAgICAKICAgIAogICAgCiAgICAgICAgICAgIHZhciBjaXJjbGVfbWFya2VyXzYzZDg0NzJiODJjMDQ1YmZiNTlhMWUzNzI4OWQ2NTE2ID0gTC5jaXJjbGVNYXJrZXIoCiAgICAgICAgICAgICAgICBbNDMuNjU3OTUyNCwgLTc5LjM4NzM4MjZdLAogICAgICAgICAgICAgICAgeyJidWJibGluZ01vdXNlRXZlbnRzIjogdHJ1ZSwgImNvbG9yIjogIiMwMGI1ZWIiLCAiZGFzaEFycmF5IjogbnVsbCwgImRhc2hPZmZzZXQiOiBudWxsLCAiZmlsbCI6IHRydWUsICJmaWxsQ29sb3IiOiAieWVsbG93IiwgImZpbGxPcGFjaXR5IjogMC43LCAiZmlsbFJ1bGUiOiAiZXZlbm9kZCIsICJsaW5lQ2FwIjogInJvdW5kIiwgImxpbmVKb2luIjogInJvdW5kIiwgIm9wYWNpdHkiOiAxLjAsICJyYWRpdXMiOiA1LCAic3Ryb2tlIjogdHJ1ZSwgIndlaWdodCI6IDN9CiAgICAgICAgICAgICkuYWRkVG8obWFwXzA3YTFjMGI2MTg4MzRlYTBiOTk1YzM3NGU0NjcxYWI1KTsKICAgICAgICAKICAgIAogICAgICAgIHZhciBwb3B1cF84NmYwMDJhOWY0MGM0NmI1YmUyZTM2NGNiNTU0Y2UzZSA9IEwucG9wdXAoeyJtYXhXaWR0aCI6ICIxMDAlIn0pOwoKICAgICAgICAKICAgICAgICAgICAgdmFyIGh0bWxfNDg2YjE2MTI5MjkxNGMyOWFhNDExNmNiNDE3Mzk3YTAgPSAkKGA8ZGl2IGlkPSJodG1sXzQ4NmIxNjEyOTI5MTRjMjlhYTQxMTZjYjQxNzM5N2EwIiBzdHlsZT0id2lkdGg6IDEwMC4wJTsgaGVpZ2h0OiAxMDAuMCU7Ij5DZW50cmFsIEJheSBTdHJlZXQsIENsdXN0ZXIgMjwvZGl2PmApWzBdOwogICAgICAgICAgICBwb3B1cF84NmYwMDJhOWY0MGM0NmI1YmUyZTM2NGNiNTU0Y2UzZS5zZXRDb250ZW50KGh0bWxfNDg2YjE2MTI5MjkxNGMyOWFhNDExNmNiNDE3Mzk3YTApOwogICAgICAgIAoKICAgICAgICBjaXJjbGVfbWFya2VyXzYzZDg0NzJiODJjMDQ1YmZiNTlhMWUzNzI4OWQ2NTE2LmJpbmRQb3B1cChwb3B1cF84NmYwMDJhOWY0MGM0NmI1YmUyZTM2NGNiNTU0Y2UzZSkKICAgICAgICA7CgogICAgICAgIAogICAgCiAgICAKICAgICAgICAgICAgdmFyIGNpcmNsZV9tYXJrZXJfNjJkZmViZmIwMTdjNDU4YWFkOGE5Y2I2Y2UyMDI1NDUgPSBMLmNpcmNsZU1hcmtlcigKICAgICAgICAgICAgICAgIFs0My42Njk1NDIsIC03OS40MjI1NjM3XSwKICAgICAgICAgICAgICAgIHsiYnViYmxpbmdNb3VzZUV2ZW50cyI6IHRydWUsICJjb2xvciI6ICIjMDBiNWViIiwgImRhc2hBcnJheSI6IG51bGwsICJkYXNoT2Zmc2V0IjogbnVsbCwgImZpbGwiOiB0cnVlLCAiZmlsbENvbG9yIjogInllbGxvdyIsICJmaWxsT3BhY2l0eSI6IDAuNywgImZpbGxSdWxlIjogImV2ZW5vZGQiLCAibGluZUNhcCI6ICJyb3VuZCIsICJsaW5lSm9pbiI6ICJyb3VuZCIsICJvcGFjaXR5IjogMS4wLCAicmFkaXVzIjogNSwgInN0cm9rZSI6IHRydWUsICJ3ZWlnaHQiOiAzfQogICAgICAgICAgICApLmFkZFRvKG1hcF8wN2ExYzBiNjE4ODM0ZWEwYjk5NWMzNzRlNDY3MWFiNSk7CiAgICAgICAgCiAgICAKICAgICAgICB2YXIgcG9wdXBfODI4ZWNjZTQwNDQwNDYyOWE5M2FhYjYxOTk4ZWM3NDcgPSBMLnBvcHVwKHsibWF4V2lkdGgiOiAiMTAwJSJ9KTsKCiAgICAgICAgCiAgICAgICAgICAgIHZhciBodG1sX2IzMGQ0MzA4ZTVmNTQzMWFiZWI2OThhNDA2YzRjOTE3ID0gJChgPGRpdiBpZD0iaHRtbF9iMzBkNDMwOGU1ZjU0MzFhYmViNjk4YTQwNmM0YzkxNyIgc3R5bGU9IndpZHRoOiAxMDAuMCU7IGhlaWdodDogMTAwLjAlOyI+Q2hyaXN0aWUsIENsdXN0ZXIgMjwvZGl2PmApWzBdOwogICAgICAgICAgICBwb3B1cF84MjhlY2NlNDA0NDA0NjI5YTkzYWFiNjE5OThlYzc0Ny5zZXRDb250ZW50KGh0bWxfYjMwZDQzMDhlNWY1NDMxYWJlYjY5OGE0MDZjNGM5MTcpOwogICAgICAgIAoKICAgICAgICBjaXJjbGVfbWFya2VyXzYyZGZlYmZiMDE3YzQ1OGFhZDhhOWNiNmNlMjAyNTQ1LmJpbmRQb3B1cChwb3B1cF84MjhlY2NlNDA0NDA0NjI5YTkzYWFiNjE5OThlYzc0NykKICAgICAgICA7CgogICAgICAgIAogICAgCiAgICAKICAgICAgICAgICAgdmFyIGNpcmNsZV9tYXJrZXJfMTRiMGI5MDI3YTI0NGVhMThmNWYyNWMwZTJlMDM2YWUgPSBMLmNpcmNsZU1hcmtlcigKICAgICAgICAgICAgICAgIFs0My42NTA1NzEyMDAwMDAwMSwgLTc5LjM4NDU2NzVdLAogICAgICAgICAgICAgICAgeyJidWJibGluZ01vdXNlRXZlbnRzIjogdHJ1ZSwgImNvbG9yIjogIiMwMGI1ZWIiLCAiZGFzaEFycmF5IjogbnVsbCwgImRhc2hPZmZzZXQiOiBudWxsLCAiZmlsbCI6IHRydWUsICJmaWxsQ29sb3IiOiAieWVsbG93IiwgImZpbGxPcGFjaXR5IjogMC43LCAiZmlsbFJ1bGUiOiAiZXZlbm9kZCIsICJsaW5lQ2FwIjogInJvdW5kIiwgImxpbmVKb2luIjogInJvdW5kIiwgIm9wYWNpdHkiOiAxLjAsICJyYWRpdXMiOiA1LCAic3Ryb2tlIjogdHJ1ZSwgIndlaWdodCI6IDN9CiAgICAgICAgICAgICkuYWRkVG8obWFwXzA3YTFjMGI2MTg4MzRlYTBiOTk1YzM3NGU0NjcxYWI1KTsKICAgICAgICAKICAgIAogICAgICAgIHZhciBwb3B1cF80ZTY2ZjNkNDMzZDI0YWUxODZhNzI3MGFkNGNiNzNlNCA9IEwucG9wdXAoeyJtYXhXaWR0aCI6ICIxMDAlIn0pOwoKICAgICAgICAKICAgICAgICAgICAgdmFyIGh0bWxfZTBkZmQ2YmY2YTBhNDQxMmE2NDMzYTc5MDgyNWQxYmEgPSAkKGA8ZGl2IGlkPSJodG1sX2UwZGZkNmJmNmEwYTQ0MTJhNjQzM2E3OTA4MjVkMWJhIiBzdHlsZT0id2lkdGg6IDEwMC4wJTsgaGVpZ2h0OiAxMDAuMCU7Ij5SaWNobW9uZCwgQWRlbGFpZGUsIEtpbmcsIENsdXN0ZXIgMjwvZGl2PmApWzBdOwogICAgICAgICAgICBwb3B1cF80ZTY2ZjNkNDMzZDI0YWUxODZhNzI3MGFkNGNiNzNlNC5zZXRDb250ZW50KGh0bWxfZTBkZmQ2YmY2YTBhNDQxMmE2NDMzYTc5MDgyNWQxYmEpOwogICAgICAgIAoKICAgICAgICBjaXJjbGVfbWFya2VyXzE0YjBiOTAyN2EyNDRlYTE4ZjVmMjVjMGUyZTAzNmFlLmJpbmRQb3B1cChwb3B1cF80ZTY2ZjNkNDMzZDI0YWUxODZhNzI3MGFkNGNiNzNlNCkKICAgICAgICA7CgogICAgICAgIAogICAgCiAgICAKICAgICAgICAgICAgdmFyIGNpcmNsZV9tYXJrZXJfYWI4MGY0ZTQyMjQ0NGNmZDk0ZDIwM2NhNzRiZTI0OTQgPSBMLmNpcmNsZU1hcmtlcigKICAgICAgICAgICAgICAgIFs0My42NjkwMDUxMDAwMDAwMSwgLTc5LjQ0MjI1OTNdLAogICAgICAgICAgICAgICAgeyJidWJibGluZ01vdXNlRXZlbnRzIjogdHJ1ZSwgImNvbG9yIjogIiMwMGI1ZWIiLCAiZGFzaEFycmF5IjogbnVsbCwgImRhc2hPZmZzZXQiOiBudWxsLCAiZmlsbCI6IHRydWUsICJmaWxsQ29sb3IiOiAieWVsbG93IiwgImZpbGxPcGFjaXR5IjogMC43LCAiZmlsbFJ1bGUiOiAiZXZlbm9kZCIsICJsaW5lQ2FwIjogInJvdW5kIiwgImxpbmVKb2luIjogInJvdW5kIiwgIm9wYWNpdHkiOiAxLjAsICJyYWRpdXMiOiA1LCAic3Ryb2tlIjogdHJ1ZSwgIndlaWdodCI6IDN9CiAgICAgICAgICAgICkuYWRkVG8obWFwXzA3YTFjMGI2MTg4MzRlYTBiOTk1YzM3NGU0NjcxYWI1KTsKICAgICAgICAKICAgIAogICAgICAgIHZhciBwb3B1cF80OWFhZmRkNTljNWQ0MGZmOTAxNDViZDExMWE4N2NmZCA9IEwucG9wdXAoeyJtYXhXaWR0aCI6ICIxMDAlIn0pOwoKICAgICAgICAKICAgICAgICAgICAgdmFyIGh0bWxfZjUzMzlhNzhjZTk1NGVlNTk2OTkwYjI0MzRiMzlhODIgPSAkKGA8ZGl2IGlkPSJodG1sX2Y1MzM5YTc4Y2U5NTRlZTU5Njk5MGIyNDM0YjM5YTgyIiBzdHlsZT0id2lkdGg6IDEwMC4wJTsgaGVpZ2h0OiAxMDAuMCU7Ij5EdWZmZXJpbiwgRG92ZXJjb3VydCBWaWxsYWdlLCBDbHVzdGVyIDI8L2Rpdj5gKVswXTsKICAgICAgICAgICAgcG9wdXBfNDlhYWZkZDU5YzVkNDBmZjkwMTQ1YmQxMTFhODdjZmQuc2V0Q29udGVudChodG1sX2Y1MzM5YTc4Y2U5NTRlZTU5Njk5MGIyNDM0YjM5YTgyKTsKICAgICAgICAKCiAgICAgICAgY2lyY2xlX21hcmtlcl9hYjgwZjRlNDIyNDQ0Y2ZkOTRkMjAzY2E3NGJlMjQ5NC5iaW5kUG9wdXAocG9wdXBfNDlhYWZkZDU5YzVkNDBmZjkwMTQ1YmQxMTFhODdjZmQpCiAgICAgICAgOwoKICAgICAgICAKICAgIAogICAgCiAgICAgICAgICAgIHZhciBjaXJjbGVfbWFya2VyXzFmMWMzMDRkZGQzNzQyNGZhZTYyZDJhZWVhYjNiMzljID0gTC5jaXJjbGVNYXJrZXIoCiAgICAgICAgICAgICAgICBbNDMuNjQwODE1NywgLTc5LjM4MTc1MjI5OTk5OTk3XSwKICAgICAgICAgICAgICAgIHsiYnViYmxpbmdNb3VzZUV2ZW50cyI6IHRydWUsICJjb2xvciI6ICIjMDBiNWViIiwgImRhc2hBcnJheSI6IG51bGwsICJkYXNoT2Zmc2V0IjogbnVsbCwgImZpbGwiOiB0cnVlLCAiZmlsbENvbG9yIjogInllbGxvdyIsICJmaWxsT3BhY2l0eSI6IDAuNywgImZpbGxSdWxlIjogImV2ZW5vZGQiLCAibGluZUNhcCI6ICJyb3VuZCIsICJsaW5lSm9pbiI6ICJyb3VuZCIsICJvcGFjaXR5IjogMS4wLCAicmFkaXVzIjogNSwgInN0cm9rZSI6IHRydWUsICJ3ZWlnaHQiOiAzfQogICAgICAgICAgICApLmFkZFRvKG1hcF8wN2ExYzBiNjE4ODM0ZWEwYjk5NWMzNzRlNDY3MWFiNSk7CiAgICAgICAgCiAgICAKICAgICAgICB2YXIgcG9wdXBfZWY0NGQyZjdmZWRmNDJjYzg5MWZlZDdkZTg3ZGMzNDMgPSBMLnBvcHVwKHsibWF4V2lkdGgiOiAiMTAwJSJ9KTsKCiAgICAgICAgCiAgICAgICAgICAgIHZhciBodG1sXzU5YjUzMmZjMDk4ZTQwMTI5MDU0MzUzMWY3ZWQyNzg5ID0gJChgPGRpdiBpZD0iaHRtbF81OWI1MzJmYzA5OGU0MDEyOTA1NDM1MzFmN2VkMjc4OSIgc3R5bGU9IndpZHRoOiAxMDAuMCU7IGhlaWdodDogMTAwLjAlOyI+SGFyYm91cmZyb250IEVhc3QsIFVuaW9uIFN0YXRpb24sIFRvcm9udG8gSXNsYW5kcywgQ2x1c3RlciAyPC9kaXY+YClbMF07CiAgICAgICAgICAgIHBvcHVwX2VmNDRkMmY3ZmVkZjQyY2M4OTFmZWQ3ZGU4N2RjMzQzLnNldENvbnRlbnQoaHRtbF81OWI1MzJmYzA5OGU0MDEyOTA1NDM1MzFmN2VkMjc4OSk7CiAgICAgICAgCgogICAgICAgIGNpcmNsZV9tYXJrZXJfMWYxYzMwNGRkZDM3NDI0ZmFlNjJkMmFlZWFiM2IzOWMuYmluZFBvcHVwKHBvcHVwX2VmNDRkMmY3ZmVkZjQyY2M4OTFmZWQ3ZGU4N2RjMzQzKQogICAgICAgIDsKCiAgICAgICAgCiAgICAKICAgIAogICAgICAgICAgICB2YXIgY2lyY2xlX21hcmtlcl9mNmE3YjlhNzBlY2Q0ZTY2OTI4ODM4Njg5ZDg4NGUxMCA9IEwuY2lyY2xlTWFya2VyKAogICAgICAgICAgICAgICAgWzQzLjY0NzkyNjcwMDAwMDAwNiwgLTc5LjQxOTc0OTddLAogICAgICAgICAgICAgICAgeyJidWJibGluZ01vdXNlRXZlbnRzIjogdHJ1ZSwgImNvbG9yIjogIiMwMGI1ZWIiLCAiZGFzaEFycmF5IjogbnVsbCwgImRhc2hPZmZzZXQiOiBudWxsLCAiZmlsbCI6IHRydWUsICJmaWxsQ29sb3IiOiAieWVsbG93IiwgImZpbGxPcGFjaXR5IjogMC43LCAiZmlsbFJ1bGUiOiAiZXZlbm9kZCIsICJsaW5lQ2FwIjogInJvdW5kIiwgImxpbmVKb2luIjogInJvdW5kIiwgIm9wYWNpdHkiOiAxLjAsICJyYWRpdXMiOiA1LCAic3Ryb2tlIjogdHJ1ZSwgIndlaWdodCI6IDN9CiAgICAgICAgICAgICkuYWRkVG8obWFwXzA3YTFjMGI2MTg4MzRlYTBiOTk1YzM3NGU0NjcxYWI1KTsKICAgICAgICAKICAgIAogICAgICAgIHZhciBwb3B1cF9lNzBkMWIzMjFiODQ0YTMwOTExMjk2MTU0MzVlNjU2MSA9IEwucG9wdXAoeyJtYXhXaWR0aCI6ICIxMDAlIn0pOwoKICAgICAgICAKICAgICAgICAgICAgdmFyIGh0bWxfZDg0YTdhYjNhYjdkNDQ1NmE5OWU1ZjVjNDdmNjcwM2IgPSAkKGA8ZGl2IGlkPSJodG1sX2Q4NGE3YWIzYWI3ZDQ0NTZhOTllNWY1YzQ3ZjY3MDNiIiBzdHlsZT0id2lkdGg6IDEwMC4wJTsgaGVpZ2h0OiAxMDAuMCU7Ij5MaXR0bGUgUG9ydHVnYWwsIFRyaW5pdHksIENsdXN0ZXIgMjwvZGl2PmApWzBdOwogICAgICAgICAgICBwb3B1cF9lNzBkMWIzMjFiODQ0YTMwOTExMjk2MTU0MzVlNjU2MS5zZXRDb250ZW50KGh0bWxfZDg0YTdhYjNhYjdkNDQ1NmE5OWU1ZjVjNDdmNjcwM2IpOwogICAgICAgIAoKICAgICAgICBjaXJjbGVfbWFya2VyX2Y2YTdiOWE3MGVjZDRlNjY5Mjg4Mzg2ODlkODg0ZTEwLmJpbmRQb3B1cChwb3B1cF9lNzBkMWIzMjFiODQ0YTMwOTExMjk2MTU0MzVlNjU2MSkKICAgICAgICA7CgogICAgICAgIAogICAgCiAgICAKICAgICAgICAgICAgdmFyIGNpcmNsZV9tYXJrZXJfMDhjZDI5ODA0ZTc0NDk3YjkwMDg1ZTE4Y2QxNmFhMzMgPSBMLmNpcmNsZU1hcmtlcigKICAgICAgICAgICAgICAgIFs0My42Nzk1NTcxLCAtNzkuMzUyMTg4XSwKICAgICAgICAgICAgICAgIHsiYnViYmxpbmdNb3VzZUV2ZW50cyI6IHRydWUsICJjb2xvciI6ICIjMDBiNWViIiwgImRhc2hBcnJheSI6IG51bGwsICJkYXNoT2Zmc2V0IjogbnVsbCwgImZpbGwiOiB0cnVlLCAiZmlsbENvbG9yIjogInllbGxvdyIsICJmaWxsT3BhY2l0eSI6IDAuNywgImZpbGxSdWxlIjogImV2ZW5vZGQiLCAibGluZUNhcCI6ICJyb3VuZCIsICJsaW5lSm9pbiI6ICJyb3VuZCIsICJvcGFjaXR5IjogMS4wLCAicmFkaXVzIjogNSwgInN0cm9rZSI6IHRydWUsICJ3ZWlnaHQiOiAzfQogICAgICAgICAgICApLmFkZFRvKG1hcF8wN2ExYzBiNjE4ODM0ZWEwYjk5NWMzNzRlNDY3MWFiNSk7CiAgICAgICAgCiAgICAKICAgICAgICB2YXIgcG9wdXBfMjJiNTQ5ZDZlZTBlNDNlZTllMTkwMDAyM2M3MjIwNDEgPSBMLnBvcHVwKHsibWF4V2lkdGgiOiAiMTAwJSJ9KTsKCiAgICAgICAgCiAgICAgICAgICAgIHZhciBodG1sXzM2NjVjNzRkOGQ1MjQ0MWI5MWJhYzQ2M2NiMTM2ODA5ID0gJChgPGRpdiBpZD0iaHRtbF8zNjY1Yzc0ZDhkNTI0NDFiOTFiYWM0NjNjYjEzNjgwOSIgc3R5bGU9IndpZHRoOiAxMDAuMCU7IGhlaWdodDogMTAwLjAlOyI+VGhlIERhbmZvcnRoIFdlc3QsIFJpdmVyZGFsZSwgQ2x1c3RlciAyPC9kaXY+YClbMF07CiAgICAgICAgICAgIHBvcHVwXzIyYjU0OWQ2ZWUwZTQzZWU5ZTE5MDAwMjNjNzIyMDQxLnNldENvbnRlbnQoaHRtbF8zNjY1Yzc0ZDhkNTI0NDFiOTFiYWM0NjNjYjEzNjgwOSk7CiAgICAgICAgCgogICAgICAgIGNpcmNsZV9tYXJrZXJfMDhjZDI5ODA0ZTc0NDk3YjkwMDg1ZTE4Y2QxNmFhMzMuYmluZFBvcHVwKHBvcHVwXzIyYjU0OWQ2ZWUwZTQzZWU5ZTE5MDAwMjNjNzIyMDQxKQogICAgICAgIDsKCiAgICAgICAgCiAgICAKICAgIAogICAgICAgICAgICB2YXIgY2lyY2xlX21hcmtlcl9lZDg4ZjI0MzExMWQ0NmRjODc2M2Y0OWRhYTg3MDQ2NSA9IEwuY2lyY2xlTWFya2VyKAogICAgICAgICAgICAgICAgWzQzLjY0NzE3NjgsIC03OS4zODE1NzY0MDAwMDAwMV0sCiAgICAgICAgICAgICAgICB7ImJ1YmJsaW5nTW91c2VFdmVudHMiOiB0cnVlLCAiY29sb3IiOiAiIzAwYjVlYiIsICJkYXNoQXJyYXkiOiBudWxsLCAiZGFzaE9mZnNldCI6IG51bGwsICJmaWxsIjogdHJ1ZSwgImZpbGxDb2xvciI6ICJ5ZWxsb3ciLCAiZmlsbE9wYWNpdHkiOiAwLjcsICJmaWxsUnVsZSI6ICJldmVub2RkIiwgImxpbmVDYXAiOiAicm91bmQiLCAibGluZUpvaW4iOiAicm91bmQiLCAib3BhY2l0eSI6IDEuMCwgInJhZGl1cyI6IDUsICJzdHJva2UiOiB0cnVlLCAid2VpZ2h0IjogM30KICAgICAgICAgICAgKS5hZGRUbyhtYXBfMDdhMWMwYjYxODgzNGVhMGI5OTVjMzc0ZTQ2NzFhYjUpOwogICAgICAgIAogICAgCiAgICAgICAgdmFyIHBvcHVwXzE4NzcxOWE4YjUxNDQ4NmViMzQ1ZDZhMjAyNmM0MjE3ID0gTC5wb3B1cCh7Im1heFdpZHRoIjogIjEwMCUifSk7CgogICAgICAgIAogICAgICAgICAgICB2YXIgaHRtbF81OWYxYmMyNWQ3MWI0ZmM5YjNkMjE5OWMwNjdkMWMzNCA9ICQoYDxkaXYgaWQ9Imh0bWxfNTlmMWJjMjVkNzFiNGZjOWIzZDIxOTljMDY3ZDFjMzQiIHN0eWxlPSJ3aWR0aDogMTAwLjAlOyBoZWlnaHQ6IDEwMC4wJTsiPlRvcm9udG8gRG9taW5pb24gQ2VudHJlLCBEZXNpZ24gRXhjaGFuZ2UsIENsdXN0ZXIgMjwvZGl2PmApWzBdOwogICAgICAgICAgICBwb3B1cF8xODc3MTlhOGI1MTQ0ODZlYjM0NWQ2YTIwMjZjNDIxNy5zZXRDb250ZW50KGh0bWxfNTlmMWJjMjVkNzFiNGZjOWIzZDIxOTljMDY3ZDFjMzQpOwogICAgICAgIAoKICAgICAgICBjaXJjbGVfbWFya2VyX2VkODhmMjQzMTExZDQ2ZGM4NzYzZjQ5ZGFhODcwNDY1LmJpbmRQb3B1cChwb3B1cF8xODc3MTlhOGI1MTQ0ODZlYjM0NWQ2YTIwMjZjNDIxNykKICAgICAgICA7CgogICAgICAgIAogICAgCiAgICAKICAgICAgICAgICAgdmFyIGNpcmNsZV9tYXJrZXJfNDhmNDIxMjgzZDgyNDRjYzk2M2M1ZGFjM2Y0NDU2MGUgPSBMLmNpcmNsZU1hcmtlcigKICAgICAgICAgICAgICAgIFs0My42MzY4NDcyLCAtNzkuNDI4MTkxNDAwMDAwMDJdLAogICAgICAgICAgICAgICAgeyJidWJibGluZ01vdXNlRXZlbnRzIjogdHJ1ZSwgImNvbG9yIjogIiMwMGI1ZWIiLCAiZGFzaEFycmF5IjogbnVsbCwgImRhc2hPZmZzZXQiOiBudWxsLCAiZmlsbCI6IHRydWUsICJmaWxsQ29sb3IiOiAieWVsbG93IiwgImZpbGxPcGFjaXR5IjogMC43LCAiZmlsbFJ1bGUiOiAiZXZlbm9kZCIsICJsaW5lQ2FwIjogInJvdW5kIiwgImxpbmVKb2luIjogInJvdW5kIiwgIm9wYWNpdHkiOiAxLjAsICJyYWRpdXMiOiA1LCAic3Ryb2tlIjogdHJ1ZSwgIndlaWdodCI6IDN9CiAgICAgICAgICAgICkuYWRkVG8obWFwXzA3YTFjMGI2MTg4MzRlYTBiOTk1YzM3NGU0NjcxYWI1KTsKICAgICAgICAKICAgIAogICAgICAgIHZhciBwb3B1cF8xYjFkMDE0YTg3OGM0M2Y0ODE4MGQ5MDRhMmY1NTQxNCA9IEwucG9wdXAoeyJtYXhXaWR0aCI6ICIxMDAlIn0pOwoKICAgICAgICAKICAgICAgICAgICAgdmFyIGh0bWxfNGYzMDA4ZDI5NzkyNDYzYTlhMTZmMmFmZWM4YTVhMzMgPSAkKGA8ZGl2IGlkPSJodG1sXzRmMzAwOGQyOTc5MjQ2M2E5YTE2ZjJhZmVjOGE1YTMzIiBzdHlsZT0id2lkdGg6IDEwMC4wJTsgaGVpZ2h0OiAxMDAuMCU7Ij5Ccm9ja3RvbiwgUGFya2RhbGUgVmlsbGFnZSwgRXhoaWJpdGlvbiBQbGFjZSwgQ2x1c3RlciAyPC9kaXY+YClbMF07CiAgICAgICAgICAgIHBvcHVwXzFiMWQwMTRhODc4YzQzZjQ4MTgwZDkwNGEyZjU1NDE0LnNldENvbnRlbnQoaHRtbF80ZjMwMDhkMjk3OTI0NjNhOWExNmYyYWZlYzhhNWEzMyk7CiAgICAgICAgCgogICAgICAgIGNpcmNsZV9tYXJrZXJfNDhmNDIxMjgzZDgyNDRjYzk2M2M1ZGFjM2Y0NDU2MGUuYmluZFBvcHVwKHBvcHVwXzFiMWQwMTRhODc4YzQzZjQ4MTgwZDkwNGEyZjU1NDE0KQogICAgICAgIDsKCiAgICAgICAgCiAgICAKICAgIAogICAgICAgICAgICB2YXIgY2lyY2xlX21hcmtlcl9mYWUxMjQzMTUyZDQ0NGMzYjQzMzJkNDNiOWYxMzZhMyA9IEwuY2lyY2xlTWFya2VyKAogICAgICAgICAgICAgICAgWzQzLjY2ODk5ODUsIC03OS4zMTU1NzE1OTk5OTk5OF0sCiAgICAgICAgICAgICAgICB7ImJ1YmJsaW5nTW91c2VFdmVudHMiOiB0cnVlLCAiY29sb3IiOiAiIzAwYjVlYiIsICJkYXNoQXJyYXkiOiBudWxsLCAiZGFzaE9mZnNldCI6IG51bGwsICJmaWxsIjogdHJ1ZSwgImZpbGxDb2xvciI6ICJ5ZWxsb3ciLCAiZmlsbE9wYWNpdHkiOiAwLjcsICJmaWxsUnVsZSI6ICJldmVub2RkIiwgImxpbmVDYXAiOiAicm91bmQiLCAibGluZUpvaW4iOiAicm91bmQiLCAib3BhY2l0eSI6IDEuMCwgInJhZGl1cyI6IDUsICJzdHJva2UiOiB0cnVlLCAid2VpZ2h0IjogM30KICAgICAgICAgICAgKS5hZGRUbyhtYXBfMDdhMWMwYjYxODgzNGVhMGI5OTVjMzc0ZTQ2NzFhYjUpOwogICAgICAgIAogICAgCiAgICAgICAgdmFyIHBvcHVwXzAwZmU1YTU3Zjk0NDQwMGJhOTE0ZTQ1Y2U2YzQzOTg0ID0gTC5wb3B1cCh7Im1heFdpZHRoIjogIjEwMCUifSk7CgogICAgICAgIAogICAgICAgICAgICB2YXIgaHRtbF8wYzY0ZGI3ZWZjYTk0YmE5ODE1N2UzOTU3MjE5NDY1NCA9ICQoYDxkaXYgaWQ9Imh0bWxfMGM2NGRiN2VmY2E5NGJhOTgxNTdlMzk1NzIxOTQ2NTQiIHN0eWxlPSJ3aWR0aDogMTAwLjAlOyBoZWlnaHQ6IDEwMC4wJTsiPkluZGlhIEJhemFhciwgVGhlIEJlYWNoZXMgV2VzdCwgQ2x1c3RlciAyPC9kaXY+YClbMF07CiAgICAgICAgICAgIHBvcHVwXzAwZmU1YTU3Zjk0NDQwMGJhOTE0ZTQ1Y2U2YzQzOTg0LnNldENvbnRlbnQoaHRtbF8wYzY0ZGI3ZWZjYTk0YmE5ODE1N2UzOTU3MjE5NDY1NCk7CiAgICAgICAgCgogICAgICAgIGNpcmNsZV9tYXJrZXJfZmFlMTI0MzE1MmQ0NDRjM2I0MzMyZDQzYjlmMTM2YTMuYmluZFBvcHVwKHBvcHVwXzAwZmU1YTU3Zjk0NDQwMGJhOTE0ZTQ1Y2U2YzQzOTg0KQogICAgICAgIDsKCiAgICAgICAgCiAgICAKICAgIAogICAgICAgICAgICB2YXIgY2lyY2xlX21hcmtlcl9iMDYzMGQ5MzFkMGY0ODE4ODJkNTYwNjBjZTE0ODQ2YyA9IEwuY2lyY2xlTWFya2VyKAogICAgICAgICAgICAgICAgWzQzLjY0ODE5ODUsIC03OS4zNzk4MTY5MDAwMDAwMl0sCiAgICAgICAgICAgICAgICB7ImJ1YmJsaW5nTW91c2VFdmVudHMiOiB0cnVlLCAiY29sb3IiOiAiIzAwYjVlYiIsICJkYXNoQXJyYXkiOiBudWxsLCAiZGFzaE9mZnNldCI6IG51bGwsICJmaWxsIjogdHJ1ZSwgImZpbGxDb2xvciI6ICJ5ZWxsb3ciLCAiZmlsbE9wYWNpdHkiOiAwLjcsICJmaWxsUnVsZSI6ICJldmVub2RkIiwgImxpbmVDYXAiOiAicm91bmQiLCAibGluZUpvaW4iOiAicm91bmQiLCAib3BhY2l0eSI6IDEuMCwgInJhZGl1cyI6IDUsICJzdHJva2UiOiB0cnVlLCAid2VpZ2h0IjogM30KICAgICAgICAgICAgKS5hZGRUbyhtYXBfMDdhMWMwYjYxODgzNGVhMGI5OTVjMzc0ZTQ2NzFhYjUpOwogICAgICAgIAogICAgCiAgICAgICAgdmFyIHBvcHVwX2ZlMDU5NjYyMTA4ODRkNDJhMTVkMzI5MGQxZjgzYTU2ID0gTC5wb3B1cCh7Im1heFdpZHRoIjogIjEwMCUifSk7CgogICAgICAgIAogICAgICAgICAgICB2YXIgaHRtbF9lMjU3N2M3MjJlYWU0Y2QwYjhmODliNzM3YTFhMGMxNiA9ICQoYDxkaXYgaWQ9Imh0bWxfZTI1NzdjNzIyZWFlNGNkMGI4Zjg5YjczN2ExYTBjMTYiIHN0eWxlPSJ3aWR0aDogMTAwLjAlOyBoZWlnaHQ6IDEwMC4wJTsiPkNvbW1lcmNlIENvdXJ0LCBWaWN0b3JpYSBIb3RlbCwgQ2x1c3RlciAyPC9kaXY+YClbMF07CiAgICAgICAgICAgIHBvcHVwX2ZlMDU5NjYyMTA4ODRkNDJhMTVkMzI5MGQxZjgzYTU2LnNldENvbnRlbnQoaHRtbF9lMjU3N2M3MjJlYWU0Y2QwYjhmODliNzM3YTFhMGMxNik7CiAgICAgICAgCgogICAgICAgIGNpcmNsZV9tYXJrZXJfYjA2MzBkOTMxZDBmNDgxODgyZDU2MDYwY2UxNDg0NmMuYmluZFBvcHVwKHBvcHVwX2ZlMDU5NjYyMTA4ODRkNDJhMTVkMzI5MGQxZjgzYTU2KQogICAgICAgIDsKCiAgICAgICAgCiAgICAKICAgIAogICAgICAgICAgICB2YXIgY2lyY2xlX21hcmtlcl84ODU4MzJiMDdiOWE0NjUyOTA2YWM1MjlkNWZlYTc5NyA9IEwuY2lyY2xlTWFya2VyKAogICAgICAgICAgICAgICAgWzQzLjY1OTUyNTUsIC03OS4zNDA5MjNdLAogICAgICAgICAgICAgICAgeyJidWJibGluZ01vdXNlRXZlbnRzIjogdHJ1ZSwgImNvbG9yIjogIiMwMGI1ZWIiLCAiZGFzaEFycmF5IjogbnVsbCwgImRhc2hPZmZzZXQiOiBudWxsLCAiZmlsbCI6IHRydWUsICJmaWxsQ29sb3IiOiAieWVsbG93IiwgImZpbGxPcGFjaXR5IjogMC43LCAiZmlsbFJ1bGUiOiAiZXZlbm9kZCIsICJsaW5lQ2FwIjogInJvdW5kIiwgImxpbmVKb2luIjogInJvdW5kIiwgIm9wYWNpdHkiOiAxLjAsICJyYWRpdXMiOiA1LCAic3Ryb2tlIjogdHJ1ZSwgIndlaWdodCI6IDN9CiAgICAgICAgICAgICkuYWRkVG8obWFwXzA3YTFjMGI2MTg4MzRlYTBiOTk1YzM3NGU0NjcxYWI1KTsKICAgICAgICAKICAgIAogICAgICAgIHZhciBwb3B1cF8xMTRlZGRlODBkNGI0Y2FiOWNiNmJlZTcwYTFiM2IyOCA9IEwucG9wdXAoeyJtYXhXaWR0aCI6ICIxMDAlIn0pOwoKICAgICAgICAKICAgICAgICAgICAgdmFyIGh0bWxfYmQyNjNhYmUyNGNkNGU4ZGI0ZmRjNTlkYWQyYjg2NmIgPSAkKGA8ZGl2IGlkPSJodG1sX2JkMjYzYWJlMjRjZDRlOGRiNGZkYzU5ZGFkMmI4NjZiIiBzdHlsZT0id2lkdGg6IDEwMC4wJTsgaGVpZ2h0OiAxMDAuMCU7Ij5TdHVkaW8gRGlzdHJpY3QsIENsdXN0ZXIgMjwvZGl2PmApWzBdOwogICAgICAgICAgICBwb3B1cF8xMTRlZGRlODBkNGI0Y2FiOWNiNmJlZTcwYTFiM2IyOC5zZXRDb250ZW50KGh0bWxfYmQyNjNhYmUyNGNkNGU4ZGI0ZmRjNTlkYWQyYjg2NmIpOwogICAgICAgIAoKICAgICAgICBjaXJjbGVfbWFya2VyXzg4NTgzMmIwN2I5YTQ2NTI5MDZhYzUyOWQ1ZmVhNzk3LmJpbmRQb3B1cChwb3B1cF8xMTRlZGRlODBkNGI0Y2FiOWNiNmJlZTcwYTFiM2IyOCkKICAgICAgICA7CgogICAgICAgIAogICAgCiAgICAKICAgICAgICAgICAgdmFyIGNpcmNsZV9tYXJrZXJfYWUyNmM0NzFiNzRmNGRhMGFkODZiZTQxYTFlOThkYzAgPSBMLmNpcmNsZU1hcmtlcigKICAgICAgICAgICAgICAgIFs0My43MjgwMjA1LCAtNzkuMzg4NzkwMV0sCiAgICAgICAgICAgICAgICB7ImJ1YmJsaW5nTW91c2VFdmVudHMiOiB0cnVlLCAiY29sb3IiOiAiI2ZmMDAwMCIsICJkYXNoQXJyYXkiOiBudWxsLCAiZGFzaE9mZnNldCI6IG51bGwsICJmaWxsIjogdHJ1ZSwgImZpbGxDb2xvciI6ICJ5ZWxsb3ciLCAiZmlsbE9wYWNpdHkiOiAwLjcsICJmaWxsUnVsZSI6ICJldmVub2RkIiwgImxpbmVDYXAiOiAicm91bmQiLCAibGluZUpvaW4iOiAicm91bmQiLCAib3BhY2l0eSI6IDEuMCwgInJhZGl1cyI6IDUsICJzdHJva2UiOiB0cnVlLCAid2VpZ2h0IjogM30KICAgICAgICAgICAgKS5hZGRUbyhtYXBfMDdhMWMwYjYxODgzNGVhMGI5OTVjMzc0ZTQ2NzFhYjUpOwogICAgICAgIAogICAgCiAgICAgICAgdmFyIHBvcHVwXzEzMTA4MWJiOWMwYzQyMjFhMmJkYzJjYmZiZDdmZjE1ID0gTC5wb3B1cCh7Im1heFdpZHRoIjogIjEwMCUifSk7CgogICAgICAgIAogICAgICAgICAgICB2YXIgaHRtbF84ZWRhNTI5NzMyY2M0NWM2YWJlYzcwNmM0ODU4MDI2MyA9ICQoYDxkaXYgaWQ9Imh0bWxfOGVkYTUyOTczMmNjNDVjNmFiZWM3MDZjNDg1ODAyNjMiIHN0eWxlPSJ3aWR0aDogMTAwLjAlOyBoZWlnaHQ6IDEwMC4wJTsiPkxhd3JlbmNlIFBhcmssIENsdXN0ZXIgMDwvZGl2PmApWzBdOwogICAgICAgICAgICBwb3B1cF8xMzEwODFiYjljMGM0MjIxYTJiZGMyY2JmYmQ3ZmYxNS5zZXRDb250ZW50KGh0bWxfOGVkYTUyOTczMmNjNDVjNmFiZWM3MDZjNDg1ODAyNjMpOwogICAgICAgIAoKICAgICAgICBjaXJjbGVfbWFya2VyX2FlMjZjNDcxYjc0ZjRkYTBhZDg2YmU0MWExZTk4ZGMwLmJpbmRQb3B1cChwb3B1cF8xMzEwODFiYjljMGM0MjIxYTJiZGMyY2JmYmQ3ZmYxNSkKICAgICAgICA7CgogICAgICAgIAogICAgCiAgICAKICAgICAgICAgICAgdmFyIGNpcmNsZV9tYXJrZXJfZGE5NDFlMDQzYjI5NDk1NGE4NDYxZWE5MzFhNThlOTggPSBMLmNpcmNsZU1hcmtlcigKICAgICAgICAgICAgICAgIFs0My43MTE2OTQ4LCAtNzkuNDE2OTM1NTk5OTk5OTldLAogICAgICAgICAgICAgICAgeyJidWJibGluZ01vdXNlRXZlbnRzIjogdHJ1ZSwgImNvbG9yIjogIiNmZmIzNjAiLCAiZGFzaEFycmF5IjogbnVsbCwgImRhc2hPZmZzZXQiOiBudWxsLCAiZmlsbCI6IHRydWUsICJmaWxsQ29sb3IiOiAieWVsbG93IiwgImZpbGxPcGFjaXR5IjogMC43LCAiZmlsbFJ1bGUiOiAiZXZlbm9kZCIsICJsaW5lQ2FwIjogInJvdW5kIiwgImxpbmVKb2luIjogInJvdW5kIiwgIm9wYWNpdHkiOiAxLjAsICJyYWRpdXMiOiA1LCAic3Ryb2tlIjogdHJ1ZSwgIndlaWdodCI6IDN9CiAgICAgICAgICAgICkuYWRkVG8obWFwXzA3YTFjMGI2MTg4MzRlYTBiOTk1YzM3NGU0NjcxYWI1KTsKICAgICAgICAKICAgIAogICAgICAgIHZhciBwb3B1cF84YTEwYzYwMWYzMDc0ODU2OGYwNTUyOGVlYjhjYTI3ZSA9IEwucG9wdXAoeyJtYXhXaWR0aCI6ICIxMDAlIn0pOwoKICAgICAgICAKICAgICAgICAgICAgdmFyIGh0bWxfMDI5MGNmYWRjMTViNDNiOWE2YjhkYTAxZDhmOTNjNTEgPSAkKGA8ZGl2IGlkPSJodG1sXzAyOTBjZmFkYzE1YjQzYjlhNmI4ZGEwMWQ4ZjkzYzUxIiBzdHlsZT0id2lkdGg6IDEwMC4wJTsgaGVpZ2h0OiAxMDAuMCU7Ij5Sb3NlbGF3biwgQ2x1c3RlciA0PC9kaXY+YClbMF07CiAgICAgICAgICAgIHBvcHVwXzhhMTBjNjAxZjMwNzQ4NTY4ZjA1NTI4ZWViOGNhMjdlLnNldENvbnRlbnQoaHRtbF8wMjkwY2ZhZGMxNWI0M2I5YTZiOGRhMDFkOGY5M2M1MSk7CiAgICAgICAgCgogICAgICAgIGNpcmNsZV9tYXJrZXJfZGE5NDFlMDQzYjI5NDk1NGE4NDYxZWE5MzFhNThlOTguYmluZFBvcHVwKHBvcHVwXzhhMTBjNjAxZjMwNzQ4NTY4ZjA1NTI4ZWViOGNhMjdlKQogICAgICAgIDsKCiAgICAgICAgCiAgICAKICAgIAogICAgICAgICAgICB2YXIgY2lyY2xlX21hcmtlcl84MDI2NzkzZTc0Mzg0NmE3ODVjYWZiNGY4OWNkM2NjMCA9IEwuY2lyY2xlTWFya2VyKAogICAgICAgICAgICAgICAgWzQzLjcxMjc1MTEsIC03OS4zOTAxOTc1XSwKICAgICAgICAgICAgICAgIHsiYnViYmxpbmdNb3VzZUV2ZW50cyI6IHRydWUsICJjb2xvciI6ICIjMDBiNWViIiwgImRhc2hBcnJheSI6IG51bGwsICJkYXNoT2Zmc2V0IjogbnVsbCwgImZpbGwiOiB0cnVlLCAiZmlsbENvbG9yIjogInllbGxvdyIsICJmaWxsT3BhY2l0eSI6IDAuNywgImZpbGxSdWxlIjogImV2ZW5vZGQiLCAibGluZUNhcCI6ICJyb3VuZCIsICJsaW5lSm9pbiI6ICJyb3VuZCIsICJvcGFjaXR5IjogMS4wLCAicmFkaXVzIjogNSwgInN0cm9rZSI6IHRydWUsICJ3ZWlnaHQiOiAzfQogICAgICAgICAgICApLmFkZFRvKG1hcF8wN2ExYzBiNjE4ODM0ZWEwYjk5NWMzNzRlNDY3MWFiNSk7CiAgICAgICAgCiAgICAKICAgICAgICB2YXIgcG9wdXBfMjZjZmRjMTJlOGI2NDg0MzhjZjYyMDlhOWI4YjViN2YgPSBMLnBvcHVwKHsibWF4V2lkdGgiOiAiMTAwJSJ9KTsKCiAgICAgICAgCiAgICAgICAgICAgIHZhciBodG1sXzdkYTk4YThiMDZmZjQ1M2U4NGYyNzEwNGJiMzgxNjIxID0gJChgPGRpdiBpZD0iaHRtbF83ZGE5OGE4YjA2ZmY0NTNlODRmMjcxMDRiYjM4MTYyMSIgc3R5bGU9IndpZHRoOiAxMDAuMCU7IGhlaWdodDogMTAwLjAlOyI+RGF2aXN2aWxsZSBOb3J0aCwgQ2x1c3RlciAyPC9kaXY+YClbMF07CiAgICAgICAgICAgIHBvcHVwXzI2Y2ZkYzEyZThiNjQ4NDM4Y2Y2MjA5YTliOGI1YjdmLnNldENvbnRlbnQoaHRtbF83ZGE5OGE4YjA2ZmY0NTNlODRmMjcxMDRiYjM4MTYyMSk7CiAgICAgICAgCgogICAgICAgIGNpcmNsZV9tYXJrZXJfODAyNjc5M2U3NDM4NDZhNzg1Y2FmYjRmODljZDNjYzAuYmluZFBvcHVwKHBvcHVwXzI2Y2ZkYzEyZThiNjQ4NDM4Y2Y2MjA5YTliOGI1YjdmKQogICAgICAgIDsKCiAgICAgICAgCiAgICAKICAgIAogICAgICAgICAgICB2YXIgY2lyY2xlX21hcmtlcl81MzdmOTI2OTUwOGI0ODI5OTdlYjI0NzZjNzJkYjRiYyA9IEwuY2lyY2xlTWFya2VyKAogICAgICAgICAgICAgICAgWzQzLjY5Njk0NzYsIC03OS40MTEzMDcyMDAwMDAwMl0sCiAgICAgICAgICAgICAgICB7ImJ1YmJsaW5nTW91c2VFdmVudHMiOiB0cnVlLCAiY29sb3IiOiAiI2ZmMDAwMCIsICJkYXNoQXJyYXkiOiBudWxsLCAiZGFzaE9mZnNldCI6IG51bGwsICJmaWxsIjogdHJ1ZSwgImZpbGxDb2xvciI6ICJ5ZWxsb3ciLCAiZmlsbE9wYWNpdHkiOiAwLjcsICJmaWxsUnVsZSI6ICJldmVub2RkIiwgImxpbmVDYXAiOiAicm91bmQiLCAibGluZUpvaW4iOiAicm91bmQiLCAib3BhY2l0eSI6IDEuMCwgInJhZGl1cyI6IDUsICJzdHJva2UiOiB0cnVlLCAid2VpZ2h0IjogM30KICAgICAgICAgICAgKS5hZGRUbyhtYXBfMDdhMWMwYjYxODgzNGVhMGI5OTVjMzc0ZTQ2NzFhYjUpOwogICAgICAgIAogICAgCiAgICAgICAgdmFyIHBvcHVwX2ZiZDYxZWE4MWVjMTQwNTJiZWUyYzIyMmRkZDhjNTUxID0gTC5wb3B1cCh7Im1heFdpZHRoIjogIjEwMCUifSk7CgogICAgICAgIAogICAgICAgICAgICB2YXIgaHRtbF9kMmViNjNmM2YyZjA0N2VhOTBiYjBlMGI1M2QxZGEzOCA9ICQoYDxkaXYgaWQ9Imh0bWxfZDJlYjYzZjNmMmYwNDdlYTkwYmIwZTBiNTNkMWRhMzgiIHN0eWxlPSJ3aWR0aDogMTAwLjAlOyBoZWlnaHQ6IDEwMC4wJTsiPkZvcmVzdCBIaWxsIE5vcnRoICYgV2VzdCwgRm9yZXN0IEhpbGwgUm9hZCBQYXJrLCBDbHVzdGVyIDA8L2Rpdj5gKVswXTsKICAgICAgICAgICAgcG9wdXBfZmJkNjFlYTgxZWMxNDA1MmJlZTJjMjIyZGRkOGM1NTEuc2V0Q29udGVudChodG1sX2QyZWI2M2YzZjJmMDQ3ZWE5MGJiMGUwYjUzZDFkYTM4KTsKICAgICAgICAKCiAgICAgICAgY2lyY2xlX21hcmtlcl81MzdmOTI2OTUwOGI0ODI5OTdlYjI0NzZjNzJkYjRiYy5iaW5kUG9wdXAocG9wdXBfZmJkNjFlYTgxZWMxNDA1MmJlZTJjMjIyZGRkOGM1NTEpCiAgICAgICAgOwoKICAgICAgICAKICAgIAogICAgCiAgICAgICAgICAgIHZhciBjaXJjbGVfbWFya2VyXzY2ZDI3ODgyNTBiYTQwMDhhNWYzMGI3NzYzMDkwNjdhID0gTC5jaXJjbGVNYXJrZXIoCiAgICAgICAgICAgICAgICBbNDMuNjYxNjA4MywgLTc5LjQ2NDc2MzI5OTk5OTk5XSwKICAgICAgICAgICAgICAgIHsiYnViYmxpbmdNb3VzZUV2ZW50cyI6IHRydWUsICJjb2xvciI6ICIjMDBiNWViIiwgImRhc2hBcnJheSI6IG51bGwsICJkYXNoT2Zmc2V0IjogbnVsbCwgImZpbGwiOiB0cnVlLCAiZmlsbENvbG9yIjogInllbGxvdyIsICJmaWxsT3BhY2l0eSI6IDAuNywgImZpbGxSdWxlIjogImV2ZW5vZGQiLCAibGluZUNhcCI6ICJyb3VuZCIsICJsaW5lSm9pbiI6ICJyb3VuZCIsICJvcGFjaXR5IjogMS4wLCAicmFkaXVzIjogNSwgInN0cm9rZSI6IHRydWUsICJ3ZWlnaHQiOiAzfQogICAgICAgICAgICApLmFkZFRvKG1hcF8wN2ExYzBiNjE4ODM0ZWEwYjk5NWMzNzRlNDY3MWFiNSk7CiAgICAgICAgCiAgICAKICAgICAgICB2YXIgcG9wdXBfNWYxYjBiZmRlOTA0NDc1YjlhMjllMWZiNDZkZDVmNTkgPSBMLnBvcHVwKHsibWF4V2lkdGgiOiAiMTAwJSJ9KTsKCiAgICAgICAgCiAgICAgICAgICAgIHZhciBodG1sXzU5MmJmZmVhMTk0ZDQxMDc4ZDViODZhNmIxMDBkZGZjID0gJChgPGRpdiBpZD0iaHRtbF81OTJiZmZlYTE5NGQ0MTA3OGQ1Yjg2YTZiMTAwZGRmYyIgc3R5bGU9IndpZHRoOiAxMDAuMCU7IGhlaWdodDogMTAwLjAlOyI+SGlnaCBQYXJrLCBUaGUgSnVuY3Rpb24gU291dGgsIENsdXN0ZXIgMjwvZGl2PmApWzBdOwogICAgICAgICAgICBwb3B1cF81ZjFiMGJmZGU5MDQ0NzViOWEyOWUxZmI0NmRkNWY1OS5zZXRDb250ZW50KGh0bWxfNTkyYmZmZWExOTRkNDEwNzhkNWI4NmE2YjEwMGRkZmMpOwogICAgICAgIAoKICAgICAgICBjaXJjbGVfbWFya2VyXzY2ZDI3ODgyNTBiYTQwMDhhNWYzMGI3NzYzMDkwNjdhLmJpbmRQb3B1cChwb3B1cF81ZjFiMGJmZGU5MDQ0NzViOWEyOWUxZmI0NmRkNWY1OSkKICAgICAgICA7CgogICAgICAgIAogICAgCiAgICAKICAgICAgICAgICAgdmFyIGNpcmNsZV9tYXJrZXJfMTFlM2VkMGQ2YmM4NDQwZmE2Mjk3ZTA5YWY2ZjExNTQgPSBMLmNpcmNsZU1hcmtlcigKICAgICAgICAgICAgICAgIFs0My43MTUzODM0LCAtNzkuNDA1Njc4NDAwMDAwMDFdLAogICAgICAgICAgICAgICAgeyJidWJibGluZ01vdXNlRXZlbnRzIjogdHJ1ZSwgImNvbG9yIjogIiMwMGI1ZWIiLCAiZGFzaEFycmF5IjogbnVsbCwgImRhc2hPZmZzZXQiOiBudWxsLCAiZmlsbCI6IHRydWUsICJmaWxsQ29sb3IiOiAieWVsbG93IiwgImZpbGxPcGFjaXR5IjogMC43LCAiZmlsbFJ1bGUiOiAiZXZlbm9kZCIsICJsaW5lQ2FwIjogInJvdW5kIiwgImxpbmVKb2luIjogInJvdW5kIiwgIm9wYWNpdHkiOiAxLjAsICJyYWRpdXMiOiA1LCAic3Ryb2tlIjogdHJ1ZSwgIndlaWdodCI6IDN9CiAgICAgICAgICAgICkuYWRkVG8obWFwXzA3YTFjMGI2MTg4MzRlYTBiOTk1YzM3NGU0NjcxYWI1KTsKICAgICAgICAKICAgIAogICAgICAgIHZhciBwb3B1cF9mNWZiODVmZGVkNWQ0ZTRlYTkzMjI4OWFhMTVjNmY2NCA9IEwucG9wdXAoeyJtYXhXaWR0aCI6ICIxMDAlIn0pOwoKICAgICAgICAKICAgICAgICAgICAgdmFyIGh0bWxfOTg3NmU0MzI5MDIxNDdmNWIxMzlhNTlmYWVkMjg3NGEgPSAkKGA8ZGl2IGlkPSJodG1sXzk4NzZlNDMyOTAyMTQ3ZjViMTM5YTU5ZmFlZDI4NzRhIiBzdHlsZT0id2lkdGg6IDEwMC4wJTsgaGVpZ2h0OiAxMDAuMCU7Ij5Ob3J0aCBUb3JvbnRvIFdlc3QsICBMYXdyZW5jZSBQYXJrLCBDbHVzdGVyIDI8L2Rpdj5gKVswXTsKICAgICAgICAgICAgcG9wdXBfZjVmYjg1ZmRlZDVkNGU0ZWE5MzIyODlhYTE1YzZmNjQuc2V0Q29udGVudChodG1sXzk4NzZlNDMyOTAyMTQ3ZjViMTM5YTU5ZmFlZDI4NzRhKTsKICAgICAgICAKCiAgICAgICAgY2lyY2xlX21hcmtlcl8xMWUzZWQwZDZiYzg0NDBmYTYyOTdlMDlhZjZmMTE1NC5iaW5kUG9wdXAocG9wdXBfZjVmYjg1ZmRlZDVkNGU0ZWE5MzIyODlhYTE1YzZmNjQpCiAgICAgICAgOwoKICAgICAgICAKICAgIAogICAgCiAgICAgICAgICAgIHZhciBjaXJjbGVfbWFya2VyXzYwMTE4YWIzZTk1ZDRmYzBhYWE0ZTAyNjBmNjJiMjMxID0gTC5jaXJjbGVNYXJrZXIoCiAgICAgICAgICAgICAgICBbNDMuNjcyNzA5NywgLTc5LjQwNTY3ODQwMDAwMDAxXSwKICAgICAgICAgICAgICAgIHsiYnViYmxpbmdNb3VzZUV2ZW50cyI6IHRydWUsICJjb2xvciI6ICIjMDBiNWViIiwgImRhc2hBcnJheSI6IG51bGwsICJkYXNoT2Zmc2V0IjogbnVsbCwgImZpbGwiOiB0cnVlLCAiZmlsbENvbG9yIjogInllbGxvdyIsICJmaWxsT3BhY2l0eSI6IDAuNywgImZpbGxSdWxlIjogImV2ZW5vZGQiLCAibGluZUNhcCI6ICJyb3VuZCIsICJsaW5lSm9pbiI6ICJyb3VuZCIsICJvcGFjaXR5IjogMS4wLCAicmFkaXVzIjogNSwgInN0cm9rZSI6IHRydWUsICJ3ZWlnaHQiOiAzfQogICAgICAgICAgICApLmFkZFRvKG1hcF8wN2ExYzBiNjE4ODM0ZWEwYjk5NWMzNzRlNDY3MWFiNSk7CiAgICAgICAgCiAgICAKICAgICAgICB2YXIgcG9wdXBfN2VhOWVmMGQxNmRhNDc0ZGFjODYxODhmNWIwNjU0M2MgPSBMLnBvcHVwKHsibWF4V2lkdGgiOiAiMTAwJSJ9KTsKCiAgICAgICAgCiAgICAgICAgICAgIHZhciBodG1sXzE4ZmE2OWI4MmRlOTQxYjA4ZmU0NWRlNDU2OWQ5ZmY1ID0gJChgPGRpdiBpZD0iaHRtbF8xOGZhNjliODJkZTk0MWIwOGZlNDVkZTQ1NjlkOWZmNSIgc3R5bGU9IndpZHRoOiAxMDAuMCU7IGhlaWdodDogMTAwLjAlOyI+VGhlIEFubmV4LCBOb3J0aCBNaWR0b3duLCBZb3JrdmlsbGUsIENsdXN0ZXIgMjwvZGl2PmApWzBdOwogICAgICAgICAgICBwb3B1cF83ZWE5ZWYwZDE2ZGE0NzRkYWM4NjE4OGY1YjA2NTQzYy5zZXRDb250ZW50KGh0bWxfMThmYTY5YjgyZGU5NDFiMDhmZTQ1ZGU0NTY5ZDlmZjUpOwogICAgICAgIAoKICAgICAgICBjaXJjbGVfbWFya2VyXzYwMTE4YWIzZTk1ZDRmYzBhYWE0ZTAyNjBmNjJiMjMxLmJpbmRQb3B1cChwb3B1cF83ZWE5ZWYwZDE2ZGE0NzRkYWM4NjE4OGY1YjA2NTQzYykKICAgICAgICA7CgogICAgICAgIAogICAgCiAgICAKICAgICAgICAgICAgdmFyIGNpcmNsZV9tYXJrZXJfMThmNTA5MGZiODFiNGRiYjk1Y2Y0NTFmMjc4NzA0YjQgPSBMLmNpcmNsZU1hcmtlcigKICAgICAgICAgICAgICAgIFs0My42NDg5NTk3LCAtNzkuNDU2MzI1XSwKICAgICAgICAgICAgICAgIHsiYnViYmxpbmdNb3VzZUV2ZW50cyI6IHRydWUsICJjb2xvciI6ICIjMDBiNWViIiwgImRhc2hBcnJheSI6IG51bGwsICJkYXNoT2Zmc2V0IjogbnVsbCwgImZpbGwiOiB0cnVlLCAiZmlsbENvbG9yIjogInllbGxvdyIsICJmaWxsT3BhY2l0eSI6IDAuNywgImZpbGxSdWxlIjogImV2ZW5vZGQiLCAibGluZUNhcCI6ICJyb3VuZCIsICJsaW5lSm9pbiI6ICJyb3VuZCIsICJvcGFjaXR5IjogMS4wLCAicmFkaXVzIjogNSwgInN0cm9rZSI6IHRydWUsICJ3ZWlnaHQiOiAzfQogICAgICAgICAgICApLmFkZFRvKG1hcF8wN2ExYzBiNjE4ODM0ZWEwYjk5NWMzNzRlNDY3MWFiNSk7CiAgICAgICAgCiAgICAKICAgICAgICB2YXIgcG9wdXBfYmEzZWFkOWRjMjUzNGI2MWJjOWQyOWQ2Y2E2MzQyODAgPSBMLnBvcHVwKHsibWF4V2lkdGgiOiAiMTAwJSJ9KTsKCiAgICAgICAgCiAgICAgICAgICAgIHZhciBodG1sX2IyNDZmNTE0OTZlZDQwZGRhMTE2YjBhNjlhODM0OTFiID0gJChgPGRpdiBpZD0iaHRtbF9iMjQ2ZjUxNDk2ZWQ0MGRkYTExNmIwYTY5YTgzNDkxYiIgc3R5bGU9IndpZHRoOiAxMDAuMCU7IGhlaWdodDogMTAwLjAlOyI+UGFya2RhbGUsIFJvbmNlc3ZhbGxlcywgQ2x1c3RlciAyPC9kaXY+YClbMF07CiAgICAgICAgICAgIHBvcHVwX2JhM2VhZDlkYzI1MzRiNjFiYzlkMjlkNmNhNjM0MjgwLnNldENvbnRlbnQoaHRtbF9iMjQ2ZjUxNDk2ZWQ0MGRkYTExNmIwYTY5YTgzNDkxYik7CiAgICAgICAgCgogICAgICAgIGNpcmNsZV9tYXJrZXJfMThmNTA5MGZiODFiNGRiYjk1Y2Y0NTFmMjc4NzA0YjQuYmluZFBvcHVwKHBvcHVwX2JhM2VhZDlkYzI1MzRiNjFiYzlkMjlkNmNhNjM0MjgwKQogICAgICAgIDsKCiAgICAgICAgCiAgICAKICAgIAogICAgICAgICAgICB2YXIgY2lyY2xlX21hcmtlcl9iN2M1ZTk0ZmE2MzQ0M2ZhYmJlOTI1NjZiODljMGI4MCA9IEwuY2lyY2xlTWFya2VyKAogICAgICAgICAgICAgICAgWzQzLjcwNDMyNDQsIC03OS4zODg3OTAxXSwKICAgICAgICAgICAgICAgIHsiYnViYmxpbmdNb3VzZUV2ZW50cyI6IHRydWUsICJjb2xvciI6ICIjMDBiNWViIiwgImRhc2hBcnJheSI6IG51bGwsICJkYXNoT2Zmc2V0IjogbnVsbCwgImZpbGwiOiB0cnVlLCAiZmlsbENvbG9yIjogInllbGxvdyIsICJmaWxsT3BhY2l0eSI6IDAuNywgImZpbGxSdWxlIjogImV2ZW5vZGQiLCAibGluZUNhcCI6ICJyb3VuZCIsICJsaW5lSm9pbiI6ICJyb3VuZCIsICJvcGFjaXR5IjogMS4wLCAicmFkaXVzIjogNSwgInN0cm9rZSI6IHRydWUsICJ3ZWlnaHQiOiAzfQogICAgICAgICAgICApLmFkZFRvKG1hcF8wN2ExYzBiNjE4ODM0ZWEwYjk5NWMzNzRlNDY3MWFiNSk7CiAgICAgICAgCiAgICAKICAgICAgICB2YXIgcG9wdXBfNjRjMTM1OGFiNTgyNGI4Mjg1ZTdmODdjNmFhNGJiMTcgPSBMLnBvcHVwKHsibWF4V2lkdGgiOiAiMTAwJSJ9KTsKCiAgICAgICAgCiAgICAgICAgICAgIHZhciBodG1sXzYzYzRjODc0MGU4ZTQzYWU5NTIzNzNiOTg2ZGU3ZjQxID0gJChgPGRpdiBpZD0iaHRtbF82M2M0Yzg3NDBlOGU0M2FlOTUyMzczYjk4NmRlN2Y0MSIgc3R5bGU9IndpZHRoOiAxMDAuMCU7IGhlaWdodDogMTAwLjAlOyI+RGF2aXN2aWxsZSwgQ2x1c3RlciAyPC9kaXY+YClbMF07CiAgICAgICAgICAgIHBvcHVwXzY0YzEzNThhYjU4MjRiODI4NWU3Zjg3YzZhYTRiYjE3LnNldENvbnRlbnQoaHRtbF82M2M0Yzg3NDBlOGU0M2FlOTUyMzczYjk4NmRlN2Y0MSk7CiAgICAgICAgCgogICAgICAgIGNpcmNsZV9tYXJrZXJfYjdjNWU5NGZhNjM0NDNmYWJiZTkyNTY2Yjg5YzBiODAuYmluZFBvcHVwKHBvcHVwXzY0YzEzNThhYjU4MjRiODI4NWU3Zjg3YzZhYTRiYjE3KQogICAgICAgIDsKCiAgICAgICAgCiAgICAKICAgIAogICAgICAgICAgICB2YXIgY2lyY2xlX21hcmtlcl81MGU1ODY2MzY4ODE0ZjFmYWZhZjcyZDQ5MjRhOTdmNiA9IEwuY2lyY2xlTWFya2VyKAogICAgICAgICAgICAgICAgWzQzLjY2MjY5NTYsIC03OS40MDAwNDkzXSwKICAgICAgICAgICAgICAgIHsiYnViYmxpbmdNb3VzZUV2ZW50cyI6IHRydWUsICJjb2xvciI6ICIjMDBiNWViIiwgImRhc2hBcnJheSI6IG51bGwsICJkYXNoT2Zmc2V0IjogbnVsbCwgImZpbGwiOiB0cnVlLCAiZmlsbENvbG9yIjogInllbGxvdyIsICJmaWxsT3BhY2l0eSI6IDAuNywgImZpbGxSdWxlIjogImV2ZW5vZGQiLCAibGluZUNhcCI6ICJyb3VuZCIsICJsaW5lSm9pbiI6ICJyb3VuZCIsICJvcGFjaXR5IjogMS4wLCAicmFkaXVzIjogNSwgInN0cm9rZSI6IHRydWUsICJ3ZWlnaHQiOiAzfQogICAgICAgICAgICApLmFkZFRvKG1hcF8wN2ExYzBiNjE4ODM0ZWEwYjk5NWMzNzRlNDY3MWFiNSk7CiAgICAgICAgCiAgICAKICAgICAgICB2YXIgcG9wdXBfYTA0ZmJhMDJmNzU4NGIwNTkwYThlYWQ2ZTI2OTNjM2IgPSBMLnBvcHVwKHsibWF4V2lkdGgiOiAiMTAwJSJ9KTsKCiAgICAgICAgCiAgICAgICAgICAgIHZhciBodG1sX2I0YmRjZjkzOWE4NDQwMGY4YjM5MTQzYzcyYzNhNmQ3ID0gJChgPGRpdiBpZD0iaHRtbF9iNGJkY2Y5MzlhODQ0MDBmOGIzOTE0M2M3MmMzYTZkNyIgc3R5bGU9IndpZHRoOiAxMDAuMCU7IGhlaWdodDogMTAwLjAlOyI+VW5pdmVyc2l0eSBvZiBUb3JvbnRvLCBIYXJib3JkLCBDbHVzdGVyIDI8L2Rpdj5gKVswXTsKICAgICAgICAgICAgcG9wdXBfYTA0ZmJhMDJmNzU4NGIwNTkwYThlYWQ2ZTI2OTNjM2Iuc2V0Q29udGVudChodG1sX2I0YmRjZjkzOWE4NDQwMGY4YjM5MTQzYzcyYzNhNmQ3KTsKICAgICAgICAKCiAgICAgICAgY2lyY2xlX21hcmtlcl81MGU1ODY2MzY4ODE0ZjFmYWZhZjcyZDQ5MjRhOTdmNi5iaW5kUG9wdXAocG9wdXBfYTA0ZmJhMDJmNzU4NGIwNTkwYThlYWQ2ZTI2OTNjM2IpCiAgICAgICAgOwoKICAgICAgICAKICAgIAogICAgCiAgICAgICAgICAgIHZhciBjaXJjbGVfbWFya2VyX2E1MTU3YmZkY2Y1OTQ4OTU4MWQ1MDEwMDQxYTBhYzY3ID0gTC5jaXJjbGVNYXJrZXIoCiAgICAgICAgICAgICAgICBbNDMuNjUxNTcwNiwgLTc5LjQ4NDQ0OTldLAogICAgICAgICAgICAgICAgeyJidWJibGluZ01vdXNlRXZlbnRzIjogdHJ1ZSwgImNvbG9yIjogIiMwMGI1ZWIiLCAiZGFzaEFycmF5IjogbnVsbCwgImRhc2hPZmZzZXQiOiBudWxsLCAiZmlsbCI6IHRydWUsICJmaWxsQ29sb3IiOiAieWVsbG93IiwgImZpbGxPcGFjaXR5IjogMC43LCAiZmlsbFJ1bGUiOiAiZXZlbm9kZCIsICJsaW5lQ2FwIjogInJvdW5kIiwgImxpbmVKb2luIjogInJvdW5kIiwgIm9wYWNpdHkiOiAxLjAsICJyYWRpdXMiOiA1LCAic3Ryb2tlIjogdHJ1ZSwgIndlaWdodCI6IDN9CiAgICAgICAgICAgICkuYWRkVG8obWFwXzA3YTFjMGI2MTg4MzRlYTBiOTk1YzM3NGU0NjcxYWI1KTsKICAgICAgICAKICAgIAogICAgICAgIHZhciBwb3B1cF9mOWU2NGFlYjZiM2I0ZDRjYTAwMmU3MDQzYTgwZjg3ZSA9IEwucG9wdXAoeyJtYXhXaWR0aCI6ICIxMDAlIn0pOwoKICAgICAgICAKICAgICAgICAgICAgdmFyIGh0bWxfOWU0OWI4MTI0NDk0NDM3MDg1NTE3MmE5MDM2NWQ5NTggPSAkKGA8ZGl2IGlkPSJodG1sXzllNDliODEyNDQ5NDQzNzA4NTUxNzJhOTAzNjVkOTU4IiBzdHlsZT0id2lkdGg6IDEwMC4wJTsgaGVpZ2h0OiAxMDAuMCU7Ij5SdW5ueW1lZGUsIFN3YW5zZWEsIENsdXN0ZXIgMjwvZGl2PmApWzBdOwogICAgICAgICAgICBwb3B1cF9mOWU2NGFlYjZiM2I0ZDRjYTAwMmU3MDQzYTgwZjg3ZS5zZXRDb250ZW50KGh0bWxfOWU0OWI4MTI0NDk0NDM3MDg1NTE3MmE5MDM2NWQ5NTgpOwogICAgICAgIAoKICAgICAgICBjaXJjbGVfbWFya2VyX2E1MTU3YmZkY2Y1OTQ4OTU4MWQ1MDEwMDQxYTBhYzY3LmJpbmRQb3B1cChwb3B1cF9mOWU2NGFlYjZiM2I0ZDRjYTAwMmU3MDQzYTgwZjg3ZSkKICAgICAgICA7CgogICAgICAgIAogICAgCiAgICAKICAgICAgICAgICAgdmFyIGNpcmNsZV9tYXJrZXJfOTZkMGRjMmQ5NDFhNGRjMDk0Y2Q1NjYwMzkwYmQ2NDggPSBMLmNpcmNsZU1hcmtlcigKICAgICAgICAgICAgICAgIFs0My42ODk1NzQzLCAtNzkuMzgzMTU5OTAwMDAwMDJdLAogICAgICAgICAgICAgICAgeyJidWJibGluZ01vdXNlRXZlbnRzIjogdHJ1ZSwgImNvbG9yIjogIiM4MDAwZmYiLCAiZGFzaEFycmF5IjogbnVsbCwgImRhc2hPZmZzZXQiOiBudWxsLCAiZmlsbCI6IHRydWUsICJmaWxsQ29sb3IiOiAieWVsbG93IiwgImZpbGxPcGFjaXR5IjogMC43LCAiZmlsbFJ1bGUiOiAiZXZlbm9kZCIsICJsaW5lQ2FwIjogInJvdW5kIiwgImxpbmVKb2luIjogInJvdW5kIiwgIm9wYWNpdHkiOiAxLjAsICJyYWRpdXMiOiA1LCAic3Ryb2tlIjogdHJ1ZSwgIndlaWdodCI6IDN9CiAgICAgICAgICAgICkuYWRkVG8obWFwXzA3YTFjMGI2MTg4MzRlYTBiOTk1YzM3NGU0NjcxYWI1KTsKICAgICAgICAKICAgIAogICAgICAgIHZhciBwb3B1cF8xZDcxZDAwMmY1NTY0N2Y2YmQ3MDQ0NzI2OTVjZmMzMiA9IEwucG9wdXAoeyJtYXhXaWR0aCI6ICIxMDAlIn0pOwoKICAgICAgICAKICAgICAgICAgICAgdmFyIGh0bWxfNTlkZDM4YjcxNzE5NDQwYTg2ZjA1NTliNDQzYjAwMjEgPSAkKGA8ZGl2IGlkPSJodG1sXzU5ZGQzOGI3MTcxOTQ0MGE4NmYwNTU5YjQ0M2IwMDIxIiBzdHlsZT0id2lkdGg6IDEwMC4wJTsgaGVpZ2h0OiAxMDAuMCU7Ij5Nb29yZSBQYXJrLCBTdW1tZXJoaWxsIEVhc3QsIENsdXN0ZXIgMTwvZGl2PmApWzBdOwogICAgICAgICAgICBwb3B1cF8xZDcxZDAwMmY1NTY0N2Y2YmQ3MDQ0NzI2OTVjZmMzMi5zZXRDb250ZW50KGh0bWxfNTlkZDM4YjcxNzE5NDQwYTg2ZjA1NTliNDQzYjAwMjEpOwogICAgICAgIAoKICAgICAgICBjaXJjbGVfbWFya2VyXzk2ZDBkYzJkOTQxYTRkYzA5NGNkNTY2MDM5MGJkNjQ4LmJpbmRQb3B1cChwb3B1cF8xZDcxZDAwMmY1NTY0N2Y2YmQ3MDQ0NzI2OTVjZmMzMikKICAgICAgICA7CgogICAgICAgIAogICAgCiAgICAKICAgICAgICAgICAgdmFyIGNpcmNsZV9tYXJrZXJfNGNkYzY3OTllMmQ5NDE2NDkyNjUyZjM1Y2RiMzZhN2EgPSBMLmNpcmNsZU1hcmtlcigKICAgICAgICAgICAgICAgIFs0My42NTMyMDU3LCAtNzkuNDAwMDQ5M10sCiAgICAgICAgICAgICAgICB7ImJ1YmJsaW5nTW91c2VFdmVudHMiOiB0cnVlLCAiY29sb3IiOiAiIzAwYjVlYiIsICJkYXNoQXJyYXkiOiBudWxsLCAiZGFzaE9mZnNldCI6IG51bGwsICJmaWxsIjogdHJ1ZSwgImZpbGxDb2xvciI6ICJ5ZWxsb3ciLCAiZmlsbE9wYWNpdHkiOiAwLjcsICJmaWxsUnVsZSI6ICJldmVub2RkIiwgImxpbmVDYXAiOiAicm91bmQiLCAibGluZUpvaW4iOiAicm91bmQiLCAib3BhY2l0eSI6IDEuMCwgInJhZGl1cyI6IDUsICJzdHJva2UiOiB0cnVlLCAid2VpZ2h0IjogM30KICAgICAgICAgICAgKS5hZGRUbyhtYXBfMDdhMWMwYjYxODgzNGVhMGI5OTVjMzc0ZTQ2NzFhYjUpOwogICAgICAgIAogICAgCiAgICAgICAgdmFyIHBvcHVwXzA2YjIzMDFmYmFkYTRhYTBiZjQ2OWI2MzUyMmNiMDE5ID0gTC5wb3B1cCh7Im1heFdpZHRoIjogIjEwMCUifSk7CgogICAgICAgIAogICAgICAgICAgICB2YXIgaHRtbF81MjIyYWJjNDU5NWY0ZTQxOTg1ODU4MjU2NTk3ODk1YyA9ICQoYDxkaXYgaWQ9Imh0bWxfNTIyMmFiYzQ1OTVmNGU0MTk4NTg1ODI1NjU5Nzg5NWMiIHN0eWxlPSJ3aWR0aDogMTAwLjAlOyBoZWlnaHQ6IDEwMC4wJTsiPktlbnNpbmd0b24gTWFya2V0LCBDaGluYXRvd24sIEdyYW5nZSBQYXJrLCBDbHVzdGVyIDI8L2Rpdj5gKVswXTsKICAgICAgICAgICAgcG9wdXBfMDZiMjMwMWZiYWRhNGFhMGJmNDY5YjYzNTIyY2IwMTkuc2V0Q29udGVudChodG1sXzUyMjJhYmM0NTk1ZjRlNDE5ODU4NTgyNTY1OTc4OTVjKTsKICAgICAgICAKCiAgICAgICAgY2lyY2xlX21hcmtlcl80Y2RjNjc5OWUyZDk0MTY0OTI2NTJmMzVjZGIzNmE3YS5iaW5kUG9wdXAocG9wdXBfMDZiMjMwMWZiYWRhNGFhMGJmNDY5YjYzNTIyY2IwMTkpCiAgICAgICAgOwoKICAgICAgICAKICAgIAogICAgCiAgICAgICAgICAgIHZhciBjaXJjbGVfbWFya2VyXzdkYjlkYzE4YmVlNjRjYjBiYzgwNzgxZjRhNjlmODBkID0gTC5jaXJjbGVNYXJrZXIoCiAgICAgICAgICAgICAgICBbNDMuNjg2NDEyMjk5OTk5OTksIC03OS40MDAwNDkzXSwKICAgICAgICAgICAgICAgIHsiYnViYmxpbmdNb3VzZUV2ZW50cyI6IHRydWUsICJjb2xvciI6ICIjMDBiNWViIiwgImRhc2hBcnJheSI6IG51bGwsICJkYXNoT2Zmc2V0IjogbnVsbCwgImZpbGwiOiB0cnVlLCAiZmlsbENvbG9yIjogInllbGxvdyIsICJmaWxsT3BhY2l0eSI6IDAuNywgImZpbGxSdWxlIjogImV2ZW5vZGQiLCAibGluZUNhcCI6ICJyb3VuZCIsICJsaW5lSm9pbiI6ICJyb3VuZCIsICJvcGFjaXR5IjogMS4wLCAicmFkaXVzIjogNSwgInN0cm9rZSI6IHRydWUsICJ3ZWlnaHQiOiAzfQogICAgICAgICAgICApLmFkZFRvKG1hcF8wN2ExYzBiNjE4ODM0ZWEwYjk5NWMzNzRlNDY3MWFiNSk7CiAgICAgICAgCiAgICAKICAgICAgICB2YXIgcG9wdXBfYWY3YTBjODIwYWJlNDExZThjMTVkYWYwNmRiYzAwNjcgPSBMLnBvcHVwKHsibWF4V2lkdGgiOiAiMTAwJSJ9KTsKCiAgICAgICAgCiAgICAgICAgICAgIHZhciBodG1sX2RiMjNlYWNmM2RkMzRmMjE4OGI3NmRmNzMzMGIwZmRiID0gJChgPGRpdiBpZD0iaHRtbF9kYjIzZWFjZjNkZDM0ZjIxODhiNzZkZjczMzBiMGZkYiIgc3R5bGU9IndpZHRoOiAxMDAuMCU7IGhlaWdodDogMTAwLjAlOyI+U3VtbWVyaGlsbCBXZXN0LCBSYXRobmVsbHksIFNvdXRoIEhpbGwsIEZvcmVzdCBIaWxsIFNFLCBEZWVyIFBhcmssIENsdXN0ZXIgMjwvZGl2PmApWzBdOwogICAgICAgICAgICBwb3B1cF9hZjdhMGM4MjBhYmU0MTFlOGMxNWRhZjA2ZGJjMDA2Ny5zZXRDb250ZW50KGh0bWxfZGIyM2VhY2YzZGQzNGYyMTg4Yjc2ZGY3MzMwYjBmZGIpOwogICAgICAgIAoKICAgICAgICBjaXJjbGVfbWFya2VyXzdkYjlkYzE4YmVlNjRjYjBiYzgwNzgxZjRhNjlmODBkLmJpbmRQb3B1cChwb3B1cF9hZjdhMGM4MjBhYmU0MTFlOGMxNWRhZjA2ZGJjMDA2NykKICAgICAgICA7CgogICAgICAgIAogICAgCiAgICAKICAgICAgICAgICAgdmFyIGNpcmNsZV9tYXJrZXJfM2QwNDAwZmM0ODg4NDM0ZmJiNzU4ZWEwN2ZmZmE3Y2MgPSBMLmNpcmNsZU1hcmtlcigKICAgICAgICAgICAgICAgIFs0My42Mjg5NDY3LCAtNzkuMzk0NDE5OV0sCiAgICAgICAgICAgICAgICB7ImJ1YmJsaW5nTW91c2VFdmVudHMiOiB0cnVlLCAiY29sb3IiOiAiIzAwYjVlYiIsICJkYXNoQXJyYXkiOiBudWxsLCAiZGFzaE9mZnNldCI6IG51bGwsICJmaWxsIjogdHJ1ZSwgImZpbGxDb2xvciI6ICJ5ZWxsb3ciLCAiZmlsbE9wYWNpdHkiOiAwLjcsICJmaWxsUnVsZSI6ICJldmVub2RkIiwgImxpbmVDYXAiOiAicm91bmQiLCAibGluZUpvaW4iOiAicm91bmQiLCAib3BhY2l0eSI6IDEuMCwgInJhZGl1cyI6IDUsICJzdHJva2UiOiB0cnVlLCAid2VpZ2h0IjogM30KICAgICAgICAgICAgKS5hZGRUbyhtYXBfMDdhMWMwYjYxODgzNGVhMGI5OTVjMzc0ZTQ2NzFhYjUpOwogICAgICAgIAogICAgCiAgICAgICAgdmFyIHBvcHVwX2NhYmQzYzMxNjA2ZjRhZmI4ZmUwZjAxMzFkNTg5MzRhID0gTC5wb3B1cCh7Im1heFdpZHRoIjogIjEwMCUifSk7CgogICAgICAgIAogICAgICAgICAgICB2YXIgaHRtbF9iYmYxMWQ3NDMwOGQ0NDQwOTUxZmYyOTdjMDc2MGI1NyA9ICQoYDxkaXYgaWQ9Imh0bWxfYmJmMTFkNzQzMDhkNDQ0MDk1MWZmMjk3YzA3NjBiNTciIHN0eWxlPSJ3aWR0aDogMTAwLjAlOyBoZWlnaHQ6IDEwMC4wJTsiPkNOIFRvd2VyLCBLaW5nIGFuZCBTcGFkaW5hLCBSYWlsd2F5IExhbmRzLCBIYXJib3VyZnJvbnQgV2VzdCwgQmF0aHVyc3QgUXVheSwgU291dGggTmlhZ2FyYSwgSXNsYW5kIGFpcnBvcnQsIENsdXN0ZXIgMjwvZGl2PmApWzBdOwogICAgICAgICAgICBwb3B1cF9jYWJkM2MzMTYwNmY0YWZiOGZlMGYwMTMxZDU4OTM0YS5zZXRDb250ZW50KGh0bWxfYmJmMTFkNzQzMDhkNDQ0MDk1MWZmMjk3YzA3NjBiNTcpOwogICAgICAgIAoKICAgICAgICBjaXJjbGVfbWFya2VyXzNkMDQwMGZjNDg4ODQzNGZiYjc1OGVhMDdmZmZhN2NjLmJpbmRQb3B1cChwb3B1cF9jYWJkM2MzMTYwNmY0YWZiOGZlMGYwMTMxZDU4OTM0YSkKICAgICAgICA7CgogICAgICAgIAogICAgCiAgICAKICAgICAgICAgICAgdmFyIGNpcmNsZV9tYXJrZXJfNjY0YTYwMGEzNjdhNGUyNjljY2YwODVhODJhNjNjZmUgPSBMLmNpcmNsZU1hcmtlcigKICAgICAgICAgICAgICAgIFs0My42Nzk1NjI2LCAtNzkuMzc3NTI5NDAwMDAwMDFdLAogICAgICAgICAgICAgICAgeyJidWJibGluZ01vdXNlRXZlbnRzIjogdHJ1ZSwgImNvbG9yIjogIiNmZjAwMDAiLCAiZGFzaEFycmF5IjogbnVsbCwgImRhc2hPZmZzZXQiOiBudWxsLCAiZmlsbCI6IHRydWUsICJmaWxsQ29sb3IiOiAieWVsbG93IiwgImZpbGxPcGFjaXR5IjogMC43LCAiZmlsbFJ1bGUiOiAiZXZlbm9kZCIsICJsaW5lQ2FwIjogInJvdW5kIiwgImxpbmVKb2luIjogInJvdW5kIiwgIm9wYWNpdHkiOiAxLjAsICJyYWRpdXMiOiA1LCAic3Ryb2tlIjogdHJ1ZSwgIndlaWdodCI6IDN9CiAgICAgICAgICAgICkuYWRkVG8obWFwXzA3YTFjMGI2MTg4MzRlYTBiOTk1YzM3NGU0NjcxYWI1KTsKICAgICAgICAKICAgIAogICAgICAgIHZhciBwb3B1cF9lYzkyNTM2MTY2ZmU0MTg0ODBhZWIyMjhiMWVhYzIzNiA9IEwucG9wdXAoeyJtYXhXaWR0aCI6ICIxMDAlIn0pOwoKICAgICAgICAKICAgICAgICAgICAgdmFyIGh0bWxfMTQyZDUwOWYzOTUzNGEzZjgzNmYwMzAyYWY2ODFlZjQgPSAkKGA8ZGl2IGlkPSJodG1sXzE0MmQ1MDlmMzk1MzRhM2Y4MzZmMDMwMmFmNjgxZWY0IiBzdHlsZT0id2lkdGg6IDEwMC4wJTsgaGVpZ2h0OiAxMDAuMCU7Ij5Sb3NlZGFsZSwgQ2x1c3RlciAwPC9kaXY+YClbMF07CiAgICAgICAgICAgIHBvcHVwX2VjOTI1MzYxNjZmZTQxODQ4MGFlYjIyOGIxZWFjMjM2LnNldENvbnRlbnQoaHRtbF8xNDJkNTA5ZjM5NTM0YTNmODM2ZjAzMDJhZjY4MWVmNCk7CiAgICAgICAgCgogICAgICAgIGNpcmNsZV9tYXJrZXJfNjY0YTYwMGEzNjdhNGUyNjljY2YwODVhODJhNjNjZmUuYmluZFBvcHVwKHBvcHVwX2VjOTI1MzYxNjZmZTQxODQ4MGFlYjIyOGIxZWFjMjM2KQogICAgICAgIDsKCiAgICAgICAgCiAgICAKICAgIAogICAgICAgICAgICB2YXIgY2lyY2xlX21hcmtlcl82NzVkMjNlODNkNjM0OWE5YTU3NDhkNTk5ZTUyMzBkMiA9IEwuY2lyY2xlTWFya2VyKAogICAgICAgICAgICAgICAgWzQzLjY0NjQzNTIsIC03OS4zNzQ4NDU5OTk5OTk5OF0sCiAgICAgICAgICAgICAgICB7ImJ1YmJsaW5nTW91c2VFdmVudHMiOiB0cnVlLCAiY29sb3IiOiAiIzAwYjVlYiIsICJkYXNoQXJyYXkiOiBudWxsLCAiZGFzaE9mZnNldCI6IG51bGwsICJmaWxsIjogdHJ1ZSwgImZpbGxDb2xvciI6ICJ5ZWxsb3ciLCAiZmlsbE9wYWNpdHkiOiAwLjcsICJmaWxsUnVsZSI6ICJldmVub2RkIiwgImxpbmVDYXAiOiAicm91bmQiLCAibGluZUpvaW4iOiAicm91bmQiLCAib3BhY2l0eSI6IDEuMCwgInJhZGl1cyI6IDUsICJzdHJva2UiOiB0cnVlLCAid2VpZ2h0IjogM30KICAgICAgICAgICAgKS5hZGRUbyhtYXBfMDdhMWMwYjYxODgzNGVhMGI5OTVjMzc0ZTQ2NzFhYjUpOwogICAgICAgIAogICAgCiAgICAgICAgdmFyIHBvcHVwXzk5YTMzNTU2NGZkODQ1Yzk4MTYxZGFiNWExOWZkMDllID0gTC5wb3B1cCh7Im1heFdpZHRoIjogIjEwMCUifSk7CgogICAgICAgIAogICAgICAgICAgICB2YXIgaHRtbF9iMDIyYWY1N2Q4ODY0NTc5YTllODBiNmNkODM4YzFjNSA9ICQoYDxkaXYgaWQ9Imh0bWxfYjAyMmFmNTdkODg2NDU3OWE5ZTgwYjZjZDgzOGMxYzUiIHN0eWxlPSJ3aWR0aDogMTAwLjAlOyBoZWlnaHQ6IDEwMC4wJTsiPlN0biBBIFBPIEJveGVzLCBDbHVzdGVyIDI8L2Rpdj5gKVswXTsKICAgICAgICAgICAgcG9wdXBfOTlhMzM1NTY0ZmQ4NDVjOTgxNjFkYWI1YTE5ZmQwOWUuc2V0Q29udGVudChodG1sX2IwMjJhZjU3ZDg4NjQ1NzlhOWU4MGI2Y2Q4MzhjMWM1KTsKICAgICAgICAKCiAgICAgICAgY2lyY2xlX21hcmtlcl82NzVkMjNlODNkNjM0OWE5YTU3NDhkNTk5ZTUyMzBkMi5iaW5kUG9wdXAocG9wdXBfOTlhMzM1NTY0ZmQ4NDVjOTgxNjFkYWI1YTE5ZmQwOWUpCiAgICAgICAgOwoKICAgICAgICAKICAgIAogICAgCiAgICAgICAgICAgIHZhciBjaXJjbGVfbWFya2VyX2Q5NWU0MmVjMzA1YTQwYTc5NjM3NjMxYTc1MWY5ZjdlID0gTC5jaXJjbGVNYXJrZXIoCiAgICAgICAgICAgICAgICBbNDMuNjY3OTY3LCAtNzkuMzY3Njc1M10sCiAgICAgICAgICAgICAgICB7ImJ1YmJsaW5nTW91c2VFdmVudHMiOiB0cnVlLCAiY29sb3IiOiAiIzAwYjVlYiIsICJkYXNoQXJyYXkiOiBudWxsLCAiZGFzaE9mZnNldCI6IG51bGwsICJmaWxsIjogdHJ1ZSwgImZpbGxDb2xvciI6ICJ5ZWxsb3ciLCAiZmlsbE9wYWNpdHkiOiAwLjcsICJmaWxsUnVsZSI6ICJldmVub2RkIiwgImxpbmVDYXAiOiAicm91bmQiLCAibGluZUpvaW4iOiAicm91bmQiLCAib3BhY2l0eSI6IDEuMCwgInJhZGl1cyI6IDUsICJzdHJva2UiOiB0cnVlLCAid2VpZ2h0IjogM30KICAgICAgICAgICAgKS5hZGRUbyhtYXBfMDdhMWMwYjYxODgzNGVhMGI5OTVjMzc0ZTQ2NzFhYjUpOwogICAgICAgIAogICAgCiAgICAgICAgdmFyIHBvcHVwXzA0N2UxZTlkYjI2YTRjODM4MzQ3Y2E3YTJkZDNjNmZhID0gTC5wb3B1cCh7Im1heFdpZHRoIjogIjEwMCUifSk7CgogICAgICAgIAogICAgICAgICAgICB2YXIgaHRtbF8yYzExNTY5NGY2YzI0OTIwYTc3NzVlMTQ0YWZiNDUzMyA9ICQoYDxkaXYgaWQ9Imh0bWxfMmMxMTU2OTRmNmMyNDkyMGE3Nzc1ZTE0NGFmYjQ1MzMiIHN0eWxlPSJ3aWR0aDogMTAwLjAlOyBoZWlnaHQ6IDEwMC4wJTsiPlN0LiBKYW1lcyBUb3duLCBDYWJiYWdldG93biwgQ2x1c3RlciAyPC9kaXY+YClbMF07CiAgICAgICAgICAgIHBvcHVwXzA0N2UxZTlkYjI2YTRjODM4MzQ3Y2E3YTJkZDNjNmZhLnNldENvbnRlbnQoaHRtbF8yYzExNTY5NGY2YzI0OTIwYTc3NzVlMTQ0YWZiNDUzMyk7CiAgICAgICAgCgogICAgICAgIGNpcmNsZV9tYXJrZXJfZDk1ZTQyZWMzMDVhNDBhNzk2Mzc2MzFhNzUxZjlmN2UuYmluZFBvcHVwKHBvcHVwXzA0N2UxZTlkYjI2YTRjODM4MzQ3Y2E3YTJkZDNjNmZhKQogICAgICAgIDsKCiAgICAgICAgCiAgICAKICAgIAogICAgICAgICAgICB2YXIgY2lyY2xlX21hcmtlcl8zYTgyNzU1M2Q0MjQ0MGVlODc3NDNhZWZhZjU4NjA3ZSA9IEwuY2lyY2xlTWFya2VyKAogICAgICAgICAgICAgICAgWzQzLjY0ODQyOTIsIC03OS4zODIyODAyXSwKICAgICAgICAgICAgICAgIHsiYnViYmxpbmdNb3VzZUV2ZW50cyI6IHRydWUsICJjb2xvciI6ICIjMDBiNWViIiwgImRhc2hBcnJheSI6IG51bGwsICJkYXNoT2Zmc2V0IjogbnVsbCwgImZpbGwiOiB0cnVlLCAiZmlsbENvbG9yIjogInllbGxvdyIsICJmaWxsT3BhY2l0eSI6IDAuNywgImZpbGxSdWxlIjogImV2ZW5vZGQiLCAibGluZUNhcCI6ICJyb3VuZCIsICJsaW5lSm9pbiI6ICJyb3VuZCIsICJvcGFjaXR5IjogMS4wLCAicmFkaXVzIjogNSwgInN0cm9rZSI6IHRydWUsICJ3ZWlnaHQiOiAzfQogICAgICAgICAgICApLmFkZFRvKG1hcF8wN2ExYzBiNjE4ODM0ZWEwYjk5NWMzNzRlNDY3MWFiNSk7CiAgICAgICAgCiAgICAKICAgICAgICB2YXIgcG9wdXBfYmMxMTQxODY1MGM1NGM5N2FkMzgzM2RkMjIzZTIyNGUgPSBMLnBvcHVwKHsibWF4V2lkdGgiOiAiMTAwJSJ9KTsKCiAgICAgICAgCiAgICAgICAgICAgIHZhciBodG1sXzdiMjZmODA0NTA2MjRmODY5ZTk0YTI3OWQ2ZmJhNmU2ID0gJChgPGRpdiBpZD0iaHRtbF83YjI2ZjgwNDUwNjI0Zjg2OWU5NGEyNzlkNmZiYTZlNiIgc3R5bGU9IndpZHRoOiAxMDAuMCU7IGhlaWdodDogMTAwLjAlOyI+Rmlyc3QgQ2FuYWRpYW4gUGxhY2UsIFVuZGVyZ3JvdW5kIGNpdHksIENsdXN0ZXIgMjwvZGl2PmApWzBdOwogICAgICAgICAgICBwb3B1cF9iYzExNDE4NjUwYzU0Yzk3YWQzODMzZGQyMjNlMjI0ZS5zZXRDb250ZW50KGh0bWxfN2IyNmY4MDQ1MDYyNGY4NjllOTRhMjc5ZDZmYmE2ZTYpOwogICAgICAgIAoKICAgICAgICBjaXJjbGVfbWFya2VyXzNhODI3NTUzZDQyNDQwZWU4Nzc0M2FlZmFmNTg2MDdlLmJpbmRQb3B1cChwb3B1cF9iYzExNDE4NjUwYzU0Yzk3YWQzODMzZGQyMjNlMjI0ZSkKICAgICAgICA7CgogICAgICAgIAogICAgCiAgICAKICAgICAgICAgICAgdmFyIGNpcmNsZV9tYXJrZXJfZjQwMWQ3NjEyZmJjNDk1ZTllY2ZjYzc0ZDc3ZjY2NzEgPSBMLmNpcmNsZU1hcmtlcigKICAgICAgICAgICAgICAgIFs0My42NjU4NTk5LCAtNzkuMzgzMTU5OTAwMDAwMDJdLAogICAgICAgICAgICAgICAgeyJidWJibGluZ01vdXNlRXZlbnRzIjogdHJ1ZSwgImNvbG9yIjogIiMwMGI1ZWIiLCAiZGFzaEFycmF5IjogbnVsbCwgImRhc2hPZmZzZXQiOiBudWxsLCAiZmlsbCI6IHRydWUsICJmaWxsQ29sb3IiOiAieWVsbG93IiwgImZpbGxPcGFjaXR5IjogMC43LCAiZmlsbFJ1bGUiOiAiZXZlbm9kZCIsICJsaW5lQ2FwIjogInJvdW5kIiwgImxpbmVKb2luIjogInJvdW5kIiwgIm9wYWNpdHkiOiAxLjAsICJyYWRpdXMiOiA1LCAic3Ryb2tlIjogdHJ1ZSwgIndlaWdodCI6IDN9CiAgICAgICAgICAgICkuYWRkVG8obWFwXzA3YTFjMGI2MTg4MzRlYTBiOTk1YzM3NGU0NjcxYWI1KTsKICAgICAgICAKICAgIAogICAgICAgIHZhciBwb3B1cF8yZDFlYjBmYzIxYTE0YzQ4OGQxNThhMWMxNmY0MjlmZCA9IEwucG9wdXAoeyJtYXhXaWR0aCI6ICIxMDAlIn0pOwoKICAgICAgICAKICAgICAgICAgICAgdmFyIGh0bWxfYzFjZWY1ZDYzNzlhNDYyZmJkMmNhZjZlMjIyYTU3ZjEgPSAkKGA8ZGl2IGlkPSJodG1sX2MxY2VmNWQ2Mzc5YTQ2MmZiZDJjYWY2ZTIyMmE1N2YxIiBzdHlsZT0id2lkdGg6IDEwMC4wJTsgaGVpZ2h0OiAxMDAuMCU7Ij5DaHVyY2ggYW5kIFdlbGxlc2xleSwgQ2x1c3RlciAyPC9kaXY+YClbMF07CiAgICAgICAgICAgIHBvcHVwXzJkMWViMGZjMjFhMTRjNDg4ZDE1OGExYzE2ZjQyOWZkLnNldENvbnRlbnQoaHRtbF9jMWNlZjVkNjM3OWE0NjJmYmQyY2FmNmUyMjJhNTdmMSk7CiAgICAgICAgCgogICAgICAgIGNpcmNsZV9tYXJrZXJfZjQwMWQ3NjEyZmJjNDk1ZTllY2ZjYzc0ZDc3ZjY2NzEuYmluZFBvcHVwKHBvcHVwXzJkMWViMGZjMjFhMTRjNDg4ZDE1OGExYzE2ZjQyOWZkKQogICAgICAgIDsKCiAgICAgICAgCiAgICAKICAgIAogICAgICAgICAgICB2YXIgY2lyY2xlX21hcmtlcl9kNTE2ZDQ2YTcwZDM0YmRjOWQwODU4ZDdkNzlhNWNjZiA9IEwuY2lyY2xlTWFya2VyKAogICAgICAgICAgICAgICAgWzQzLjY2Mjc0MzksIC03OS4zMjE1NThdLAogICAgICAgICAgICAgICAgeyJidWJibGluZ01vdXNlRXZlbnRzIjogdHJ1ZSwgImNvbG9yIjogIiMwMGI1ZWIiLCAiZGFzaEFycmF5IjogbnVsbCwgImRhc2hPZmZzZXQiOiBudWxsLCAiZmlsbCI6IHRydWUsICJmaWxsQ29sb3IiOiAieWVsbG93IiwgImZpbGxPcGFjaXR5IjogMC43LCAiZmlsbFJ1bGUiOiAiZXZlbm9kZCIsICJsaW5lQ2FwIjogInJvdW5kIiwgImxpbmVKb2luIjogInJvdW5kIiwgIm9wYWNpdHkiOiAxLjAsICJyYWRpdXMiOiA1LCAic3Ryb2tlIjogdHJ1ZSwgIndlaWdodCI6IDN9CiAgICAgICAgICAgICkuYWRkVG8obWFwXzA3YTFjMGI2MTg4MzRlYTBiOTk1YzM3NGU0NjcxYWI1KTsKICAgICAgICAKICAgIAogICAgICAgIHZhciBwb3B1cF9iNjJmMTgzYTRiYmQ0NGIxOTAxNjM5NzZkMDUyYThmNiA9IEwucG9wdXAoeyJtYXhXaWR0aCI6ICIxMDAlIn0pOwoKICAgICAgICAKICAgICAgICAgICAgdmFyIGh0bWxfN2MyODJhNDc1NDQ0NGVmMjlmYjY0OWYxMWQ1OWRlMDQgPSAkKGA8ZGl2IGlkPSJodG1sXzdjMjgyYTQ3NTQ0NDRlZjI5ZmI2NDlmMTFkNTlkZTA0IiBzdHlsZT0id2lkdGg6IDEwMC4wJTsgaGVpZ2h0OiAxMDAuMCU7Ij5CdXNpbmVzcyByZXBseSBtYWlsIFByb2Nlc3NpbmcgQ2VudHJlLCBTb3V0aCBDZW50cmFsIExldHRlciBQcm9jZXNzaW5nIFBsYW50IFRvcm9udG8sIENsdXN0ZXIgMjwvZGl2PmApWzBdOwogICAgICAgICAgICBwb3B1cF9iNjJmMTgzYTRiYmQ0NGIxOTAxNjM5NzZkMDUyYThmNi5zZXRDb250ZW50KGh0bWxfN2MyODJhNDc1NDQ0NGVmMjlmYjY0OWYxMWQ1OWRlMDQpOwogICAgICAgIAoKICAgICAgICBjaXJjbGVfbWFya2VyX2Q1MTZkNDZhNzBkMzRiZGM5ZDA4NThkN2Q3OWE1Y2NmLmJpbmRQb3B1cChwb3B1cF9iNjJmMTgzYTRiYmQ0NGIxOTAxNjM5NzZkMDUyYThmNikKICAgICAgICA7CgogICAgICAgIAogICAgCjwvc2NyaXB0Pg== onload=\"this.contentDocument.open();this.contentDocument.write(atob(this.getAttribute('data-html')));this.contentDocument.close();\" allowfullscreen webkitallowfullscreen mozallowfullscreen></iframe></div></div>"
     },
     "metadata": {},
     "execution_count": 29
    }
   ],
   "source": [
    "cluster_map = folium.Map(location = [latitude, longitude], zoom_start = 11)\n",
    "\n",
    "x = np.arange(kluster)\n",
    "ys = [i + x + (i*x)**2 for i in range(kluster)]\n",
    "\n",
    "colors_array = cm.rainbow(np.linspace(0, 1, len(ys)))\n",
    "\n",
    "rainbow = [colors.rgb2hex(i) for i in colors_array]\n",
    "\n",
    "# Add markers to the map\n",
    "markers_colors = []\n",
    "for lat, lng, hood, cluster in zip(toronto_merged['Latitude'], toronto_merged['Longitude'], toronto_merged['Neighbourhood'], toronto_merged['Cluster Labels']):\n",
    "    label = str(hood) + ', Cluster ' + str(cluster)\n",
    "    folium.CircleMarker(\n",
    "        [lat, lng],\n",
    "        radius = 5,\n",
    "        popup = label,\n",
    "        color = rainbow[cluster - 1],\n",
    "        fill = True,\n",
    "        fill_color = 'yellow',\n",
    "        fill_opacity = 0.7\n",
    "    ).add_to(cluster_map)\n",
    "\n",
    "\n",
    "cluster_map"
   ]
  },
  {
   "source": [
    "### Neighbourhood Segmentation"
   ],
   "cell_type": "markdown",
   "metadata": {}
  },
  {
   "source": [
    "#### Cluster 1"
   ],
   "cell_type": "markdown",
   "metadata": {}
  },
  {
   "cell_type": "code",
   "execution_count": 30,
   "metadata": {},
   "outputs": [
    {
     "output_type": "execute_result",
     "data": {
      "text/plain": [
       "                                      Neighbourhood 1st Most Common Venue  \\\n",
       "18                                    Lawrence Park                  Park   \n",
       "21  Forest Hill North & West, Forest Hill Road Park                  Park   \n",
       "33                                         Rosedale                  Park   \n",
       "\n",
       "   2nd Most Common Venue 3rd Most Common Venue 4th Most Common Venue  \\\n",
       "18              Bus Line           Swim School                 Diner   \n",
       "21         Jewelry Store                 Trail      Sushi Restaurant   \n",
       "33            Playground                 Trail          Dessert Shop   \n",
       "\n",
       "   5th Most Common Venue 6th Most Common Venue 7th Most Common Venue  \\\n",
       "18           Event Space  Ethiopian Restaurant           Escape Room   \n",
       "21           Yoga Studio    Dim Sum Restaurant           Escape Room   \n",
       "33  Ethiopian Restaurant           Escape Room     Electronics Store   \n",
       "\n",
       "          8th Most Common Venue        9th Most Common Venue  \\\n",
       "18            Electronics Store  Eastern European Restaurant   \n",
       "21            Electronics Store  Eastern European Restaurant   \n",
       "33  Eastern European Restaurant          Dumpling Restaurant   \n",
       "\n",
       "   10th Most Common Venue  \n",
       "18    Dumpling Restaurant  \n",
       "21    Dumpling Restaurant  \n",
       "33             Donut Shop  "
      ],
      "text/html": "<div>\n<style scoped>\n    .dataframe tbody tr th:only-of-type {\n        vertical-align: middle;\n    }\n\n    .dataframe tbody tr th {\n        vertical-align: top;\n    }\n\n    .dataframe thead th {\n        text-align: right;\n    }\n</style>\n<table border=\"1\" class=\"dataframe\">\n  <thead>\n    <tr style=\"text-align: right;\">\n      <th></th>\n      <th>Neighbourhood</th>\n      <th>1st Most Common Venue</th>\n      <th>2nd Most Common Venue</th>\n      <th>3rd Most Common Venue</th>\n      <th>4th Most Common Venue</th>\n      <th>5th Most Common Venue</th>\n      <th>6th Most Common Venue</th>\n      <th>7th Most Common Venue</th>\n      <th>8th Most Common Venue</th>\n      <th>9th Most Common Venue</th>\n      <th>10th Most Common Venue</th>\n    </tr>\n  </thead>\n  <tbody>\n    <tr>\n      <th>18</th>\n      <td>Lawrence Park</td>\n      <td>Park</td>\n      <td>Bus Line</td>\n      <td>Swim School</td>\n      <td>Diner</td>\n      <td>Event Space</td>\n      <td>Ethiopian Restaurant</td>\n      <td>Escape Room</td>\n      <td>Electronics Store</td>\n      <td>Eastern European Restaurant</td>\n      <td>Dumpling Restaurant</td>\n    </tr>\n    <tr>\n      <th>21</th>\n      <td>Forest Hill North &amp; West, Forest Hill Road Park</td>\n      <td>Park</td>\n      <td>Jewelry Store</td>\n      <td>Trail</td>\n      <td>Sushi Restaurant</td>\n      <td>Yoga Studio</td>\n      <td>Dim Sum Restaurant</td>\n      <td>Escape Room</td>\n      <td>Electronics Store</td>\n      <td>Eastern European Restaurant</td>\n      <td>Dumpling Restaurant</td>\n    </tr>\n    <tr>\n      <th>33</th>\n      <td>Rosedale</td>\n      <td>Park</td>\n      <td>Playground</td>\n      <td>Trail</td>\n      <td>Dessert Shop</td>\n      <td>Ethiopian Restaurant</td>\n      <td>Escape Room</td>\n      <td>Electronics Store</td>\n      <td>Eastern European Restaurant</td>\n      <td>Dumpling Restaurant</td>\n      <td>Donut Shop</td>\n    </tr>\n  </tbody>\n</table>\n</div>"
     },
     "metadata": {},
     "execution_count": 30
    }
   ],
   "source": [
    "toronto_merged.loc[toronto_merged['Cluster Labels'] == 0, toronto_merged.columns[[2] + list(range(6, toronto_merged.shape[1]))]]"
   ]
  },
  {
   "source": [
    "#### Cluster 2"
   ],
   "cell_type": "markdown",
   "metadata": {}
  },
  {
   "cell_type": "code",
   "execution_count": 31,
   "metadata": {},
   "outputs": [
    {
     "output_type": "execute_result",
     "data": {
      "text/plain": [
       "                  Neighbourhood 1st Most Common Venue 2nd Most Common Venue  \\\n",
       "29  Moore Park, Summerhill East            Playground                 Trail   \n",
       "\n",
       "   3rd Most Common Venue 4th Most Common Venue 5th Most Common Venue  \\\n",
       "29           Yoga Studio          Dessert Shop  Ethiopian Restaurant   \n",
       "\n",
       "   6th Most Common Venue 7th Most Common Venue        8th Most Common Venue  \\\n",
       "29           Escape Room     Electronics Store  Eastern European Restaurant   \n",
       "\n",
       "   9th Most Common Venue 10th Most Common Venue  \n",
       "29   Dumpling Restaurant             Donut Shop  "
      ],
      "text/html": "<div>\n<style scoped>\n    .dataframe tbody tr th:only-of-type {\n        vertical-align: middle;\n    }\n\n    .dataframe tbody tr th {\n        vertical-align: top;\n    }\n\n    .dataframe thead th {\n        text-align: right;\n    }\n</style>\n<table border=\"1\" class=\"dataframe\">\n  <thead>\n    <tr style=\"text-align: right;\">\n      <th></th>\n      <th>Neighbourhood</th>\n      <th>1st Most Common Venue</th>\n      <th>2nd Most Common Venue</th>\n      <th>3rd Most Common Venue</th>\n      <th>4th Most Common Venue</th>\n      <th>5th Most Common Venue</th>\n      <th>6th Most Common Venue</th>\n      <th>7th Most Common Venue</th>\n      <th>8th Most Common Venue</th>\n      <th>9th Most Common Venue</th>\n      <th>10th Most Common Venue</th>\n    </tr>\n  </thead>\n  <tbody>\n    <tr>\n      <th>29</th>\n      <td>Moore Park, Summerhill East</td>\n      <td>Playground</td>\n      <td>Trail</td>\n      <td>Yoga Studio</td>\n      <td>Dessert Shop</td>\n      <td>Ethiopian Restaurant</td>\n      <td>Escape Room</td>\n      <td>Electronics Store</td>\n      <td>Eastern European Restaurant</td>\n      <td>Dumpling Restaurant</td>\n      <td>Donut Shop</td>\n    </tr>\n  </tbody>\n</table>\n</div>"
     },
     "metadata": {},
     "execution_count": 31
    }
   ],
   "source": [
    "toronto_merged.loc[toronto_merged['Cluster Labels'] == 1, toronto_merged.columns[[2] + list(range(6, toronto_merged.shape[1]))]]"
   ]
  },
  {
   "source": [
    "#### Cluster 3"
   ],
   "cell_type": "markdown",
   "metadata": {}
  },
  {
   "cell_type": "code",
   "execution_count": 32,
   "metadata": {},
   "outputs": [
    {
     "output_type": "execute_result",
     "data": {
      "text/plain": [
       "                                        Neighbourhood 1st Most Common Venue  \\\n",
       "0                           Regent Park, Harbourfront           Coffee Shop   \n",
       "1         Queen's Park, Ontario Provincial Government           Coffee Shop   \n",
       "2                            Garden District, Ryerson        Clothing Store   \n",
       "3                                      St. James Town           Coffee Shop   \n",
       "5                                         Berczy Park           Coffee Shop   \n",
       "6                                  Central Bay Street           Coffee Shop   \n",
       "7                                            Christie         Grocery Store   \n",
       "8                            Richmond, Adelaide, King           Coffee Shop   \n",
       "9                        Dufferin, Dovercourt Village                Bakery   \n",
       "10  Harbourfront East, Union Station, Toronto Islands           Coffee Shop   \n",
       "11                           Little Portugal, Trinity                   Bar   \n",
       "12                       The Danforth West, Riverdale      Greek Restaurant   \n",
       "13           Toronto Dominion Centre, Design Exchange           Coffee Shop   \n",
       "14       Brockton, Parkdale Village, Exhibition Place                  Café   \n",
       "15                     India Bazaar, The Beaches West                  Park   \n",
       "16                     Commerce Court, Victoria Hotel           Coffee Shop   \n",
       "17                                    Studio District           Coffee Shop   \n",
       "20                                   Davisville North  Gym / Fitness Center   \n",
       "22                      High Park, The Junction South                  Café   \n",
       "23                 North Toronto West,  Lawrence Park           Coffee Shop   \n",
       "24                The Annex, North Midtown, Yorkville        Sandwich Place   \n",
       "25                             Parkdale, Roncesvalles        Breakfast Spot   \n",
       "26                                         Davisville        Sandwich Place   \n",
       "27                     University of Toronto, Harbord                  Café   \n",
       "28                                 Runnymede, Swansea           Coffee Shop   \n",
       "30          Kensington Market, Chinatown, Grange Park                   Bar   \n",
       "31  Summerhill West, Rathnelly, South Hill, Forest...           Coffee Shop   \n",
       "32  CN Tower, King and Spadina, Railway Lands, Har...        Airport Lounge   \n",
       "34                                     Stn A PO Boxes           Coffee Shop   \n",
       "35                        St. James Town, Cabbagetown           Coffee Shop   \n",
       "36             First Canadian Place, Underground city           Coffee Shop   \n",
       "37                               Church and Wellesley           Coffee Shop   \n",
       "38  Business reply mail Processing Centre, South C...  Gym / Fitness Center   \n",
       "\n",
       "   2nd Most Common Venue          3rd Most Common Venue  \\\n",
       "0                    Pub                         Bakery   \n",
       "1            Yoga Studio                          Diner   \n",
       "2            Coffee Shop                           Café   \n",
       "3                   Café                     Restaurant   \n",
       "5         Farmers Market                         Bakery   \n",
       "6                   Café                 Sandwich Place   \n",
       "7                   Café                           Park   \n",
       "8                   Café                          Hotel   \n",
       "9               Pharmacy                    Music Venue   \n",
       "10              Aquarium                          Hotel   \n",
       "11           Coffee Shop                           Café   \n",
       "12           Coffee Shop             Italian Restaurant   \n",
       "13                 Hotel                     Restaurant   \n",
       "14             Nightclub                 Breakfast Spot   \n",
       "15           Coffee Shop                        Brewery   \n",
       "16            Restaurant                          Hotel   \n",
       "17   American Restaurant                         Bakery   \n",
       "20                 Hotel                 Breakfast Spot   \n",
       "22    Mexican Restaurant                Thai Restaurant   \n",
       "23        Clothing Store                    Yoga Studio   \n",
       "24                  Café                    Coffee Shop   \n",
       "25             Gift Shop                  Movie Theater   \n",
       "26          Dessert Shop                    Pizza Place   \n",
       "27             Bookstore                            Bar   \n",
       "28                  Café               Sushi Restaurant   \n",
       "30           Coffee Shop  Vegetarian / Vegan Restaurant   \n",
       "31      Sushi Restaurant                    Pizza Place   \n",
       "32       Airport Service                        Airport   \n",
       "34    Italian Restaurant                          Hotel   \n",
       "35            Restaurant                           Café   \n",
       "36                  Café                          Hotel   \n",
       "37      Sushi Restaurant                        Gay Bar   \n",
       "38         Auto Workshop                     Comic Shop   \n",
       "\n",
       "          4th Most Common Venue      5th Most Common Venue  \\\n",
       "0                          Park             Breakfast Spot   \n",
       "1                      Beer Bar              Smoothie Shop   \n",
       "2               Bubble Tea Shop        Japanese Restaurant   \n",
       "3                  Cocktail Bar                  Gastropub   \n",
       "5                      Beer Bar                 Restaurant   \n",
       "6            Italian Restaurant                Salad Place   \n",
       "7                   Coffee Shop                Candy Store   \n",
       "8                           Bar                 Restaurant   \n",
       "9                          Bank  Middle Eastern Restaurant   \n",
       "10                         Café        Fried Chicken Joint   \n",
       "11             Asian Restaurant                Men's Store   \n",
       "12                    Bookstore                 Restaurant   \n",
       "13                         Café         Seafood Restaurant   \n",
       "14                  Coffee Shop          Convenience Store   \n",
       "15                 Liquor Store             Sandwich Place   \n",
       "16                         Café        American Restaurant   \n",
       "17                      Brewery                       Café   \n",
       "20            Food & Drink Shop             Sandwich Place   \n",
       "22                          Bar              Grocery Store   \n",
       "23                          Spa                 Restaurant   \n",
       "24                         Park                 Donut Shop   \n",
       "25  Eastern European Restaurant                    Dog Run   \n",
       "26           Italian Restaurant                       Café   \n",
       "27          Japanese Restaurant             Sandwich Place   \n",
       "28                  Pizza Place                        Pub   \n",
       "30                         Café         Mexican Restaurant   \n",
       "31                 Liquor Store                 Restaurant   \n",
       "32                Boat or Ferry                        Bar   \n",
       "34           Seafood Restaurant                   Beer Bar   \n",
       "35                  Pizza Place                        Pub   \n",
       "36          American Restaurant                 Restaurant   \n",
       "37          Japanese Restaurant                 Restaurant   \n",
       "38                         Park                Pizza Place   \n",
       "\n",
       "     6th Most Common Venue      7th Most Common Venue 8th Most Common Venue  \\\n",
       "0                     Café                    Theater           Yoga Studio   \n",
       "1       Italian Restaurant             Sandwich Place            Restaurant   \n",
       "2           Cosmetics Shop                      Hotel             Bookstore   \n",
       "3                 Beer Bar        American Restaurant                   Gym   \n",
       "5              Cheese Shop         Seafood Restaurant          Cocktail Bar   \n",
       "6         Department Store            Thai Restaurant          Burger Joint   \n",
       "7               Baby Store         Italian Restaurant    Athletics & Sports   \n",
       "8                      Gym             Clothing Store       Thai Restaurant   \n",
       "9                      Bar                       Café           Supermarket   \n",
       "10          Scenic Lookout                    Brewery            Restaurant   \n",
       "11              Restaurant      Vietnamese Restaurant   Japanese Restaurant   \n",
       "12  Furniture / Home Store             Ice Cream Shop                   Pub   \n",
       "13     Japanese Restaurant                Salad Place   American Restaurant   \n",
       "14  Furniture / Home Store                        Bar    Italian Restaurant   \n",
       "15           Burrito Place                 Restaurant    Italian Restaurant   \n",
       "16                     Gym        Japanese Restaurant         Deli / Bodega   \n",
       "17               Gastropub                Yoga Studio           Fish Market   \n",
       "20                 Dog Run           Department Store          Dance Studio   \n",
       "22  Furniture / Home Store       Fast Food Restaurant             Bookstore   \n",
       "23              Bagel Shop                      Diner        Ice Cream Shop   \n",
       "24            Burger Joint  Middle Eastern Restaurant     Indian Restaurant   \n",
       "25                     Bar         Italian Restaurant            Restaurant   \n",
       "26                     Gym           Sushi Restaurant           Coffee Shop   \n",
       "27                  Bakery                Yoga Studio                   Pub   \n",
       "28      Italian Restaurant         Falafel Restaurant                   Bar   \n",
       "30   Vietnamese Restaurant               Dessert Shop          Burger Joint   \n",
       "31                    Bank                        Pub            Bagel Shop   \n",
       "32     Rental Car Location           Sculpture Garden                 Plane   \n",
       "34              Restaurant                        Pub                  Café   \n",
       "35                  Bakery                       Park                Market   \n",
       "36                     Gym        Japanese Restaurant      Asian Restaurant   \n",
       "37             Yoga Studio                      Hotel       Bubble Tea Shop   \n",
       "38        Recording Studio                 Restaurant               Butcher   \n",
       "\n",
       "        9th Most Common Venue     10th Most Common Venue  \n",
       "0                 Event Space                 Restaurant  \n",
       "1                        Café        Distribution Center  \n",
       "2                 Pizza Place  Middle Eastern Restaurant  \n",
       "3                       Hotel             Clothing Store  \n",
       "5                Concert Hall                      Beach  \n",
       "6             Bubble Tea Shop        Japanese Restaurant  \n",
       "7                  Restaurant                  Nightclub  \n",
       "8                      Office               Concert Hall  \n",
       "9               Grocery Store                       Park  \n",
       "10        Sporting Goods Shop                Music Venue  \n",
       "11                    Brewery         Italian Restaurant  \n",
       "12                     Lounge               Liquor Store  \n",
       "13                     Bakery         Italian Restaurant  \n",
       "14                     Bakery               Climbing Gym  \n",
       "15       Fast Food Restaurant          Fish & Chips Shop  \n",
       "16         Seafood Restaurant               Cocktail Bar  \n",
       "17                       Park               Neighborhood  \n",
       "20                       Park           Cuban Restaurant  \n",
       "22  Cajun / Creole Restaurant                Flea Market  \n",
       "23        Sporting Goods Shop         Chinese Restaurant  \n",
       "24                  BBQ Joint                        Pub  \n",
       "25               Dessert Shop                  Bookstore  \n",
       "26                      Diner          Indian Restaurant  \n",
       "27                   Beer Bar                 Beer Store  \n",
       "28        Indie Movie Theater          Fish & Chips Shop  \n",
       "30                     Bakery              Grocery Store  \n",
       "31                Supermarket        Fried Chicken Joint  \n",
       "32                Coffee Shop                   Boutique  \n",
       "34        Japanese Restaurant             Sandwich Place  \n",
       "35         Chinese Restaurant         Italian Restaurant  \n",
       "36         Seafood Restaurant                 Steakhouse  \n",
       "37                        Pub                       Café  \n",
       "38              Burrito Place                    Brewery  "
      ],
      "text/html": "<div>\n<style scoped>\n    .dataframe tbody tr th:only-of-type {\n        vertical-align: middle;\n    }\n\n    .dataframe tbody tr th {\n        vertical-align: top;\n    }\n\n    .dataframe thead th {\n        text-align: right;\n    }\n</style>\n<table border=\"1\" class=\"dataframe\">\n  <thead>\n    <tr style=\"text-align: right;\">\n      <th></th>\n      <th>Neighbourhood</th>\n      <th>1st Most Common Venue</th>\n      <th>2nd Most Common Venue</th>\n      <th>3rd Most Common Venue</th>\n      <th>4th Most Common Venue</th>\n      <th>5th Most Common Venue</th>\n      <th>6th Most Common Venue</th>\n      <th>7th Most Common Venue</th>\n      <th>8th Most Common Venue</th>\n      <th>9th Most Common Venue</th>\n      <th>10th Most Common Venue</th>\n    </tr>\n  </thead>\n  <tbody>\n    <tr>\n      <th>0</th>\n      <td>Regent Park, Harbourfront</td>\n      <td>Coffee Shop</td>\n      <td>Pub</td>\n      <td>Bakery</td>\n      <td>Park</td>\n      <td>Breakfast Spot</td>\n      <td>Café</td>\n      <td>Theater</td>\n      <td>Yoga Studio</td>\n      <td>Event Space</td>\n      <td>Restaurant</td>\n    </tr>\n    <tr>\n      <th>1</th>\n      <td>Queen's Park, Ontario Provincial Government</td>\n      <td>Coffee Shop</td>\n      <td>Yoga Studio</td>\n      <td>Diner</td>\n      <td>Beer Bar</td>\n      <td>Smoothie Shop</td>\n      <td>Italian Restaurant</td>\n      <td>Sandwich Place</td>\n      <td>Restaurant</td>\n      <td>Café</td>\n      <td>Distribution Center</td>\n    </tr>\n    <tr>\n      <th>2</th>\n      <td>Garden District, Ryerson</td>\n      <td>Clothing Store</td>\n      <td>Coffee Shop</td>\n      <td>Café</td>\n      <td>Bubble Tea Shop</td>\n      <td>Japanese Restaurant</td>\n      <td>Cosmetics Shop</td>\n      <td>Hotel</td>\n      <td>Bookstore</td>\n      <td>Pizza Place</td>\n      <td>Middle Eastern Restaurant</td>\n    </tr>\n    <tr>\n      <th>3</th>\n      <td>St. James Town</td>\n      <td>Coffee Shop</td>\n      <td>Café</td>\n      <td>Restaurant</td>\n      <td>Cocktail Bar</td>\n      <td>Gastropub</td>\n      <td>Beer Bar</td>\n      <td>American Restaurant</td>\n      <td>Gym</td>\n      <td>Hotel</td>\n      <td>Clothing Store</td>\n    </tr>\n    <tr>\n      <th>5</th>\n      <td>Berczy Park</td>\n      <td>Coffee Shop</td>\n      <td>Farmers Market</td>\n      <td>Bakery</td>\n      <td>Beer Bar</td>\n      <td>Restaurant</td>\n      <td>Cheese Shop</td>\n      <td>Seafood Restaurant</td>\n      <td>Cocktail Bar</td>\n      <td>Concert Hall</td>\n      <td>Beach</td>\n    </tr>\n    <tr>\n      <th>6</th>\n      <td>Central Bay Street</td>\n      <td>Coffee Shop</td>\n      <td>Café</td>\n      <td>Sandwich Place</td>\n      <td>Italian Restaurant</td>\n      <td>Salad Place</td>\n      <td>Department Store</td>\n      <td>Thai Restaurant</td>\n      <td>Burger Joint</td>\n      <td>Bubble Tea Shop</td>\n      <td>Japanese Restaurant</td>\n    </tr>\n    <tr>\n      <th>7</th>\n      <td>Christie</td>\n      <td>Grocery Store</td>\n      <td>Café</td>\n      <td>Park</td>\n      <td>Coffee Shop</td>\n      <td>Candy Store</td>\n      <td>Baby Store</td>\n      <td>Italian Restaurant</td>\n      <td>Athletics &amp; Sports</td>\n      <td>Restaurant</td>\n      <td>Nightclub</td>\n    </tr>\n    <tr>\n      <th>8</th>\n      <td>Richmond, Adelaide, King</td>\n      <td>Coffee Shop</td>\n      <td>Café</td>\n      <td>Hotel</td>\n      <td>Bar</td>\n      <td>Restaurant</td>\n      <td>Gym</td>\n      <td>Clothing Store</td>\n      <td>Thai Restaurant</td>\n      <td>Office</td>\n      <td>Concert Hall</td>\n    </tr>\n    <tr>\n      <th>9</th>\n      <td>Dufferin, Dovercourt Village</td>\n      <td>Bakery</td>\n      <td>Pharmacy</td>\n      <td>Music Venue</td>\n      <td>Bank</td>\n      <td>Middle Eastern Restaurant</td>\n      <td>Bar</td>\n      <td>Café</td>\n      <td>Supermarket</td>\n      <td>Grocery Store</td>\n      <td>Park</td>\n    </tr>\n    <tr>\n      <th>10</th>\n      <td>Harbourfront East, Union Station, Toronto Islands</td>\n      <td>Coffee Shop</td>\n      <td>Aquarium</td>\n      <td>Hotel</td>\n      <td>Café</td>\n      <td>Fried Chicken Joint</td>\n      <td>Scenic Lookout</td>\n      <td>Brewery</td>\n      <td>Restaurant</td>\n      <td>Sporting Goods Shop</td>\n      <td>Music Venue</td>\n    </tr>\n    <tr>\n      <th>11</th>\n      <td>Little Portugal, Trinity</td>\n      <td>Bar</td>\n      <td>Coffee Shop</td>\n      <td>Café</td>\n      <td>Asian Restaurant</td>\n      <td>Men's Store</td>\n      <td>Restaurant</td>\n      <td>Vietnamese Restaurant</td>\n      <td>Japanese Restaurant</td>\n      <td>Brewery</td>\n      <td>Italian Restaurant</td>\n    </tr>\n    <tr>\n      <th>12</th>\n      <td>The Danforth West, Riverdale</td>\n      <td>Greek Restaurant</td>\n      <td>Coffee Shop</td>\n      <td>Italian Restaurant</td>\n      <td>Bookstore</td>\n      <td>Restaurant</td>\n      <td>Furniture / Home Store</td>\n      <td>Ice Cream Shop</td>\n      <td>Pub</td>\n      <td>Lounge</td>\n      <td>Liquor Store</td>\n    </tr>\n    <tr>\n      <th>13</th>\n      <td>Toronto Dominion Centre, Design Exchange</td>\n      <td>Coffee Shop</td>\n      <td>Hotel</td>\n      <td>Restaurant</td>\n      <td>Café</td>\n      <td>Seafood Restaurant</td>\n      <td>Japanese Restaurant</td>\n      <td>Salad Place</td>\n      <td>American Restaurant</td>\n      <td>Bakery</td>\n      <td>Italian Restaurant</td>\n    </tr>\n    <tr>\n      <th>14</th>\n      <td>Brockton, Parkdale Village, Exhibition Place</td>\n      <td>Café</td>\n      <td>Nightclub</td>\n      <td>Breakfast Spot</td>\n      <td>Coffee Shop</td>\n      <td>Convenience Store</td>\n      <td>Furniture / Home Store</td>\n      <td>Bar</td>\n      <td>Italian Restaurant</td>\n      <td>Bakery</td>\n      <td>Climbing Gym</td>\n    </tr>\n    <tr>\n      <th>15</th>\n      <td>India Bazaar, The Beaches West</td>\n      <td>Park</td>\n      <td>Coffee Shop</td>\n      <td>Brewery</td>\n      <td>Liquor Store</td>\n      <td>Sandwich Place</td>\n      <td>Burrito Place</td>\n      <td>Restaurant</td>\n      <td>Italian Restaurant</td>\n      <td>Fast Food Restaurant</td>\n      <td>Fish &amp; Chips Shop</td>\n    </tr>\n    <tr>\n      <th>16</th>\n      <td>Commerce Court, Victoria Hotel</td>\n      <td>Coffee Shop</td>\n      <td>Restaurant</td>\n      <td>Hotel</td>\n      <td>Café</td>\n      <td>American Restaurant</td>\n      <td>Gym</td>\n      <td>Japanese Restaurant</td>\n      <td>Deli / Bodega</td>\n      <td>Seafood Restaurant</td>\n      <td>Cocktail Bar</td>\n    </tr>\n    <tr>\n      <th>17</th>\n      <td>Studio District</td>\n      <td>Coffee Shop</td>\n      <td>American Restaurant</td>\n      <td>Bakery</td>\n      <td>Brewery</td>\n      <td>Café</td>\n      <td>Gastropub</td>\n      <td>Yoga Studio</td>\n      <td>Fish Market</td>\n      <td>Park</td>\n      <td>Neighborhood</td>\n    </tr>\n    <tr>\n      <th>20</th>\n      <td>Davisville North</td>\n      <td>Gym / Fitness Center</td>\n      <td>Hotel</td>\n      <td>Breakfast Spot</td>\n      <td>Food &amp; Drink Shop</td>\n      <td>Sandwich Place</td>\n      <td>Dog Run</td>\n      <td>Department Store</td>\n      <td>Dance Studio</td>\n      <td>Park</td>\n      <td>Cuban Restaurant</td>\n    </tr>\n    <tr>\n      <th>22</th>\n      <td>High Park, The Junction South</td>\n      <td>Café</td>\n      <td>Mexican Restaurant</td>\n      <td>Thai Restaurant</td>\n      <td>Bar</td>\n      <td>Grocery Store</td>\n      <td>Furniture / Home Store</td>\n      <td>Fast Food Restaurant</td>\n      <td>Bookstore</td>\n      <td>Cajun / Creole Restaurant</td>\n      <td>Flea Market</td>\n    </tr>\n    <tr>\n      <th>23</th>\n      <td>North Toronto West,  Lawrence Park</td>\n      <td>Coffee Shop</td>\n      <td>Clothing Store</td>\n      <td>Yoga Studio</td>\n      <td>Spa</td>\n      <td>Restaurant</td>\n      <td>Bagel Shop</td>\n      <td>Diner</td>\n      <td>Ice Cream Shop</td>\n      <td>Sporting Goods Shop</td>\n      <td>Chinese Restaurant</td>\n    </tr>\n    <tr>\n      <th>24</th>\n      <td>The Annex, North Midtown, Yorkville</td>\n      <td>Sandwich Place</td>\n      <td>Café</td>\n      <td>Coffee Shop</td>\n      <td>Park</td>\n      <td>Donut Shop</td>\n      <td>Burger Joint</td>\n      <td>Middle Eastern Restaurant</td>\n      <td>Indian Restaurant</td>\n      <td>BBQ Joint</td>\n      <td>Pub</td>\n    </tr>\n    <tr>\n      <th>25</th>\n      <td>Parkdale, Roncesvalles</td>\n      <td>Breakfast Spot</td>\n      <td>Gift Shop</td>\n      <td>Movie Theater</td>\n      <td>Eastern European Restaurant</td>\n      <td>Dog Run</td>\n      <td>Bar</td>\n      <td>Italian Restaurant</td>\n      <td>Restaurant</td>\n      <td>Dessert Shop</td>\n      <td>Bookstore</td>\n    </tr>\n    <tr>\n      <th>26</th>\n      <td>Davisville</td>\n      <td>Sandwich Place</td>\n      <td>Dessert Shop</td>\n      <td>Pizza Place</td>\n      <td>Italian Restaurant</td>\n      <td>Café</td>\n      <td>Gym</td>\n      <td>Sushi Restaurant</td>\n      <td>Coffee Shop</td>\n      <td>Diner</td>\n      <td>Indian Restaurant</td>\n    </tr>\n    <tr>\n      <th>27</th>\n      <td>University of Toronto, Harbord</td>\n      <td>Café</td>\n      <td>Bookstore</td>\n      <td>Bar</td>\n      <td>Japanese Restaurant</td>\n      <td>Sandwich Place</td>\n      <td>Bakery</td>\n      <td>Yoga Studio</td>\n      <td>Pub</td>\n      <td>Beer Bar</td>\n      <td>Beer Store</td>\n    </tr>\n    <tr>\n      <th>28</th>\n      <td>Runnymede, Swansea</td>\n      <td>Coffee Shop</td>\n      <td>Café</td>\n      <td>Sushi Restaurant</td>\n      <td>Pizza Place</td>\n      <td>Pub</td>\n      <td>Italian Restaurant</td>\n      <td>Falafel Restaurant</td>\n      <td>Bar</td>\n      <td>Indie Movie Theater</td>\n      <td>Fish &amp; Chips Shop</td>\n    </tr>\n    <tr>\n      <th>30</th>\n      <td>Kensington Market, Chinatown, Grange Park</td>\n      <td>Bar</td>\n      <td>Coffee Shop</td>\n      <td>Vegetarian / Vegan Restaurant</td>\n      <td>Café</td>\n      <td>Mexican Restaurant</td>\n      <td>Vietnamese Restaurant</td>\n      <td>Dessert Shop</td>\n      <td>Burger Joint</td>\n      <td>Bakery</td>\n      <td>Grocery Store</td>\n    </tr>\n    <tr>\n      <th>31</th>\n      <td>Summerhill West, Rathnelly, South Hill, Forest...</td>\n      <td>Coffee Shop</td>\n      <td>Sushi Restaurant</td>\n      <td>Pizza Place</td>\n      <td>Liquor Store</td>\n      <td>Restaurant</td>\n      <td>Bank</td>\n      <td>Pub</td>\n      <td>Bagel Shop</td>\n      <td>Supermarket</td>\n      <td>Fried Chicken Joint</td>\n    </tr>\n    <tr>\n      <th>32</th>\n      <td>CN Tower, King and Spadina, Railway Lands, Har...</td>\n      <td>Airport Lounge</td>\n      <td>Airport Service</td>\n      <td>Airport</td>\n      <td>Boat or Ferry</td>\n      <td>Bar</td>\n      <td>Rental Car Location</td>\n      <td>Sculpture Garden</td>\n      <td>Plane</td>\n      <td>Coffee Shop</td>\n      <td>Boutique</td>\n    </tr>\n    <tr>\n      <th>34</th>\n      <td>Stn A PO Boxes</td>\n      <td>Coffee Shop</td>\n      <td>Italian Restaurant</td>\n      <td>Hotel</td>\n      <td>Seafood Restaurant</td>\n      <td>Beer Bar</td>\n      <td>Restaurant</td>\n      <td>Pub</td>\n      <td>Café</td>\n      <td>Japanese Restaurant</td>\n      <td>Sandwich Place</td>\n    </tr>\n    <tr>\n      <th>35</th>\n      <td>St. James Town, Cabbagetown</td>\n      <td>Coffee Shop</td>\n      <td>Restaurant</td>\n      <td>Café</td>\n      <td>Pizza Place</td>\n      <td>Pub</td>\n      <td>Bakery</td>\n      <td>Park</td>\n      <td>Market</td>\n      <td>Chinese Restaurant</td>\n      <td>Italian Restaurant</td>\n    </tr>\n    <tr>\n      <th>36</th>\n      <td>First Canadian Place, Underground city</td>\n      <td>Coffee Shop</td>\n      <td>Café</td>\n      <td>Hotel</td>\n      <td>American Restaurant</td>\n      <td>Restaurant</td>\n      <td>Gym</td>\n      <td>Japanese Restaurant</td>\n      <td>Asian Restaurant</td>\n      <td>Seafood Restaurant</td>\n      <td>Steakhouse</td>\n    </tr>\n    <tr>\n      <th>37</th>\n      <td>Church and Wellesley</td>\n      <td>Coffee Shop</td>\n      <td>Sushi Restaurant</td>\n      <td>Gay Bar</td>\n      <td>Japanese Restaurant</td>\n      <td>Restaurant</td>\n      <td>Yoga Studio</td>\n      <td>Hotel</td>\n      <td>Bubble Tea Shop</td>\n      <td>Pub</td>\n      <td>Café</td>\n    </tr>\n    <tr>\n      <th>38</th>\n      <td>Business reply mail Processing Centre, South C...</td>\n      <td>Gym / Fitness Center</td>\n      <td>Auto Workshop</td>\n      <td>Comic Shop</td>\n      <td>Park</td>\n      <td>Pizza Place</td>\n      <td>Recording Studio</td>\n      <td>Restaurant</td>\n      <td>Butcher</td>\n      <td>Burrito Place</td>\n      <td>Brewery</td>\n    </tr>\n  </tbody>\n</table>\n</div>"
     },
     "metadata": {},
     "execution_count": 32
    }
   ],
   "source": [
    "toronto_merged.loc[toronto_merged['Cluster Labels'] == 2, toronto_merged.columns[[2] + list(range(6, toronto_merged.shape[1]))]]"
   ]
  },
  {
   "source": [
    "#### Cluster 4"
   ],
   "cell_type": "markdown",
   "metadata": {}
  },
  {
   "cell_type": "code",
   "execution_count": 33,
   "metadata": {},
   "outputs": [
    {
     "output_type": "execute_result",
     "data": {
      "text/plain": [
       "  Neighbourhood 1st Most Common Venue 2nd Most Common Venue  \\\n",
       "4   The Beaches                   Pub     Health Food Store   \n",
       "\n",
       "  3rd Most Common Venue 4th Most Common Venue 5th Most Common Venue  \\\n",
       "4                 Trail          Neighborhood           Yoga Studio   \n",
       "\n",
       "  6th Most Common Venue 7th Most Common Venue 8th Most Common Venue  \\\n",
       "4               Dog Run                 Diner        Discount Store   \n",
       "\n",
       "  9th Most Common Venue 10th Most Common Venue  \n",
       "4   Distribution Center             Donut Shop  "
      ],
      "text/html": "<div>\n<style scoped>\n    .dataframe tbody tr th:only-of-type {\n        vertical-align: middle;\n    }\n\n    .dataframe tbody tr th {\n        vertical-align: top;\n    }\n\n    .dataframe thead th {\n        text-align: right;\n    }\n</style>\n<table border=\"1\" class=\"dataframe\">\n  <thead>\n    <tr style=\"text-align: right;\">\n      <th></th>\n      <th>Neighbourhood</th>\n      <th>1st Most Common Venue</th>\n      <th>2nd Most Common Venue</th>\n      <th>3rd Most Common Venue</th>\n      <th>4th Most Common Venue</th>\n      <th>5th Most Common Venue</th>\n      <th>6th Most Common Venue</th>\n      <th>7th Most Common Venue</th>\n      <th>8th Most Common Venue</th>\n      <th>9th Most Common Venue</th>\n      <th>10th Most Common Venue</th>\n    </tr>\n  </thead>\n  <tbody>\n    <tr>\n      <th>4</th>\n      <td>The Beaches</td>\n      <td>Pub</td>\n      <td>Health Food Store</td>\n      <td>Trail</td>\n      <td>Neighborhood</td>\n      <td>Yoga Studio</td>\n      <td>Dog Run</td>\n      <td>Diner</td>\n      <td>Discount Store</td>\n      <td>Distribution Center</td>\n      <td>Donut Shop</td>\n    </tr>\n  </tbody>\n</table>\n</div>"
     },
     "metadata": {},
     "execution_count": 33
    }
   ],
   "source": [
    "toronto_merged.loc[toronto_merged['Cluster Labels'] == 3, toronto_merged.columns[[2] + list(range(6, toronto_merged.shape[1]))]]"
   ]
  },
  {
   "source": [
    "#### Cluster 5"
   ],
   "cell_type": "markdown",
   "metadata": {}
  },
  {
   "cell_type": "code",
   "execution_count": 34,
   "metadata": {},
   "outputs": [
    {
     "output_type": "execute_result",
     "data": {
      "text/plain": [
       "   Neighbourhood 1st Most Common Venue 2nd Most Common Venue  \\\n",
       "19      Roselawn           Music Venue                Garden   \n",
       "\n",
       "   3rd Most Common Venue 4th Most Common Venue 5th Most Common Venue  \\\n",
       "19           Yoga Studio          Dessert Shop  Ethiopian Restaurant   \n",
       "\n",
       "   6th Most Common Venue 7th Most Common Venue        8th Most Common Venue  \\\n",
       "19           Escape Room     Electronics Store  Eastern European Restaurant   \n",
       "\n",
       "   9th Most Common Venue 10th Most Common Venue  \n",
       "19   Dumpling Restaurant             Donut Shop  "
      ],
      "text/html": "<div>\n<style scoped>\n    .dataframe tbody tr th:only-of-type {\n        vertical-align: middle;\n    }\n\n    .dataframe tbody tr th {\n        vertical-align: top;\n    }\n\n    .dataframe thead th {\n        text-align: right;\n    }\n</style>\n<table border=\"1\" class=\"dataframe\">\n  <thead>\n    <tr style=\"text-align: right;\">\n      <th></th>\n      <th>Neighbourhood</th>\n      <th>1st Most Common Venue</th>\n      <th>2nd Most Common Venue</th>\n      <th>3rd Most Common Venue</th>\n      <th>4th Most Common Venue</th>\n      <th>5th Most Common Venue</th>\n      <th>6th Most Common Venue</th>\n      <th>7th Most Common Venue</th>\n      <th>8th Most Common Venue</th>\n      <th>9th Most Common Venue</th>\n      <th>10th Most Common Venue</th>\n    </tr>\n  </thead>\n  <tbody>\n    <tr>\n      <th>19</th>\n      <td>Roselawn</td>\n      <td>Music Venue</td>\n      <td>Garden</td>\n      <td>Yoga Studio</td>\n      <td>Dessert Shop</td>\n      <td>Ethiopian Restaurant</td>\n      <td>Escape Room</td>\n      <td>Electronics Store</td>\n      <td>Eastern European Restaurant</td>\n      <td>Dumpling Restaurant</td>\n      <td>Donut Shop</td>\n    </tr>\n  </tbody>\n</table>\n</div>"
     },
     "metadata": {},
     "execution_count": 34
    }
   ],
   "source": [
    "toronto_merged.loc[toronto_merged['Cluster Labels'] == 4, toronto_merged.columns[[2] + list(range(6, toronto_merged.shape[1]))]]"
   ]
  }
 ],
 "metadata": {
  "kernelspec": {
   "name": "Python 3.7.9 64-bit",
   "display_name": "Python 3.7.9 64-bit",
   "metadata": {
    "interpreter": {
     "hash": "e5ab2c0831cc3918e280caf70c9954f1341e95ea294587c509f8a65d4fd19c13"
    }
   }
  },
  "language_info": {
   "codemirror_mode": {
    "name": "ipython",
    "version": 3
   },
   "file_extension": ".py",
   "mimetype": "text/x-python",
   "name": "python",
   "nbconvert_exporter": "python",
   "pygments_lexer": "ipython3",
   "version": "3.7.9-final"
  }
 },
 "nbformat": 4,
 "nbformat_minor": 4
}