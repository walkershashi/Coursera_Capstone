{
 "metadata": {
  "language_info": {
   "codemirror_mode": {
    "name": "ipython",
    "version": 3
   },
   "file_extension": ".py",
   "mimetype": "text/x-python",
   "name": "python",
   "nbconvert_exporter": "python",
   "pygments_lexer": "ipython3",
   "version": "3.7.9-final"
  },
  "orig_nbformat": 2,
  "kernelspec": {
   "name": "python3",
   "display_name": "Python 3"
  }
 },
 "nbformat": 4,
 "nbformat_minor": 2,
 "cells": [
  {
   "cell_type": "code",
   "execution_count": 1,
   "metadata": {},
   "outputs": [],
   "source": [
    "#import necessary modules\n",
    "\n",
    "import csv\n",
    "import requests\n",
    "import pandas as pd\n",
    "from bs4 import BeautifulSoup as BS"
   ]
  },
  {
   "source": [
    "### Data Acquisition\n",
    "\n",
    "The data is available in the form of the table on the wiki page <a href = 'https://en.wikipedia.org/wiki/List_of_postal_codes_of_Canada:_M'>here</a>\n",
    "The below code scraps the data from the given web page and tranforms the table into a dataframe which is readily available for segmentation.\n",
    "\n",
    "The table tag has a class associated with it, <code>class = wikitable sortable</code>"
   ],
   "cell_type": "markdown",
   "metadata": {}
  },
  {
   "cell_type": "code",
   "execution_count": 2,
   "metadata": {},
   "outputs": [],
   "source": [
    "# get the response and the page data\n",
    "\n",
    "url = 'https://en.wikipedia.org/wiki/List_of_postal_codes_of_Canada:_M'\n",
    "response = requests.get(url)"
   ]
  },
  {
   "cell_type": "code",
   "execution_count": 3,
   "metadata": {},
   "outputs": [],
   "source": [
    "page = BS(response.text, 'html.parser')"
   ]
  },
  {
   "cell_type": "code",
   "execution_count": 4,
   "metadata": {},
   "outputs": [],
   "source": [
    "# get table by class\n",
    "\n",
    "table = page.findAll('table', class_ = \"wikitable sortable\")[0]\n",
    "\n",
    "# find all the table row\n",
    "table_row = table.findAll(['tr'])"
   ]
  },
  {
   "cell_type": "code",
   "execution_count": 5,
   "metadata": {},
   "outputs": [
    {
     "output_type": "stream",
     "name": "stdout",
     "text": [
      "['M3A', 'North York', 'Parkwoods']\n['M4A', 'North York', 'Victoria Village']\n['M5A', 'Downtown Toronto', 'Regent Park, Harbourfront']\n['M6A', 'North York', 'Lawrence Manor, Lawrence Heights']\n['M7A', 'Downtown Toronto', \"Queen's Park, Ontario Provincial Government\"]\n['M9A', 'Etobicoke', 'Islington Avenue, Humber Valley Village']\n['M1B', 'Scarborough', 'Malvern, Rouge']\n['M3B', 'North York', 'Don Mills']\n['M4B', 'East York', 'Parkview Hill, Woodbine Gardens']\n['M5B', 'Downtown Toronto', 'Garden District, Ryerson']\n['M6B', 'North York', 'Glencairn']\n['M9B', 'Etobicoke', 'West Deane Park, Princess Gardens, Martin Grove, Islington, Cloverdale']\n['M1C', 'Scarborough', 'Rouge Hill, Port Union, Highland Creek']\n['M3C', 'North York', 'Don Mills']\n['M4C', 'East York', 'Woodbine Heights']\n['M5C', 'Downtown Toronto', 'St. James Town']\n['M6C', 'York', 'Humewood-Cedarvale']\n['M9C', 'Etobicoke', 'Eringate, Bloordale Gardens, Old Burnhamthorpe, Markland Wood']\n['M1E', 'Scarborough', 'Guildwood, Morningside, West Hill']\n['M4E', 'East Toronto', 'The Beaches']\n['M5E', 'Downtown Toronto', 'Berczy Park']\n['M6E', 'York', 'Caledonia-Fairbanks']\n['M1G', 'Scarborough', 'Woburn']\n['M4G', 'East York', 'Leaside']\n['M5G', 'Downtown Toronto', 'Central Bay Street']\n['M6G', 'Downtown Toronto', 'Christie']\n['M1H', 'Scarborough', 'Cedarbrae']\n['M2H', 'North York', 'Hillcrest Village']\n['M3H', 'North York', 'Bathurst Manor, Wilson Heights, Downsview North']\n['M4H', 'East York', 'Thorncliffe Park']\n['M5H', 'Downtown Toronto', 'Richmond, Adelaide, King']\n['M6H', 'West Toronto', 'Dufferin, Dovercourt Village']\n['M1J', 'Scarborough', 'Scarborough Village']\n['M2J', 'North York', 'Fairview, Henry Farm, Oriole']\n['M3J', 'North York', 'Northwood Park, York University']\n['M4J', 'East York', 'East Toronto, Broadview North (Old East York)']\n['M5J', 'Downtown Toronto', 'Harbourfront East, Union Station, Toronto Islands']\n['M6J', 'West Toronto', 'Little Portugal, Trinity']\n['M1K', 'Scarborough', 'Kennedy Park, Ionview, East Birchmount Park']\n['M2K', 'North York', 'Bayview Village']\n['M3K', 'North York', 'Downsview']\n['M4K', 'East Toronto', 'The Danforth West, Riverdale']\n['M5K', 'Downtown Toronto', 'Toronto Dominion Centre, Design Exchange']\n['M6K', 'West Toronto', 'Brockton, Parkdale Village, Exhibition Place']\n['M1L', 'Scarborough', 'Golden Mile, Clairlea, Oakridge']\n['M2L', 'North York', 'York Mills, Silver Hills']\n['M3L', 'North York', 'Downsview']\n['M4L', 'East Toronto', 'India Bazaar, The Beaches West']\n['M5L', 'Downtown Toronto', 'Commerce Court, Victoria Hotel']\n['M6L', 'North York', 'North Park, Maple Leaf Park, Upwood Park']\n['M9L', 'North York', 'Humber Summit']\n['M1M', 'Scarborough', 'Cliffside, Cliffcrest, Scarborough Village West']\n['M2M', 'North York', 'Willowdale, Newtonbrook']\n['M3M', 'North York', 'Downsview']\n['M4M', 'East Toronto', 'Studio District']\n['M5M', 'North York', 'Bedford Park, Lawrence Manor East']\n['M6M', 'York', 'Del Ray, Mount Dennis, Keelsdale and Silverthorn']\n['M9M', 'North York', 'Humberlea, Emery']\n['M1N', 'Scarborough', 'Birch Cliff, Cliffside West']\n['M2N', 'North York', 'Willowdale, Willowdale East']\n['M3N', 'North York', 'Downsview']\n['M4N', 'Central Toronto', 'Lawrence Park']\n['M5N', 'Central Toronto', 'Roselawn']\n['M6N', 'York', 'Runnymede, The Junction North']\n['M9N', 'York', 'Weston']\n['M1P', 'Scarborough', 'Dorset Park, Wexford Heights, Scarborough Town Centre']\n['M2P', 'North York', 'York Mills West']\n['M4P', 'Central Toronto', 'Davisville North']\n['M5P', 'Central Toronto', 'Forest Hill North & West, Forest Hill Road Park']\n['M6P', 'West Toronto', 'High Park, The Junction South']\n['M9P', 'Etobicoke', 'Westmount']\n['M1R', 'Scarborough', 'Wexford, Maryvale']\n['M2R', 'North York', 'Willowdale, Willowdale West']\n['M4R', 'Central Toronto', 'North Toronto West,  Lawrence Park']\n['M5R', 'Central Toronto', 'The Annex, North Midtown, Yorkville']\n['M6R', 'West Toronto', 'Parkdale, Roncesvalles']\n['M7R', 'Mississauga', 'Canada Post Gateway Processing Centre']\n['M9R', 'Etobicoke', 'Kingsview Village, St. Phillips, Martin Grove Gardens, Richview Gardens']\n['M1S', 'Scarborough', 'Agincourt']\n['M4S', 'Central Toronto', 'Davisville']\n['M5S', 'Downtown Toronto', 'University of Toronto, Harbord']\n['M6S', 'West Toronto', 'Runnymede, Swansea']\n['M1T', 'Scarborough', \"Clarks Corners, Tam O'Shanter, Sullivan\"]\n['M4T', 'Central Toronto', 'Moore Park, Summerhill East']\n['M5T', 'Downtown Toronto', 'Kensington Market, Chinatown, Grange Park']\n['M1V', 'Scarborough', \"Milliken, Agincourt North, Steeles East, L'Amoreaux East\"]\n['M4V', 'Central Toronto', 'Summerhill West, Rathnelly, South Hill, Forest Hill SE, Deer Park']\n['M5V', 'Downtown Toronto', 'CN Tower, King and Spadina, Railway Lands, Harbourfront West, Bathurst Quay, South Niagara, Island airport']\n['M8V', 'Etobicoke', 'New Toronto, Mimico South, Humber Bay Shores']\n['M9V', 'Etobicoke', 'South Steeles, Silverstone, Humbergate, Jamestown, Mount Olive, Beaumond Heights, Thistletown, Albion Gardens']\n['M1W', 'Scarborough', \"Steeles West, L'Amoreaux West\"]\n['M4W', 'Downtown Toronto', 'Rosedale']\n['M5W', 'Downtown Toronto', 'Stn A PO Boxes']\n['M8W', 'Etobicoke', 'Alderwood, Long Branch']\n['M9W', 'Etobicoke', 'Northwest, West Humber - Clairville']\n['M1X', 'Scarborough', 'Upper Rouge']\n['M4X', 'Downtown Toronto', 'St. James Town, Cabbagetown']\n['M5X', 'Downtown Toronto', 'First Canadian Place, Underground city']\n['M8X', 'Etobicoke', 'The Kingsway, Montgomery Road, Old Mill North']\n['M4Y', 'Downtown Toronto', 'Church and Wellesley']\n['M7Y', 'East Toronto', 'Business reply mail Processing Centre, South Central Letter Processing Plant Toronto']\n['M8Y', 'Etobicoke', \"Old Mill South, King's Mill Park, Sunnylea, Humber Bay, Mimico NE, The Queensway East, Royal York South East, Kingsway Park South East\"]\n['M8Z', 'Etobicoke', 'Mimico NW, The Queensway West, South of Bloor, Kingsway Park South West, Royal York South West']\n"
     ]
    }
   ],
   "source": [
    "# save the table as a csv file\n",
    "\n",
    "with open('postal_code.csv', 'w', newline = '') as postal:\n",
    "    writer = csv.writer(postal)\n",
    "    \n",
    "    # find all the table headers\n",
    "    th = table.findAll('th')\n",
    "    headers = [head.text.strip('\\n') for head in th]\n",
    "    \n",
    "    writer.writerow(headers)\n",
    "    \n",
    "    for cell in table_row[1:]:\n",
    "        \n",
    "        td = cell.findAll('td')\n",
    "        rows = [val.text.replace('\\n', '') for val in td]\n",
    "        \n",
    "        # Ignore the Not assigned Borough\n",
    "        if rows[1] != 'Not assigned':\n",
    "            if rows[2] == 'Not assigned':\n",
    "                rows[2] = rows[1]\n",
    "            print(rows)\n",
    "            writer.writerow(rows)"
   ]
  },
  {
   "cell_type": "code",
   "execution_count": 6,
   "metadata": {},
   "outputs": [
    {
     "output_type": "execute_result",
     "data": {
      "text/plain": [
       "  Postal Code           Borough                                Neighbourhood\n",
       "0         M3A        North York                                    Parkwoods\n",
       "1         M4A        North York                             Victoria Village\n",
       "2         M5A  Downtown Toronto                    Regent Park, Harbourfront\n",
       "3         M6A        North York             Lawrence Manor, Lawrence Heights\n",
       "4         M7A  Downtown Toronto  Queen's Park, Ontario Provincial Government"
      ],
      "text/html": "<div>\n<style scoped>\n    .dataframe tbody tr th:only-of-type {\n        vertical-align: middle;\n    }\n\n    .dataframe tbody tr th {\n        vertical-align: top;\n    }\n\n    .dataframe thead th {\n        text-align: right;\n    }\n</style>\n<table border=\"1\" class=\"dataframe\">\n  <thead>\n    <tr style=\"text-align: right;\">\n      <th></th>\n      <th>Postal Code</th>\n      <th>Borough</th>\n      <th>Neighbourhood</th>\n    </tr>\n  </thead>\n  <tbody>\n    <tr>\n      <th>0</th>\n      <td>M3A</td>\n      <td>North York</td>\n      <td>Parkwoods</td>\n    </tr>\n    <tr>\n      <th>1</th>\n      <td>M4A</td>\n      <td>North York</td>\n      <td>Victoria Village</td>\n    </tr>\n    <tr>\n      <th>2</th>\n      <td>M5A</td>\n      <td>Downtown Toronto</td>\n      <td>Regent Park, Harbourfront</td>\n    </tr>\n    <tr>\n      <th>3</th>\n      <td>M6A</td>\n      <td>North York</td>\n      <td>Lawrence Manor, Lawrence Heights</td>\n    </tr>\n    <tr>\n      <th>4</th>\n      <td>M7A</td>\n      <td>Downtown Toronto</td>\n      <td>Queen's Park, Ontario Provincial Government</td>\n    </tr>\n  </tbody>\n</table>\n</div>"
     },
     "metadata": {},
     "execution_count": 6
    }
   ],
   "source": [
    "# lets look at the dataframe created from scraping the web page\n",
    "df = pd.read_csv('postal_code.csv')\n",
    "df.head()"
   ]
  },
  {
   "cell_type": "code",
   "execution_count": 7,
   "metadata": {},
   "outputs": [
    {
     "output_type": "execute_result",
     "data": {
      "text/plain": [
       "(103, 3)"
      ]
     },
     "metadata": {},
     "execution_count": 7
    }
   ],
   "source": [
    "df.shape"
   ]
  },
  {
   "cell_type": "code",
   "execution_count": 8,
   "metadata": {},
   "outputs": [
    {
     "output_type": "execute_result",
     "data": {
      "text/plain": [
       "  Postal Code   Latitude  Longitude\n",
       "0         M1B  43.806686 -79.194353\n",
       "1         M1C  43.784535 -79.160497\n",
       "2         M1E  43.763573 -79.188711\n",
       "3         M1G  43.770992 -79.216917\n",
       "4         M1H  43.773136 -79.239476"
      ],
      "text/html": "<div>\n<style scoped>\n    .dataframe tbody tr th:only-of-type {\n        vertical-align: middle;\n    }\n\n    .dataframe tbody tr th {\n        vertical-align: top;\n    }\n\n    .dataframe thead th {\n        text-align: right;\n    }\n</style>\n<table border=\"1\" class=\"dataframe\">\n  <thead>\n    <tr style=\"text-align: right;\">\n      <th></th>\n      <th>Postal Code</th>\n      <th>Latitude</th>\n      <th>Longitude</th>\n    </tr>\n  </thead>\n  <tbody>\n    <tr>\n      <th>0</th>\n      <td>M1B</td>\n      <td>43.806686</td>\n      <td>-79.194353</td>\n    </tr>\n    <tr>\n      <th>1</th>\n      <td>M1C</td>\n      <td>43.784535</td>\n      <td>-79.160497</td>\n    </tr>\n    <tr>\n      <th>2</th>\n      <td>M1E</td>\n      <td>43.763573</td>\n      <td>-79.188711</td>\n    </tr>\n    <tr>\n      <th>3</th>\n      <td>M1G</td>\n      <td>43.770992</td>\n      <td>-79.216917</td>\n    </tr>\n    <tr>\n      <th>4</th>\n      <td>M1H</td>\n      <td>43.773136</td>\n      <td>-79.239476</td>\n    </tr>\n  </tbody>\n</table>\n</div>"
     },
     "metadata": {},
     "execution_count": 8
    }
   ],
   "source": [
    "# lets take a look at the latitude and longitude \n",
    "# associated with the postal codes\n",
    "\n",
    "lat_lng = pd.read_csv('Geospatial_Coordinates.csv')\n",
    "lat_lng.head()"
   ]
  },
  {
   "cell_type": "code",
   "execution_count": 9,
   "metadata": {},
   "outputs": [
    {
     "output_type": "execute_result",
     "data": {
      "text/plain": [
       "  Postal Code           Borough                                Neighbourhood  \\\n",
       "0         M3A        North York                                    Parkwoods   \n",
       "1         M4A        North York                             Victoria Village   \n",
       "2         M5A  Downtown Toronto                    Regent Park, Harbourfront   \n",
       "3         M6A        North York             Lawrence Manor, Lawrence Heights   \n",
       "4         M7A  Downtown Toronto  Queen's Park, Ontario Provincial Government   \n",
       "\n",
       "    Latitude  Longitude  \n",
       "0  43.753259 -79.329656  \n",
       "1  43.725882 -79.315572  \n",
       "2  43.654260 -79.360636  \n",
       "3  43.718518 -79.464763  \n",
       "4  43.662301 -79.389494  "
      ],
      "text/html": "<div>\n<style scoped>\n    .dataframe tbody tr th:only-of-type {\n        vertical-align: middle;\n    }\n\n    .dataframe tbody tr th {\n        vertical-align: top;\n    }\n\n    .dataframe thead th {\n        text-align: right;\n    }\n</style>\n<table border=\"1\" class=\"dataframe\">\n  <thead>\n    <tr style=\"text-align: right;\">\n      <th></th>\n      <th>Postal Code</th>\n      <th>Borough</th>\n      <th>Neighbourhood</th>\n      <th>Latitude</th>\n      <th>Longitude</th>\n    </tr>\n  </thead>\n  <tbody>\n    <tr>\n      <th>0</th>\n      <td>M3A</td>\n      <td>North York</td>\n      <td>Parkwoods</td>\n      <td>43.753259</td>\n      <td>-79.329656</td>\n    </tr>\n    <tr>\n      <th>1</th>\n      <td>M4A</td>\n      <td>North York</td>\n      <td>Victoria Village</td>\n      <td>43.725882</td>\n      <td>-79.315572</td>\n    </tr>\n    <tr>\n      <th>2</th>\n      <td>M5A</td>\n      <td>Downtown Toronto</td>\n      <td>Regent Park, Harbourfront</td>\n      <td>43.654260</td>\n      <td>-79.360636</td>\n    </tr>\n    <tr>\n      <th>3</th>\n      <td>M6A</td>\n      <td>North York</td>\n      <td>Lawrence Manor, Lawrence Heights</td>\n      <td>43.718518</td>\n      <td>-79.464763</td>\n    </tr>\n    <tr>\n      <th>4</th>\n      <td>M7A</td>\n      <td>Downtown Toronto</td>\n      <td>Queen's Park, Ontario Provincial Government</td>\n      <td>43.662301</td>\n      <td>-79.389494</td>\n    </tr>\n  </tbody>\n</table>\n</div>"
     },
     "metadata": {},
     "execution_count": 9
    }
   ],
   "source": [
    "# Merge the co-ordinates with the neighbourhood to obtain the final dataframe\n",
    "\n",
    "df = df.merge(lat_lng, on = 'Postal Code', how = 'left')\n",
    "df.head()"
   ]
  },
  {
   "cell_type": "code",
   "execution_count": 10,
   "metadata": {},
   "outputs": [
    {
     "output_type": "execute_result",
     "data": {
      "text/plain": [
       "(103, 5)"
      ]
     },
     "metadata": {},
     "execution_count": 10
    }
   ],
   "source": [
    "df.shape"
   ]
  },
  {
   "cell_type": "code",
   "execution_count": 11,
   "metadata": {},
   "outputs": [],
   "source": [
    "# Save the csv file\n",
    "df.to_csv('Toronto Neighbourhood Data.csv')"
   ]
  }
 ]
}