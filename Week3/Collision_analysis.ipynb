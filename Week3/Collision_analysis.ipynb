{
 "cells": [
  {
   "cell_type": "markdown",
   "metadata": {},
   "source": [
    "## Table of Contents\n",
    "\n",
    "1. <a href=\"#item1\">Introduction: Business Problem</a>    \n",
    "2. <a href=\"#item2\">Data Acquisition</a> \n",
    "3. <a href=\"#item3\">Analysis</a>\n",
    "4. <a href=\"#item4\">Feature Selection</a>\n",
    "5. <a href=\"#item5\">Model Training</a>"
   ]
  },
  {
   "cell_type": "markdown",
   "metadata": {},
   "source": [
    "<a id='item1'></a>"
   ]
  },
  {
   "cell_type": "markdown",
   "metadata": {},
   "source": [
    "## Introduction: Business Problem"
   ]
  },
  {
   "cell_type": "markdown",
   "metadata": {},
   "source": [
    "Recklessly driving and not following the traffic rules are the major reasons why there occurs a lot of collisions and accidents leading to deaths. The pedastrians are in the area of severe loss, though there also exists a great loss to the public and private property.\n",
    "\n",
    "Some of the major reasons of accidents includes:\n",
    "\n",
    "- Not following the traffics rules\n",
    "- Talking on the phone\n",
    "- Drink and Drive\n",
    "- Driving above the speed limits\n",
    "- Parking in the Non-Parking areas\n",
    "- Entering the No-Entry areas\n",
    "- Not slowing down in the areas of schools and heavy population areas"
   ]
  },
  {
   "cell_type": "markdown",
   "metadata": {},
   "source": [
    "The project basically focuses on targeting those areas which are the high hotspots for the accidents. These areas have the highest number of accidents in terms of\n",
    "<ul>\n",
    "    <li>Fatalities</li>\n",
    "    <li>Serious Injuries</li>\n",
    "</ul>\n",
    "\n",
    "The scope of this project is to determine the most dangerous areas for the \n",
    "<ul>\n",
    "    <li>Pedastrians</li>\n",
    "    <li>Cyclists</li>\n",
    "</ul>"
   ]
  },
  {
   "cell_type": "markdown",
   "metadata": {},
   "source": [
    "Road Accidents are the major cause of death all around the globe. These accidents account for nearly 70% to 80%(Approx) of deaths.\n",
    "\n",
    "In this model we wish to target the most common reason why road accidents occurs. We look at the most important aspects and attributes for the road accident, targetting the most common and the most fatal roads/areas in terms of most accidents/fatal rates."
   ]
  },
  {
   "cell_type": "markdown",
   "metadata": {},
   "source": [
    "<a id='item2'></a>"
   ]
  },
  {
   "cell_type": "markdown",
   "metadata": {},
   "source": [
    "## Data Acquisition and Cleaning"
   ]
  },
  {
   "cell_type": "markdown",
   "metadata": {},
   "source": [
    "The Data used for the analysis and prediction contains a lots of rows and columns regarding the collisions statistics. The dataset is rich in attribute and contains a lots of information needed for analysis. It includes severity, fata rates, timezones, no of accidents, types of injuries and many more attributes."
   ]
  },
  {
   "cell_type": "markdown",
   "metadata": {},
   "source": [
    "### Data Set Summary\n",
    "\n",
    "The dataset contains all collisions provided by SPD and recorded by Traffic Records. This includes all types of collisions. Collisions will display at the intersection or mid-block of a segment.<br>\n",
    "<code>Timeframe:</code> 2004 to Present."
   ]
  },
  {
   "cell_type": "markdown",
   "metadata": {},
   "source": [
    "### Data Attributes"
   ]
  },
  {
   "cell_type": "markdown",
   "metadata": {},
   "source": [
    "The various attributes of the dataset are:\n",
    "- <code>OBJECTID</code>: unique identifier\n",
    "- <code>SHAPE</code>: Geometry field\n",
    "- <code>INCKEY</code>: Long unique key for the incident\n",
    "- <code>ADDRTYPE</code>: Collision address type:\n",
    "<ul>\n",
    "    <li>Alley</li>\n",
    "    <li>Block</li>\n",
    "    <li>Intersection</li>\n",
    "</ul>\n",
    "- <code>INTKEY</code>: Key that corresponds to the intersection associated with a collision.\n",
    "- <code>LOCATION</code>: Location where the collision occurred\n",
    "- <code>SEVERITYCODE</code>: A code that corresponds to the severity of the collision:\n",
    "<ul>\n",
    "    <li>3-fatality</li>\n",
    "    <li>2b-serious injury</li>\n",
    "    <li>2-injury</li>\n",
    "    <li>1-prop damage</li>\n",
    "    <li>0-unknown</li>\n",
    "</ul>\n",
    "- <code>WEATHER</code>: weather conditions during the time of the collision.\n",
    "- <code>ROADCOND</code>: The condition of the road during the collision.\n",
    "- <code>LIGHTCOND</code>: The light conditions during the collision.\n",
    "- <code>PEDROWNOTGRNT</code>: Whether or not the pedestrian right of way was not granted. (Y/N)\n",
    "- <code>SPEEDING</code>: Whether or not speeding was a factor in the collision. (Y/N)\n",
    "- <code>UNDERINFL</code>: Whether or not a driver involved was under the influence of drugs or alcohol.\n",
    "- <code>INATTENTIONIND</code>: Whether or not collision was due to inattention. (Y/N)\n",
    "- <code>JUNCTIONTYPE</code>: Category of junction at which collision took place\n",
    "\n",
    "- and many more."
   ]
  },
  {
   "cell_type": "markdown",
   "metadata": {},
   "source": [
    "Some of the essential attribute for the training and building the model are as follows:\n",
    "- <code>LOCATION</code>\n",
    "- <code>WEATHER</code>\n",
    "- <code>ROADCOND</code>\n",
    "- <code>LIGHTCOND</code>\n",
    "- <code>PEDROWNOTGRNT</code>\n",
    "- <code>SPEEDING</code>\n",
    "- <code>UNDERINFL</code>\n",
    "- <code>INATTENTIONIND</code>\n",
    "- <code>JUNCTIONTYPE</code>"
   ]
  },
  {
   "cell_type": "markdown",
   "metadata": {},
   "source": [
    "### Few of the State Collision Code\n",
    "\n",
    "<table style=\"width:100%\">\n",
    "  <tr>\n",
    "    <td><i><b>Code</b></i></td>\n",
    "    <td><i><b>Description</b></i></td> \n",
    "  </tr>\n",
    "  <tr>\n",
    "    <td>0</td>\n",
    "    <td>Vehicle Going Straight Hits Pedestrian</td>\n",
    "  </tr>\n",
    "  <tr>\n",
    "    <td>1</td>\n",
    "    <td>Vehicle Turning Right Hits Pedestrian</td>\n",
    "  </tr>\n",
    "  <tr>\n",
    "    <td>2</td>\n",
    "    <td>Vehicle Turning Left Hits Pedestrian</td>\n",
    "  </tr>\n",
    "  <tr>\n",
    "    <td>3</td>\n",
    "    <td>Vehicle Backing Hits Pedestrian</td>\n",
    "  </tr>\n",
    "  <tr>\n",
    "    <td>4</td>\n",
    "    <td>Vehicle Hits Pedestrian - All Other Actions</td>\n",
    "  </tr>\n",
    "  <tr>\n",
    "    <td>5</td>\n",
    "    <td>Vehicle Hits Pedestrian - Actions Not Stated</td>\n",
    "  </tr>\n",
    "  <tr>\n",
    "    <td>10</td>\n",
    "    <td>Entering At Angle</td>\n",
    "  </tr>\n",
    "  <tr>\n",
    "    <td>11</td>\n",
    "    <td>From Same Direction -Both Going Straight-Both\n",
    "Moving- Sideswipe</td>\n",
    "  </tr>\n",
    "  <tr>\n",
    "    <td>12</td>\n",
    "    <td>From Same Direction -Both Going Straight-One\n",
    "Stopped- Sideswipe </td>\n",
    "  </tr>\n",
    "  <tr>\n",
    "    <td>13</td>\n",
    "    <td>From Same Direction - Both Going Straight - Both\n",
    "Moving - Rear End </td>\n",
    "  </tr>\n",
    "</table>"
   ]
  },
  {
   "cell_type": "markdown",
   "metadata": {},
   "source": [
    "You can have a look at the Dataset <a href = 'https://s3.us.cloud-object-storage.appdomain.cloud/cf-courses-data/CognitiveClass/DP0701EN/version-2/Data-Collisions.csv' target='_blank'>here</a><br>\n",
    "Description of the data and its attribute can be found <a href = 'https://s3.us.cloud-object-storage.appdomain.cloud/cf-courses-data/CognitiveClass/DP0701EN/version-2/Metadata.pdf' target='_blank'>here</a>."
   ]
  },
  {
   "cell_type": "markdown",
   "metadata": {},
   "source": [
    "<a id='item3'></a>"
   ]
  },
  {
   "cell_type": "markdown",
   "metadata": {},
   "source": [
    "### Analysing the Data Set"
   ]
  },
  {
   "cell_type": "code",
   "execution_count": 2,
   "metadata": {},
   "outputs": [],
   "source": [
    "import os\n",
    "import pandas as pd\n",
    "import numpy as np\n",
    "import matplotlib.pyplot as plt\n",
    "from sklearn.model_selection import train_test_split\n",
    "from sklearn import preprocessing"
   ]
  },
  {
   "cell_type": "code",
   "execution_count": 3,
   "metadata": {},
   "outputs": [
    {
     "name": "stderr",
     "output_type": "stream",
     "text": [
      "c:\\users\\shashi\\appdata\\local\\programs\\python\\python37\\lib\\site-packages\\IPython\\core\\interactiveshell.py:3146: DtypeWarning: Columns (33) have mixed types.Specify dtype option on import or set low_memory=False.\n",
      "  interactivity=interactivity, compiler=compiler, result=result)\n"
     ]
    },
    {
     "data": {
      "text/html": [
       "<div>\n",
       "<style scoped>\n",
       "    .dataframe tbody tr th:only-of-type {\n",
       "        vertical-align: middle;\n",
       "    }\n",
       "\n",
       "    .dataframe tbody tr th {\n",
       "        vertical-align: top;\n",
       "    }\n",
       "\n",
       "    .dataframe thead th {\n",
       "        text-align: right;\n",
       "    }\n",
       "</style>\n",
       "<table border=\"1\" class=\"dataframe\">\n",
       "  <thead>\n",
       "    <tr style=\"text-align: right;\">\n",
       "      <th></th>\n",
       "      <th>SEVERITYCODE</th>\n",
       "      <th>X</th>\n",
       "      <th>Y</th>\n",
       "      <th>OBJECTID</th>\n",
       "      <th>INCKEY</th>\n",
       "      <th>COLDETKEY</th>\n",
       "      <th>REPORTNO</th>\n",
       "      <th>STATUS</th>\n",
       "      <th>ADDRTYPE</th>\n",
       "      <th>INTKEY</th>\n",
       "      <th>...</th>\n",
       "      <th>ROADCOND</th>\n",
       "      <th>LIGHTCOND</th>\n",
       "      <th>PEDROWNOTGRNT</th>\n",
       "      <th>SDOTCOLNUM</th>\n",
       "      <th>SPEEDING</th>\n",
       "      <th>ST_COLCODE</th>\n",
       "      <th>ST_COLDESC</th>\n",
       "      <th>SEGLANEKEY</th>\n",
       "      <th>CROSSWALKKEY</th>\n",
       "      <th>HITPARKEDCAR</th>\n",
       "    </tr>\n",
       "  </thead>\n",
       "  <tbody>\n",
       "    <tr>\n",
       "      <th>0</th>\n",
       "      <td>2</td>\n",
       "      <td>-122.323148</td>\n",
       "      <td>47.703140</td>\n",
       "      <td>1</td>\n",
       "      <td>1307</td>\n",
       "      <td>1307</td>\n",
       "      <td>3502005</td>\n",
       "      <td>Matched</td>\n",
       "      <td>Intersection</td>\n",
       "      <td>37475.0</td>\n",
       "      <td>...</td>\n",
       "      <td>Wet</td>\n",
       "      <td>Daylight</td>\n",
       "      <td>NaN</td>\n",
       "      <td>NaN</td>\n",
       "      <td>NaN</td>\n",
       "      <td>10</td>\n",
       "      <td>Entering at angle</td>\n",
       "      <td>0</td>\n",
       "      <td>0</td>\n",
       "      <td>N</td>\n",
       "    </tr>\n",
       "    <tr>\n",
       "      <th>1</th>\n",
       "      <td>1</td>\n",
       "      <td>-122.347294</td>\n",
       "      <td>47.647172</td>\n",
       "      <td>2</td>\n",
       "      <td>52200</td>\n",
       "      <td>52200</td>\n",
       "      <td>2607959</td>\n",
       "      <td>Matched</td>\n",
       "      <td>Block</td>\n",
       "      <td>NaN</td>\n",
       "      <td>...</td>\n",
       "      <td>Wet</td>\n",
       "      <td>Dark - Street Lights On</td>\n",
       "      <td>NaN</td>\n",
       "      <td>6354039.0</td>\n",
       "      <td>NaN</td>\n",
       "      <td>11</td>\n",
       "      <td>From same direction - both going straight - bo...</td>\n",
       "      <td>0</td>\n",
       "      <td>0</td>\n",
       "      <td>N</td>\n",
       "    </tr>\n",
       "    <tr>\n",
       "      <th>2</th>\n",
       "      <td>1</td>\n",
       "      <td>-122.334540</td>\n",
       "      <td>47.607871</td>\n",
       "      <td>3</td>\n",
       "      <td>26700</td>\n",
       "      <td>26700</td>\n",
       "      <td>1482393</td>\n",
       "      <td>Matched</td>\n",
       "      <td>Block</td>\n",
       "      <td>NaN</td>\n",
       "      <td>...</td>\n",
       "      <td>Dry</td>\n",
       "      <td>Daylight</td>\n",
       "      <td>NaN</td>\n",
       "      <td>4323031.0</td>\n",
       "      <td>NaN</td>\n",
       "      <td>32</td>\n",
       "      <td>One parked--one moving</td>\n",
       "      <td>0</td>\n",
       "      <td>0</td>\n",
       "      <td>N</td>\n",
       "    </tr>\n",
       "    <tr>\n",
       "      <th>3</th>\n",
       "      <td>1</td>\n",
       "      <td>-122.334803</td>\n",
       "      <td>47.604803</td>\n",
       "      <td>4</td>\n",
       "      <td>1144</td>\n",
       "      <td>1144</td>\n",
       "      <td>3503937</td>\n",
       "      <td>Matched</td>\n",
       "      <td>Block</td>\n",
       "      <td>NaN</td>\n",
       "      <td>...</td>\n",
       "      <td>Dry</td>\n",
       "      <td>Daylight</td>\n",
       "      <td>NaN</td>\n",
       "      <td>NaN</td>\n",
       "      <td>NaN</td>\n",
       "      <td>23</td>\n",
       "      <td>From same direction - all others</td>\n",
       "      <td>0</td>\n",
       "      <td>0</td>\n",
       "      <td>N</td>\n",
       "    </tr>\n",
       "    <tr>\n",
       "      <th>4</th>\n",
       "      <td>2</td>\n",
       "      <td>-122.306426</td>\n",
       "      <td>47.545739</td>\n",
       "      <td>5</td>\n",
       "      <td>17700</td>\n",
       "      <td>17700</td>\n",
       "      <td>1807429</td>\n",
       "      <td>Matched</td>\n",
       "      <td>Intersection</td>\n",
       "      <td>34387.0</td>\n",
       "      <td>...</td>\n",
       "      <td>Wet</td>\n",
       "      <td>Daylight</td>\n",
       "      <td>NaN</td>\n",
       "      <td>4028032.0</td>\n",
       "      <td>NaN</td>\n",
       "      <td>10</td>\n",
       "      <td>Entering at angle</td>\n",
       "      <td>0</td>\n",
       "      <td>0</td>\n",
       "      <td>N</td>\n",
       "    </tr>\n",
       "  </tbody>\n",
       "</table>\n",
       "<p>5 rows × 38 columns</p>\n",
       "</div>"
      ],
      "text/plain": [
       "   SEVERITYCODE           X          Y  OBJECTID  INCKEY  COLDETKEY REPORTNO  \\\n",
       "0             2 -122.323148  47.703140         1    1307       1307  3502005   \n",
       "1             1 -122.347294  47.647172         2   52200      52200  2607959   \n",
       "2             1 -122.334540  47.607871         3   26700      26700  1482393   \n",
       "3             1 -122.334803  47.604803         4    1144       1144  3503937   \n",
       "4             2 -122.306426  47.545739         5   17700      17700  1807429   \n",
       "\n",
       "    STATUS      ADDRTYPE   INTKEY  ... ROADCOND                LIGHTCOND  \\\n",
       "0  Matched  Intersection  37475.0  ...      Wet                 Daylight   \n",
       "1  Matched         Block      NaN  ...      Wet  Dark - Street Lights On   \n",
       "2  Matched         Block      NaN  ...      Dry                 Daylight   \n",
       "3  Matched         Block      NaN  ...      Dry                 Daylight   \n",
       "4  Matched  Intersection  34387.0  ...      Wet                 Daylight   \n",
       "\n",
       "  PEDROWNOTGRNT  SDOTCOLNUM SPEEDING ST_COLCODE  \\\n",
       "0           NaN         NaN      NaN         10   \n",
       "1           NaN   6354039.0      NaN         11   \n",
       "2           NaN   4323031.0      NaN         32   \n",
       "3           NaN         NaN      NaN         23   \n",
       "4           NaN   4028032.0      NaN         10   \n",
       "\n",
       "                                          ST_COLDESC  SEGLANEKEY  \\\n",
       "0                                  Entering at angle           0   \n",
       "1  From same direction - both going straight - bo...           0   \n",
       "2                             One parked--one moving           0   \n",
       "3                   From same direction - all others           0   \n",
       "4                                  Entering at angle           0   \n",
       "\n",
       "   CROSSWALKKEY  HITPARKEDCAR  \n",
       "0             0             N  \n",
       "1             0             N  \n",
       "2             0             N  \n",
       "3             0             N  \n",
       "4             0             N  \n",
       "\n",
       "[5 rows x 38 columns]"
      ]
     },
     "execution_count": 3,
     "metadata": {},
     "output_type": "execute_result"
    }
   ],
   "source": [
    "cars_df = pd.read_csv('../Week2/Collisions_Data.csv')\n",
    "cars_df.head()"
   ]
  },
  {
   "cell_type": "code",
   "execution_count": 10,
   "metadata": {},
   "outputs": [
    {
     "data": {
      "text/plain": [
       "((194673, 38), 7397574)"
      ]
     },
     "execution_count": 10,
     "metadata": {},
     "output_type": "execute_result"
    }
   ],
   "source": [
    "# Lets look at the dimensions of the dataset\n",
    "cars_df.shape, cars_df.size"
   ]
  },
  {
   "cell_type": "markdown",
   "metadata": {},
   "source": [
    "### Lets look at the types of datas stored in each field"
   ]
  },
  {
   "cell_type": "code",
   "execution_count": 11,
   "metadata": {},
   "outputs": [
    {
     "data": {
      "text/plain": [
       "SEVERITYCODE        int64\n",
       "X                 float64\n",
       "Y                 float64\n",
       "OBJECTID            int64\n",
       "INCKEY              int64\n",
       "COLDETKEY           int64\n",
       "REPORTNO           object\n",
       "STATUS             object\n",
       "ADDRTYPE           object\n",
       "INTKEY            float64\n",
       "LOCATION           object\n",
       "EXCEPTRSNCODE      object\n",
       "EXCEPTRSNDESC      object\n",
       "SEVERITYCODE.1      int64\n",
       "SEVERITYDESC       object\n",
       "COLLISIONTYPE      object\n",
       "PERSONCOUNT         int64\n",
       "PEDCOUNT            int64\n",
       "PEDCYLCOUNT         int64\n",
       "VEHCOUNT            int64\n",
       "INCDATE            object\n",
       "INCDTTM            object\n",
       "JUNCTIONTYPE       object\n",
       "SDOT_COLCODE        int64\n",
       "SDOT_COLDESC       object\n",
       "INATTENTIONIND     object\n",
       "UNDERINFL          object\n",
       "WEATHER            object\n",
       "ROADCOND           object\n",
       "LIGHTCOND          object\n",
       "PEDROWNOTGRNT      object\n",
       "SDOTCOLNUM        float64\n",
       "SPEEDING           object\n",
       "ST_COLCODE         object\n",
       "ST_COLDESC         object\n",
       "SEGLANEKEY          int64\n",
       "CROSSWALKKEY        int64\n",
       "HITPARKEDCAR       object\n",
       "dtype: object"
      ]
     },
     "execution_count": 11,
     "metadata": {},
     "output_type": "execute_result"
    }
   ],
   "source": [
    "cars_df.dtypes"
   ]
  },
  {
   "cell_type": "code",
   "execution_count": 12,
   "metadata": {},
   "outputs": [
    {
     "name": "stdout",
     "output_type": "stream",
     "text": [
      "1    136485\n",
      "2     58188\n",
      "Name: SEVERITYCODE, dtype: int64\n"
     ]
    },
    {
     "data": {
      "text/plain": [
       "<AxesSubplot:>"
      ]
     },
     "execution_count": 12,
     "metadata": {},
     "output_type": "execute_result"
    },
    {
     "data": {
      "image/png": "[encoded data removed]",
      "text/plain": [
       "<Figure size 432x288 with 1 Axes>"
      ]
     },
     "metadata": {
      "needs_background": "light"
     },
     "output_type": "display_data"
    }
   ],
   "source": [
    "# Lets have a look at the different types of severity code\n",
    "# along with their value counts\n",
    "\n",
    "print(cars_df['SEVERITYCODE'].value_counts())\n",
    "cars_df['SEVERITYCODE'].hist()"
   ]
  },
  {
   "cell_type": "code",
   "execution_count": 13,
   "metadata": {},
   "outputs": [
    {
     "data": {
      "image/png": "[encoded data removed]",
      "text/plain": [
       "<Figure size 720x360 with 1 Axes>"
      ]
     },
     "metadata": {
      "needs_background": "light"
     },
     "output_type": "display_data"
    }
   ],
   "source": [
    "# Number of accidents on eaxh address type\n",
    "\n",
    "df = pd.DataFrame(cars_df['ADDRTYPE'].value_counts())\n",
    "df.plot(kind = 'barh', figsize = (10, 5))\n",
    "\n",
    "y_labels = [i for i in df['ADDRTYPE'].values]\n",
    "for i, txt in enumerate(y_labels):\n",
    "    plt.text(txt + 3, i, str(txt), color='red', fontweight='bold', fontstyle = 'italic', fontsize = 15)\n"
   ]
  },
  {
   "cell_type": "code",
   "execution_count": 14,
   "metadata": {},
   "outputs": [
    {
     "data": {
      "image/png": "[encoded data removed]",
      "text/plain": [
       "<Figure size 576x432 with 1 Axes>"
      ]
     },
     "metadata": {
      "needs_background": "light"
     },
     "output_type": "display_data"
    }
   ],
   "source": [
    "# Number of accidents on the basis of Road Condition\n",
    "\n",
    "df = pd.DataFrame(cars_df['ROADCOND'].value_counts())\n",
    "df['ROADCOND'].plot(kind = 'bar', figsize = (8, 6))\n",
    "x_labels = [i for i in df['ROADCOND'].values]\n",
    "\n",
    "for i in range(9):\n",
    "    plt.text(x = i - 0.25, y = x_labels[i] + 2, s = int(x_labels[i]), fontsize = 10, fontstyle = 'italic', fontweight = 'bold')\n",
    "    \n",
    "plt.ylabel('Number of Accidents')\n",
    "plt.xlabel('Road Condition')\n",
    "plt.xticks(np.arange(9), (df['ROADCOND'].keys()), rotation = 25)\n",
    "plt.title('Road Conditions and Accidents')\n",
    "plt.show()"
   ]
  },
  {
   "cell_type": "code",
   "execution_count": 16,
   "metadata": {},
   "outputs": [
    {
     "data": {
      "image/png": "[encoded data removed]",
      "text/plain": [
       "<Figure size 1080x432 with 1 Axes>"
      ]
     },
     "metadata": {},
     "output_type": "display_data"
    }
   ],
   "source": [
    "explode_list = [0, 0, 0.1, 0.2]\n",
    "\n",
    "\n",
    "df = pd.DataFrame(cars_df['ROADCOND'].value_counts())\n",
    "df['ROADCOND'].iloc[1:5].plot(kind = 'pie',\n",
    "                    figsize = (15, 6),\n",
    "                    autopct = '%1.1f%%',\n",
    "                    startangle = 90,\n",
    "                    shadow = True,\n",
    "                    labels = None,\n",
    "                    pctdistance = 1.12,\n",
    "                    explode = explode_list\n",
    "                   )\n",
    "\n",
    "plt.legend(labels = df[1:5].index, loc = 'upper left')\n",
    "plt.show()"
   ]
  },
  {
   "cell_type": "code",
   "execution_count": 17,
   "metadata": {},
   "outputs": [
    {
     "data": {
      "image/png": "[encoded data removed]",
      "text/plain": [
       "<Figure size 1080x432 with 1 Axes>"
      ]
     },
     "metadata": {},
     "output_type": "display_data"
    }
   ],
   "source": [
    "explode_list = [0, 0, 0, 0.1, 0.1]\n",
    "\n",
    "df = pd.DataFrame(cars_df['ROADCOND'].value_counts())\n",
    "df['ROADCOND'].iloc[4:9].plot(kind = 'pie',\n",
    "                    figsize = (15, 6),\n",
    "                    autopct = '%1.1f%%',\n",
    "                    startangle = 90,\n",
    "                    shadow = True,\n",
    "                    labels = None,\n",
    "                    pctdistance = 1.12,\n",
    "                    explode = explode_list\n",
    "                   )\n",
    "\n",
    "plt.legend(labels = df[4:9].index, loc = 'upper left')\n",
    "plt.show()"
   ]
  },
  {
   "cell_type": "code",
   "execution_count": 18,
   "metadata": {},
   "outputs": [
    {
     "data": {
      "text/plain": [
       "Matched      189786\n",
       "Unmatched      4887\n",
       "Name: STATUS, dtype: int64"
      ]
     },
     "execution_count": 18,
     "metadata": {},
     "output_type": "execute_result"
    }
   ],
   "source": [
    "cars_df['STATUS'].value_counts()"
   ]
  },
  {
   "cell_type": "code",
   "execution_count": 19,
   "metadata": {},
   "outputs": [
    {
     "data": {
      "text/plain": [
       "Parked Car    47987\n",
       "Angles        34674\n",
       "Rear Ended    34090\n",
       "Other         23703\n",
       "Sideswipe     18609\n",
       "Left Turn     13703\n",
       "Pedestrian     6608\n",
       "Cycles         5415\n",
       "Right Turn     2956\n",
       "Head On        2024\n",
       "Name: COLLISIONTYPE, dtype: int64"
      ]
     },
     "execution_count": 19,
     "metadata": {},
     "output_type": "execute_result"
    }
   ],
   "source": [
    "cars_df['COLLISIONTYPE'].value_counts()"
   ]
  },
  {
   "cell_type": "code",
   "execution_count": 20,
   "metadata": {},
   "outputs": [
    {
     "data": {
      "text/plain": [
       "N    100274\n",
       "0     80394\n",
       "Y      5126\n",
       "1      3995\n",
       "Name: UNDERINFL, dtype: int64"
      ]
     },
     "execution_count": 20,
     "metadata": {},
     "output_type": "execute_result"
    }
   ],
   "source": [
    "cars_df['UNDERINFL'].value_counts()"
   ]
  },
  {
   "cell_type": "code",
   "execution_count": 21,
   "metadata": {},
   "outputs": [
    {
     "data": {
      "text/plain": [
       "Dry               124510\n",
       "Wet                47474\n",
       "Unknown            15078\n",
       "Ice                 1209\n",
       "Snow/Slush          1004\n",
       "Other                132\n",
       "Standing Water       115\n",
       "Sand/Mud/Dirt         75\n",
       "Oil                   64\n",
       "Name: ROADCOND, dtype: int64"
      ]
     },
     "execution_count": 21,
     "metadata": {},
     "output_type": "execute_result"
    }
   ],
   "source": [
    "cars_df['ROADCOND'].value_counts()"
   ]
  },
  {
   "cell_type": "code",
   "execution_count": 22,
   "metadata": {},
   "outputs": [
    {
     "data": {
      "text/plain": [
       "Daylight                    116137\n",
       "Dark - Street Lights On      48507\n",
       "Unknown                      13473\n",
       "Dusk                          5902\n",
       "Dawn                          2502\n",
       "Dark - No Street Lights       1537\n",
       "Dark - Street Lights Off      1199\n",
       "Other                          235\n",
       "Dark - Unknown Lighting         11\n",
       "Name: LIGHTCOND, dtype: int64"
      ]
     },
     "execution_count": 22,
     "metadata": {},
     "output_type": "execute_result"
    }
   ],
   "source": [
    "cars_df['LIGHTCOND'].value_counts()"
   ]
  },
  {
   "cell_type": "code",
   "execution_count": 23,
   "metadata": {},
   "outputs": [
    {
     "data": {
      "text/plain": [
       "Y    29805\n",
       "Name: INATTENTIONIND, dtype: int64"
      ]
     },
     "execution_count": 23,
     "metadata": {},
     "output_type": "execute_result"
    }
   ],
   "source": [
    "cars_df['INATTENTIONIND'].value_counts()"
   ]
  },
  {
   "cell_type": "code",
   "execution_count": 24,
   "metadata": {},
   "outputs": [
    {
     "data": {
      "text/plain": [
       "Y    9333\n",
       "Name: SPEEDING, dtype: int64"
      ]
     },
     "execution_count": 24,
     "metadata": {},
     "output_type": "execute_result"
    }
   ],
   "source": [
    "cars_df['SPEEDING'].value_counts()"
   ]
  },
  {
   "cell_type": "code",
   "execution_count": 25,
   "metadata": {},
   "outputs": [
    {
     "data": {
      "text/plain": [
       "N    187457\n",
       "Y      7216\n",
       "Name: HITPARKEDCAR, dtype: int64"
      ]
     },
     "execution_count": 25,
     "metadata": {},
     "output_type": "execute_result"
    }
   ],
   "source": [
    "cars_df['HITPARKEDCAR'].value_counts()"
   ]
  },
  {
   "cell_type": "code",
   "execution_count": 26,
   "metadata": {},
   "outputs": [
    {
     "data": {
      "text/plain": [
       "True"
      ]
     },
     "execution_count": 26,
     "metadata": {},
     "output_type": "execute_result"
    }
   ],
   "source": [
    "cars_df['ADDRTYPE'].isna().any()"
   ]
  },
  {
   "cell_type": "markdown",
   "metadata": {},
   "source": [
    "### Plotting accidents on a map"
   ]
  },
  {
   "cell_type": "code",
   "execution_count": 29,
   "metadata": {},
   "outputs": [
    {
     "name": "stdout",
     "output_type": "stream",
     "text": [
      "(100, 2)\n"
     ]
    },
    {
     "data": {
      "text/html": [
       "<div>\n",
       "<style scoped>\n",
       "    .dataframe tbody tr th:only-of-type {\n",
       "        vertical-align: middle;\n",
       "    }\n",
       "\n",
       "    .dataframe tbody tr th {\n",
       "        vertical-align: top;\n",
       "    }\n",
       "\n",
       "    .dataframe thead th {\n",
       "        text-align: right;\n",
       "    }\n",
       "</style>\n",
       "<table border=\"1\" class=\"dataframe\">\n",
       "  <thead>\n",
       "    <tr style=\"text-align: right;\">\n",
       "      <th></th>\n",
       "      <th>X</th>\n",
       "      <th>Y</th>\n",
       "    </tr>\n",
       "  </thead>\n",
       "  <tbody>\n",
       "    <tr>\n",
       "      <th>0</th>\n",
       "      <td>-122.323148</td>\n",
       "      <td>47.703140</td>\n",
       "    </tr>\n",
       "    <tr>\n",
       "      <th>1</th>\n",
       "      <td>-122.347294</td>\n",
       "      <td>47.647172</td>\n",
       "    </tr>\n",
       "    <tr>\n",
       "      <th>2</th>\n",
       "      <td>-122.334540</td>\n",
       "      <td>47.607871</td>\n",
       "    </tr>\n",
       "    <tr>\n",
       "      <th>3</th>\n",
       "      <td>-122.334803</td>\n",
       "      <td>47.604803</td>\n",
       "    </tr>\n",
       "    <tr>\n",
       "      <th>4</th>\n",
       "      <td>-122.306426</td>\n",
       "      <td>47.545739</td>\n",
       "    </tr>\n",
       "  </tbody>\n",
       "</table>\n",
       "</div>"
      ],
      "text/plain": [
       "            X          Y\n",
       "0 -122.323148  47.703140\n",
       "1 -122.347294  47.647172\n",
       "2 -122.334540  47.607871\n",
       "3 -122.334803  47.604803\n",
       "4 -122.306426  47.545739"
      ]
     },
     "execution_count": 29,
     "metadata": {},
     "output_type": "execute_result"
    }
   ],
   "source": [
    "import folium\n",
    "\n",
    "#Taking first 100 points\n",
    "\n",
    "lat_lng = cars_df.iloc[:100][['X', 'Y']]\n",
    "\n",
    "print(lat_lng.shape)\n",
    "lat_lng.head()"
   ]
  },
  {
   "cell_type": "code",
   "execution_count": 30,
   "metadata": {},
   "outputs": [
    {
     "name": "stdout",
     "output_type": "stream",
     "text": [
      "X    True\n",
      "Y    True\n",
      "dtype: bool\n",
      "X    False\n",
      "Y    False\n",
      "dtype: bool\n"
     ]
    }
   ],
   "source": [
    "print(lat_lng.isna().any())\n",
    "\n",
    "lat_lng.dropna(inplace = True)\n",
    "\n",
    "print(lat_lng.isna().any())"
   ]
  },
  {
   "cell_type": "code",
   "execution_count": 31,
   "metadata": {},
   "outputs": [],
   "source": [
    "# San Francisco latitude and longitude values\n",
    "latitude = 37.77\n",
    "longitude = -122.42"
   ]
  },
  {
   "cell_type": "code",
   "execution_count": 33,
   "metadata": {},
   "outputs": [
    {
     "data": {
      "text/html": [
       "<div style=\"width:100%;\"><div style=\"position:relative;width:100%;height:0;padding-bottom:60%;\"><span style=\"color:#565656\">Make this Notebook Trusted to load map: File -> Trust Notebook</span><iframe src=\"about:blank\" style=\"position:absolute;width:100%;height:100%;left:0;top:0;border:none !important;\" data-html=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 onload=\"this.contentDocument.open();this.contentDocument.write(atob(this.getAttribute('data-html')));this.contentDocument.close();\" allowfullscreen webkitallowfullscreen mozallowfullscreen></iframe></div></div>"
      ],
      "text/plain": [
       "<folium.folium.Map at 0x1fd3ae21e08>"
      ]
     },
     "execution_count": 33,
     "metadata": {},
     "output_type": "execute_result"
    }
   ],
   "source": [
    "collision_map = folium.Map(location = [latitude, longitude], zoom_start = 12)\n",
    "\n",
    "incidents = folium.map.FeatureGroup()\n",
    "\n",
    "for lat, lng in zip(lat_lng.X, lat_lng.Y):\n",
    "    incidents.add_child(\n",
    "        folium.CircleMarker(\n",
    "            [lat, lng],\n",
    "            radius = 5,\n",
    "            color = 'yellow',\n",
    "            fill = True,\n",
    "            fill_color = 'blue',\n",
    "            fill_opacity = 0.6\n",
    "        )\n",
    "    )\n",
    "    \n",
    "# add pop-up text to each marker on the map\n",
    "latitudes = list(lat_lng.Y)\n",
    "longitudes = list(lat_lng.X)\n",
    "#labels = list(df_incidents.Category)\n",
    "\n",
    "for lat, lng in zip(latitudes, longitudes):#, labels):\n",
    "    folium.Marker([lat, lng]).add_to(collision_map)    \n",
    "    \n",
    "# add incidents to map\n",
    "   \n",
    "collision_map.add_child(incidents)\n",
    "\n",
    "# Zoom out and Zoom in to seattle to view."
   ]
  },
  {
   "cell_type": "markdown",
   "metadata": {},
   "source": [
    "#### Grouping the Number of Accidents"
   ]
  },
  {
   "cell_type": "code",
   "execution_count": 34,
   "metadata": {},
   "outputs": [
    {
     "name": "stdout",
     "output_type": "stream",
     "text": [
      "X    True\n",
      "Y    True\n",
      "dtype: bool\n",
      "X    False\n",
      "Y    False\n",
      "dtype: bool\n"
     ]
    }
   ],
   "source": [
    "lat_lng = cars_df.iloc[:500][['X', 'Y']]\n",
    "\n",
    "print(lat_lng.isna().any())\n",
    "lat_lng.dropna(inplace = True)\n",
    "print(lat_lng.isna().any())"
   ]
  },
  {
   "cell_type": "code",
   "execution_count": 35,
   "metadata": {
    "scrolled": true
   },
   "outputs": [
    {
     "data": {
      "text/html": [
       "<div style=\"width:100%;\"><div style=\"position:relative;width:100%;height:0;padding-bottom:60%;\"><span style=\"color:#565656\">Make this Notebook Trusted to load map: File -> Trust Notebook</span><iframe src=\"about:blank\" style=\"position:absolute;width:100%;height:100%;left:0;top:0;border:none !important;\" data-html=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 onload=\"this.contentDocument.open();this.contentDocument.write(atob(this.getAttribute('data-html')));this.contentDocument.close();\" allowfullscreen webkitallowfullscreen mozallowfullscreen></iframe></div></div>"
      ],
      "text/plain": [
       "<folium.folium.Map at 0x1fd41d82108>"
      ]
     },
     "execution_count": 35,
     "metadata": {},
     "output_type": "execute_result"
    }
   ],
   "source": [
    "from folium import plugins\n",
    "\n",
    "collision_map = folium.Map(location = [latitude, longitude], zoom_start = 12)\n",
    "\n",
    "incidents = plugins.MarkerCluster().add_to(collision_map)\n",
    "\n",
    "# loop through the dataframe and add each data point to the mark cluster\n",
    "for lat, lng in zip(lat_lng.Y, lat_lng.X):\n",
    "    folium.Marker(\n",
    "        location=[lat, lng],\n",
    "        icon=None,\n",
    "    ).add_to(incidents)\n",
    "\n",
    "# display map\n",
    "collision_map\n",
    "\n",
    "# Zoom out and Zoom in to seattle to view. "
   ]
  },
  {
   "cell_type": "markdown",
   "metadata": {},
   "source": [
    "<a id='item4'></a>"
   ]
  },
  {
   "cell_type": "markdown",
   "metadata": {},
   "source": [
    "### Feature Selection"
   ]
  },
  {
   "cell_type": "code",
   "execution_count": 37,
   "metadata": {},
   "outputs": [
    {
     "data": {
      "text/html": [
       "<div>\n",
       "<style scoped>\n",
       "    .dataframe tbody tr th:only-of-type {\n",
       "        vertical-align: middle;\n",
       "    }\n",
       "\n",
       "    .dataframe tbody tr th {\n",
       "        vertical-align: top;\n",
       "    }\n",
       "\n",
       "    .dataframe thead th {\n",
       "        text-align: right;\n",
       "    }\n",
       "</style>\n",
       "<table border=\"1\" class=\"dataframe\">\n",
       "  <thead>\n",
       "    <tr style=\"text-align: right;\">\n",
       "      <th></th>\n",
       "      <th>SEVERITYCODE</th>\n",
       "      <th>ADDRTYPE</th>\n",
       "      <th>COLLISIONTYPE</th>\n",
       "      <th>INATTENTIONIND</th>\n",
       "      <th>UNDERINFL</th>\n",
       "      <th>WEATHER</th>\n",
       "      <th>ROADCOND</th>\n",
       "      <th>LIGHTCOND</th>\n",
       "      <th>SPEEDING</th>\n",
       "      <th>HITPARKEDCAR</th>\n",
       "    </tr>\n",
       "  </thead>\n",
       "  <tbody>\n",
       "    <tr>\n",
       "      <th>0</th>\n",
       "      <td>2</td>\n",
       "      <td>Intersection</td>\n",
       "      <td>Angles</td>\n",
       "      <td>NaN</td>\n",
       "      <td>N</td>\n",
       "      <td>Overcast</td>\n",
       "      <td>Wet</td>\n",
       "      <td>Daylight</td>\n",
       "      <td>NaN</td>\n",
       "      <td>N</td>\n",
       "    </tr>\n",
       "    <tr>\n",
       "      <th>1</th>\n",
       "      <td>1</td>\n",
       "      <td>Block</td>\n",
       "      <td>Sideswipe</td>\n",
       "      <td>NaN</td>\n",
       "      <td>0</td>\n",
       "      <td>Raining</td>\n",
       "      <td>Wet</td>\n",
       "      <td>Dark - Street Lights On</td>\n",
       "      <td>NaN</td>\n",
       "      <td>N</td>\n",
       "    </tr>\n",
       "    <tr>\n",
       "      <th>2</th>\n",
       "      <td>1</td>\n",
       "      <td>Block</td>\n",
       "      <td>Parked Car</td>\n",
       "      <td>NaN</td>\n",
       "      <td>0</td>\n",
       "      <td>Overcast</td>\n",
       "      <td>Dry</td>\n",
       "      <td>Daylight</td>\n",
       "      <td>NaN</td>\n",
       "      <td>N</td>\n",
       "    </tr>\n",
       "    <tr>\n",
       "      <th>3</th>\n",
       "      <td>1</td>\n",
       "      <td>Block</td>\n",
       "      <td>Other</td>\n",
       "      <td>NaN</td>\n",
       "      <td>N</td>\n",
       "      <td>Clear</td>\n",
       "      <td>Dry</td>\n",
       "      <td>Daylight</td>\n",
       "      <td>NaN</td>\n",
       "      <td>N</td>\n",
       "    </tr>\n",
       "    <tr>\n",
       "      <th>4</th>\n",
       "      <td>2</td>\n",
       "      <td>Intersection</td>\n",
       "      <td>Angles</td>\n",
       "      <td>NaN</td>\n",
       "      <td>0</td>\n",
       "      <td>Raining</td>\n",
       "      <td>Wet</td>\n",
       "      <td>Daylight</td>\n",
       "      <td>NaN</td>\n",
       "      <td>N</td>\n",
       "    </tr>\n",
       "  </tbody>\n",
       "</table>\n",
       "</div>"
      ],
      "text/plain": [
       "   SEVERITYCODE      ADDRTYPE COLLISIONTYPE INATTENTIONIND UNDERINFL  \\\n",
       "0             2  Intersection        Angles            NaN         N   \n",
       "1             1         Block     Sideswipe            NaN         0   \n",
       "2             1         Block    Parked Car            NaN         0   \n",
       "3             1         Block         Other            NaN         N   \n",
       "4             2  Intersection        Angles            NaN         0   \n",
       "\n",
       "    WEATHER ROADCOND                LIGHTCOND SPEEDING HITPARKEDCAR  \n",
       "0  Overcast      Wet                 Daylight      NaN            N  \n",
       "1   Raining      Wet  Dark - Street Lights On      NaN            N  \n",
       "2  Overcast      Dry                 Daylight      NaN            N  \n",
       "3     Clear      Dry                 Daylight      NaN            N  \n",
       "4   Raining      Wet                 Daylight      NaN            N  "
      ]
     },
     "execution_count": 37,
     "metadata": {},
     "output_type": "execute_result"
    }
   ],
   "source": [
    "feature_set = cars_df[['SEVERITYCODE', 'ADDRTYPE', 'COLLISIONTYPE', 'INATTENTIONIND', 'UNDERINFL', 'WEATHER', 'ROADCOND', 'LIGHTCOND', 'SPEEDING', 'HITPARKEDCAR']]\n",
    "feature_set.head()"
   ]
  },
  {
   "cell_type": "code",
   "execution_count": 38,
   "metadata": {},
   "outputs": [
    {
     "name": "stderr",
     "output_type": "stream",
     "text": [
      "c:\\users\\shashi\\appdata\\local\\programs\\python\\python37\\lib\\site-packages\\pandas\\core\\series.py:4569: SettingWithCopyWarning: \n",
      "A value is trying to be set on a copy of a slice from a DataFrame\n",
      "\n",
      "See the caveats in the documentation: https://pandas.pydata.org/pandas-docs/stable/user_guide/indexing.html#returning-a-view-versus-a-copy\n",
      "  method=method,\n"
     ]
    },
    {
     "data": {
      "text/html": [
       "<div>\n",
       "<style scoped>\n",
       "    .dataframe tbody tr th:only-of-type {\n",
       "        vertical-align: middle;\n",
       "    }\n",
       "\n",
       "    .dataframe tbody tr th {\n",
       "        vertical-align: top;\n",
       "    }\n",
       "\n",
       "    .dataframe thead th {\n",
       "        text-align: right;\n",
       "    }\n",
       "</style>\n",
       "<table border=\"1\" class=\"dataframe\">\n",
       "  <thead>\n",
       "    <tr style=\"text-align: right;\">\n",
       "      <th></th>\n",
       "      <th>SEVERITYCODE</th>\n",
       "      <th>ADDRTYPE</th>\n",
       "      <th>COLLISIONTYPE</th>\n",
       "      <th>INATTENTIONIND</th>\n",
       "      <th>UNDERINFL</th>\n",
       "      <th>WEATHER</th>\n",
       "      <th>ROADCOND</th>\n",
       "      <th>LIGHTCOND</th>\n",
       "      <th>SPEEDING</th>\n",
       "      <th>HITPARKEDCAR</th>\n",
       "    </tr>\n",
       "  </thead>\n",
       "  <tbody>\n",
       "    <tr>\n",
       "      <th>0</th>\n",
       "      <td>2</td>\n",
       "      <td>1.0</td>\n",
       "      <td>Angles</td>\n",
       "      <td>NaN</td>\n",
       "      <td>N</td>\n",
       "      <td>Overcast</td>\n",
       "      <td>Wet</td>\n",
       "      <td>Daylight</td>\n",
       "      <td>NaN</td>\n",
       "      <td>N</td>\n",
       "    </tr>\n",
       "    <tr>\n",
       "      <th>1</th>\n",
       "      <td>1</td>\n",
       "      <td>2.0</td>\n",
       "      <td>Sideswipe</td>\n",
       "      <td>NaN</td>\n",
       "      <td>0</td>\n",
       "      <td>Raining</td>\n",
       "      <td>Wet</td>\n",
       "      <td>Dark - Street Lights On</td>\n",
       "      <td>NaN</td>\n",
       "      <td>N</td>\n",
       "    </tr>\n",
       "    <tr>\n",
       "      <th>2</th>\n",
       "      <td>1</td>\n",
       "      <td>2.0</td>\n",
       "      <td>Parked Car</td>\n",
       "      <td>NaN</td>\n",
       "      <td>0</td>\n",
       "      <td>Overcast</td>\n",
       "      <td>Dry</td>\n",
       "      <td>Daylight</td>\n",
       "      <td>NaN</td>\n",
       "      <td>N</td>\n",
       "    </tr>\n",
       "    <tr>\n",
       "      <th>3</th>\n",
       "      <td>1</td>\n",
       "      <td>2.0</td>\n",
       "      <td>Other</td>\n",
       "      <td>NaN</td>\n",
       "      <td>N</td>\n",
       "      <td>Clear</td>\n",
       "      <td>Dry</td>\n",
       "      <td>Daylight</td>\n",
       "      <td>NaN</td>\n",
       "      <td>N</td>\n",
       "    </tr>\n",
       "    <tr>\n",
       "      <th>4</th>\n",
       "      <td>2</td>\n",
       "      <td>1.0</td>\n",
       "      <td>Angles</td>\n",
       "      <td>NaN</td>\n",
       "      <td>0</td>\n",
       "      <td>Raining</td>\n",
       "      <td>Wet</td>\n",
       "      <td>Daylight</td>\n",
       "      <td>NaN</td>\n",
       "      <td>N</td>\n",
       "    </tr>\n",
       "  </tbody>\n",
       "</table>\n",
       "</div>"
      ],
      "text/plain": [
       "   SEVERITYCODE  ADDRTYPE COLLISIONTYPE INATTENTIONIND UNDERINFL   WEATHER  \\\n",
       "0             2       1.0        Angles            NaN         N  Overcast   \n",
       "1             1       2.0     Sideswipe            NaN         0   Raining   \n",
       "2             1       2.0    Parked Car            NaN         0  Overcast   \n",
       "3             1       2.0         Other            NaN         N     Clear   \n",
       "4             2       1.0        Angles            NaN         0   Raining   \n",
       "\n",
       "  ROADCOND                LIGHTCOND SPEEDING HITPARKEDCAR  \n",
       "0      Wet                 Daylight      NaN            N  \n",
       "1      Wet  Dark - Street Lights On      NaN            N  \n",
       "2      Dry                 Daylight      NaN            N  \n",
       "3      Dry                 Daylight      NaN            N  \n",
       "4      Wet                 Daylight      NaN            N  "
      ]
     },
     "execution_count": 38,
     "metadata": {},
     "output_type": "execute_result"
    }
   ],
   "source": [
    "feature_set['ADDRTYPE'].replace(to_replace = ['Alley', 'Intersection','Block'], value = [0,1,2], inplace = True)\n",
    "\n",
    "feature_set.head()"
   ]
  },
  {
   "cell_type": "code",
   "execution_count": 39,
   "metadata": {},
   "outputs": [
    {
     "name": "stderr",
     "output_type": "stream",
     "text": [
      "c:\\users\\shashi\\appdata\\local\\programs\\python\\python37\\lib\\site-packages\\pandas\\core\\series.py:4569: SettingWithCopyWarning: \n",
      "A value is trying to be set on a copy of a slice from a DataFrame\n",
      "\n",
      "See the caveats in the documentation: https://pandas.pydata.org/pandas-docs/stable/user_guide/indexing.html#returning-a-view-versus-a-copy\n",
      "  method=method,\n"
     ]
    },
    {
     "data": {
      "text/html": [
       "<div>\n",
       "<style scoped>\n",
       "    .dataframe tbody tr th:only-of-type {\n",
       "        vertical-align: middle;\n",
       "    }\n",
       "\n",
       "    .dataframe tbody tr th {\n",
       "        vertical-align: top;\n",
       "    }\n",
       "\n",
       "    .dataframe thead th {\n",
       "        text-align: right;\n",
       "    }\n",
       "</style>\n",
       "<table border=\"1\" class=\"dataframe\">\n",
       "  <thead>\n",
       "    <tr style=\"text-align: right;\">\n",
       "      <th></th>\n",
       "      <th>SEVERITYCODE</th>\n",
       "      <th>ADDRTYPE</th>\n",
       "      <th>COLLISIONTYPE</th>\n",
       "      <th>INATTENTIONIND</th>\n",
       "      <th>UNDERINFL</th>\n",
       "      <th>WEATHER</th>\n",
       "      <th>ROADCOND</th>\n",
       "      <th>LIGHTCOND</th>\n",
       "      <th>SPEEDING</th>\n",
       "      <th>HITPARKEDCAR</th>\n",
       "    </tr>\n",
       "  </thead>\n",
       "  <tbody>\n",
       "    <tr>\n",
       "      <th>0</th>\n",
       "      <td>2</td>\n",
       "      <td>1.0</td>\n",
       "      <td>1.0</td>\n",
       "      <td>NaN</td>\n",
       "      <td>N</td>\n",
       "      <td>Overcast</td>\n",
       "      <td>Wet</td>\n",
       "      <td>Daylight</td>\n",
       "      <td>NaN</td>\n",
       "      <td>N</td>\n",
       "    </tr>\n",
       "    <tr>\n",
       "      <th>1</th>\n",
       "      <td>1</td>\n",
       "      <td>2.0</td>\n",
       "      <td>4.0</td>\n",
       "      <td>NaN</td>\n",
       "      <td>0</td>\n",
       "      <td>Raining</td>\n",
       "      <td>Wet</td>\n",
       "      <td>Dark - Street Lights On</td>\n",
       "      <td>NaN</td>\n",
       "      <td>N</td>\n",
       "    </tr>\n",
       "    <tr>\n",
       "      <th>2</th>\n",
       "      <td>1</td>\n",
       "      <td>2.0</td>\n",
       "      <td>0.0</td>\n",
       "      <td>NaN</td>\n",
       "      <td>0</td>\n",
       "      <td>Overcast</td>\n",
       "      <td>Dry</td>\n",
       "      <td>Daylight</td>\n",
       "      <td>NaN</td>\n",
       "      <td>N</td>\n",
       "    </tr>\n",
       "    <tr>\n",
       "      <th>3</th>\n",
       "      <td>1</td>\n",
       "      <td>2.0</td>\n",
       "      <td>3.0</td>\n",
       "      <td>NaN</td>\n",
       "      <td>N</td>\n",
       "      <td>Clear</td>\n",
       "      <td>Dry</td>\n",
       "      <td>Daylight</td>\n",
       "      <td>NaN</td>\n",
       "      <td>N</td>\n",
       "    </tr>\n",
       "    <tr>\n",
       "      <th>4</th>\n",
       "      <td>2</td>\n",
       "      <td>1.0</td>\n",
       "      <td>1.0</td>\n",
       "      <td>NaN</td>\n",
       "      <td>0</td>\n",
       "      <td>Raining</td>\n",
       "      <td>Wet</td>\n",
       "      <td>Daylight</td>\n",
       "      <td>NaN</td>\n",
       "      <td>N</td>\n",
       "    </tr>\n",
       "  </tbody>\n",
       "</table>\n",
       "</div>"
      ],
      "text/plain": [
       "   SEVERITYCODE  ADDRTYPE  COLLISIONTYPE INATTENTIONIND UNDERINFL   WEATHER  \\\n",
       "0             2       1.0            1.0            NaN         N  Overcast   \n",
       "1             1       2.0            4.0            NaN         0   Raining   \n",
       "2             1       2.0            0.0            NaN         0  Overcast   \n",
       "3             1       2.0            3.0            NaN         N     Clear   \n",
       "4             2       1.0            1.0            NaN         0   Raining   \n",
       "\n",
       "  ROADCOND                LIGHTCOND SPEEDING HITPARKEDCAR  \n",
       "0      Wet                 Daylight      NaN            N  \n",
       "1      Wet  Dark - Street Lights On      NaN            N  \n",
       "2      Dry                 Daylight      NaN            N  \n",
       "3      Dry                 Daylight      NaN            N  \n",
       "4      Wet                 Daylight      NaN            N  "
      ]
     },
     "execution_count": 39,
     "metadata": {},
     "output_type": "execute_result"
    }
   ],
   "source": [
    "feature_set['COLLISIONTYPE'].replace(\n",
    "    to_replace = [\n",
    "        'Parked Car',\n",
    "        'Angles',\n",
    "        'Rear Ended',\n",
    "        'Other',\n",
    "        'Sideswipe',\n",
    "        'Left Turn',\n",
    "        'Pedestrian',\n",
    "        'Cycles',\n",
    "        'Right Turn',\n",
    "        'Head On'\n",
    "    ],\n",
    "    value = [0, 1, 2, 3, 4, 5, 6, 7, 8, 9],\n",
    "    inplace = True\n",
    ")\n",
    "feature_set.head()"
   ]
  },
  {
   "cell_type": "code",
   "execution_count": 40,
   "metadata": {},
   "outputs": [
    {
     "name": "stderr",
     "output_type": "stream",
     "text": [
      "c:\\users\\shashi\\appdata\\local\\programs\\python\\python37\\lib\\site-packages\\pandas\\core\\series.py:4569: SettingWithCopyWarning: \n",
      "A value is trying to be set on a copy of a slice from a DataFrame\n",
      "\n",
      "See the caveats in the documentation: https://pandas.pydata.org/pandas-docs/stable/user_guide/indexing.html#returning-a-view-versus-a-copy\n",
      "  method=method,\n"
     ]
    },
    {
     "data": {
      "text/html": [
       "<div>\n",
       "<style scoped>\n",
       "    .dataframe tbody tr th:only-of-type {\n",
       "        vertical-align: middle;\n",
       "    }\n",
       "\n",
       "    .dataframe tbody tr th {\n",
       "        vertical-align: top;\n",
       "    }\n",
       "\n",
       "    .dataframe thead th {\n",
       "        text-align: right;\n",
       "    }\n",
       "</style>\n",
       "<table border=\"1\" class=\"dataframe\">\n",
       "  <thead>\n",
       "    <tr style=\"text-align: right;\">\n",
       "      <th></th>\n",
       "      <th>SEVERITYCODE</th>\n",
       "      <th>ADDRTYPE</th>\n",
       "      <th>COLLISIONTYPE</th>\n",
       "      <th>INATTENTIONIND</th>\n",
       "      <th>UNDERINFL</th>\n",
       "      <th>WEATHER</th>\n",
       "      <th>ROADCOND</th>\n",
       "      <th>LIGHTCOND</th>\n",
       "      <th>SPEEDING</th>\n",
       "      <th>HITPARKEDCAR</th>\n",
       "    </tr>\n",
       "  </thead>\n",
       "  <tbody>\n",
       "    <tr>\n",
       "      <th>0</th>\n",
       "      <td>2</td>\n",
       "      <td>1.0</td>\n",
       "      <td>1.0</td>\n",
       "      <td>0</td>\n",
       "      <td>N</td>\n",
       "      <td>Overcast</td>\n",
       "      <td>Wet</td>\n",
       "      <td>Daylight</td>\n",
       "      <td>NaN</td>\n",
       "      <td>N</td>\n",
       "    </tr>\n",
       "    <tr>\n",
       "      <th>1</th>\n",
       "      <td>1</td>\n",
       "      <td>2.0</td>\n",
       "      <td>4.0</td>\n",
       "      <td>0</td>\n",
       "      <td>0</td>\n",
       "      <td>Raining</td>\n",
       "      <td>Wet</td>\n",
       "      <td>Dark - Street Lights On</td>\n",
       "      <td>NaN</td>\n",
       "      <td>N</td>\n",
       "    </tr>\n",
       "    <tr>\n",
       "      <th>2</th>\n",
       "      <td>1</td>\n",
       "      <td>2.0</td>\n",
       "      <td>0.0</td>\n",
       "      <td>0</td>\n",
       "      <td>0</td>\n",
       "      <td>Overcast</td>\n",
       "      <td>Dry</td>\n",
       "      <td>Daylight</td>\n",
       "      <td>NaN</td>\n",
       "      <td>N</td>\n",
       "    </tr>\n",
       "    <tr>\n",
       "      <th>3</th>\n",
       "      <td>1</td>\n",
       "      <td>2.0</td>\n",
       "      <td>3.0</td>\n",
       "      <td>0</td>\n",
       "      <td>N</td>\n",
       "      <td>Clear</td>\n",
       "      <td>Dry</td>\n",
       "      <td>Daylight</td>\n",
       "      <td>NaN</td>\n",
       "      <td>N</td>\n",
       "    </tr>\n",
       "    <tr>\n",
       "      <th>4</th>\n",
       "      <td>2</td>\n",
       "      <td>1.0</td>\n",
       "      <td>1.0</td>\n",
       "      <td>0</td>\n",
       "      <td>0</td>\n",
       "      <td>Raining</td>\n",
       "      <td>Wet</td>\n",
       "      <td>Daylight</td>\n",
       "      <td>NaN</td>\n",
       "      <td>N</td>\n",
       "    </tr>\n",
       "  </tbody>\n",
       "</table>\n",
       "</div>"
      ],
      "text/plain": [
       "   SEVERITYCODE  ADDRTYPE  COLLISIONTYPE  INATTENTIONIND UNDERINFL   WEATHER  \\\n",
       "0             2       1.0            1.0               0         N  Overcast   \n",
       "1             1       2.0            4.0               0         0   Raining   \n",
       "2             1       2.0            0.0               0         0  Overcast   \n",
       "3             1       2.0            3.0               0         N     Clear   \n",
       "4             2       1.0            1.0               0         0   Raining   \n",
       "\n",
       "  ROADCOND                LIGHTCOND SPEEDING HITPARKEDCAR  \n",
       "0      Wet                 Daylight      NaN            N  \n",
       "1      Wet  Dark - Street Lights On      NaN            N  \n",
       "2      Dry                 Daylight      NaN            N  \n",
       "3      Dry                 Daylight      NaN            N  \n",
       "4      Wet                 Daylight      NaN            N  "
      ]
     },
     "execution_count": 40,
     "metadata": {},
     "output_type": "execute_result"
    }
   ],
   "source": [
    "feature_set['INATTENTIONIND'].replace(to_replace = ['Y', np.nan], value = [1, 0], inplace = True)\n",
    "feature_set.head()"
   ]
  },
  {
   "cell_type": "code",
   "execution_count": 41,
   "metadata": {},
   "outputs": [
    {
     "name": "stderr",
     "output_type": "stream",
     "text": [
      "c:\\users\\shashi\\appdata\\local\\programs\\python\\python37\\lib\\site-packages\\pandas\\core\\series.py:4569: SettingWithCopyWarning: \n",
      "A value is trying to be set on a copy of a slice from a DataFrame\n",
      "\n",
      "See the caveats in the documentation: https://pandas.pydata.org/pandas-docs/stable/user_guide/indexing.html#returning-a-view-versus-a-copy\n",
      "  method=method,\n"
     ]
    },
    {
     "data": {
      "text/html": [
       "<div>\n",
       "<style scoped>\n",
       "    .dataframe tbody tr th:only-of-type {\n",
       "        vertical-align: middle;\n",
       "    }\n",
       "\n",
       "    .dataframe tbody tr th {\n",
       "        vertical-align: top;\n",
       "    }\n",
       "\n",
       "    .dataframe thead th {\n",
       "        text-align: right;\n",
       "    }\n",
       "</style>\n",
       "<table border=\"1\" class=\"dataframe\">\n",
       "  <thead>\n",
       "    <tr style=\"text-align: right;\">\n",
       "      <th></th>\n",
       "      <th>SEVERITYCODE</th>\n",
       "      <th>ADDRTYPE</th>\n",
       "      <th>COLLISIONTYPE</th>\n",
       "      <th>INATTENTIONIND</th>\n",
       "      <th>UNDERINFL</th>\n",
       "      <th>WEATHER</th>\n",
       "      <th>ROADCOND</th>\n",
       "      <th>LIGHTCOND</th>\n",
       "      <th>SPEEDING</th>\n",
       "      <th>HITPARKEDCAR</th>\n",
       "    </tr>\n",
       "  </thead>\n",
       "  <tbody>\n",
       "    <tr>\n",
       "      <th>0</th>\n",
       "      <td>2</td>\n",
       "      <td>1.0</td>\n",
       "      <td>1.0</td>\n",
       "      <td>0</td>\n",
       "      <td>0</td>\n",
       "      <td>Overcast</td>\n",
       "      <td>Wet</td>\n",
       "      <td>Daylight</td>\n",
       "      <td>NaN</td>\n",
       "      <td>N</td>\n",
       "    </tr>\n",
       "    <tr>\n",
       "      <th>1</th>\n",
       "      <td>1</td>\n",
       "      <td>2.0</td>\n",
       "      <td>4.0</td>\n",
       "      <td>0</td>\n",
       "      <td>0</td>\n",
       "      <td>Raining</td>\n",
       "      <td>Wet</td>\n",
       "      <td>Dark - Street Lights On</td>\n",
       "      <td>NaN</td>\n",
       "      <td>N</td>\n",
       "    </tr>\n",
       "    <tr>\n",
       "      <th>2</th>\n",
       "      <td>1</td>\n",
       "      <td>2.0</td>\n",
       "      <td>0.0</td>\n",
       "      <td>0</td>\n",
       "      <td>0</td>\n",
       "      <td>Overcast</td>\n",
       "      <td>Dry</td>\n",
       "      <td>Daylight</td>\n",
       "      <td>NaN</td>\n",
       "      <td>N</td>\n",
       "    </tr>\n",
       "    <tr>\n",
       "      <th>3</th>\n",
       "      <td>1</td>\n",
       "      <td>2.0</td>\n",
       "      <td>3.0</td>\n",
       "      <td>0</td>\n",
       "      <td>0</td>\n",
       "      <td>Clear</td>\n",
       "      <td>Dry</td>\n",
       "      <td>Daylight</td>\n",
       "      <td>NaN</td>\n",
       "      <td>N</td>\n",
       "    </tr>\n",
       "    <tr>\n",
       "      <th>4</th>\n",
       "      <td>2</td>\n",
       "      <td>1.0</td>\n",
       "      <td>1.0</td>\n",
       "      <td>0</td>\n",
       "      <td>0</td>\n",
       "      <td>Raining</td>\n",
       "      <td>Wet</td>\n",
       "      <td>Daylight</td>\n",
       "      <td>NaN</td>\n",
       "      <td>N</td>\n",
       "    </tr>\n",
       "  </tbody>\n",
       "</table>\n",
       "</div>"
      ],
      "text/plain": [
       "   SEVERITYCODE  ADDRTYPE  COLLISIONTYPE  INATTENTIONIND  UNDERINFL   WEATHER  \\\n",
       "0             2       1.0            1.0               0          0  Overcast   \n",
       "1             1       2.0            4.0               0          0   Raining   \n",
       "2             1       2.0            0.0               0          0  Overcast   \n",
       "3             1       2.0            3.0               0          0     Clear   \n",
       "4             2       1.0            1.0               0          0   Raining   \n",
       "\n",
       "  ROADCOND                LIGHTCOND SPEEDING HITPARKEDCAR  \n",
       "0      Wet                 Daylight      NaN            N  \n",
       "1      Wet  Dark - Street Lights On      NaN            N  \n",
       "2      Dry                 Daylight      NaN            N  \n",
       "3      Dry                 Daylight      NaN            N  \n",
       "4      Wet                 Daylight      NaN            N  "
      ]
     },
     "execution_count": 41,
     "metadata": {},
     "output_type": "execute_result"
    }
   ],
   "source": [
    "feature_set['UNDERINFL'].replace(to_replace = ['0','1'], value = [0,1], inplace = True)\n",
    "feature_set['UNDERINFL'].replace(to_replace = ['N','Y', np.nan], value = [0,1,0], inplace = True)\n",
    "feature_set['UNDERINFL'].dropna()\n",
    "feature_set.head()"
   ]
  },
  {
   "cell_type": "code",
   "execution_count": 42,
   "metadata": {},
   "outputs": [
    {
     "name": "stderr",
     "output_type": "stream",
     "text": [
      "c:\\users\\shashi\\appdata\\local\\programs\\python\\python37\\lib\\site-packages\\pandas\\core\\series.py:4569: SettingWithCopyWarning: \n",
      "A value is trying to be set on a copy of a slice from a DataFrame\n",
      "\n",
      "See the caveats in the documentation: https://pandas.pydata.org/pandas-docs/stable/user_guide/indexing.html#returning-a-view-versus-a-copy\n",
      "  method=method,\n"
     ]
    },
    {
     "data": {
      "text/html": [
       "<div>\n",
       "<style scoped>\n",
       "    .dataframe tbody tr th:only-of-type {\n",
       "        vertical-align: middle;\n",
       "    }\n",
       "\n",
       "    .dataframe tbody tr th {\n",
       "        vertical-align: top;\n",
       "    }\n",
       "\n",
       "    .dataframe thead th {\n",
       "        text-align: right;\n",
       "    }\n",
       "</style>\n",
       "<table border=\"1\" class=\"dataframe\">\n",
       "  <thead>\n",
       "    <tr style=\"text-align: right;\">\n",
       "      <th></th>\n",
       "      <th>SEVERITYCODE</th>\n",
       "      <th>ADDRTYPE</th>\n",
       "      <th>COLLISIONTYPE</th>\n",
       "      <th>INATTENTIONIND</th>\n",
       "      <th>UNDERINFL</th>\n",
       "      <th>WEATHER</th>\n",
       "      <th>ROADCOND</th>\n",
       "      <th>LIGHTCOND</th>\n",
       "      <th>SPEEDING</th>\n",
       "      <th>HITPARKEDCAR</th>\n",
       "    </tr>\n",
       "  </thead>\n",
       "  <tbody>\n",
       "    <tr>\n",
       "      <th>0</th>\n",
       "      <td>2</td>\n",
       "      <td>1.0</td>\n",
       "      <td>1.0</td>\n",
       "      <td>0</td>\n",
       "      <td>0</td>\n",
       "      <td>2.0</td>\n",
       "      <td>Wet</td>\n",
       "      <td>Daylight</td>\n",
       "      <td>NaN</td>\n",
       "      <td>N</td>\n",
       "    </tr>\n",
       "    <tr>\n",
       "      <th>1</th>\n",
       "      <td>1</td>\n",
       "      <td>2.0</td>\n",
       "      <td>4.0</td>\n",
       "      <td>0</td>\n",
       "      <td>0</td>\n",
       "      <td>1.0</td>\n",
       "      <td>Wet</td>\n",
       "      <td>Dark - Street Lights On</td>\n",
       "      <td>NaN</td>\n",
       "      <td>N</td>\n",
       "    </tr>\n",
       "    <tr>\n",
       "      <th>2</th>\n",
       "      <td>1</td>\n",
       "      <td>2.0</td>\n",
       "      <td>0.0</td>\n",
       "      <td>0</td>\n",
       "      <td>0</td>\n",
       "      <td>2.0</td>\n",
       "      <td>Dry</td>\n",
       "      <td>Daylight</td>\n",
       "      <td>NaN</td>\n",
       "      <td>N</td>\n",
       "    </tr>\n",
       "    <tr>\n",
       "      <th>3</th>\n",
       "      <td>1</td>\n",
       "      <td>2.0</td>\n",
       "      <td>3.0</td>\n",
       "      <td>0</td>\n",
       "      <td>0</td>\n",
       "      <td>0.0</td>\n",
       "      <td>Dry</td>\n",
       "      <td>Daylight</td>\n",
       "      <td>NaN</td>\n",
       "      <td>N</td>\n",
       "    </tr>\n",
       "    <tr>\n",
       "      <th>4</th>\n",
       "      <td>2</td>\n",
       "      <td>1.0</td>\n",
       "      <td>1.0</td>\n",
       "      <td>0</td>\n",
       "      <td>0</td>\n",
       "      <td>1.0</td>\n",
       "      <td>Wet</td>\n",
       "      <td>Daylight</td>\n",
       "      <td>NaN</td>\n",
       "      <td>N</td>\n",
       "    </tr>\n",
       "  </tbody>\n",
       "</table>\n",
       "</div>"
      ],
      "text/plain": [
       "   SEVERITYCODE  ADDRTYPE  COLLISIONTYPE  INATTENTIONIND  UNDERINFL  WEATHER  \\\n",
       "0             2       1.0            1.0               0          0      2.0   \n",
       "1             1       2.0            4.0               0          0      1.0   \n",
       "2             1       2.0            0.0               0          0      2.0   \n",
       "3             1       2.0            3.0               0          0      0.0   \n",
       "4             2       1.0            1.0               0          0      1.0   \n",
       "\n",
       "  ROADCOND                LIGHTCOND SPEEDING HITPARKEDCAR  \n",
       "0      Wet                 Daylight      NaN            N  \n",
       "1      Wet  Dark - Street Lights On      NaN            N  \n",
       "2      Dry                 Daylight      NaN            N  \n",
       "3      Dry                 Daylight      NaN            N  \n",
       "4      Wet                 Daylight      NaN            N  "
      ]
     },
     "execution_count": 42,
     "metadata": {},
     "output_type": "execute_result"
    }
   ],
   "source": [
    "feature_set['WEATHER'].replace(\n",
    "    to_replace = [\n",
    "        'Clear',       \n",
    "        'Raining',\n",
    "        'Overcast',\n",
    "        'Unknown',\n",
    "        'Snowing',\n",
    "        'Other',\n",
    "        'Fog/Smog/Smoke',\n",
    "        'Sleet/Hail/Freezing Rain',\n",
    "        'Blowing Sand/Dirt',\n",
    "        'Severe Crosswind',\n",
    "        'Partly Cloudy',\n",
    "    ],\n",
    "    value = [0, 1, 2, 3, 4, 5, 6, 7, 8, 9, 10],\n",
    "    inplace = True\n",
    ")\n",
    "feature_set.head()"
   ]
  },
  {
   "cell_type": "code",
   "execution_count": 43,
   "metadata": {},
   "outputs": [
    {
     "name": "stderr",
     "output_type": "stream",
     "text": [
      "c:\\users\\shashi\\appdata\\local\\programs\\python\\python37\\lib\\site-packages\\pandas\\core\\series.py:4569: SettingWithCopyWarning: \n",
      "A value is trying to be set on a copy of a slice from a DataFrame\n",
      "\n",
      "See the caveats in the documentation: https://pandas.pydata.org/pandas-docs/stable/user_guide/indexing.html#returning-a-view-versus-a-copy\n",
      "  method=method,\n"
     ]
    },
    {
     "data": {
      "text/html": [
       "<div>\n",
       "<style scoped>\n",
       "    .dataframe tbody tr th:only-of-type {\n",
       "        vertical-align: middle;\n",
       "    }\n",
       "\n",
       "    .dataframe tbody tr th {\n",
       "        vertical-align: top;\n",
       "    }\n",
       "\n",
       "    .dataframe thead th {\n",
       "        text-align: right;\n",
       "    }\n",
       "</style>\n",
       "<table border=\"1\" class=\"dataframe\">\n",
       "  <thead>\n",
       "    <tr style=\"text-align: right;\">\n",
       "      <th></th>\n",
       "      <th>SEVERITYCODE</th>\n",
       "      <th>ADDRTYPE</th>\n",
       "      <th>COLLISIONTYPE</th>\n",
       "      <th>INATTENTIONIND</th>\n",
       "      <th>UNDERINFL</th>\n",
       "      <th>WEATHER</th>\n",
       "      <th>ROADCOND</th>\n",
       "      <th>LIGHTCOND</th>\n",
       "      <th>SPEEDING</th>\n",
       "      <th>HITPARKEDCAR</th>\n",
       "    </tr>\n",
       "  </thead>\n",
       "  <tbody>\n",
       "    <tr>\n",
       "      <th>0</th>\n",
       "      <td>2</td>\n",
       "      <td>1.0</td>\n",
       "      <td>1.0</td>\n",
       "      <td>0</td>\n",
       "      <td>0</td>\n",
       "      <td>2.0</td>\n",
       "      <td>1.0</td>\n",
       "      <td>Daylight</td>\n",
       "      <td>NaN</td>\n",
       "      <td>N</td>\n",
       "    </tr>\n",
       "    <tr>\n",
       "      <th>1</th>\n",
       "      <td>1</td>\n",
       "      <td>2.0</td>\n",
       "      <td>4.0</td>\n",
       "      <td>0</td>\n",
       "      <td>0</td>\n",
       "      <td>1.0</td>\n",
       "      <td>1.0</td>\n",
       "      <td>Dark - Street Lights On</td>\n",
       "      <td>NaN</td>\n",
       "      <td>N</td>\n",
       "    </tr>\n",
       "    <tr>\n",
       "      <th>2</th>\n",
       "      <td>1</td>\n",
       "      <td>2.0</td>\n",
       "      <td>0.0</td>\n",
       "      <td>0</td>\n",
       "      <td>0</td>\n",
       "      <td>2.0</td>\n",
       "      <td>0.0</td>\n",
       "      <td>Daylight</td>\n",
       "      <td>NaN</td>\n",
       "      <td>N</td>\n",
       "    </tr>\n",
       "    <tr>\n",
       "      <th>3</th>\n",
       "      <td>1</td>\n",
       "      <td>2.0</td>\n",
       "      <td>3.0</td>\n",
       "      <td>0</td>\n",
       "      <td>0</td>\n",
       "      <td>0.0</td>\n",
       "      <td>0.0</td>\n",
       "      <td>Daylight</td>\n",
       "      <td>NaN</td>\n",
       "      <td>N</td>\n",
       "    </tr>\n",
       "    <tr>\n",
       "      <th>4</th>\n",
       "      <td>2</td>\n",
       "      <td>1.0</td>\n",
       "      <td>1.0</td>\n",
       "      <td>0</td>\n",
       "      <td>0</td>\n",
       "      <td>1.0</td>\n",
       "      <td>1.0</td>\n",
       "      <td>Daylight</td>\n",
       "      <td>NaN</td>\n",
       "      <td>N</td>\n",
       "    </tr>\n",
       "  </tbody>\n",
       "</table>\n",
       "</div>"
      ],
      "text/plain": [
       "   SEVERITYCODE  ADDRTYPE  COLLISIONTYPE  INATTENTIONIND  UNDERINFL  WEATHER  \\\n",
       "0             2       1.0            1.0               0          0      2.0   \n",
       "1             1       2.0            4.0               0          0      1.0   \n",
       "2             1       2.0            0.0               0          0      2.0   \n",
       "3             1       2.0            3.0               0          0      0.0   \n",
       "4             2       1.0            1.0               0          0      1.0   \n",
       "\n",
       "   ROADCOND                LIGHTCOND SPEEDING HITPARKEDCAR  \n",
       "0       1.0                 Daylight      NaN            N  \n",
       "1       1.0  Dark - Street Lights On      NaN            N  \n",
       "2       0.0                 Daylight      NaN            N  \n",
       "3       0.0                 Daylight      NaN            N  \n",
       "4       1.0                 Daylight      NaN            N  "
      ]
     },
     "execution_count": 43,
     "metadata": {},
     "output_type": "execute_result"
    }
   ],
   "source": [
    "feature_set['ROADCOND'].replace(\n",
    "    to_replace = [\n",
    "        'Dry',       \n",
    "        'Wet',\n",
    "        'Unknown',\n",
    "        'Ice',\n",
    "        'Snow/Slush',\n",
    "        'Other',\n",
    "        'Standing Water',\n",
    "        'Sand/Mud/Dirt',\n",
    "        'Oil'\n",
    "    ],\n",
    "    value = [0, 1, 2, 3, 4, 5, 6, 7, 8],\n",
    "    inplace = True\n",
    ")\n",
    "feature_set.head()"
   ]
  },
  {
   "cell_type": "code",
   "execution_count": 44,
   "metadata": {},
   "outputs": [
    {
     "name": "stderr",
     "output_type": "stream",
     "text": [
      "c:\\users\\shashi\\appdata\\local\\programs\\python\\python37\\lib\\site-packages\\pandas\\core\\series.py:4569: SettingWithCopyWarning: \n",
      "A value is trying to be set on a copy of a slice from a DataFrame\n",
      "\n",
      "See the caveats in the documentation: https://pandas.pydata.org/pandas-docs/stable/user_guide/indexing.html#returning-a-view-versus-a-copy\n",
      "  method=method,\n"
     ]
    },
    {
     "data": {
      "text/html": [
       "<div>\n",
       "<style scoped>\n",
       "    .dataframe tbody tr th:only-of-type {\n",
       "        vertical-align: middle;\n",
       "    }\n",
       "\n",
       "    .dataframe tbody tr th {\n",
       "        vertical-align: top;\n",
       "    }\n",
       "\n",
       "    .dataframe thead th {\n",
       "        text-align: right;\n",
       "    }\n",
       "</style>\n",
       "<table border=\"1\" class=\"dataframe\">\n",
       "  <thead>\n",
       "    <tr style=\"text-align: right;\">\n",
       "      <th></th>\n",
       "      <th>SEVERITYCODE</th>\n",
       "      <th>ADDRTYPE</th>\n",
       "      <th>COLLISIONTYPE</th>\n",
       "      <th>INATTENTIONIND</th>\n",
       "      <th>UNDERINFL</th>\n",
       "      <th>WEATHER</th>\n",
       "      <th>ROADCOND</th>\n",
       "      <th>LIGHTCOND</th>\n",
       "      <th>SPEEDING</th>\n",
       "      <th>HITPARKEDCAR</th>\n",
       "    </tr>\n",
       "  </thead>\n",
       "  <tbody>\n",
       "    <tr>\n",
       "      <th>0</th>\n",
       "      <td>2</td>\n",
       "      <td>1.0</td>\n",
       "      <td>1.0</td>\n",
       "      <td>0</td>\n",
       "      <td>0</td>\n",
       "      <td>2.0</td>\n",
       "      <td>1.0</td>\n",
       "      <td>0.0</td>\n",
       "      <td>NaN</td>\n",
       "      <td>N</td>\n",
       "    </tr>\n",
       "    <tr>\n",
       "      <th>1</th>\n",
       "      <td>1</td>\n",
       "      <td>2.0</td>\n",
       "      <td>4.0</td>\n",
       "      <td>0</td>\n",
       "      <td>0</td>\n",
       "      <td>1.0</td>\n",
       "      <td>1.0</td>\n",
       "      <td>1.0</td>\n",
       "      <td>NaN</td>\n",
       "      <td>N</td>\n",
       "    </tr>\n",
       "    <tr>\n",
       "      <th>2</th>\n",
       "      <td>1</td>\n",
       "      <td>2.0</td>\n",
       "      <td>0.0</td>\n",
       "      <td>0</td>\n",
       "      <td>0</td>\n",
       "      <td>2.0</td>\n",
       "      <td>0.0</td>\n",
       "      <td>0.0</td>\n",
       "      <td>NaN</td>\n",
       "      <td>N</td>\n",
       "    </tr>\n",
       "    <tr>\n",
       "      <th>3</th>\n",
       "      <td>1</td>\n",
       "      <td>2.0</td>\n",
       "      <td>3.0</td>\n",
       "      <td>0</td>\n",
       "      <td>0</td>\n",
       "      <td>0.0</td>\n",
       "      <td>0.0</td>\n",
       "      <td>0.0</td>\n",
       "      <td>NaN</td>\n",
       "      <td>N</td>\n",
       "    </tr>\n",
       "    <tr>\n",
       "      <th>4</th>\n",
       "      <td>2</td>\n",
       "      <td>1.0</td>\n",
       "      <td>1.0</td>\n",
       "      <td>0</td>\n",
       "      <td>0</td>\n",
       "      <td>1.0</td>\n",
       "      <td>1.0</td>\n",
       "      <td>0.0</td>\n",
       "      <td>NaN</td>\n",
       "      <td>N</td>\n",
       "    </tr>\n",
       "  </tbody>\n",
       "</table>\n",
       "</div>"
      ],
      "text/plain": [
       "   SEVERITYCODE  ADDRTYPE  COLLISIONTYPE  INATTENTIONIND  UNDERINFL  WEATHER  \\\n",
       "0             2       1.0            1.0               0          0      2.0   \n",
       "1             1       2.0            4.0               0          0      1.0   \n",
       "2             1       2.0            0.0               0          0      2.0   \n",
       "3             1       2.0            3.0               0          0      0.0   \n",
       "4             2       1.0            1.0               0          0      1.0   \n",
       "\n",
       "   ROADCOND  LIGHTCOND SPEEDING HITPARKEDCAR  \n",
       "0       1.0        0.0      NaN            N  \n",
       "1       1.0        1.0      NaN            N  \n",
       "2       0.0        0.0      NaN            N  \n",
       "3       0.0        0.0      NaN            N  \n",
       "4       1.0        0.0      NaN            N  "
      ]
     },
     "execution_count": 44,
     "metadata": {},
     "output_type": "execute_result"
    }
   ],
   "source": [
    "feature_set['LIGHTCOND'].replace(\n",
    "    to_replace = [\n",
    "        'Daylight',\n",
    "        'Dark - Street Lights On',\n",
    "        'Unknown',\n",
    "        'Dusk',\n",
    "        'Dawn',\n",
    "        'Dark - No Street Lights',\n",
    "        'Dark - Street Lights Off',\n",
    "        'Other',\n",
    "        'Dark - Unknown Lighting'\n",
    "    ],\n",
    "    value = [0, 1, 2, 3, 4, 5, 6, 7, 8],\n",
    "    inplace = True\n",
    ")\n",
    "feature_set.head()"
   ]
  },
  {
   "cell_type": "code",
   "execution_count": 45,
   "metadata": {},
   "outputs": [
    {
     "name": "stderr",
     "output_type": "stream",
     "text": [
      "c:\\users\\shashi\\appdata\\local\\programs\\python\\python37\\lib\\site-packages\\pandas\\core\\series.py:4569: SettingWithCopyWarning: \n",
      "A value is trying to be set on a copy of a slice from a DataFrame\n",
      "\n",
      "See the caveats in the documentation: https://pandas.pydata.org/pandas-docs/stable/user_guide/indexing.html#returning-a-view-versus-a-copy\n",
      "  method=method,\n"
     ]
    },
    {
     "data": {
      "text/html": [
       "<div>\n",
       "<style scoped>\n",
       "    .dataframe tbody tr th:only-of-type {\n",
       "        vertical-align: middle;\n",
       "    }\n",
       "\n",
       "    .dataframe tbody tr th {\n",
       "        vertical-align: top;\n",
       "    }\n",
       "\n",
       "    .dataframe thead th {\n",
       "        text-align: right;\n",
       "    }\n",
       "</style>\n",
       "<table border=\"1\" class=\"dataframe\">\n",
       "  <thead>\n",
       "    <tr style=\"text-align: right;\">\n",
       "      <th></th>\n",
       "      <th>SEVERITYCODE</th>\n",
       "      <th>ADDRTYPE</th>\n",
       "      <th>COLLISIONTYPE</th>\n",
       "      <th>INATTENTIONIND</th>\n",
       "      <th>UNDERINFL</th>\n",
       "      <th>WEATHER</th>\n",
       "      <th>ROADCOND</th>\n",
       "      <th>LIGHTCOND</th>\n",
       "      <th>SPEEDING</th>\n",
       "      <th>HITPARKEDCAR</th>\n",
       "    </tr>\n",
       "  </thead>\n",
       "  <tbody>\n",
       "    <tr>\n",
       "      <th>0</th>\n",
       "      <td>2</td>\n",
       "      <td>1.0</td>\n",
       "      <td>1.0</td>\n",
       "      <td>0</td>\n",
       "      <td>0</td>\n",
       "      <td>2.0</td>\n",
       "      <td>1.0</td>\n",
       "      <td>0.0</td>\n",
       "      <td>0</td>\n",
       "      <td>N</td>\n",
       "    </tr>\n",
       "    <tr>\n",
       "      <th>1</th>\n",
       "      <td>1</td>\n",
       "      <td>2.0</td>\n",
       "      <td>4.0</td>\n",
       "      <td>0</td>\n",
       "      <td>0</td>\n",
       "      <td>1.0</td>\n",
       "      <td>1.0</td>\n",
       "      <td>1.0</td>\n",
       "      <td>0</td>\n",
       "      <td>N</td>\n",
       "    </tr>\n",
       "    <tr>\n",
       "      <th>2</th>\n",
       "      <td>1</td>\n",
       "      <td>2.0</td>\n",
       "      <td>0.0</td>\n",
       "      <td>0</td>\n",
       "      <td>0</td>\n",
       "      <td>2.0</td>\n",
       "      <td>0.0</td>\n",
       "      <td>0.0</td>\n",
       "      <td>0</td>\n",
       "      <td>N</td>\n",
       "    </tr>\n",
       "    <tr>\n",
       "      <th>3</th>\n",
       "      <td>1</td>\n",
       "      <td>2.0</td>\n",
       "      <td>3.0</td>\n",
       "      <td>0</td>\n",
       "      <td>0</td>\n",
       "      <td>0.0</td>\n",
       "      <td>0.0</td>\n",
       "      <td>0.0</td>\n",
       "      <td>0</td>\n",
       "      <td>N</td>\n",
       "    </tr>\n",
       "    <tr>\n",
       "      <th>4</th>\n",
       "      <td>2</td>\n",
       "      <td>1.0</td>\n",
       "      <td>1.0</td>\n",
       "      <td>0</td>\n",
       "      <td>0</td>\n",
       "      <td>1.0</td>\n",
       "      <td>1.0</td>\n",
       "      <td>0.0</td>\n",
       "      <td>0</td>\n",
       "      <td>N</td>\n",
       "    </tr>\n",
       "  </tbody>\n",
       "</table>\n",
       "</div>"
      ],
      "text/plain": [
       "   SEVERITYCODE  ADDRTYPE  COLLISIONTYPE  INATTENTIONIND  UNDERINFL  WEATHER  \\\n",
       "0             2       1.0            1.0               0          0      2.0   \n",
       "1             1       2.0            4.0               0          0      1.0   \n",
       "2             1       2.0            0.0               0          0      2.0   \n",
       "3             1       2.0            3.0               0          0      0.0   \n",
       "4             2       1.0            1.0               0          0      1.0   \n",
       "\n",
       "   ROADCOND  LIGHTCOND  SPEEDING HITPARKEDCAR  \n",
       "0       1.0        0.0         0            N  \n",
       "1       1.0        1.0         0            N  \n",
       "2       0.0        0.0         0            N  \n",
       "3       0.0        0.0         0            N  \n",
       "4       1.0        0.0         0            N  "
      ]
     },
     "execution_count": 45,
     "metadata": {},
     "output_type": "execute_result"
    }
   ],
   "source": [
    "feature_set['SPEEDING'].replace(to_replace = ['Y', np.nan], value = [1, 0], inplace = True)\n",
    "feature_set.head()"
   ]
  },
  {
   "cell_type": "code",
   "execution_count": 46,
   "metadata": {},
   "outputs": [
    {
     "name": "stderr",
     "output_type": "stream",
     "text": [
      "c:\\users\\shashi\\appdata\\local\\programs\\python\\python37\\lib\\site-packages\\pandas\\core\\series.py:4569: SettingWithCopyWarning: \n",
      "A value is trying to be set on a copy of a slice from a DataFrame\n",
      "\n",
      "See the caveats in the documentation: https://pandas.pydata.org/pandas-docs/stable/user_guide/indexing.html#returning-a-view-versus-a-copy\n",
      "  method=method,\n"
     ]
    },
    {
     "data": {
      "text/html": [
       "<div>\n",
       "<style scoped>\n",
       "    .dataframe tbody tr th:only-of-type {\n",
       "        vertical-align: middle;\n",
       "    }\n",
       "\n",
       "    .dataframe tbody tr th {\n",
       "        vertical-align: top;\n",
       "    }\n",
       "\n",
       "    .dataframe thead th {\n",
       "        text-align: right;\n",
       "    }\n",
       "</style>\n",
       "<table border=\"1\" class=\"dataframe\">\n",
       "  <thead>\n",
       "    <tr style=\"text-align: right;\">\n",
       "      <th></th>\n",
       "      <th>SEVERITYCODE</th>\n",
       "      <th>ADDRTYPE</th>\n",
       "      <th>COLLISIONTYPE</th>\n",
       "      <th>INATTENTIONIND</th>\n",
       "      <th>UNDERINFL</th>\n",
       "      <th>WEATHER</th>\n",
       "      <th>ROADCOND</th>\n",
       "      <th>LIGHTCOND</th>\n",
       "      <th>SPEEDING</th>\n",
       "      <th>HITPARKEDCAR</th>\n",
       "    </tr>\n",
       "  </thead>\n",
       "  <tbody>\n",
       "    <tr>\n",
       "      <th>0</th>\n",
       "      <td>2</td>\n",
       "      <td>1.0</td>\n",
       "      <td>1.0</td>\n",
       "      <td>0</td>\n",
       "      <td>0</td>\n",
       "      <td>2.0</td>\n",
       "      <td>1.0</td>\n",
       "      <td>0.0</td>\n",
       "      <td>0</td>\n",
       "      <td>0</td>\n",
       "    </tr>\n",
       "    <tr>\n",
       "      <th>1</th>\n",
       "      <td>1</td>\n",
       "      <td>2.0</td>\n",
       "      <td>4.0</td>\n",
       "      <td>0</td>\n",
       "      <td>0</td>\n",
       "      <td>1.0</td>\n",
       "      <td>1.0</td>\n",
       "      <td>1.0</td>\n",
       "      <td>0</td>\n",
       "      <td>0</td>\n",
       "    </tr>\n",
       "    <tr>\n",
       "      <th>2</th>\n",
       "      <td>1</td>\n",
       "      <td>2.0</td>\n",
       "      <td>0.0</td>\n",
       "      <td>0</td>\n",
       "      <td>0</td>\n",
       "      <td>2.0</td>\n",
       "      <td>0.0</td>\n",
       "      <td>0.0</td>\n",
       "      <td>0</td>\n",
       "      <td>0</td>\n",
       "    </tr>\n",
       "    <tr>\n",
       "      <th>3</th>\n",
       "      <td>1</td>\n",
       "      <td>2.0</td>\n",
       "      <td>3.0</td>\n",
       "      <td>0</td>\n",
       "      <td>0</td>\n",
       "      <td>0.0</td>\n",
       "      <td>0.0</td>\n",
       "      <td>0.0</td>\n",
       "      <td>0</td>\n",
       "      <td>0</td>\n",
       "    </tr>\n",
       "    <tr>\n",
       "      <th>4</th>\n",
       "      <td>2</td>\n",
       "      <td>1.0</td>\n",
       "      <td>1.0</td>\n",
       "      <td>0</td>\n",
       "      <td>0</td>\n",
       "      <td>1.0</td>\n",
       "      <td>1.0</td>\n",
       "      <td>0.0</td>\n",
       "      <td>0</td>\n",
       "      <td>0</td>\n",
       "    </tr>\n",
       "  </tbody>\n",
       "</table>\n",
       "</div>"
      ],
      "text/plain": [
       "   SEVERITYCODE  ADDRTYPE  COLLISIONTYPE  INATTENTIONIND  UNDERINFL  WEATHER  \\\n",
       "0             2       1.0            1.0               0          0      2.0   \n",
       "1             1       2.0            4.0               0          0      1.0   \n",
       "2             1       2.0            0.0               0          0      2.0   \n",
       "3             1       2.0            3.0               0          0      0.0   \n",
       "4             2       1.0            1.0               0          0      1.0   \n",
       "\n",
       "   ROADCOND  LIGHTCOND  SPEEDING  HITPARKEDCAR  \n",
       "0       1.0        0.0         0             0  \n",
       "1       1.0        1.0         0             0  \n",
       "2       0.0        0.0         0             0  \n",
       "3       0.0        0.0         0             0  \n",
       "4       1.0        0.0         0             0  "
      ]
     },
     "execution_count": 46,
     "metadata": {},
     "output_type": "execute_result"
    }
   ],
   "source": [
    "feature_set['HITPARKEDCAR'].replace(to_replace = ['Y', 'N'], value = [1, 0], inplace = True)\n",
    "feature_set.head()"
   ]
  },
  {
   "cell_type": "code",
   "execution_count": 47,
   "metadata": {},
   "outputs": [
    {
     "name": "stdout",
     "output_type": "stream",
     "text": [
      "<class 'pandas.core.frame.DataFrame'>\n",
      "RangeIndex: 194673 entries, 0 to 194672\n",
      "Data columns (total 10 columns):\n",
      " #   Column          Non-Null Count   Dtype  \n",
      "---  ------          --------------   -----  \n",
      " 0   SEVERITYCODE    194673 non-null  int64  \n",
      " 1   ADDRTYPE        192747 non-null  float64\n",
      " 2   COLLISIONTYPE   189769 non-null  float64\n",
      " 3   INATTENTIONIND  194673 non-null  int64  \n",
      " 4   UNDERINFL       194673 non-null  int64  \n",
      " 5   WEATHER         189592 non-null  float64\n",
      " 6   ROADCOND        189661 non-null  float64\n",
      " 7   LIGHTCOND       189503 non-null  float64\n",
      " 8   SPEEDING        194673 non-null  int64  \n",
      " 9   HITPARKEDCAR    194673 non-null  int64  \n",
      "dtypes: float64(5), int64(5)\n",
      "memory usage: 14.9 MB\n"
     ]
    }
   ],
   "source": [
    "feature_set.info()"
   ]
  },
  {
   "cell_type": "code",
   "execution_count": 48,
   "metadata": {},
   "outputs": [
    {
     "name": "stderr",
     "output_type": "stream",
     "text": [
      "c:\\users\\shashi\\appdata\\local\\programs\\python\\python37\\lib\\site-packages\\ipykernel_launcher.py:1: SettingWithCopyWarning: \n",
      "A value is trying to be set on a copy of a slice from a DataFrame\n",
      "\n",
      "See the caveats in the documentation: https://pandas.pydata.org/pandas-docs/stable/user_guide/indexing.html#returning-a-view-versus-a-copy\n",
      "  \"\"\"Entry point for launching an IPython kernel.\n"
     ]
    },
    {
     "data": {
      "text/plain": [
       "SEVERITYCODE      False\n",
       "ADDRTYPE          False\n",
       "COLLISIONTYPE     False\n",
       "INATTENTIONIND    False\n",
       "UNDERINFL         False\n",
       "WEATHER           False\n",
       "ROADCOND          False\n",
       "LIGHTCOND         False\n",
       "SPEEDING          False\n",
       "HITPARKEDCAR      False\n",
       "dtype: bool"
      ]
     },
     "execution_count": 48,
     "metadata": {},
     "output_type": "execute_result"
    }
   ],
   "source": [
    "feature_set.dropna(inplace = True)\n",
    "feature_set.isna().any()"
   ]
  },
  {
   "cell_type": "code",
   "execution_count": 49,
   "metadata": {},
   "outputs": [
    {
     "name": "stdout",
     "output_type": "stream",
     "text": [
      "<class 'pandas.core.frame.DataFrame'>\n",
      "Int64Index: 187504 entries, 0 to 194672\n",
      "Data columns (total 10 columns):\n",
      " #   Column          Non-Null Count   Dtype  \n",
      "---  ------          --------------   -----  \n",
      " 0   SEVERITYCODE    187504 non-null  int64  \n",
      " 1   ADDRTYPE        187504 non-null  float64\n",
      " 2   COLLISIONTYPE   187504 non-null  float64\n",
      " 3   INATTENTIONIND  187504 non-null  int64  \n",
      " 4   UNDERINFL       187504 non-null  int64  \n",
      " 5   WEATHER         187504 non-null  float64\n",
      " 6   ROADCOND        187504 non-null  float64\n",
      " 7   LIGHTCOND       187504 non-null  float64\n",
      " 8   SPEEDING        187504 non-null  int64  \n",
      " 9   HITPARKEDCAR    187504 non-null  int64  \n",
      "dtypes: float64(5), int64(5)\n",
      "memory usage: 15.7 MB\n"
     ]
    }
   ],
   "source": [
    "feature_set.info()"
   ]
  },
  {
   "cell_type": "markdown",
   "metadata": {},
   "source": [
    "<a id='item5'></a>"
   ]
  },
  {
   "cell_type": "markdown",
   "metadata": {},
   "source": [
    "### Model Training"
   ]
  },
  {
   "cell_type": "markdown",
   "metadata": {},
   "source": [
    "#### Feature Variables"
   ]
  },
  {
   "cell_type": "code",
   "execution_count": 40,
   "metadata": {},
   "outputs": [],
   "source": [
    "X = feature_set[['ADDRTYPE', 'COLLISIONTYPE', 'INATTENTIONIND', 'UNDERINFL', 'WEATHER', 'ROADCOND', 'LIGHTCOND', 'SPEEDING', 'HITPARKEDCAR']]"
   ]
  },
  {
   "cell_type": "code",
   "execution_count": 41,
   "metadata": {},
   "outputs": [
    {
     "data": {
      "text/plain": [
       "array([[1., 1., 0., 0., 2., 1., 0., 0., 0.],\n",
       "       [2., 4., 0., 0., 1., 1., 1., 0., 0.],\n",
       "       [2., 0., 0., 0., 2., 0., 0., 0., 0.],\n",
       "       [2., 3., 0., 0., 0., 0., 0., 0., 0.],\n",
       "       [1., 1., 0., 0., 1., 1., 0., 0., 0.]])"
      ]
     },
     "execution_count": 41,
     "metadata": {},
     "output_type": "execute_result"
    }
   ],
   "source": [
    "X = X.values\n",
    "X[0:5]"
   ]
  },
  {
   "cell_type": "markdown",
   "metadata": {},
   "source": [
    "#### Traget Labels"
   ]
  },
  {
   "cell_type": "code",
   "execution_count": 42,
   "metadata": {},
   "outputs": [
    {
     "data": {
      "text/plain": [
       "array([[2],\n",
       "       [1],\n",
       "       [1],\n",
       "       [1],\n",
       "       [2]], dtype=int64)"
      ]
     },
     "execution_count": 42,
     "metadata": {},
     "output_type": "execute_result"
    }
   ],
   "source": [
    "y = feature_set[['SEVERITYCODE']].values\n",
    "y[0:5]"
   ]
  },
  {
   "cell_type": "code",
   "execution_count": 43,
   "metadata": {},
   "outputs": [
    {
     "name": "stdout",
     "output_type": "stream",
     "text": [
      "Train Set Size:  (140628, 9)\n",
      "Test Set Size:  (46876, 9)\n"
     ]
    }
   ],
   "source": [
    "X_train, X_test, y_train, y_test = train_test_split(X, y, stratify = y, test_size = 0.25, random_state = 4)\n",
    "\n",
    "X_train = preprocessing.StandardScaler().fit(X_train).transform(X_train)\n",
    "X_test = preprocessing.StandardScaler().fit(X_test).transform(X_test)\n",
    "\n",
    "print(\"Train Set Size: \", X_train.shape)\n",
    "print(\"Test Set Size: \", X_test.shape)"
   ]
  },
  {
   "cell_type": "code",
   "execution_count": 44,
   "metadata": {},
   "outputs": [],
   "source": [
    "from sklearn import svm"
   ]
  },
  {
   "cell_type": "code",
   "execution_count": 45,
   "metadata": {},
   "outputs": [],
   "source": [
    "clf = svm.SVC(kernel = 'rbf', verbose = True)"
   ]
  },
  {
   "cell_type": "code",
   "execution_count": 46,
   "metadata": {},
   "outputs": [
    {
     "data": {
      "text/plain": [
       "SVC()"
      ]
     },
     "execution_count": 46,
     "metadata": {},
     "output_type": "execute_result"
    }
   ],
   "source": [
    "clf.fit(X_train, np.ravel(y_train))"
   ]
  },
  {
   "cell_type": "code",
   "execution_count": 50,
   "metadata": {},
   "outputs": [
    {
     "data": {
      "text/plain": [
       "array([1, 1, 1, 1, 1], dtype=int64)"
      ]
     },
     "execution_count": 50,
     "metadata": {},
     "output_type": "execute_result"
    }
   ],
   "source": [
    "y_pred = clf.predict(X_test)\n",
    "y_pred[:5]"
   ]
  },
  {
   "cell_type": "code",
   "execution_count": 48,
   "metadata": {},
   "outputs": [],
   "source": [
    "from sklearn.metrics import classification_report, confusion_matrix\n",
    "import itertools"
   ]
  },
  {
   "cell_type": "code",
   "execution_count": 52,
   "metadata": {},
   "outputs": [],
   "source": [
    "def plot_confusion_matrix(cm, classes,\n",
    "                          normalize=False,\n",
    "                          title='Confusion matrix',\n",
    "                          cmap=plt.cm.Blues):\n",
    "    \"\"\"\n",
    "    This function prints and plots the confusion matrix.\n",
    "    Normalization can be applied by setting `normalize=True`.\n",
    "    \"\"\"\n",
    "    if normalize:\n",
    "        cm = cm.astype('float') / cm.sum(axis=1)[:, np.newaxis]\n",
    "        print(\"Normalized confusion matrix\")\n",
    "    else:\n",
    "        print('Confusion matrix, without normalization')\n",
    "\n",
    "    print(cm)\n",
    "\n",
    "    plt.imshow(cm, interpolation='nearest', cmap=cmap)\n",
    "    plt.title(title)\n",
    "    plt.colorbar()\n",
    "    tick_marks = np.arange(len(classes))\n",
    "    plt.xticks(tick_marks, classes, rotation=45)\n",
    "    plt.yticks(tick_marks, classes)\n",
    "\n",
    "    fmt = '.2f' if normalize else 'd'\n",
    "    thresh = cm.max() / 2.\n",
    "    for i, j in itertools.product(range(cm.shape[0]), range(cm.shape[1])):\n",
    "        plt.text(j, i, format(cm[i, j], fmt),\n",
    "                 horizontalalignment=\"center\",\n",
    "                 color=\"red\" if cm[i, j] > thresh else \"black\")\n",
    "\n",
    "    plt.tight_layout()\n",
    "    plt.ylabel('True label')\n",
    "    plt.xlabel('Predicted label')"
   ]
  },
  {
   "cell_type": "code",
   "execution_count": 53,
   "metadata": {},
   "outputs": [
    {
     "name": "stdout",
     "output_type": "stream",
     "text": [
      "              precision    recall  f1-score   support\n",
      "\n",
      "           1       0.74      0.97      0.84     32659\n",
      "           2       0.75      0.21      0.33     14217\n",
      "\n",
      "    accuracy                           0.74     46876\n",
      "   macro avg       0.74      0.59      0.59     46876\n",
      "weighted avg       0.74      0.74      0.68     46876\n",
      "\n",
      "Confusion matrix, without normalization\n",
      "[[31642  1017]\n",
      " [11185  3032]]\n"
     ]
    },
    {
     "data": {
      "image/png": "[encoded data removed]",
      "text/plain": [
       "<Figure size 432x288 with 2 Axes>"
      ]
     },
     "metadata": {
      "needs_background": "light"
     },
     "output_type": "display_data"
    }
   ],
   "source": [
    "cnf_mtx = confusion_matrix(y_test, y_pred, labels = [1, 2])\n",
    "np.set_printoptions(precision = 2)\n",
    "\n",
    "print(classification_report(y_test, y_pred))\n",
    "\n",
    "plt.figure()\n",
    "plot_confusion_matrix(cnf_mtx, classes = ['Property Damage(1)', 'Serious Injury(2)'])"
   ]
  },
  {
   "cell_type": "code",
   "execution_count": 54,
   "metadata": {},
   "outputs": [
    {
     "data": {
      "text/plain": [
       "0.6847770448435732"
      ]
     },
     "execution_count": 54,
     "metadata": {},
     "output_type": "execute_result"
    }
   ],
   "source": [
    "from sklearn.metrics import f1_score\n",
    "f1_score(y_test, y_pred, average = 'weighted')"
   ]
  },
  {
   "cell_type": "code",
   "execution_count": 56,
   "metadata": {},
   "outputs": [
    {
     "data": {
      "text/plain": [
       "0.7216951008119697"
      ]
     },
     "execution_count": 56,
     "metadata": {},
     "output_type": "execute_result"
    }
   ],
   "source": [
    "from sklearn.metrics import jaccard_score\n",
    "jaccard_score(y_test, y_pred)"
   ]
  },
  {
   "cell_type": "code",
   "execution_count": null,
   "metadata": {},
   "outputs": [],
   "source": []
  }
 ],
 "metadata": {
  "kernelspec": {
   "display_name": "Python 3",
   "language": "python",
   "name": "python3"
  },
  "language_info": {
   "codemirror_mode": {
    "name": "ipython",
    "version": 3
   },
   "file_extension": ".py",
   "mimetype": "text/x-python",
   "name": "python",
   "nbconvert_exporter": "python",
   "pygments_lexer": "ipython3",
   "version": "3.7.9"
  }
 },
 "nbformat": 4,
 "nbformat_minor": 4
}
